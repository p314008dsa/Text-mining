{
 "cells": [
  {
   "cell_type": "code",
   "execution_count": 2,
   "metadata": {},
   "outputs": [],
   "source": [
    "# Import packages\n",
    "\n",
    "import pandas as pd \n",
    "import numpy as np\n",
    "import matplotlib\n",
    "import matplotlib.pyplot as plt\n",
    "import seaborn as sns\n",
    "%matplotlib inline \n",
    "\n",
    "import gc #Garbage Collector interface\n",
    "from datetime import datetime \n",
    "from sklearn.model_selection import train_test_split\n",
    "from sklearn.model_selection import KFold\n",
    "from catboost import CatBoostClassifier\n",
    "import lightgbm as lgb\n",
    "import xgboost as xgb"
   ]
  },
  {
   "cell_type": "code",
   "execution_count": 7,
   "metadata": {},
   "outputs": [],
   "source": [
    "# Import datasets\n",
    "data_df = pd.read_excel('/Users/Stylewsxcde991/Desktop/金融科技_文字探勘與機器學習/金融科技Final_project/2019年看門狗資訊事件整理.xlsx',index_col=0)"
   ]
  },
  {
   "cell_type": "code",
   "execution_count": 8,
   "metadata": {},
   "outputs": [
    {
     "name": "stdout",
     "output_type": "stream",
     "text": [
      "data_df - rows: 4040  columns: 7\n"
     ]
    }
   ],
   "source": [
    "print(\"data_df - rows:\",data_df.shape[0],\" columns:\", data_df.shape[1])"
   ]
  },
  {
   "cell_type": "code",
   "execution_count": 9,
   "metadata": {},
   "outputs": [
    {
     "data": {
      "text/html": [
       "<div>\n",
       "<style scoped>\n",
       "    .dataframe tbody tr th:only-of-type {\n",
       "        vertical-align: middle;\n",
       "    }\n",
       "\n",
       "    .dataframe tbody tr th {\n",
       "        vertical-align: top;\n",
       "    }\n",
       "\n",
       "    .dataframe thead th {\n",
       "        text-align: right;\n",
       "    }\n",
       "</style>\n",
       "<table border=\"1\" class=\"dataframe\">\n",
       "  <thead>\n",
       "    <tr style=\"text-align: right;\">\n",
       "      <th></th>\n",
       "      <th>公司簡稱</th>\n",
       "      <th>事件日</th>\n",
       "      <th>TCRI(年/月)</th>\n",
       "      <th>事件強度</th>\n",
       "      <th>大事件類別</th>\n",
       "      <th>小事件類別</th>\n",
       "      <th>事件內容</th>\n",
       "    </tr>\n",
       "    <tr>\n",
       "      <th>個股代號</th>\n",
       "      <th></th>\n",
       "      <th></th>\n",
       "      <th></th>\n",
       "      <th></th>\n",
       "      <th></th>\n",
       "      <th></th>\n",
       "      <th></th>\n",
       "    </tr>\n",
       "  </thead>\n",
       "  <tbody>\n",
       "    <tr>\n",
       "      <th>1218</th>\n",
       "      <td>泰山</td>\n",
       "      <td>20190101</td>\n",
       "      <td>6(2018/09)</td>\n",
       "      <td>0</td>\n",
       "      <td>M_經營層</td>\n",
       "      <td>MT06_高管異動</td>\n",
       "      <td>發言人林俐婉內部調動，由江巍峰接任。。</td>\n",
       "    </tr>\n",
       "    <tr>\n",
       "      <th>1503</th>\n",
       "      <td>士電</td>\n",
       "      <td>20190101</td>\n",
       "      <td>4(2018/09)</td>\n",
       "      <td>0</td>\n",
       "      <td>M_經營層</td>\n",
       "      <td>MT06_高管異動</td>\n",
       "      <td>內部稽核主管林志強內部調動，由莊文清接任。。</td>\n",
       "    </tr>\n",
       "    <tr>\n",
       "      <th>1504</th>\n",
       "      <td>東元</td>\n",
       "      <td>20190101</td>\n",
       "      <td>4(2018/09)</td>\n",
       "      <td>0</td>\n",
       "      <td>M_經營層</td>\n",
       "      <td>MT06_高管異動</td>\n",
       "      <td>會計主管藍俊雄內部調動，由林鴻名接任。。</td>\n",
       "    </tr>\n",
       "    <tr>\n",
       "      <th>1709</th>\n",
       "      <td>和益</td>\n",
       "      <td>20190101</td>\n",
       "      <td>5(2018/09)</td>\n",
       "      <td>0</td>\n",
       "      <td>M_經營層</td>\n",
       "      <td>MT06_高管異動</td>\n",
       "      <td>內部稽核主管游本詮內部調動，由曾筱茜接任。。</td>\n",
       "    </tr>\n",
       "    <tr>\n",
       "      <th>1721</th>\n",
       "      <td>三晃</td>\n",
       "      <td>20190101</td>\n",
       "      <td>7(2018/09)</td>\n",
       "      <td>0</td>\n",
       "      <td>M_經營層</td>\n",
       "      <td>MT06_高管異動</td>\n",
       "      <td>財務經理洪廷宜內部調動，由王婷渝接任。。</td>\n",
       "    </tr>\n",
       "  </tbody>\n",
       "</table>\n",
       "</div>"
      ],
      "text/plain": [
       "                公司簡稱       事件日             TCRI(年/月)  事件強度  大事件類別      小事件類別  \\\n",
       "個股代號                                                                           \n",
       "1218  泰山              20190101  6(2018/09)               0  M_經營層  MT06_高管異動   \n",
       "1503  士電              20190101  4(2018/09)               0  M_經營層  MT06_高管異動   \n",
       "1504  東元              20190101  4(2018/09)               0  M_經營層  MT06_高管異動   \n",
       "1709  和益              20190101  5(2018/09)               0  M_經營層  MT06_高管異動   \n",
       "1721  三晃              20190101  7(2018/09)               0  M_經營層  MT06_高管異動   \n",
       "\n",
       "                        事件內容  \n",
       "個股代號                          \n",
       "1218     發言人林俐婉內部調動，由江巍峰接任。。  \n",
       "1503  內部稽核主管林志強內部調動，由莊文清接任。。  \n",
       "1504    會計主管藍俊雄內部調動，由林鴻名接任。。  \n",
       "1709  內部稽核主管游本詮內部調動，由曾筱茜接任。。  \n",
       "1721    財務經理洪廷宜內部調動，由王婷渝接任。。  "
      ]
     },
     "execution_count": 9,
     "metadata": {},
     "output_type": "execute_result"
    }
   ],
   "source": [
    "data_df.head()"
   ]
  },
  {
   "cell_type": "code",
   "execution_count": 11,
   "metadata": {},
   "outputs": [
    {
     "name": "stdout",
     "output_type": "stream",
     "text": [
      "<class 'pandas.core.frame.DataFrame'>\n",
      "Int64Index: 4040 entries, 1218 to 6486\n",
      "Data columns (total 7 columns):\n",
      " #   Column     Non-Null Count  Dtype \n",
      "---  ------     --------------  ----- \n",
      " 0   公司簡稱       3805 non-null   object\n",
      " 1   事件日        4040 non-null   int64 \n",
      " 2   TCRI(年/月)  4040 non-null   object\n",
      " 3   事件強度       4040 non-null   int64 \n",
      " 4   大事件類別      4040 non-null   object\n",
      " 5   小事件類別      4040 non-null   object\n",
      " 6   事件內容       4040 non-null   object\n",
      "dtypes: int64(2), object(5)\n",
      "memory usage: 252.5+ KB\n"
     ]
    }
   ],
   "source": [
    "data_df.info()"
   ]
  },
  {
   "cell_type": "code",
   "execution_count": 13,
   "metadata": {},
   "outputs": [
    {
     "data": {
      "text/plain": [
       "-1    2386\n",
       " 0    1242\n",
       " 1     299\n",
       "-2      80\n",
       "-3      32\n",
       " 3       1\n",
       "Name: 事件強度, dtype: int64"
      ]
     },
     "execution_count": 13,
     "metadata": {},
     "output_type": "execute_result"
    }
   ],
   "source": [
    "# The proportion of each target class\n",
    "\n",
    "data_df[\"事件強度\"].value_counts()"
   ]
  },
  {
   "cell_type": "code",
   "execution_count": 15,
   "metadata": {},
   "outputs": [
    {
     "name": "stderr",
     "output_type": "stream",
     "text": [
      "Building prefix dict from the default dictionary ...\n",
      "Dumping model to file cache /var/folders/xk/80wyspyn4cz5bfm6xr2yw1380000gn/T/jieba.cache\n",
      "Loading model cost 1.198 seconds.\n",
      "Prefix dict has been built successfully.\n"
     ]
    },
    {
     "data": {
      "text/plain": [
       "[pair('我', 'r'),\n",
       " pair('是', 'v'),\n",
       " pair('李孟', 'nr'),\n",
       " pair('，', 'x'),\n",
       " pair('在', 'p'),\n",
       " pair('東京', 'ns'),\n",
       " pair('工作', 'vn'),\n",
       " pair('的', 'uj'),\n",
       " pair('數據', 'n'),\n",
       " pair('科學家', 'n')]"
      ]
     },
     "execution_count": 15,
     "metadata": {},
     "output_type": "execute_result"
    }
   ],
   "source": [
    "import jieba.posseg as pseg\n",
    "\n",
    "text = '我是李孟，在東京工作的數據科學家'\n",
    "words = pseg.cut(text)\n",
    "[word for word in words]"
   ]
  },
  {
   "cell_type": "code",
   "execution_count": 16,
   "metadata": {},
   "outputs": [],
   "source": [
    "def jieba_tokenizer(text):\n",
    "    words = pseg.cut(text)\n",
    "    return ' '.join([\n",
    "        word for word, flag in words if flag != 'x'])"
   ]
  },
  {
   "cell_type": "code",
   "execution_count": 17,
   "metadata": {},
   "outputs": [
    {
     "data": {
      "text/plain": [
       "'我 是 李孟 在 東京 工作 的 數據 科學家'"
      ]
     },
     "execution_count": 17,
     "metadata": {},
     "output_type": "execute_result"
    }
   ],
   "source": [
    "jieba_tokenizer(text)"
   ]
  },
  {
   "cell_type": "code",
   "execution_count": 31,
   "metadata": {},
   "outputs": [
    {
     "data": {
      "text/plain": [
       "個股代號\n",
       "1218                          發言人林俐婉內部調動，由江巍峰接任。。\n",
       "1503                       內部稽核主管林志強內部調動，由莊文清接任。。\n",
       "1504                         會計主管藍俊雄內部調動，由林鴻名接任。。\n",
       "1709                       內部稽核主管游本詮內部調動，由曾筱茜接任。。\n",
       "1721                         財務經理洪廷宜內部調動，由王婷渝接任。。\n",
       "1817                         研發主管吳政峰內部調動，由朱清立接任。。\n",
       "2064             總經理高進義離職，由陳譽接任。。發言人高進義離職，由陳譽接任。。\n",
       "2207    改派1董。董事大野勝仁(豐田自動車代表)卸任。董事長沼一生(豐田自動車代表)新任。\n",
       "2330                         辭任1董。獨立董事湯馬斯?延吉布斯卸任。\n",
       "2357                          總經理沈振來內部調動，由胡書賓接任。。\n",
       "Name: 事件內容, dtype: object"
      ]
     },
     "execution_count": 31,
     "metadata": {},
     "output_type": "execute_result"
    }
   ],
   "source": [
    "data_df.iloc[:10, 6]"
   ]
  },
  {
   "cell_type": "code",
   "execution_count": null,
   "metadata": {},
   "outputs": [],
   "source": [
    "data_df['content_tokenized'] = data_df.loc[:, '事件內容'].apply(jieba_tokenizer)"
   ]
  },
  {
   "cell_type": "code",
   "execution_count": null,
   "metadata": {},
   "outputs": [],
   "source": [
    "data_df['big_tokenized'] = data_df.loc[:, '大事件類別'].apply(jieba_tokenizer)\n",
    "data_df['small_tokenized'] = data_df.loc[:, '小事件類別'].apply(jieba_tokenizer)"
   ]
  },
  {
   "cell_type": "code",
   "execution_count": null,
   "metadata": {},
   "outputs": [],
   "source": [
    "import keras\n",
    "MAX_NUM_WORDS = 10000\n",
    "tokenizer = keras .preprocessing.text.Tokenizer(num_words=MAX_NUM_WORDS)"
   ]
  },
  {
   "cell_type": "code",
   "execution_count": null,
   "metadata": {},
   "outputs": [],
   "source": []
  }
 ],
 "metadata": {
  "kernelspec": {
   "display_name": "Python 3",
   "language": "python",
   "name": "python3"
  },
  "language_info": {
   "codemirror_mode": {
    "name": "ipython",
    "version": 3
   },
   "file_extension": ".py",
   "mimetype": "text/x-python",
   "name": "python",
   "nbconvert_exporter": "python",
   "pygments_lexer": "ipython3",
   "version": "3.7.4"
  }
 },
 "nbformat": 4,
 "nbformat_minor": 4
}
