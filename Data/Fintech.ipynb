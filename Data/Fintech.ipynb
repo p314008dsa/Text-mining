{
 "cells": [
  {
   "cell_type": "code",
   "execution_count": 2,
   "metadata": {},
   "outputs": [],
   "source": [
    "# Import packages\n",
    "\n",
    "import pandas as pd \n",
    "import numpy as np\n",
    "import matplotlib\n",
    "import matplotlib.pyplot as plt\n",
    "import seaborn as sns\n",
    "%matplotlib inline \n",
    "\n",
    "import gc #Garbage Collector interface\n",
    "from datetime import datetime \n",
    "from sklearn.model_selection import train_test_split\n",
    "from sklearn.model_selection import KFold\n",
    "from catboost import CatBoostClassifier\n",
    "import lightgbm as lgb\n",
    "import xgboost as xgb"
   ]
  },
  {
   "cell_type": "code",
   "execution_count": 7,
   "metadata": {},
   "outputs": [],
   "source": [
    "# Import datasets\n",
    "data_df = pd.read_excel('/Users/Stylewsxcde991/Desktop/金融科技_文字探勘與機器學習/金融科技Final_project/2019年看門狗資訊事件整理.xlsx',index_col=0)"
   ]
  },
  {
   "cell_type": "code",
   "execution_count": 8,
   "metadata": {},
   "outputs": [
    {
     "name": "stdout",
     "output_type": "stream",
     "text": [
      "data_df - rows: 4040  columns: 7\n"
     ]
    }
   ],
   "source": [
    "print(\"data_df - rows:\",data_df.shape[0],\" columns:\", data_df.shape[1])"
   ]
  },
  {
   "cell_type": "code",
   "execution_count": 9,
   "metadata": {},
   "outputs": [
    {
     "data": {
      "text/html": [
       "<div>\n",
       "<style scoped>\n",
       "    .dataframe tbody tr th:only-of-type {\n",
       "        vertical-align: middle;\n",
       "    }\n",
       "\n",
       "    .dataframe tbody tr th {\n",
       "        vertical-align: top;\n",
       "    }\n",
       "\n",
       "    .dataframe thead th {\n",
       "        text-align: right;\n",
       "    }\n",
       "</style>\n",
       "<table border=\"1\" class=\"dataframe\">\n",
       "  <thead>\n",
       "    <tr style=\"text-align: right;\">\n",
       "      <th></th>\n",
       "      <th>公司簡稱</th>\n",
       "      <th>事件日</th>\n",
       "      <th>TCRI(年/月)</th>\n",
       "      <th>事件強度</th>\n",
       "      <th>大事件類別</th>\n",
       "      <th>小事件類別</th>\n",
       "      <th>事件內容</th>\n",
       "    </tr>\n",
       "    <tr>\n",
       "      <th>個股代號</th>\n",
       "      <th></th>\n",
       "      <th></th>\n",
       "      <th></th>\n",
       "      <th></th>\n",
       "      <th></th>\n",
       "      <th></th>\n",
       "      <th></th>\n",
       "    </tr>\n",
       "  </thead>\n",
       "  <tbody>\n",
       "    <tr>\n",
       "      <th>1218</th>\n",
       "      <td>泰山</td>\n",
       "      <td>20190101</td>\n",
       "      <td>6(2018/09)</td>\n",
       "      <td>0</td>\n",
       "      <td>M_經營層</td>\n",
       "      <td>MT06_高管異動</td>\n",
       "      <td>發言人林俐婉內部調動，由江巍峰接任。。</td>\n",
       "    </tr>\n",
       "    <tr>\n",
       "      <th>1503</th>\n",
       "      <td>士電</td>\n",
       "      <td>20190101</td>\n",
       "      <td>4(2018/09)</td>\n",
       "      <td>0</td>\n",
       "      <td>M_經營層</td>\n",
       "      <td>MT06_高管異動</td>\n",
       "      <td>內部稽核主管林志強內部調動，由莊文清接任。。</td>\n",
       "    </tr>\n",
       "    <tr>\n",
       "      <th>1504</th>\n",
       "      <td>東元</td>\n",
       "      <td>20190101</td>\n",
       "      <td>4(2018/09)</td>\n",
       "      <td>0</td>\n",
       "      <td>M_經營層</td>\n",
       "      <td>MT06_高管異動</td>\n",
       "      <td>會計主管藍俊雄內部調動，由林鴻名接任。。</td>\n",
       "    </tr>\n",
       "    <tr>\n",
       "      <th>1709</th>\n",
       "      <td>和益</td>\n",
       "      <td>20190101</td>\n",
       "      <td>5(2018/09)</td>\n",
       "      <td>0</td>\n",
       "      <td>M_經營層</td>\n",
       "      <td>MT06_高管異動</td>\n",
       "      <td>內部稽核主管游本詮內部調動，由曾筱茜接任。。</td>\n",
       "    </tr>\n",
       "    <tr>\n",
       "      <th>1721</th>\n",
       "      <td>三晃</td>\n",
       "      <td>20190101</td>\n",
       "      <td>7(2018/09)</td>\n",
       "      <td>0</td>\n",
       "      <td>M_經營層</td>\n",
       "      <td>MT06_高管異動</td>\n",
       "      <td>財務經理洪廷宜內部調動，由王婷渝接任。。</td>\n",
       "    </tr>\n",
       "  </tbody>\n",
       "</table>\n",
       "</div>"
      ],
      "text/plain": [
       "                公司簡稱       事件日             TCRI(年/月)  事件強度  大事件類別      小事件類別  \\\n",
       "個股代號                                                                           \n",
       "1218  泰山              20190101  6(2018/09)               0  M_經營層  MT06_高管異動   \n",
       "1503  士電              20190101  4(2018/09)               0  M_經營層  MT06_高管異動   \n",
       "1504  東元              20190101  4(2018/09)               0  M_經營層  MT06_高管異動   \n",
       "1709  和益              20190101  5(2018/09)               0  M_經營層  MT06_高管異動   \n",
       "1721  三晃              20190101  7(2018/09)               0  M_經營層  MT06_高管異動   \n",
       "\n",
       "                        事件內容  \n",
       "個股代號                          \n",
       "1218     發言人林俐婉內部調動，由江巍峰接任。。  \n",
       "1503  內部稽核主管林志強內部調動，由莊文清接任。。  \n",
       "1504    會計主管藍俊雄內部調動，由林鴻名接任。。  \n",
       "1709  內部稽核主管游本詮內部調動，由曾筱茜接任。。  \n",
       "1721    財務經理洪廷宜內部調動，由王婷渝接任。。  "
      ]
     },
     "execution_count": 9,
     "metadata": {},
     "output_type": "execute_result"
    }
   ],
   "source": [
    "data_df.head()"
   ]
  },
  {
   "cell_type": "code",
   "execution_count": 11,
   "metadata": {},
   "outputs": [
    {
     "name": "stdout",
     "output_type": "stream",
     "text": [
      "<class 'pandas.core.frame.DataFrame'>\n",
      "Int64Index: 4040 entries, 1218 to 6486\n",
      "Data columns (total 7 columns):\n",
      " #   Column     Non-Null Count  Dtype \n",
      "---  ------     --------------  ----- \n",
      " 0   公司簡稱       3805 non-null   object\n",
      " 1   事件日        4040 non-null   int64 \n",
      " 2   TCRI(年/月)  4040 non-null   object\n",
      " 3   事件強度       4040 non-null   int64 \n",
      " 4   大事件類別      4040 non-null   object\n",
      " 5   小事件類別      4040 non-null   object\n",
      " 6   事件內容       4040 non-null   object\n",
      "dtypes: int64(2), object(5)\n",
      "memory usage: 252.5+ KB\n"
     ]
    }
   ],
   "source": [
    "data_df.info()"
   ]
  },
  {
   "cell_type": "code",
   "execution_count": 13,
   "metadata": {},
   "outputs": [
    {
     "data": {
      "text/plain": [
       "-1    2386\n",
       " 0    1242\n",
       " 1     299\n",
       "-2      80\n",
       "-3      32\n",
       " 3       1\n",
       "Name: 事件強度, dtype: int64"
      ]
     },
     "execution_count": 13,
     "metadata": {},
     "output_type": "execute_result"
    }
   ],
   "source": [
    "# The proportion of each target class\n",
    "\n",
    "data_df[\"事件強度\"].value_counts()"
   ]
  },
  {
   "cell_type": "code",
   "execution_count": 15,
   "metadata": {},
   "outputs": [
    {
     "name": "stderr",
     "output_type": "stream",
     "text": [
      "Building prefix dict from the default dictionary ...\n",
      "Dumping model to file cache /var/folders/xk/80wyspyn4cz5bfm6xr2yw1380000gn/T/jieba.cache\n",
      "Loading model cost 1.198 seconds.\n",
      "Prefix dict has been built successfully.\n"
     ]
    },
    {
     "data": {
      "text/plain": [
       "[pair('我', 'r'),\n",
       " pair('是', 'v'),\n",
       " pair('李孟', 'nr'),\n",
       " pair('，', 'x'),\n",
       " pair('在', 'p'),\n",
       " pair('東京', 'ns'),\n",
       " pair('工作', 'vn'),\n",
       " pair('的', 'uj'),\n",
       " pair('數據', 'n'),\n",
       " pair('科學家', 'n')]"
      ]
     },
     "execution_count": 15,
     "metadata": {},
     "output_type": "execute_result"
    }
   ],
   "source": [
    "import jieba.posseg as pseg\n",
    "\n",
    "text = '我是李孟，在東京工作的數據科學家'\n",
    "words = pseg.cut(text)\n",
    "[word for word in words]"
   ]
  },
  {
   "cell_type": "code",
   "execution_count": 16,
   "metadata": {},
   "outputs": [],
   "source": [
    "def jieba_tokenizer(text):\n",
    "    words = pseg.cut(text)\n",
    "    return ' '.join([\n",
    "        word for word, flag in words if flag != 'x'])"
   ]
  },
  {
   "cell_type": "code",
   "execution_count": 17,
   "metadata": {},
   "outputs": [
    {
     "data": {
      "text/plain": [
       "'我 是 李孟 在 東京 工作 的 數據 科學家'"
      ]
     },
     "execution_count": 17,
     "metadata": {},
     "output_type": "execute_result"
    }
   ],
   "source": [
    "jieba_tokenizer(text)"
   ]
  },
  {
   "cell_type": "code",
   "execution_count": 42,
   "metadata": {},
   "outputs": [],
   "source": [
    "data_df['content_tokenized'] = data_df.iloc[:10, 6].apply(jieba_tokenizer)"
   ]
  },
  {
   "cell_type": "code",
   "execution_count": 43,
   "metadata": {},
   "outputs": [
    {
     "data": {
      "text/html": [
       "<div>\n",
       "<style scoped>\n",
       "    .dataframe tbody tr th:only-of-type {\n",
       "        vertical-align: middle;\n",
       "    }\n",
       "\n",
       "    .dataframe tbody tr th {\n",
       "        vertical-align: top;\n",
       "    }\n",
       "\n",
       "    .dataframe thead th {\n",
       "        text-align: right;\n",
       "    }\n",
       "</style>\n",
       "<table border=\"1\" class=\"dataframe\">\n",
       "  <thead>\n",
       "    <tr style=\"text-align: right;\">\n",
       "      <th></th>\n",
       "      <th>公司簡稱</th>\n",
       "      <th>事件日</th>\n",
       "      <th>TCRI(年/月)</th>\n",
       "      <th>事件強度</th>\n",
       "      <th>大事件類別</th>\n",
       "      <th>小事件類別</th>\n",
       "      <th>事件內容</th>\n",
       "      <th>content_tokenized</th>\n",
       "    </tr>\n",
       "    <tr>\n",
       "      <th>個股代號</th>\n",
       "      <th></th>\n",
       "      <th></th>\n",
       "      <th></th>\n",
       "      <th></th>\n",
       "      <th></th>\n",
       "      <th></th>\n",
       "      <th></th>\n",
       "      <th></th>\n",
       "    </tr>\n",
       "  </thead>\n",
       "  <tbody>\n",
       "    <tr>\n",
       "      <th>1218</th>\n",
       "      <td>泰山</td>\n",
       "      <td>20190101</td>\n",
       "      <td>6(2018/09)</td>\n",
       "      <td>0</td>\n",
       "      <td>M_經營層</td>\n",
       "      <td>MT06_高管異動</td>\n",
       "      <td>發言人林俐婉內部調動，由江巍峰接任。。</td>\n",
       "      <td>發言 人 林俐婉 內部 調動 由 江巍峰 接任</td>\n",
       "    </tr>\n",
       "    <tr>\n",
       "      <th>1503</th>\n",
       "      <td>士電</td>\n",
       "      <td>20190101</td>\n",
       "      <td>4(2018/09)</td>\n",
       "      <td>0</td>\n",
       "      <td>M_經營層</td>\n",
       "      <td>MT06_高管異動</td>\n",
       "      <td>內部稽核主管林志強內部調動，由莊文清接任。。</td>\n",
       "      <td>內部 稽核 主管 林志強 內部 調動 由 莊文清 接任</td>\n",
       "    </tr>\n",
       "    <tr>\n",
       "      <th>1504</th>\n",
       "      <td>東元</td>\n",
       "      <td>20190101</td>\n",
       "      <td>4(2018/09)</td>\n",
       "      <td>0</td>\n",
       "      <td>M_經營層</td>\n",
       "      <td>MT06_高管異動</td>\n",
       "      <td>會計主管藍俊雄內部調動，由林鴻名接任。。</td>\n",
       "      <td>會計 主管 藍俊雄 內部 調動 由 林鴻名 接任</td>\n",
       "    </tr>\n",
       "    <tr>\n",
       "      <th>1709</th>\n",
       "      <td>和益</td>\n",
       "      <td>20190101</td>\n",
       "      <td>5(2018/09)</td>\n",
       "      <td>0</td>\n",
       "      <td>M_經營層</td>\n",
       "      <td>MT06_高管異動</td>\n",
       "      <td>內部稽核主管游本詮內部調動，由曾筱茜接任。。</td>\n",
       "      <td>內部 稽核 主管 游本 詮內部 調動 由 曾筱茜 接任</td>\n",
       "    </tr>\n",
       "    <tr>\n",
       "      <th>1721</th>\n",
       "      <td>三晃</td>\n",
       "      <td>20190101</td>\n",
       "      <td>7(2018/09)</td>\n",
       "      <td>0</td>\n",
       "      <td>M_經營層</td>\n",
       "      <td>MT06_高管異動</td>\n",
       "      <td>財務經理洪廷宜內部調動，由王婷渝接任。。</td>\n",
       "      <td>財務 經理 洪廷宜 內部 調動 由 王婷渝 接任</td>\n",
       "    </tr>\n",
       "    <tr>\n",
       "      <th>...</th>\n",
       "      <td>...</td>\n",
       "      <td>...</td>\n",
       "      <td>...</td>\n",
       "      <td>...</td>\n",
       "      <td>...</td>\n",
       "      <td>...</td>\n",
       "      <td>...</td>\n",
       "      <td>...</td>\n",
       "    </tr>\n",
       "    <tr>\n",
       "      <th>4726</th>\n",
       "      <td>永昕</td>\n",
       "      <td>20190331</td>\n",
       "      <td>7(2018/09)</td>\n",
       "      <td>-1</td>\n",
       "      <td>M_經營層</td>\n",
       "      <td>MT06_高管異動</td>\n",
       "      <td>財務經理陳炯祥離職。。發言人陳炯祥離職。。會計主管陳炯祥離職。。</td>\n",
       "      <td>NaN</td>\n",
       "    </tr>\n",
       "    <tr>\n",
       "      <th>4960</th>\n",
       "      <td>誠美材</td>\n",
       "      <td>20190331</td>\n",
       "      <td>D(2019/03)</td>\n",
       "      <td>-2</td>\n",
       "      <td>A_會計/財報分析</td>\n",
       "      <td>AF09_非無保留意見</td>\n",
       "      <td>誠美材 2018年度會計師出具保留意見加繼續經營有關之重大不確定性段落之查核報告：誠美材截至...</td>\n",
       "      <td>NaN</td>\n",
       "    </tr>\n",
       "    <tr>\n",
       "      <th>5481</th>\n",
       "      <td>新華</td>\n",
       "      <td>20190331</td>\n",
       "      <td>8(2018/09)</td>\n",
       "      <td>-1</td>\n",
       "      <td>M_經營層</td>\n",
       "      <td>MT06_高管異動</td>\n",
       "      <td>總經理陳聖中離職。。</td>\n",
       "      <td>NaN</td>\n",
       "    </tr>\n",
       "    <tr>\n",
       "      <th>6235</th>\n",
       "      <td>華孚</td>\n",
       "      <td>20190331</td>\n",
       "      <td>6(2018/09)</td>\n",
       "      <td>-2</td>\n",
       "      <td>M_經營層</td>\n",
       "      <td>MC03_工安議題</td>\n",
       "      <td>1.華孚科技之大陸子公司昆山漢鼎精密金屬有限公司於今日上午於CNC車間西北側因不明原因發生爆...</td>\n",
       "      <td>NaN</td>\n",
       "    </tr>\n",
       "    <tr>\n",
       "      <th>6486</th>\n",
       "      <td>互動</td>\n",
       "      <td>20190331</td>\n",
       "      <td>6(2018/09)</td>\n",
       "      <td>-1</td>\n",
       "      <td>M_經營層</td>\n",
       "      <td>MT06_高管異動</td>\n",
       "      <td>總經理郭俊良離職。。發言人郭俊良離職。。</td>\n",
       "      <td>NaN</td>\n",
       "    </tr>\n",
       "  </tbody>\n",
       "</table>\n",
       "<p>4040 rows × 8 columns</p>\n",
       "</div>"
      ],
      "text/plain": [
       "                公司簡稱       事件日             TCRI(年/月)  事件強度      大事件類別  \\\n",
       "個股代號                                                                    \n",
       "1218  泰山              20190101  6(2018/09)               0      M_經營層   \n",
       "1503  士電              20190101  4(2018/09)               0      M_經營層   \n",
       "1504  東元              20190101  4(2018/09)               0      M_經營層   \n",
       "1709  和益              20190101  5(2018/09)               0      M_經營層   \n",
       "1721  三晃              20190101  7(2018/09)               0      M_經營層   \n",
       "...              ...       ...                   ...   ...        ...   \n",
       "4726  永昕              20190331  7(2018/09)              -1      M_經營層   \n",
       "4960   誠美材            20190331  D(2019/03)              -2  A_會計/財報分析   \n",
       "5481  新華              20190331  8(2018/09)              -1      M_經營層   \n",
       "6235  華孚              20190331  6(2018/09)              -2      M_經營層   \n",
       "6486  互動              20190331  6(2018/09)              -1      M_經營層   \n",
       "\n",
       "            小事件類別                                               事件內容  \\\n",
       "個股代號                                                                   \n",
       "1218    MT06_高管異動                                發言人林俐婉內部調動，由江巍峰接任。。   \n",
       "1503    MT06_高管異動                             內部稽核主管林志強內部調動，由莊文清接任。。   \n",
       "1504    MT06_高管異動                               會計主管藍俊雄內部調動，由林鴻名接任。。   \n",
       "1709    MT06_高管異動                             內部稽核主管游本詮內部調動，由曾筱茜接任。。   \n",
       "1721    MT06_高管異動                               財務經理洪廷宜內部調動，由王婷渝接任。。   \n",
       "...           ...                                                ...   \n",
       "4726    MT06_高管異動                   財務經理陳炯祥離職。。發言人陳炯祥離職。。會計主管陳炯祥離職。。   \n",
       "4960  AF09_非無保留意見  誠美材 2018年度會計師出具保留意見加繼續經營有關之重大不確定性段落之查核報告：誠美材截至...   \n",
       "5481    MT06_高管異動                                         總經理陳聖中離職。。   \n",
       "6235    MC03_工安議題  1.華孚科技之大陸子公司昆山漢鼎精密金屬有限公司於今日上午於CNC車間西北側因不明原因發生爆...   \n",
       "6486    MT06_高管異動                               總經理郭俊良離職。。發言人郭俊良離職。。   \n",
       "\n",
       "                content_tokenized  \n",
       "個股代號                               \n",
       "1218      發言 人 林俐婉 內部 調動 由 江巍峰 接任  \n",
       "1503  內部 稽核 主管 林志強 內部 調動 由 莊文清 接任  \n",
       "1504     會計 主管 藍俊雄 內部 調動 由 林鴻名 接任  \n",
       "1709  內部 稽核 主管 游本 詮內部 調動 由 曾筱茜 接任  \n",
       "1721     財務 經理 洪廷宜 內部 調動 由 王婷渝 接任  \n",
       "...                           ...  \n",
       "4726                          NaN  \n",
       "4960                          NaN  \n",
       "5481                          NaN  \n",
       "6235                          NaN  \n",
       "6486                          NaN  \n",
       "\n",
       "[4040 rows x 8 columns]"
      ]
     },
     "execution_count": 43,
     "metadata": {},
     "output_type": "execute_result"
    }
   ],
   "source": [
    "data_df"
   ]
  },
  {
   "cell_type": "code",
   "execution_count": 37,
   "metadata": {},
   "outputs": [
    {
     "ename": "KeyboardInterrupt",
     "evalue": "",
     "output_type": "error",
     "traceback": [
      "\u001b[0;31m---------------------------------------------------------------------------\u001b[0m",
      "\u001b[0;31mKeyboardInterrupt\u001b[0m                         Traceback (most recent call last)",
      "\u001b[0;32m<ipython-input-37-f4f10e2ba8e7>\u001b[0m in \u001b[0;36m<module>\u001b[0;34m\u001b[0m\n\u001b[0;32m----> 1\u001b[0;31m \u001b[0mdata_df\u001b[0m\u001b[0;34m[\u001b[0m\u001b[0;34m'content_tokenized'\u001b[0m\u001b[0;34m]\u001b[0m \u001b[0;34m=\u001b[0m \u001b[0mdata_df\u001b[0m\u001b[0;34m.\u001b[0m\u001b[0mloc\u001b[0m\u001b[0;34m[\u001b[0m\u001b[0;34m:\u001b[0m\u001b[0;34m,\u001b[0m \u001b[0;34m'事件內容'\u001b[0m\u001b[0;34m]\u001b[0m\u001b[0;34m.\u001b[0m\u001b[0mapply\u001b[0m\u001b[0;34m(\u001b[0m\u001b[0mjieba_tokenizer\u001b[0m\u001b[0;34m)\u001b[0m\u001b[0;34m\u001b[0m\u001b[0;34m\u001b[0m\u001b[0m\n\u001b[0m",
      "\u001b[0;32m/opt/anaconda3/lib/python3.7/site-packages/pandas/core/series.py\u001b[0m in \u001b[0;36mapply\u001b[0;34m(self, func, convert_dtype, args, **kwds)\u001b[0m\n\u001b[1;32m   3846\u001b[0m             \u001b[0;32melse\u001b[0m\u001b[0;34m:\u001b[0m\u001b[0;34m\u001b[0m\u001b[0;34m\u001b[0m\u001b[0m\n\u001b[1;32m   3847\u001b[0m                 \u001b[0mvalues\u001b[0m \u001b[0;34m=\u001b[0m \u001b[0mself\u001b[0m\u001b[0;34m.\u001b[0m\u001b[0mastype\u001b[0m\u001b[0;34m(\u001b[0m\u001b[0mobject\u001b[0m\u001b[0;34m)\u001b[0m\u001b[0;34m.\u001b[0m\u001b[0mvalues\u001b[0m\u001b[0;34m\u001b[0m\u001b[0;34m\u001b[0m\u001b[0m\n\u001b[0;32m-> 3848\u001b[0;31m                 \u001b[0mmapped\u001b[0m \u001b[0;34m=\u001b[0m \u001b[0mlib\u001b[0m\u001b[0;34m.\u001b[0m\u001b[0mmap_infer\u001b[0m\u001b[0;34m(\u001b[0m\u001b[0mvalues\u001b[0m\u001b[0;34m,\u001b[0m \u001b[0mf\u001b[0m\u001b[0;34m,\u001b[0m \u001b[0mconvert\u001b[0m\u001b[0;34m=\u001b[0m\u001b[0mconvert_dtype\u001b[0m\u001b[0;34m)\u001b[0m\u001b[0;34m\u001b[0m\u001b[0;34m\u001b[0m\u001b[0m\n\u001b[0m\u001b[1;32m   3849\u001b[0m \u001b[0;34m\u001b[0m\u001b[0m\n\u001b[1;32m   3850\u001b[0m         \u001b[0;32mif\u001b[0m \u001b[0mlen\u001b[0m\u001b[0;34m(\u001b[0m\u001b[0mmapped\u001b[0m\u001b[0;34m)\u001b[0m \u001b[0;32mand\u001b[0m \u001b[0misinstance\u001b[0m\u001b[0;34m(\u001b[0m\u001b[0mmapped\u001b[0m\u001b[0;34m[\u001b[0m\u001b[0;36m0\u001b[0m\u001b[0;34m]\u001b[0m\u001b[0;34m,\u001b[0m \u001b[0mSeries\u001b[0m\u001b[0;34m)\u001b[0m\u001b[0;34m:\u001b[0m\u001b[0;34m\u001b[0m\u001b[0;34m\u001b[0m\u001b[0m\n",
      "\u001b[0;32mpandas/_libs/lib.pyx\u001b[0m in \u001b[0;36mpandas._libs.lib.map_infer\u001b[0;34m()\u001b[0m\n",
      "\u001b[0;32m<ipython-input-16-e3d3c35475b6>\u001b[0m in \u001b[0;36mjieba_tokenizer\u001b[0;34m(text)\u001b[0m\n\u001b[1;32m      2\u001b[0m     \u001b[0mwords\u001b[0m \u001b[0;34m=\u001b[0m \u001b[0mpseg\u001b[0m\u001b[0;34m.\u001b[0m\u001b[0mcut\u001b[0m\u001b[0;34m(\u001b[0m\u001b[0mtext\u001b[0m\u001b[0;34m)\u001b[0m\u001b[0;34m\u001b[0m\u001b[0;34m\u001b[0m\u001b[0m\n\u001b[1;32m      3\u001b[0m     return ' '.join([\n\u001b[0;32m----> 4\u001b[0;31m         word for word, flag in words if flag != 'x'])\n\u001b[0m",
      "\u001b[0;32m<ipython-input-16-e3d3c35475b6>\u001b[0m in \u001b[0;36m<listcomp>\u001b[0;34m(.0)\u001b[0m\n\u001b[1;32m      2\u001b[0m     \u001b[0mwords\u001b[0m \u001b[0;34m=\u001b[0m \u001b[0mpseg\u001b[0m\u001b[0;34m.\u001b[0m\u001b[0mcut\u001b[0m\u001b[0;34m(\u001b[0m\u001b[0mtext\u001b[0m\u001b[0;34m)\u001b[0m\u001b[0;34m\u001b[0m\u001b[0;34m\u001b[0m\u001b[0m\n\u001b[1;32m      3\u001b[0m     return ' '.join([\n\u001b[0;32m----> 4\u001b[0;31m         word for word, flag in words if flag != 'x'])\n\u001b[0m",
      "\u001b[0;32m/opt/anaconda3/lib/python3.7/site-packages/jieba/posseg/__init__.py\u001b[0m in \u001b[0;36mcut\u001b[0;34m(sentence, HMM, use_paddle)\u001b[0m\n\u001b[1;32m    292\u001b[0m     \u001b[0;32mglobal\u001b[0m \u001b[0mdt\u001b[0m\u001b[0;34m\u001b[0m\u001b[0;34m\u001b[0m\u001b[0m\n\u001b[1;32m    293\u001b[0m     \u001b[0;32mif\u001b[0m \u001b[0mjieba\u001b[0m\u001b[0;34m.\u001b[0m\u001b[0mpool\u001b[0m \u001b[0;32mis\u001b[0m \u001b[0;32mNone\u001b[0m\u001b[0;34m:\u001b[0m\u001b[0;34m\u001b[0m\u001b[0;34m\u001b[0m\u001b[0m\n\u001b[0;32m--> 294\u001b[0;31m         \u001b[0;32mfor\u001b[0m \u001b[0mw\u001b[0m \u001b[0;32min\u001b[0m \u001b[0mdt\u001b[0m\u001b[0;34m.\u001b[0m\u001b[0mcut\u001b[0m\u001b[0;34m(\u001b[0m\u001b[0msentence\u001b[0m\u001b[0;34m,\u001b[0m \u001b[0mHMM\u001b[0m\u001b[0;34m=\u001b[0m\u001b[0mHMM\u001b[0m\u001b[0;34m)\u001b[0m\u001b[0;34m:\u001b[0m\u001b[0;34m\u001b[0m\u001b[0;34m\u001b[0m\u001b[0m\n\u001b[0m\u001b[1;32m    295\u001b[0m             \u001b[0;32myield\u001b[0m \u001b[0mw\u001b[0m\u001b[0;34m\u001b[0m\u001b[0;34m\u001b[0m\u001b[0m\n\u001b[1;32m    296\u001b[0m     \u001b[0;32melse\u001b[0m\u001b[0;34m:\u001b[0m\u001b[0;34m\u001b[0m\u001b[0;34m\u001b[0m\u001b[0m\n",
      "\u001b[0;32m/opt/anaconda3/lib/python3.7/site-packages/jieba/posseg/__init__.py\u001b[0m in \u001b[0;36mcut\u001b[0;34m(self, sentence, HMM)\u001b[0m\n\u001b[1;32m    247\u001b[0m \u001b[0;34m\u001b[0m\u001b[0m\n\u001b[1;32m    248\u001b[0m     \u001b[0;32mdef\u001b[0m \u001b[0mcut\u001b[0m\u001b[0;34m(\u001b[0m\u001b[0mself\u001b[0m\u001b[0;34m,\u001b[0m \u001b[0msentence\u001b[0m\u001b[0;34m,\u001b[0m \u001b[0mHMM\u001b[0m\u001b[0;34m=\u001b[0m\u001b[0;32mTrue\u001b[0m\u001b[0;34m)\u001b[0m\u001b[0;34m:\u001b[0m\u001b[0;34m\u001b[0m\u001b[0;34m\u001b[0m\u001b[0m\n\u001b[0;32m--> 249\u001b[0;31m         \u001b[0;32mfor\u001b[0m \u001b[0mw\u001b[0m \u001b[0;32min\u001b[0m \u001b[0mself\u001b[0m\u001b[0;34m.\u001b[0m\u001b[0m__cut_internal\u001b[0m\u001b[0;34m(\u001b[0m\u001b[0msentence\u001b[0m\u001b[0;34m,\u001b[0m \u001b[0mHMM\u001b[0m\u001b[0;34m=\u001b[0m\u001b[0mHMM\u001b[0m\u001b[0;34m)\u001b[0m\u001b[0;34m:\u001b[0m\u001b[0;34m\u001b[0m\u001b[0;34m\u001b[0m\u001b[0m\n\u001b[0m\u001b[1;32m    250\u001b[0m             \u001b[0;32myield\u001b[0m \u001b[0mw\u001b[0m\u001b[0;34m\u001b[0m\u001b[0;34m\u001b[0m\u001b[0m\n\u001b[1;32m    251\u001b[0m \u001b[0;34m\u001b[0m\u001b[0m\n",
      "\u001b[0;32m/opt/anaconda3/lib/python3.7/site-packages/jieba/posseg/__init__.py\u001b[0m in \u001b[0;36m__cut_internal\u001b[0;34m(self, sentence, HMM)\u001b[0m\n\u001b[1;32m    224\u001b[0m         \u001b[0;32mfor\u001b[0m \u001b[0mblk\u001b[0m \u001b[0;32min\u001b[0m \u001b[0mblocks\u001b[0m\u001b[0;34m:\u001b[0m\u001b[0;34m\u001b[0m\u001b[0;34m\u001b[0m\u001b[0m\n\u001b[1;32m    225\u001b[0m             \u001b[0;32mif\u001b[0m \u001b[0mre_han_internal\u001b[0m\u001b[0;34m.\u001b[0m\u001b[0mmatch\u001b[0m\u001b[0;34m(\u001b[0m\u001b[0mblk\u001b[0m\u001b[0;34m)\u001b[0m\u001b[0;34m:\u001b[0m\u001b[0;34m\u001b[0m\u001b[0;34m\u001b[0m\u001b[0m\n\u001b[0;32m--> 226\u001b[0;31m                 \u001b[0;32mfor\u001b[0m \u001b[0mword\u001b[0m \u001b[0;32min\u001b[0m \u001b[0mcut_blk\u001b[0m\u001b[0;34m(\u001b[0m\u001b[0mblk\u001b[0m\u001b[0;34m)\u001b[0m\u001b[0;34m:\u001b[0m\u001b[0;34m\u001b[0m\u001b[0;34m\u001b[0m\u001b[0m\n\u001b[0m\u001b[1;32m    227\u001b[0m                     \u001b[0;32myield\u001b[0m \u001b[0mword\u001b[0m\u001b[0;34m\u001b[0m\u001b[0;34m\u001b[0m\u001b[0m\n\u001b[1;32m    228\u001b[0m             \u001b[0;32melse\u001b[0m\u001b[0;34m:\u001b[0m\u001b[0;34m\u001b[0m\u001b[0;34m\u001b[0m\u001b[0m\n",
      "\u001b[0;32m/opt/anaconda3/lib/python3.7/site-packages/jieba/posseg/__init__.py\u001b[0m in \u001b[0;36m__cut_DAG\u001b[0;34m(self, sentence)\u001b[0m\n\u001b[1;32m    207\u001b[0m             \u001b[0;32melif\u001b[0m \u001b[0;32mnot\u001b[0m \u001b[0mself\u001b[0m\u001b[0;34m.\u001b[0m\u001b[0mtokenizer\u001b[0m\u001b[0;34m.\u001b[0m\u001b[0mFREQ\u001b[0m\u001b[0;34m.\u001b[0m\u001b[0mget\u001b[0m\u001b[0;34m(\u001b[0m\u001b[0mbuf\u001b[0m\u001b[0;34m)\u001b[0m\u001b[0;34m:\u001b[0m\u001b[0;34m\u001b[0m\u001b[0;34m\u001b[0m\u001b[0m\n\u001b[1;32m    208\u001b[0m                 \u001b[0mrecognized\u001b[0m \u001b[0;34m=\u001b[0m \u001b[0mself\u001b[0m\u001b[0;34m.\u001b[0m\u001b[0m__cut_detail\u001b[0m\u001b[0;34m(\u001b[0m\u001b[0mbuf\u001b[0m\u001b[0;34m)\u001b[0m\u001b[0;34m\u001b[0m\u001b[0;34m\u001b[0m\u001b[0m\n\u001b[0;32m--> 209\u001b[0;31m                 \u001b[0;32mfor\u001b[0m \u001b[0mt\u001b[0m \u001b[0;32min\u001b[0m \u001b[0mrecognized\u001b[0m\u001b[0;34m:\u001b[0m\u001b[0;34m\u001b[0m\u001b[0;34m\u001b[0m\u001b[0m\n\u001b[0m\u001b[1;32m    210\u001b[0m                     \u001b[0;32myield\u001b[0m \u001b[0mt\u001b[0m\u001b[0;34m\u001b[0m\u001b[0;34m\u001b[0m\u001b[0m\n\u001b[1;32m    211\u001b[0m             \u001b[0;32melse\u001b[0m\u001b[0;34m:\u001b[0m\u001b[0;34m\u001b[0m\u001b[0;34m\u001b[0m\u001b[0m\n",
      "\u001b[0;32m/opt/anaconda3/lib/python3.7/site-packages/jieba/posseg/__init__.py\u001b[0m in \u001b[0;36m__cut_detail\u001b[0;34m(self, sentence)\u001b[0m\n\u001b[1;32m    137\u001b[0m         \u001b[0;32mfor\u001b[0m \u001b[0mblk\u001b[0m \u001b[0;32min\u001b[0m \u001b[0mblocks\u001b[0m\u001b[0;34m:\u001b[0m\u001b[0;34m\u001b[0m\u001b[0;34m\u001b[0m\u001b[0m\n\u001b[1;32m    138\u001b[0m             \u001b[0;32mif\u001b[0m \u001b[0mre_han_detail\u001b[0m\u001b[0;34m.\u001b[0m\u001b[0mmatch\u001b[0m\u001b[0;34m(\u001b[0m\u001b[0mblk\u001b[0m\u001b[0;34m)\u001b[0m\u001b[0;34m:\u001b[0m\u001b[0;34m\u001b[0m\u001b[0;34m\u001b[0m\u001b[0m\n\u001b[0;32m--> 139\u001b[0;31m                 \u001b[0;32mfor\u001b[0m \u001b[0mword\u001b[0m \u001b[0;32min\u001b[0m \u001b[0mself\u001b[0m\u001b[0;34m.\u001b[0m\u001b[0m__cut\u001b[0m\u001b[0;34m(\u001b[0m\u001b[0mblk\u001b[0m\u001b[0;34m)\u001b[0m\u001b[0;34m:\u001b[0m\u001b[0;34m\u001b[0m\u001b[0;34m\u001b[0m\u001b[0m\n\u001b[0m\u001b[1;32m    140\u001b[0m                     \u001b[0;32myield\u001b[0m \u001b[0mword\u001b[0m\u001b[0;34m\u001b[0m\u001b[0;34m\u001b[0m\u001b[0m\n\u001b[1;32m    141\u001b[0m             \u001b[0;32melse\u001b[0m\u001b[0;34m:\u001b[0m\u001b[0;34m\u001b[0m\u001b[0;34m\u001b[0m\u001b[0m\n",
      "\u001b[0;32m/opt/anaconda3/lib/python3.7/site-packages/jieba/posseg/__init__.py\u001b[0m in \u001b[0;36m__cut\u001b[0;34m(self, sentence)\u001b[0m\n\u001b[1;32m    117\u001b[0m     \u001b[0;32mdef\u001b[0m \u001b[0m__cut\u001b[0m\u001b[0;34m(\u001b[0m\u001b[0mself\u001b[0m\u001b[0;34m,\u001b[0m \u001b[0msentence\u001b[0m\u001b[0;34m)\u001b[0m\u001b[0;34m:\u001b[0m\u001b[0;34m\u001b[0m\u001b[0;34m\u001b[0m\u001b[0m\n\u001b[1;32m    118\u001b[0m         prob, pos_list = viterbi(\n\u001b[0;32m--> 119\u001b[0;31m             sentence, char_state_tab_P, start_P, trans_P, emit_P)\n\u001b[0m\u001b[1;32m    120\u001b[0m         \u001b[0mbegin\u001b[0m\u001b[0;34m,\u001b[0m \u001b[0mnexti\u001b[0m \u001b[0;34m=\u001b[0m \u001b[0;36m0\u001b[0m\u001b[0;34m,\u001b[0m \u001b[0;36m0\u001b[0m\u001b[0;34m\u001b[0m\u001b[0;34m\u001b[0m\u001b[0m\n\u001b[1;32m    121\u001b[0m \u001b[0;34m\u001b[0m\u001b[0m\n",
      "\u001b[0;32m/opt/anaconda3/lib/python3.7/site-packages/jieba/posseg/viterbi.py\u001b[0m in \u001b[0;36mviterbi\u001b[0;34m(obs, states, start_p, trans_p, emit_p)\u001b[0m\n\u001b[1;32m     36\u001b[0m         \u001b[0;32mfor\u001b[0m \u001b[0my\u001b[0m \u001b[0;32min\u001b[0m \u001b[0mobs_states\u001b[0m\u001b[0;34m:\u001b[0m\u001b[0;34m\u001b[0m\u001b[0;34m\u001b[0m\u001b[0m\n\u001b[1;32m     37\u001b[0m             prob, state = max((V[t - 1][y0] + trans_p[y0].get(y, MIN_INF) +\n\u001b[0;32m---> 38\u001b[0;31m                                emit_p[y].get(obs[t], MIN_FLOAT), y0) for y0 in prev_states)\n\u001b[0m\u001b[1;32m     39\u001b[0m             \u001b[0mV\u001b[0m\u001b[0;34m[\u001b[0m\u001b[0mt\u001b[0m\u001b[0;34m]\u001b[0m\u001b[0;34m[\u001b[0m\u001b[0my\u001b[0m\u001b[0;34m]\u001b[0m \u001b[0;34m=\u001b[0m \u001b[0mprob\u001b[0m\u001b[0;34m\u001b[0m\u001b[0;34m\u001b[0m\u001b[0m\n\u001b[1;32m     40\u001b[0m             \u001b[0mmem_path\u001b[0m\u001b[0;34m[\u001b[0m\u001b[0mt\u001b[0m\u001b[0;34m]\u001b[0m\u001b[0;34m[\u001b[0m\u001b[0my\u001b[0m\u001b[0;34m]\u001b[0m \u001b[0;34m=\u001b[0m \u001b[0mstate\u001b[0m\u001b[0;34m\u001b[0m\u001b[0;34m\u001b[0m\u001b[0m\n",
      "\u001b[0;32m/opt/anaconda3/lib/python3.7/site-packages/jieba/posseg/viterbi.py\u001b[0m in \u001b[0;36m<genexpr>\u001b[0;34m(.0)\u001b[0m\n\u001b[1;32m     36\u001b[0m         \u001b[0;32mfor\u001b[0m \u001b[0my\u001b[0m \u001b[0;32min\u001b[0m \u001b[0mobs_states\u001b[0m\u001b[0;34m:\u001b[0m\u001b[0;34m\u001b[0m\u001b[0;34m\u001b[0m\u001b[0m\n\u001b[1;32m     37\u001b[0m             prob, state = max((V[t - 1][y0] + trans_p[y0].get(y, MIN_INF) +\n\u001b[0;32m---> 38\u001b[0;31m                                emit_p[y].get(obs[t], MIN_FLOAT), y0) for y0 in prev_states)\n\u001b[0m\u001b[1;32m     39\u001b[0m             \u001b[0mV\u001b[0m\u001b[0;34m[\u001b[0m\u001b[0mt\u001b[0m\u001b[0;34m]\u001b[0m\u001b[0;34m[\u001b[0m\u001b[0my\u001b[0m\u001b[0;34m]\u001b[0m \u001b[0;34m=\u001b[0m \u001b[0mprob\u001b[0m\u001b[0;34m\u001b[0m\u001b[0;34m\u001b[0m\u001b[0m\n\u001b[1;32m     40\u001b[0m             \u001b[0mmem_path\u001b[0m\u001b[0;34m[\u001b[0m\u001b[0mt\u001b[0m\u001b[0;34m]\u001b[0m\u001b[0;34m[\u001b[0m\u001b[0my\u001b[0m\u001b[0;34m]\u001b[0m \u001b[0;34m=\u001b[0m \u001b[0mstate\u001b[0m\u001b[0;34m\u001b[0m\u001b[0;34m\u001b[0m\u001b[0m\n",
      "\u001b[0;31mKeyboardInterrupt\u001b[0m: "
     ]
    }
   ],
   "source": [
    "data_df['content_tokenized'] = data_df.loc[:, '事件內容'].apply(jieba_tokenizer)"
   ]
  },
  {
   "cell_type": "code",
   "execution_count": null,
   "metadata": {},
   "outputs": [],
   "source": [
    "data_df['big_tokenized'] = data_df.loc[:, '大事件類別'].apply(jieba_tokenizer)\n",
    "data_df['small_tokenized'] = data_df.loc[:, '小事件類別'].apply(jieba_tokenizer)"
   ]
  },
  {
   "cell_type": "code",
   "execution_count": null,
   "metadata": {},
   "outputs": [],
   "source": [
    "import keras\n",
    "MAX_NUM_WORDS = 10000\n",
    "tokenizer = keras .preprocessing.text.Tokenizer(num_words=MAX_NUM_WORDS)"
   ]
  },
  {
   "cell_type": "code",
   "execution_count": null,
   "metadata": {},
   "outputs": [],
   "source": []
  }
 ],
 "metadata": {
  "kernelspec": {
   "display_name": "Python 3",
   "language": "python",
   "name": "python3"
  },
  "language_info": {
   "codemirror_mode": {
    "name": "ipython",
    "version": 3
   },
   "file_extension": ".py",
   "mimetype": "text/x-python",
   "name": "python",
   "nbconvert_exporter": "python",
   "pygments_lexer": "ipython3",
   "version": "3.7.4"
  }
 },
 "nbformat": 4,
 "nbformat_minor": 4
}
