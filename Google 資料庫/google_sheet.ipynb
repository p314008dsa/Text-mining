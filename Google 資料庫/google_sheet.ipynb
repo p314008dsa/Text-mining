{
 "cells": [
  {
   "cell_type": "code",
   "execution_count": 4,
   "metadata": {},
   "outputs": [
    {
     "name": "stdout",
     "output_type": "stream",
     "text": [
      "Requirement already satisfied: gspread in /anaconda3/lib/python3.7/site-packages (3.6.0)\n",
      "Requirement already satisfied: google-auth>=1.12.0 in /anaconda3/lib/python3.7/site-packages (from gspread) (1.15.0)\n",
      "Requirement already satisfied: google-auth-oauthlib>=0.4.1 in /anaconda3/lib/python3.7/site-packages (from gspread) (0.4.1)\n",
      "Requirement already satisfied: requests>=2.2.1 in /anaconda3/lib/python3.7/site-packages (from gspread) (2.21.0)\n",
      "Requirement already satisfied: rsa<4.1,>=3.1.4 in /anaconda3/lib/python3.7/site-packages (from google-auth>=1.12.0->gspread) (4.0)\n",
      "Requirement already satisfied: six>=1.9.0 in /anaconda3/lib/python3.7/site-packages (from google-auth>=1.12.0->gspread) (1.12.0)\n",
      "Requirement already satisfied: setuptools>=40.3.0 in /anaconda3/lib/python3.7/site-packages (from google-auth>=1.12.0->gspread) (41.6.0)\n",
      "Requirement already satisfied: pyasn1-modules>=0.2.1 in /anaconda3/lib/python3.7/site-packages (from google-auth>=1.12.0->gspread) (0.2.8)\n",
      "Requirement already satisfied: cachetools<5.0,>=2.0.0 in /anaconda3/lib/python3.7/site-packages (from google-auth>=1.12.0->gspread) (4.1.0)\n",
      "Requirement already satisfied: requests-oauthlib>=0.7.0 in /anaconda3/lib/python3.7/site-packages (from google-auth-oauthlib>=0.4.1->gspread) (1.3.0)\n",
      "Requirement already satisfied: urllib3<1.25,>=1.21.1 in /anaconda3/lib/python3.7/site-packages (from requests>=2.2.1->gspread) (1.24.1)\n",
      "Requirement already satisfied: idna<2.9,>=2.5 in /anaconda3/lib/python3.7/site-packages (from requests>=2.2.1->gspread) (2.8)\n",
      "Requirement already satisfied: chardet<3.1.0,>=3.0.2 in /anaconda3/lib/python3.7/site-packages (from requests>=2.2.1->gspread) (3.0.4)\n",
      "Requirement already satisfied: certifi>=2017.4.17 in /anaconda3/lib/python3.7/site-packages (from requests>=2.2.1->gspread) (2020.4.5.1)\n",
      "Requirement already satisfied: pyasn1>=0.1.3 in /anaconda3/lib/python3.7/site-packages (from rsa<4.1,>=3.1.4->google-auth>=1.12.0->gspread) (0.4.8)\n",
      "Requirement already satisfied: oauthlib>=3.0.0 in /anaconda3/lib/python3.7/site-packages (from requests-oauthlib>=0.7.0->google-auth-oauthlib>=0.4.1->gspread) (3.1.0)\n",
      "Requirement already satisfied: oauth2client in /anaconda3/lib/python3.7/site-packages (4.1.3)\n",
      "Requirement already satisfied: pyasn1-modules>=0.0.5 in /anaconda3/lib/python3.7/site-packages (from oauth2client) (0.2.8)\n",
      "Requirement already satisfied: six>=1.6.1 in /anaconda3/lib/python3.7/site-packages (from oauth2client) (1.12.0)\n",
      "Requirement already satisfied: pyasn1>=0.1.7 in /anaconda3/lib/python3.7/site-packages (from oauth2client) (0.4.8)\n",
      "Requirement already satisfied: httplib2>=0.9.1 in /anaconda3/lib/python3.7/site-packages (from oauth2client) (0.18.1)\n",
      "Requirement already satisfied: rsa>=3.1.4 in /anaconda3/lib/python3.7/site-packages (from oauth2client) (4.0)\n"
     ]
    }
   ],
   "source": [
    "# 下載相關套件\n",
    "! pip install gspread\n",
    "! pip install oauth2client"
   ]
  },
  {
   "cell_type": "code",
   "execution_count": 11,
   "metadata": {},
   "outputs": [],
   "source": [
    "import gspread\n",
    "from oauth2client.service_account import ServiceAccountCredentials\n",
    "\n",
    "auth_json_path = 'text-mining-278108-6e2a4d5618f5.json'\n",
    "gss_scopes = ['https://spreadsheets.google.com/feeds']\n"
   ]
  },
  {
   "cell_type": "code",
   "execution_count": 12,
   "metadata": {},
   "outputs": [],
   "source": [
    "#連線\n",
    "credentials = ServiceAccountCredentials.from_json_keyfile_name(auth_json_path, gss_scopes)\n",
    "gss_client = gspread.authorize(credentials)\n"
   ]
  },
  {
   "cell_type": "code",
   "execution_count": 13,
   "metadata": {},
   "outputs": [],
   "source": [
    "#開啟 Google Sheet 資料表\n",
    "spreadsheet_key = '1vzeErf8Jft4YCNNRFCF-MoZkHbkldbz9CHeN-7vXlKI' \n",
    "\n",
    "#建立工作表1\n",
    "sheet = gss_client.open_by_key(spreadsheet_key).sheet1\n",
    "\n",
    "#自定義工作表名稱\n",
    "sheet = gss_client.open_by_key(spreadsheet_key).worksheet('測試1')\n"
   ]
  },
  {
   "cell_type": "code",
   "execution_count": 14,
   "metadata": {},
   "outputs": [
    {
     "data": {
      "text/plain": [
       "{'spreadsheetId': '1vzeErf8Jft4YCNNRFCF-MoZkHbkldbz9CHeN-7vXlKI',\n",
       " 'tableRange': \"'測試1'!A1:B1\",\n",
       " 'updates': {'spreadsheetId': '1vzeErf8Jft4YCNNRFCF-MoZkHbkldbz9CHeN-7vXlKI',\n",
       "  'updatedRange': \"'測試1'!A2:B2\",\n",
       "  'updatedRows': 1,\n",
       "  'updatedColumns': 2,\n",
       "  'updatedCells': 2}}"
      ]
     },
     "execution_count": 14,
     "metadata": {},
     "output_type": "execute_result"
    }
   ],
   "source": [
    "#Google Sheet 資料表操作(舊版)\n",
    "sheet.clear() # 清除 Google Sheet 資料表內容\n",
    "listtitle = [\"姓名\",\"電話\"]\n",
    "sheet.append_row(listtitle)  # 標題\n",
    "listdata = [\"Liu\",\"0912-345678\"]\n",
    "sheet.append_row(listdata)  # 資料內容\n"
   ]
  },
  {
   "cell_type": "code",
   "execution_count": 16,
   "metadata": {},
   "outputs": [
    {
     "data": {
      "text/plain": [
       "[['A', 'B', 'C', 'D'], ['', '', '', ''], ['', '', '', 'ABC']]"
      ]
     },
     "execution_count": 16,
     "metadata": {},
     "output_type": "execute_result"
    }
   ],
   "source": [
    "#Google Sheet 資料表操作(20191224新版)\n",
    "sheet.update_acell('D2', 'ABC')  #D2加入ABC\n",
    "sheet.update_cell(2, 4, 'ABC')   #D2加入ABC(第2列第4行即D2)\n",
    "\n",
    "#寫入一整列(list型態的資料)\n",
    "values = ['A','B','C','D']\n",
    "sheet.insert_row(values, 1) #插入values到第1列\n",
    "\n",
    "#讀取儲存格\n",
    "sheet.acell('B1').value\n",
    "sheet.cell(1, 2).value\n",
    "\n",
    "#讀取整欄或整列\n",
    "sheet.row_values(1) #讀取第1列的一整列\n",
    "sheet.col_values(1) #讀取第1欄的一整欄\n",
    "\n",
    "#讀取整個表\n",
    "sheet.get_all_values()"
   ]
  },
  {
   "cell_type": "code",
   "execution_count": 25,
   "metadata": {},
   "outputs": [
    {
     "data": {
      "text/plain": [
       "{'spreadsheetId': '1vzeErf8Jft4YCNNRFCF-MoZkHbkldbz9CHeN-7vXlKI',\n",
       " 'clearedRange': \"'測試1'!A1:Z1001\"}"
      ]
     },
     "execution_count": 25,
     "metadata": {},
     "output_type": "execute_result"
    }
   ],
   "source": []
  },
  {
   "cell_type": "code",
   "execution_count": null,
   "metadata": {},
   "outputs": [],
   "source": []
  }
 ],
 "metadata": {
  "kernelspec": {
   "display_name": "Python 3",
   "language": "python",
   "name": "python3"
  },
  "language_info": {
   "codemirror_mode": {
    "name": "ipython",
    "version": 3
   },
   "file_extension": ".py",
   "mimetype": "text/x-python",
   "name": "python",
   "nbconvert_exporter": "python",
   "pygments_lexer": "ipython3",
   "version": "3.7.1"
  }
 },
 "nbformat": 4,
 "nbformat_minor": 2
}
