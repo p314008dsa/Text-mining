{
  "nbformat": 4,
  "nbformat_minor": 0,
  "metadata": {
    "colab": {
      "name": "Yang_Model3_0428_Fintech.ipynb",
      "provenance": [],
      "collapsed_sections": []
    },
    "kernelspec": {
      "name": "python3",
      "display_name": "Python 3"
    },
    "accelerator": "GPU"
  },
  "cells": [
    {
      "cell_type": "code",
      "metadata": {
        "id": "FjL7fPX-15mY",
        "colab_type": "code",
        "colab": {}
      },
      "source": [
        "import sklearn.metrics\n",
        "from sklearn.metrics import accuracy_score\n",
        "from sklearn.metrics import precision_score\n",
        "from sklearn.metrics import recall_score\n",
        "from sklearn.metrics import f1_score #The F-Measure is a popular metric for imbalanced classification.\n",
        "from sklearn.metrics import confusion_matrix\n",
        "from sklearn.metrics import roc_auc_score"
      ],
      "execution_count": 0,
      "outputs": []
    },
    {
      "cell_type": "code",
      "metadata": {
        "id": "ZoArW8nbx1gJ",
        "colab_type": "code",
        "colab": {}
      },
      "source": [
        "# Import packages\n",
        "\n",
        "import pandas as pd \n",
        "import numpy as np\n",
        "import matplotlib\n",
        "import matplotlib.pyplot as plt\n",
        "import seaborn as sns\n",
        "import sklearn\n",
        "\n",
        "\n",
        "import gc #Garbage Collector interface\n",
        "from datetime import datetime \n",
        "from sklearn.model_selection import train_test_split\n",
        "from sklearn.model_selection import KFold\n",
        "from sklearn.preprocessing import OneHotEncoder"
      ],
      "execution_count": 0,
      "outputs": []
    },
    {
      "cell_type": "code",
      "metadata": {
        "id": "gwDjS_W3yI2A",
        "colab_type": "code",
        "outputId": "17856802-669f-442d-b34f-3f096135e462",
        "colab": {
          "base_uri": "https://localhost:8080/",
          "height": 122
        }
      },
      "source": [
        "# import Google Drive 套件\n",
        "from google.colab import drive\n",
        "\n",
        "# 將自己的雲端硬碟掛載上去\n",
        "drive.mount('/content/gdrive')"
      ],
      "execution_count": 3,
      "outputs": [
        {
          "output_type": "stream",
          "text": [
            "Go to this URL in a browser: https://accounts.google.com/o/oauth2/auth?client_id=947318989803-6bn6qk8qdgf4n4g3pfee6491hc0brc4i.apps.googleusercontent.com&redirect_uri=urn%3aietf%3awg%3aoauth%3a2.0%3aoob&response_type=code&scope=email%20https%3a%2f%2fwww.googleapis.com%2fauth%2fdocs.test%20https%3a%2f%2fwww.googleapis.com%2fauth%2fdrive%20https%3a%2f%2fwww.googleapis.com%2fauth%2fdrive.photos.readonly%20https%3a%2f%2fwww.googleapis.com%2fauth%2fpeopleapi.readonly\n",
            "\n",
            "Enter your authorization code:\n",
            "··········\n",
            "Mounted at /content/gdrive\n"
          ],
          "name": "stdout"
        }
      ]
    },
    {
      "cell_type": "code",
      "metadata": {
        "id": "6-BwGyTJyUfZ",
        "colab_type": "code",
        "colab": {}
      },
      "source": [
        "# 透過 gdrive/My Drive/... 來存取檔案\n",
        "data_df = pd.read_csv('gdrive/My Drive/TEJ_Whole_year_Jieba.csv')"
      ],
      "execution_count": 0,
      "outputs": []
    },
    {
      "cell_type": "code",
      "metadata": {
        "id": "z5Eb3OtFyYp0",
        "colab_type": "code",
        "outputId": "28ecb64e-72fc-4367-c516-d14f8ca65d86",
        "colab": {
          "base_uri": "https://localhost:8080/",
          "height": 204
        }
      },
      "source": [
        "data_df.head()"
      ],
      "execution_count": 98,
      "outputs": [
        {
          "output_type": "execute_result",
          "data": {
            "text/html": [
              "<div>\n",
              "<style scoped>\n",
              "    .dataframe tbody tr th:only-of-type {\n",
              "        vertical-align: middle;\n",
              "    }\n",
              "\n",
              "    .dataframe tbody tr th {\n",
              "        vertical-align: top;\n",
              "    }\n",
              "\n",
              "    .dataframe thead th {\n",
              "        text-align: right;\n",
              "    }\n",
              "</style>\n",
              "<table border=\"1\" class=\"dataframe\">\n",
              "  <thead>\n",
              "    <tr style=\"text-align: right;\">\n",
              "      <th></th>\n",
              "      <th>個股代號</th>\n",
              "      <th>公司簡稱</th>\n",
              "      <th>事件日</th>\n",
              "      <th>TCRI(年/月)</th>\n",
              "      <th>事件強度</th>\n",
              "      <th>大事件類別</th>\n",
              "      <th>小事件類別</th>\n",
              "      <th>事件內容</th>\n",
              "      <th>content_tokenized</th>\n",
              "    </tr>\n",
              "  </thead>\n",
              "  <tbody>\n",
              "    <tr>\n",
              "      <th>0</th>\n",
              "      <td>1218</td>\n",
              "      <td>泰山</td>\n",
              "      <td>20190101</td>\n",
              "      <td>6(2018/09)</td>\n",
              "      <td>0</td>\n",
              "      <td>M_經營層</td>\n",
              "      <td>MT06_高管異動</td>\n",
              "      <td>發言人林俐婉內部調動，由江巍峰接任。。</td>\n",
              "      <td>發言 人 林俐婉 內部 調動 由 江巍峰 接任</td>\n",
              "    </tr>\n",
              "    <tr>\n",
              "      <th>1</th>\n",
              "      <td>1503</td>\n",
              "      <td>士電</td>\n",
              "      <td>20190101</td>\n",
              "      <td>4(2018/09)</td>\n",
              "      <td>0</td>\n",
              "      <td>M_經營層</td>\n",
              "      <td>MT06_高管異動</td>\n",
              "      <td>內部稽核主管林志強內部調動，由莊文清接任。。</td>\n",
              "      <td>內部 稽核 主管 林志強 內部 調動 由 莊文清 接任</td>\n",
              "    </tr>\n",
              "    <tr>\n",
              "      <th>2</th>\n",
              "      <td>1504</td>\n",
              "      <td>東元</td>\n",
              "      <td>20190101</td>\n",
              "      <td>4(2018/09)</td>\n",
              "      <td>0</td>\n",
              "      <td>M_經營層</td>\n",
              "      <td>MT06_高管異動</td>\n",
              "      <td>會計主管藍俊雄內部調動，由林鴻名接任。。</td>\n",
              "      <td>會計 主管 藍俊雄 內部 調動 由 林鴻名 接任</td>\n",
              "    </tr>\n",
              "    <tr>\n",
              "      <th>3</th>\n",
              "      <td>1709</td>\n",
              "      <td>和益</td>\n",
              "      <td>20190101</td>\n",
              "      <td>5(2018/09)</td>\n",
              "      <td>0</td>\n",
              "      <td>M_經營層</td>\n",
              "      <td>MT06_高管異動</td>\n",
              "      <td>內部稽核主管游本詮內部調動，由曾筱茜接任。。</td>\n",
              "      <td>內部 稽核 主管 游本 詮內部 調動 由 曾筱茜 接任</td>\n",
              "    </tr>\n",
              "    <tr>\n",
              "      <th>4</th>\n",
              "      <td>1721</td>\n",
              "      <td>三晃</td>\n",
              "      <td>20190101</td>\n",
              "      <td>7(2018/09)</td>\n",
              "      <td>0</td>\n",
              "      <td>M_經營層</td>\n",
              "      <td>MT06_高管異動</td>\n",
              "      <td>財務經理洪廷宜內部調動，由王婷渝接任。。</td>\n",
              "      <td>財務 經理 洪廷宜 內部 調動 由 王婷渝 接任</td>\n",
              "    </tr>\n",
              "  </tbody>\n",
              "</table>\n",
              "</div>"
            ],
            "text/plain": [
              "   個股代號            公司簡稱  ...                    事件內容            content_tokenized\n",
              "0  1218  泰山              ...     發言人林俐婉內部調動，由江巍峰接任。。      發言 人 林俐婉 內部 調動 由 江巍峰 接任\n",
              "1  1503  士電              ...  內部稽核主管林志強內部調動，由莊文清接任。。  內部 稽核 主管 林志強 內部 調動 由 莊文清 接任\n",
              "2  1504  東元              ...    會計主管藍俊雄內部調動，由林鴻名接任。。     會計 主管 藍俊雄 內部 調動 由 林鴻名 接任\n",
              "3  1709  和益              ...  內部稽核主管游本詮內部調動，由曾筱茜接任。。  內部 稽核 主管 游本 詮內部 調動 由 曾筱茜 接任\n",
              "4  1721  三晃              ...    財務經理洪廷宜內部調動，由王婷渝接任。。     財務 經理 洪廷宜 內部 調動 由 王婷渝 接任\n",
              "\n",
              "[5 rows x 9 columns]"
            ]
          },
          "metadata": {
            "tags": []
          },
          "execution_count": 98
        }
      ]
    },
    {
      "cell_type": "code",
      "metadata": {
        "id": "FBcvwMzFybDp",
        "colab_type": "code",
        "outputId": "5c69d4ac-b7d6-4e19-e395-7fb98c80fa41",
        "colab": {
          "base_uri": "https://localhost:8080/",
          "height": 289
        }
      },
      "source": [
        "data_df.info()"
      ],
      "execution_count": 99,
      "outputs": [
        {
          "output_type": "stream",
          "text": [
            "<class 'pandas.core.frame.DataFrame'>\n",
            "RangeIndex: 23703 entries, 0 to 23702\n",
            "Data columns (total 9 columns):\n",
            " #   Column             Non-Null Count  Dtype \n",
            "---  ------             --------------  ----- \n",
            " 0   個股代號               23703 non-null  int64 \n",
            " 1   公司簡稱               22775 non-null  object\n",
            " 2   事件日                23703 non-null  int64 \n",
            " 3   TCRI(年/月)          23703 non-null  object\n",
            " 4   事件強度               23703 non-null  int64 \n",
            " 5   大事件類別              23703 non-null  object\n",
            " 6   小事件類別              23703 non-null  object\n",
            " 7   事件內容               23703 non-null  object\n",
            " 8   content_tokenized  23703 non-null  object\n",
            "dtypes: int64(3), object(6)\n",
            "memory usage: 1.6+ MB\n"
          ],
          "name": "stdout"
        }
      ]
    },
    {
      "cell_type": "code",
      "metadata": {
        "id": "VDrPqxVNyggi",
        "colab_type": "code",
        "outputId": "0395dfed-6b7b-4537-bad8-8e31fe032bb9",
        "colab": {
          "base_uri": "https://localhost:8080/",
          "height": 374
        }
      },
      "source": [
        "# Data pre-processing\n",
        "\n",
        "import keras\n",
        "MAX_NUM_WORDS = 10000\n",
        "tokenizer = keras .preprocessing.text.Tokenizer(num_words=MAX_NUM_WORDS)\n",
        "\n",
        "corpus = data_df.content_tokenized\n",
        "\n",
        "tokenizer.fit_on_texts(corpus)\n",
        "\n",
        "x = tokenizer.texts_to_sequences(corpus)\n",
        "\n",
        "len(x)\n",
        "\n",
        "x[:1]\n",
        "\n",
        "for seq in x[:1]:\n",
        "    print([tokenizer.index_word[idx] for idx in seq])\n",
        "    \n",
        "for seq in x[:20]:\n",
        "    print(len(seq), seq[:5], ' ...')\n",
        "    \n",
        "max_seq_len = max([\n",
        "    len(seq) for seq in x])\n",
        "\n",
        "max_seq_len\n",
        "\n",
        "MAX_SEQUENCE_LENGTH = 500 ################# Maybe 150 is enough?"
      ],
      "execution_count": 100,
      "outputs": [
        {
          "output_type": "stream",
          "text": [
            "['發言', '人', '內部', '調動', '由', '接任']\n",
            "6 [458, 36, 83, 142, 29]  ...\n",
            "7 [83, 378, 138, 83, 142]  ...\n",
            "6 [422, 138, 83, 142, 29]  ...\n",
            "6 [83, 378, 138, 142, 29]  ...\n",
            "6 [126, 162, 83, 142, 29]  ...\n",
            "6 [294, 138, 83, 142, 29]  ...\n",
            "7 [2598, 246, 29, 87, 246]  ...\n",
            "13 [460, 10, 85, 4, 6171]  ...\n",
            "7 [554, 10, 85, 64, 4]  ...\n",
            "6 [62, 162, 83, 142, 29]  ...\n",
            "6 [62, 162, 83, 142, 29]  ...\n",
            "225 [3046, 848, 2288, 1386, 48]  ...\n",
            "17 [460, 10, 85, 4, 6843]  ...\n",
            "8 [422, 138, 83, 142, 29]  ...\n",
            "6 [126, 162, 83, 142, 29]  ...\n",
            "6 [422, 138, 83, 142, 29]  ...\n",
            "6 [62, 162, 83, 142, 29]  ...\n",
            "6 [294, 138, 83, 142, 29]  ...\n",
            "6 [62, 162, 83, 142, 29]  ...\n",
            "6 [62, 162, 83, 142, 29]  ...\n"
          ],
          "name": "stdout"
        }
      ]
    },
    {
      "cell_type": "code",
      "metadata": {
        "id": "W-RXHELSykeX",
        "colab_type": "code",
        "colab": {}
      },
      "source": [
        "x = keras .preprocessing .sequence .pad_sequences(x, maxlen=MAX_SEQUENCE_LENGTH)"
      ],
      "execution_count": 0,
      "outputs": []
    },
    {
      "cell_type": "markdown",
      "metadata": {
        "id": "CMs0Al69yqSi",
        "colab_type": "text"
      },
      "source": [
        "# Predict \"事件強度\""
      ]
    },
    {
      "cell_type": "code",
      "metadata": {
        "id": "xwO4SeyJypkK",
        "colab_type": "code",
        "colab": {}
      },
      "source": [
        "y = data_df[\"事件強度\"]"
      ],
      "execution_count": 0,
      "outputs": []
    },
    {
      "cell_type": "code",
      "metadata": {
        "id": "Q7DpDbKI0_pv",
        "colab_type": "code",
        "colab": {}
      },
      "source": [
        "# Split data to training data and testing data \n",
        "from sklearn.model_selection import train_test_split\n",
        "\n",
        "X_train, X_test, y_train, y_test = train_test_split(x, y, test_size=0.2, random_state=42)"
      ],
      "execution_count": 0,
      "outputs": []
    },
    {
      "cell_type": "code",
      "metadata": {
        "id": "gTl1RvAK3oUW",
        "colab_type": "code",
        "outputId": "a04fa601-5d7f-4263-ca3f-16d670c26c05",
        "colab": {
          "base_uri": "https://localhost:8080/",
          "height": 153
        }
      },
      "source": [
        "y_train.value_counts()"
      ],
      "execution_count": 168,
      "outputs": [
        {
          "output_type": "execute_result",
          "data": {
            "text/plain": [
              "-1    8557\n",
              " 0    6722\n",
              " 1    2807\n",
              "-2     521\n",
              "-3     219\n",
              " 2      76\n",
              " 3      60\n",
              "Name: 事件強度, dtype: int64"
            ]
          },
          "metadata": {
            "tags": []
          },
          "execution_count": 168
        }
      ]
    },
    {
      "cell_type": "code",
      "metadata": {
        "id": "Yqw7_zjP52Uv",
        "colab_type": "code",
        "outputId": "83c27b7e-c518-41d6-eb01-73b4440b23f8",
        "colab": {
          "base_uri": "https://localhost:8080/",
          "height": 626
        }
      },
      "source": [
        "# Visualize the proportion of each target class\n",
        "\n",
        "plt.figure(figsize=(10,5))\n",
        "sns.countplot(y_train)"
      ],
      "execution_count": 169,
      "outputs": [
        {
          "output_type": "execute_result",
          "data": {
            "text/plain": [
              "<matplotlib.axes._subplots.AxesSubplot at 0x7f0d55e1d908>"
            ]
          },
          "metadata": {
            "tags": []
          },
          "execution_count": 169
        },
        {
          "output_type": "stream",
          "text": [
            "/usr/local/lib/python3.6/dist-packages/matplotlib/backends/backend_agg.py:214: RuntimeWarning: Glyph 20107 missing from current font.\n",
            "  font.set_text(s, 0.0, flags=flags)\n",
            "/usr/local/lib/python3.6/dist-packages/matplotlib/backends/backend_agg.py:214: RuntimeWarning: Glyph 20214 missing from current font.\n",
            "  font.set_text(s, 0.0, flags=flags)\n",
            "/usr/local/lib/python3.6/dist-packages/matplotlib/backends/backend_agg.py:214: RuntimeWarning: Glyph 24375 missing from current font.\n",
            "  font.set_text(s, 0.0, flags=flags)\n",
            "/usr/local/lib/python3.6/dist-packages/matplotlib/backends/backend_agg.py:214: RuntimeWarning: Glyph 24230 missing from current font.\n",
            "  font.set_text(s, 0.0, flags=flags)\n",
            "/usr/local/lib/python3.6/dist-packages/matplotlib/backends/backend_agg.py:183: RuntimeWarning: Glyph 20107 missing from current font.\n",
            "  font.set_text(s, 0, flags=flags)\n",
            "/usr/local/lib/python3.6/dist-packages/matplotlib/backends/backend_agg.py:183: RuntimeWarning: Glyph 20214 missing from current font.\n",
            "  font.set_text(s, 0, flags=flags)\n",
            "/usr/local/lib/python3.6/dist-packages/matplotlib/backends/backend_agg.py:183: RuntimeWarning: Glyph 24375 missing from current font.\n",
            "  font.set_text(s, 0, flags=flags)\n",
            "/usr/local/lib/python3.6/dist-packages/matplotlib/backends/backend_agg.py:183: RuntimeWarning: Glyph 24230 missing from current font.\n",
            "  font.set_text(s, 0, flags=flags)\n"
          ],
          "name": "stderr"
        },
        {
          "output_type": "display_data",
          "data": {
            "image/png": "[encoded data removed]",
            "text/plain": [
              "<Figure size 720x360 with 1 Axes>"
            ]
          },
          "metadata": {
            "tags": [],
            "needs_background": "light"
          }
        }
      ]
    },
    {
      "cell_type": "code",
      "metadata": {
        "id": "vm4haU6A172f",
        "colab_type": "code",
        "colab": {}
      },
      "source": [
        "# Calculate class weight\n",
        "\n",
        "# Let's import the module first\n",
        "from sklearn.utils import class_weight\n",
        "\n",
        "# In order to calculate the class weight do the following\n",
        "class_weights = class_weight.compute_class_weight(class_weight = 'balanced', classes = np.unique(y_train), y = y_train)"
      ],
      "execution_count": 0,
      "outputs": []
    },
    {
      "cell_type": "code",
      "metadata": {
        "id": "yLmICqHWXdlB",
        "colab_type": "code",
        "colab": {}
      },
      "source": [
        "enc = OneHotEncoder(sparse=False)"
      ],
      "execution_count": 0,
      "outputs": []
    },
    {
      "cell_type": "code",
      "metadata": {
        "id": "CdNJGJk4Xkl2",
        "colab_type": "code",
        "colab": {}
      },
      "source": [
        "y_train = enc.fit_transform(np.asarray(y_train).reshape(-1, 1))"
      ],
      "execution_count": 0,
      "outputs": []
    },
    {
      "cell_type": "code",
      "metadata": {
        "id": "n0LEVkoaX8R5",
        "colab_type": "code",
        "colab": {
          "base_uri": "https://localhost:8080/",
          "height": 34
        },
        "outputId": "2fa233ad-2a51-4a27-b88a-3ce3745eca8f"
      },
      "source": [
        "y_train.shape"
      ],
      "execution_count": 173,
      "outputs": [
        {
          "output_type": "execute_result",
          "data": {
            "text/plain": [
              "(18962, 7)"
            ]
          },
          "metadata": {
            "tags": []
          },
          "execution_count": 173
        }
      ]
    },
    {
      "cell_type": "code",
      "metadata": {
        "id": "gj4yikkB40X8",
        "colab_type": "code",
        "colab": {}
      },
      "source": [
        "y_test = enc.transform(np.asarray(y_test).reshape(-1, 1))"
      ],
      "execution_count": 0,
      "outputs": []
    },
    {
      "cell_type": "markdown",
      "metadata": {
        "id": "0zOg_IEA7b2Y",
        "colab_type": "text"
      },
      "source": [
        "## Model 1 : Predict 7 classes:\n",
        "\n",
        "25000 features\n",
        "\n",
        "30 epochs"
      ]
    },
    {
      "cell_type": "code",
      "metadata": {
        "id": "w3SqjC-47QGo",
        "colab_type": "code",
        "outputId": "e962c31a-8c0f-4a91-df72-d4d8cebe21d3",
        "colab": {
          "base_uri": "https://localhost:8080/",
          "height": 1000
        }
      },
      "source": [
        "# Build our neural network model with LSTM\n",
        "\n",
        "from keras import models\n",
        "from keras import layers\n",
        "\n",
        "max_features = 25000\n",
        "\n",
        "from keras.layers import LSTM\n",
        "model = models.Sequential()\n",
        "model.add(layers.Embedding(max_features, 100)) \n",
        "model.add(layers.LSTM(128))\n",
        "model.add(layers.Dense(128, activation='relu'))\n",
        "model.add(layers.Dense(128, activation='relu'))\n",
        "model.add(layers.Dense(7, activation='softmax'))\n",
        "\n",
        "model.compile(optimizer='adam',\n",
        "              loss='categorical_crossentropy',\n",
        "              metrics=['accuracy'])\n",
        "\n",
        "# Iterate on your training data by calling the fit() method of your model\n",
        "history = model.fit(X_train, y_train,\n",
        "                    epochs=10,\n",
        "                    batch_size=500,\n",
        "                   validation_split=0.2,\n",
        "                    class_weight = class_weights)\n",
        "\n",
        "# plot the results of loss values from the training set and validtion set\n",
        "history_dict = history.history\n",
        "loss_values = history_dict['loss']\n",
        "val_loss_values = history_dict['val_loss']\n",
        "\n",
        "epochs = range(1, len(history_dict['accuracy']) + 1)\n",
        "\n",
        "plt.figure(figsize=(10,6))\n",
        "plt.plot(epochs, loss_values, 'bo', label='Training loss')\n",
        "plt.plot(epochs, val_loss_values, 'b', label='Validation loss')\n",
        "plt.title('Training and validation loss')\n",
        "plt.xlabel('Epochs')\n",
        "plt.ylabel('Loss')\n",
        "plt.legend()\n",
        "plt.show()\n",
        "\n",
        "\n",
        "# plot the results of accuracy from the training set and validtion set\n",
        "acc = history_dict['accuracy']\n",
        "val_acc = history_dict['val_accuracy']\n",
        "plt.plot(epochs, acc, 'bo', label='Training acc')\n",
        "plt.plot(epochs, val_acc, 'b', label='Validation acc')\n",
        "plt.title('Training and validation accuracy')\n",
        "plt.xlabel('Epochs')\n",
        "plt.ylabel('Accuracy')\n",
        "plt.legend()\n",
        "plt.show()"
      ],
      "execution_count": 175,
      "outputs": [
        {
          "output_type": "stream",
          "text": [
            "/usr/local/lib/python3.6/dist-packages/tensorflow/python/framework/indexed_slices.py:434: UserWarning: Converting sparse IndexedSlices to a dense Tensor of unknown shape. This may consume a large amount of memory.\n",
            "  \"Converting sparse IndexedSlices to a dense Tensor of unknown shape. \"\n"
          ],
          "name": "stderr"
        },
        {
          "output_type": "stream",
          "text": [
            "Train on 15169 samples, validate on 3793 samples\n",
            "Epoch 1/10\n",
            "15169/15169 [==============================] - 25s 2ms/step - loss: 1.3108 - accuracy: 0.5858 - val_loss: 0.8794 - val_accuracy: 0.6839\n",
            "Epoch 2/10\n",
            "15169/15169 [==============================] - 25s 2ms/step - loss: 0.7151 - accuracy: 0.7319 - val_loss: 0.5959 - val_accuracy: 0.7569\n",
            "Epoch 3/10\n",
            "15169/15169 [==============================] - 25s 2ms/step - loss: 0.4359 - accuracy: 0.8496 - val_loss: 0.4635 - val_accuracy: 0.8365\n",
            "Epoch 4/10\n",
            "15169/15169 [==============================] - 25s 2ms/step - loss: 0.3134 - accuracy: 0.8898 - val_loss: 0.4653 - val_accuracy: 0.8447\n",
            "Epoch 5/10\n",
            "15169/15169 [==============================] - 25s 2ms/step - loss: 0.2336 - accuracy: 0.9196 - val_loss: 0.5158 - val_accuracy: 0.8458\n",
            "Epoch 6/10\n",
            "15169/15169 [==============================] - 25s 2ms/step - loss: 0.1737 - accuracy: 0.9436 - val_loss: 0.5592 - val_accuracy: 0.8344\n",
            "Epoch 7/10\n",
            "15169/15169 [==============================] - 24s 2ms/step - loss: 0.1294 - accuracy: 0.9575 - val_loss: 0.6194 - val_accuracy: 0.8413\n",
            "Epoch 8/10\n",
            "15169/15169 [==============================] - 24s 2ms/step - loss: 0.1022 - accuracy: 0.9658 - val_loss: 0.6243 - val_accuracy: 0.8284\n",
            "Epoch 9/10\n",
            "15169/15169 [==============================] - 24s 2ms/step - loss: 0.0866 - accuracy: 0.9715 - val_loss: 0.6751 - val_accuracy: 0.8429\n",
            "Epoch 10/10\n",
            "15169/15169 [==============================] - 24s 2ms/step - loss: 0.0746 - accuracy: 0.9738 - val_loss: 0.7088 - val_accuracy: 0.8347\n"
          ],
          "name": "stdout"
        },
        {
          "output_type": "display_data",
          "data": {
            "image/png": "[encoded data removed]",
            "text/plain": [
              "<Figure size 720x432 with 1 Axes>"
            ]
          },
          "metadata": {
            "tags": [],
            "needs_background": "light"
          }
        },
        {
          "output_type": "display_data",
          "data": {
            "image/png": "[encoded data removed]",
            "text/plain": [
              "<Figure size 432x288 with 1 Axes>"
            ]
          },
          "metadata": {
            "tags": [],
            "needs_background": "light"
          }
        }
      ]
    },
    {
      "cell_type": "code",
      "metadata": {
        "id": "QE8ioaWX8DlY",
        "colab_type": "code",
        "outputId": "4be6881a-ce86-4757-ae2e-20cdaa10fced",
        "colab": {
          "base_uri": "https://localhost:8080/",
          "height": 51
        }
      },
      "source": [
        "results = model.evaluate(X_test, y_test)\n",
        "print(results)"
      ],
      "execution_count": 176,
      "outputs": [
        {
          "output_type": "stream",
          "text": [
            "4741/4741 [==============================] - 9s 2ms/step\n",
            "[0.7158177247959661, 0.8396962881088257]\n"
          ],
          "name": "stdout"
        }
      ]
    },
    {
      "cell_type": "code",
      "metadata": {
        "id": "hzr8JYoxa6zi",
        "colab_type": "code",
        "colab": {}
      },
      "source": [
        "preds_Y = model.predict(X_test)\n",
        "preds_Y=(preds_Y>0.5).astype(int)"
      ],
      "execution_count": 0,
      "outputs": []
    },
    {
      "cell_type": "code",
      "metadata": {
        "id": "2KufgdlrbKZ7",
        "colab_type": "code",
        "colab": {}
      },
      "source": [
        "preds_Y = enc.inverse_transform(preds_Y)"
      ],
      "execution_count": 0,
      "outputs": []
    },
    {
      "cell_type": "code",
      "metadata": {
        "id": "dEDq2BfDbbt_",
        "colab_type": "code",
        "colab": {}
      },
      "source": [
        "y_test = enc.inverse_transform(y_test)"
      ],
      "execution_count": 0,
      "outputs": []
    },
    {
      "cell_type": "code",
      "metadata": {
        "id": "dDj8FeVoa_Tu",
        "colab_type": "code",
        "colab": {
          "base_uri": "https://localhost:8080/",
          "height": 187
        },
        "outputId": "57d4ac1a-55f7-459b-d063-04528ff05eaf"
      },
      "source": [
        "accuracy = accuracy_score(y_test, preds_Y)\n",
        "c_matrix = confusion_matrix(y_test, preds_Y,labels=[3,2,1,0,-1,-2,-3])\n",
        "print('accuracy: '+str(accuracy)+'\\n')\n",
        "print('Confusion matrix: ')\n",
        "print(c_matrix)"
      ],
      "execution_count": 180,
      "outputs": [
        {
          "output_type": "stream",
          "text": [
            "accuracy: 0.8356886732756802\n",
            "\n",
            "Confusion matrix: \n",
            "[[   7    0    0    0    0    0    6]\n",
            " [   0    0    2    3    1    6    6]\n",
            " [   0    0  485  183   28   14   14]\n",
            " [   0    0  132 1380   95   20   26]\n",
            " [   0    0   40  118 1974   14   18]\n",
            " [   0    0    2   12   11   75   15]\n",
            " [   0    0    0    2    3    8   41]]\n"
          ],
          "name": "stdout"
        }
      ]
    },
    {
      "cell_type": "code",
      "metadata": {
        "id": "r1g52pO5ucyj",
        "colab_type": "code",
        "colab": {
          "base_uri": "https://localhost:8080/",
          "height": 51
        },
        "outputId": "0d639213-64c5-4f93-d485-f5e5504802c9"
      },
      "source": [
        "Recall = recall_score(y_test, preds_Y,average=None)\n",
        "print(Recall)"
      ],
      "execution_count": 185,
      "outputs": [
        {
          "output_type": "stream",
          "text": [
            "[0.75925926 0.65217391 0.91219963 0.83484574 0.6698895  0.\n",
            " 0.53846154]\n"
          ],
          "name": "stdout"
        }
      ]
    },
    {
      "cell_type": "markdown",
      "metadata": {
        "id": "y9vn-Fz9Ae43",
        "colab_type": "text"
      },
      "source": [
        "# 預測大事件類別\n",
        "\n",
        "dropout 0.2\n",
        "recurrent dropout 0.2\n",
        "testing dataset accuracy: 96%"
      ]
    },
    {
      "cell_type": "code",
      "metadata": {
        "id": "VJVNxq1CAfSh",
        "colab_type": "code",
        "colab": {}
      },
      "source": [
        "y = np.asarray(data_df[\"大事件類別\"])\n",
        "\n",
        "y = np.asarray(pd.get_dummies(y))\n",
        "\n",
        "# Split data to training data and testing data \n",
        "from sklearn.model_selection import train_test_split\n",
        "\n",
        "X_train, X_test, y_train, y_test = train_test_split(x, y, test_size=0.2, random_state=42)"
      ],
      "execution_count": 0,
      "outputs": []
    },
    {
      "cell_type": "code",
      "metadata": {
        "id": "fgmijJ1WAz6Y",
        "colab_type": "code",
        "colab": {}
      },
      "source": [
        "y = data_df[\"大事件類別\"]"
      ],
      "execution_count": 0,
      "outputs": []
    },
    {
      "cell_type": "code",
      "metadata": {
        "id": "aa4ERfgwBAYK",
        "colab_type": "code",
        "colab": {}
      },
      "source": [
        "# Split data to training data and testing data \n",
        "from sklearn.model_selection import train_test_split\n",
        "\n",
        "X_train, X_test, y_train, y_test = train_test_split(x, y, test_size=0.2, random_state=42)"
      ],
      "execution_count": 0,
      "outputs": []
    },
    {
      "cell_type": "code",
      "metadata": {
        "id": "tlvnkztkBQt6",
        "colab_type": "code",
        "outputId": "3ee7436f-1003-4f3c-83ec-dd377a6cee99",
        "colab": {
          "base_uri": "https://localhost:8080/",
          "height": 119
        }
      },
      "source": [
        "y_train.value_counts()"
      ],
      "execution_count": 159,
      "outputs": [
        {
          "output_type": "execute_result",
          "data": {
            "text/plain": [
              "I_產業前景       12111\n",
              "M_經營層         4856\n",
              "F_市場交易        1176\n",
              "R_危機           410\n",
              "A_會計/財報分析      409\n",
              "Name: 大事件類別, dtype: int64"
            ]
          },
          "metadata": {
            "tags": []
          },
          "execution_count": 159
        }
      ]
    },
    {
      "cell_type": "code",
      "metadata": {
        "id": "A4Y0KhQtBpq-",
        "colab_type": "code",
        "outputId": "82028c63-2c36-426e-d700-937772d75b35",
        "colab": {
          "base_uri": "https://localhost:8080/",
          "height": 1000
        }
      },
      "source": [
        "# Visualize the proportion of each target class\n",
        "\n",
        "plt.figure(figsize=(10,5))\n",
        "sns.countplot(y_train)"
      ],
      "execution_count": 160,
      "outputs": [
        {
          "output_type": "execute_result",
          "data": {
            "text/plain": [
              "<matplotlib.axes._subplots.AxesSubplot at 0x7f0d55e52ac8>"
            ]
          },
          "metadata": {
            "tags": []
          },
          "execution_count": 160
        },
        {
          "output_type": "stream",
          "text": [
            "/usr/local/lib/python3.6/dist-packages/matplotlib/backends/backend_agg.py:214: RuntimeWarning: Glyph 29986 missing from current font.\n",
            "  font.set_text(s, 0.0, flags=flags)\n",
            "/usr/local/lib/python3.6/dist-packages/matplotlib/backends/backend_agg.py:214: RuntimeWarning: Glyph 26989 missing from current font.\n",
            "  font.set_text(s, 0.0, flags=flags)\n",
            "/usr/local/lib/python3.6/dist-packages/matplotlib/backends/backend_agg.py:214: RuntimeWarning: Glyph 21069 missing from current font.\n",
            "  font.set_text(s, 0.0, flags=flags)\n",
            "/usr/local/lib/python3.6/dist-packages/matplotlib/backends/backend_agg.py:214: RuntimeWarning: Glyph 26223 missing from current font.\n",
            "  font.set_text(s, 0.0, flags=flags)\n",
            "/usr/local/lib/python3.6/dist-packages/matplotlib/backends/backend_agg.py:214: RuntimeWarning: Glyph 32147 missing from current font.\n",
            "  font.set_text(s, 0.0, flags=flags)\n",
            "/usr/local/lib/python3.6/dist-packages/matplotlib/backends/backend_agg.py:214: RuntimeWarning: Glyph 29151 missing from current font.\n",
            "  font.set_text(s, 0.0, flags=flags)\n",
            "/usr/local/lib/python3.6/dist-packages/matplotlib/backends/backend_agg.py:214: RuntimeWarning: Glyph 23652 missing from current font.\n",
            "  font.set_text(s, 0.0, flags=flags)\n",
            "/usr/local/lib/python3.6/dist-packages/matplotlib/backends/backend_agg.py:214: RuntimeWarning: Glyph 24066 missing from current font.\n",
            "  font.set_text(s, 0.0, flags=flags)\n",
            "/usr/local/lib/python3.6/dist-packages/matplotlib/backends/backend_agg.py:214: RuntimeWarning: Glyph 22580 missing from current font.\n",
            "  font.set_text(s, 0.0, flags=flags)\n",
            "/usr/local/lib/python3.6/dist-packages/matplotlib/backends/backend_agg.py:214: RuntimeWarning: Glyph 20132 missing from current font.\n",
            "  font.set_text(s, 0.0, flags=flags)\n",
            "/usr/local/lib/python3.6/dist-packages/matplotlib/backends/backend_agg.py:214: RuntimeWarning: Glyph 26131 missing from current font.\n",
            "  font.set_text(s, 0.0, flags=flags)\n",
            "/usr/local/lib/python3.6/dist-packages/matplotlib/backends/backend_agg.py:214: RuntimeWarning: Glyph 26371 missing from current font.\n",
            "  font.set_text(s, 0.0, flags=flags)\n",
            "/usr/local/lib/python3.6/dist-packages/matplotlib/backends/backend_agg.py:214: RuntimeWarning: Glyph 35336 missing from current font.\n",
            "  font.set_text(s, 0.0, flags=flags)\n",
            "/usr/local/lib/python3.6/dist-packages/matplotlib/backends/backend_agg.py:214: RuntimeWarning: Glyph 36001 missing from current font.\n",
            "  font.set_text(s, 0.0, flags=flags)\n",
            "/usr/local/lib/python3.6/dist-packages/matplotlib/backends/backend_agg.py:214: RuntimeWarning: Glyph 22577 missing from current font.\n",
            "  font.set_text(s, 0.0, flags=flags)\n",
            "/usr/local/lib/python3.6/dist-packages/matplotlib/backends/backend_agg.py:214: RuntimeWarning: Glyph 20998 missing from current font.\n",
            "  font.set_text(s, 0.0, flags=flags)\n",
            "/usr/local/lib/python3.6/dist-packages/matplotlib/backends/backend_agg.py:214: RuntimeWarning: Glyph 26512 missing from current font.\n",
            "  font.set_text(s, 0.0, flags=flags)\n",
            "/usr/local/lib/python3.6/dist-packages/matplotlib/backends/backend_agg.py:214: RuntimeWarning: Glyph 21361 missing from current font.\n",
            "  font.set_text(s, 0.0, flags=flags)\n",
            "/usr/local/lib/python3.6/dist-packages/matplotlib/backends/backend_agg.py:214: RuntimeWarning: Glyph 27231 missing from current font.\n",
            "  font.set_text(s, 0.0, flags=flags)\n",
            "/usr/local/lib/python3.6/dist-packages/matplotlib/backends/backend_agg.py:183: RuntimeWarning: Glyph 29986 missing from current font.\n",
            "  font.set_text(s, 0, flags=flags)\n",
            "/usr/local/lib/python3.6/dist-packages/matplotlib/backends/backend_agg.py:183: RuntimeWarning: Glyph 26989 missing from current font.\n",
            "  font.set_text(s, 0, flags=flags)\n",
            "/usr/local/lib/python3.6/dist-packages/matplotlib/backends/backend_agg.py:183: RuntimeWarning: Glyph 21069 missing from current font.\n",
            "  font.set_text(s, 0, flags=flags)\n",
            "/usr/local/lib/python3.6/dist-packages/matplotlib/backends/backend_agg.py:183: RuntimeWarning: Glyph 26223 missing from current font.\n",
            "  font.set_text(s, 0, flags=flags)\n",
            "/usr/local/lib/python3.6/dist-packages/matplotlib/backends/backend_agg.py:183: RuntimeWarning: Glyph 32147 missing from current font.\n",
            "  font.set_text(s, 0, flags=flags)\n",
            "/usr/local/lib/python3.6/dist-packages/matplotlib/backends/backend_agg.py:183: RuntimeWarning: Glyph 29151 missing from current font.\n",
            "  font.set_text(s, 0, flags=flags)\n",
            "/usr/local/lib/python3.6/dist-packages/matplotlib/backends/backend_agg.py:183: RuntimeWarning: Glyph 23652 missing from current font.\n",
            "  font.set_text(s, 0, flags=flags)\n",
            "/usr/local/lib/python3.6/dist-packages/matplotlib/backends/backend_agg.py:183: RuntimeWarning: Glyph 24066 missing from current font.\n",
            "  font.set_text(s, 0, flags=flags)\n",
            "/usr/local/lib/python3.6/dist-packages/matplotlib/backends/backend_agg.py:183: RuntimeWarning: Glyph 22580 missing from current font.\n",
            "  font.set_text(s, 0, flags=flags)\n",
            "/usr/local/lib/python3.6/dist-packages/matplotlib/backends/backend_agg.py:183: RuntimeWarning: Glyph 20132 missing from current font.\n",
            "  font.set_text(s, 0, flags=flags)\n",
            "/usr/local/lib/python3.6/dist-packages/matplotlib/backends/backend_agg.py:183: RuntimeWarning: Glyph 26131 missing from current font.\n",
            "  font.set_text(s, 0, flags=flags)\n",
            "/usr/local/lib/python3.6/dist-packages/matplotlib/backends/backend_agg.py:183: RuntimeWarning: Glyph 26371 missing from current font.\n",
            "  font.set_text(s, 0, flags=flags)\n",
            "/usr/local/lib/python3.6/dist-packages/matplotlib/backends/backend_agg.py:183: RuntimeWarning: Glyph 35336 missing from current font.\n",
            "  font.set_text(s, 0, flags=flags)\n",
            "/usr/local/lib/python3.6/dist-packages/matplotlib/backends/backend_agg.py:183: RuntimeWarning: Glyph 36001 missing from current font.\n",
            "  font.set_text(s, 0, flags=flags)\n",
            "/usr/local/lib/python3.6/dist-packages/matplotlib/backends/backend_agg.py:183: RuntimeWarning: Glyph 22577 missing from current font.\n",
            "  font.set_text(s, 0, flags=flags)\n",
            "/usr/local/lib/python3.6/dist-packages/matplotlib/backends/backend_agg.py:183: RuntimeWarning: Glyph 20998 missing from current font.\n",
            "  font.set_text(s, 0, flags=flags)\n",
            "/usr/local/lib/python3.6/dist-packages/matplotlib/backends/backend_agg.py:183: RuntimeWarning: Glyph 26512 missing from current font.\n",
            "  font.set_text(s, 0, flags=flags)\n",
            "/usr/local/lib/python3.6/dist-packages/matplotlib/backends/backend_agg.py:183: RuntimeWarning: Glyph 21361 missing from current font.\n",
            "  font.set_text(s, 0, flags=flags)\n",
            "/usr/local/lib/python3.6/dist-packages/matplotlib/backends/backend_agg.py:183: RuntimeWarning: Glyph 27231 missing from current font.\n",
            "  font.set_text(s, 0, flags=flags)\n",
            "/usr/local/lib/python3.6/dist-packages/matplotlib/backends/backend_agg.py:214: RuntimeWarning: Glyph 22823 missing from current font.\n",
            "  font.set_text(s, 0.0, flags=flags)\n",
            "/usr/local/lib/python3.6/dist-packages/matplotlib/backends/backend_agg.py:214: RuntimeWarning: Glyph 20107 missing from current font.\n",
            "  font.set_text(s, 0.0, flags=flags)\n",
            "/usr/local/lib/python3.6/dist-packages/matplotlib/backends/backend_agg.py:214: RuntimeWarning: Glyph 20214 missing from current font.\n",
            "  font.set_text(s, 0.0, flags=flags)\n",
            "/usr/local/lib/python3.6/dist-packages/matplotlib/backends/backend_agg.py:214: RuntimeWarning: Glyph 39006 missing from current font.\n",
            "  font.set_text(s, 0.0, flags=flags)\n",
            "/usr/local/lib/python3.6/dist-packages/matplotlib/backends/backend_agg.py:214: RuntimeWarning: Glyph 21029 missing from current font.\n",
            "  font.set_text(s, 0.0, flags=flags)\n",
            "/usr/local/lib/python3.6/dist-packages/matplotlib/backends/backend_agg.py:183: RuntimeWarning: Glyph 22823 missing from current font.\n",
            "  font.set_text(s, 0, flags=flags)\n",
            "/usr/local/lib/python3.6/dist-packages/matplotlib/backends/backend_agg.py:183: RuntimeWarning: Glyph 20107 missing from current font.\n",
            "  font.set_text(s, 0, flags=flags)\n",
            "/usr/local/lib/python3.6/dist-packages/matplotlib/backends/backend_agg.py:183: RuntimeWarning: Glyph 20214 missing from current font.\n",
            "  font.set_text(s, 0, flags=flags)\n",
            "/usr/local/lib/python3.6/dist-packages/matplotlib/backends/backend_agg.py:183: RuntimeWarning: Glyph 39006 missing from current font.\n",
            "  font.set_text(s, 0, flags=flags)\n",
            "/usr/local/lib/python3.6/dist-packages/matplotlib/backends/backend_agg.py:183: RuntimeWarning: Glyph 21029 missing from current font.\n",
            "  font.set_text(s, 0, flags=flags)\n"
          ],
          "name": "stderr"
        },
        {
          "output_type": "display_data",
          "data": {
            "image/png": "[encoded data removed]",
            "text/plain": [
              "<Figure size 720x360 with 1 Axes>"
            ]
          },
          "metadata": {
            "tags": [],
            "needs_background": "light"
          }
        }
      ]
    },
    {
      "cell_type": "code",
      "metadata": {
        "id": "8yB8jdFtBUre",
        "colab_type": "code",
        "colab": {}
      },
      "source": [
        "# Calculate class weight\n",
        "\n",
        "# Let's import the module first\n",
        "from sklearn.utils import class_weight\n",
        "\n",
        "# In order to calculate the class weight do the following\n",
        "class_weights = class_weight.compute_class_weight(class_weight = 'balanced', classes = np.unique(y_train), y = y_train)"
      ],
      "execution_count": 0,
      "outputs": []
    },
    {
      "cell_type": "code",
      "metadata": {
        "id": "M7sUNtx6BVUa",
        "colab_type": "code",
        "colab": {}
      },
      "source": [
        "# Convert dataframes to numpy arrays\n",
        "\n",
        "y_train = np.asarray(pd.get_dummies(y_train))\n",
        "y_test = np.asarray(pd.get_dummies(y_test))"
      ],
      "execution_count": 0,
      "outputs": []
    },
    {
      "cell_type": "code",
      "metadata": {
        "id": "uJDBHbQEBdAc",
        "colab_type": "code",
        "outputId": "df9a2c76-cd05-47cf-bd6a-e3633099d96a",
        "colab": {
          "base_uri": "https://localhost:8080/",
          "height": 1000
        }
      },
      "source": [
        "# Build our neural network model with LSTM: 128 units\n",
        "\n",
        "from keras import models\n",
        "from keras import layers\n",
        "\n",
        "max_features = 25000\n",
        "\n",
        "from keras.layers import LSTM\n",
        "model = models.Sequential()\n",
        "model.add(layers.Embedding(max_features, 100)) \n",
        "model.add(layers.LSTM(128,dropout=0.2, recurrent_dropout=0.2)) # Note we use \"dropout\" technique here.\n",
        "model.add(layers.Dense(5, activation='softmax'))\n",
        "\n",
        "model.compile(optimizer='adam',\n",
        "              loss='categorical_crossentropy',\n",
        "              metrics=['accuracy'])\n",
        "\n",
        "# Iterate on your training data by calling the fit() method of your model\n",
        "history = model.fit(X_train, y_train,\n",
        "                    epochs=30,\n",
        "                    batch_size=500,\n",
        "                   validation_split=0.2,\n",
        "                    class_weight = class_weights)\n",
        "\n",
        "# plot the results of loss values from the training set and validtion set\n",
        "history_dict = history.history\n",
        "loss_values = history_dict['loss']\n",
        "val_loss_values = history_dict['val_loss']\n",
        "\n",
        "epochs = range(1, len(history_dict['accuracy']) + 1)\n",
        "\n",
        "plt.figure(figsize=(10,6))\n",
        "plt.plot(epochs, loss_values, 'bo', label='Training loss')\n",
        "plt.plot(epochs, val_loss_values, 'b', label='Validation loss')\n",
        "plt.title('Training and validation loss')\n",
        "plt.xlabel('Epochs')\n",
        "plt.ylabel('Loss')\n",
        "plt.legend()\n",
        "plt.show()\n",
        "\n",
        "\n",
        "# plot the results of accuracy from the training set and validtion set\n",
        "acc = history_dict['accuracy']\n",
        "val_acc = history_dict['val_accuracy']\n",
        "plt.plot(epochs, acc, 'bo', label='Training acc')\n",
        "plt.plot(epochs, val_acc, 'b', label='Validation acc')\n",
        "plt.title('Training and validation accuracy')\n",
        "plt.xlabel('Epochs')\n",
        "plt.ylabel('Accuracy')\n",
        "plt.legend()\n",
        "plt.show()"
      ],
      "execution_count": 163,
      "outputs": [
        {
          "output_type": "stream",
          "text": [
            "/usr/local/lib/python3.6/dist-packages/tensorflow/python/framework/indexed_slices.py:434: UserWarning: Converting sparse IndexedSlices to a dense Tensor of unknown shape. This may consume a large amount of memory.\n",
            "  \"Converting sparse IndexedSlices to a dense Tensor of unknown shape. \"\n"
          ],
          "name": "stderr"
        },
        {
          "output_type": "stream",
          "text": [
            "Train on 15169 samples, validate on 3793 samples\n",
            "Epoch 1/30\n",
            "15169/15169 [==============================] - 29s 2ms/step - loss: 0.9881 - accuracy: 0.7630 - val_loss: 0.4615 - val_accuracy: 0.8634\n",
            "Epoch 2/30\n",
            "15169/15169 [==============================] - 29s 2ms/step - loss: 0.3685 - accuracy: 0.8830 - val_loss: 0.2778 - val_accuracy: 0.9196\n",
            "Epoch 3/30\n",
            "15169/15169 [==============================] - 28s 2ms/step - loss: 0.2170 - accuracy: 0.9332 - val_loss: 0.2051 - val_accuracy: 0.9328\n",
            "Epoch 4/30\n",
            "15169/15169 [==============================] - 29s 2ms/step - loss: 0.1483 - accuracy: 0.9527 - val_loss: 0.1801 - val_accuracy: 0.9444\n",
            "Epoch 5/30\n",
            "15169/15169 [==============================] - 29s 2ms/step - loss: 0.1102 - accuracy: 0.9653 - val_loss: 0.1643 - val_accuracy: 0.9547\n",
            "Epoch 6/30\n",
            "15169/15169 [==============================] - 29s 2ms/step - loss: 0.0841 - accuracy: 0.9779 - val_loss: 0.1548 - val_accuracy: 0.9562\n",
            "Epoch 7/30\n",
            "15169/15169 [==============================] - 29s 2ms/step - loss: 0.0618 - accuracy: 0.9832 - val_loss: 0.1612 - val_accuracy: 0.9570\n",
            "Epoch 8/30\n",
            "15169/15169 [==============================] - 29s 2ms/step - loss: 0.0489 - accuracy: 0.9860 - val_loss: 0.1635 - val_accuracy: 0.9560\n",
            "Epoch 9/30\n",
            "15169/15169 [==============================] - 29s 2ms/step - loss: 0.0387 - accuracy: 0.9891 - val_loss: 0.1692 - val_accuracy: 0.9565\n",
            "Epoch 10/30\n",
            "15169/15169 [==============================] - 29s 2ms/step - loss: 0.0302 - accuracy: 0.9919 - val_loss: 0.1827 - val_accuracy: 0.9576\n",
            "Epoch 11/30\n",
            "15169/15169 [==============================] - 29s 2ms/step - loss: 0.0244 - accuracy: 0.9933 - val_loss: 0.1793 - val_accuracy: 0.9570\n",
            "Epoch 12/30\n",
            "15169/15169 [==============================] - 28s 2ms/step - loss: 0.0195 - accuracy: 0.9949 - val_loss: 0.1806 - val_accuracy: 0.9533\n",
            "Epoch 13/30\n",
            "15169/15169 [==============================] - 29s 2ms/step - loss: 0.0169 - accuracy: 0.9962 - val_loss: 0.1872 - val_accuracy: 0.9565\n",
            "Epoch 14/30\n",
            "15169/15169 [==============================] - 29s 2ms/step - loss: 0.0127 - accuracy: 0.9970 - val_loss: 0.1924 - val_accuracy: 0.9568\n",
            "Epoch 15/30\n",
            "15169/15169 [==============================] - 29s 2ms/step - loss: 0.0134 - accuracy: 0.9969 - val_loss: 0.2086 - val_accuracy: 0.9565\n",
            "Epoch 16/30\n",
            "15169/15169 [==============================] - 28s 2ms/step - loss: 0.0122 - accuracy: 0.9967 - val_loss: 0.2150 - val_accuracy: 0.9578\n",
            "Epoch 17/30\n",
            "15169/15169 [==============================] - 28s 2ms/step - loss: 0.0109 - accuracy: 0.9975 - val_loss: 0.2095 - val_accuracy: 0.9573\n",
            "Epoch 18/30\n",
            "15169/15169 [==============================] - 28s 2ms/step - loss: 0.0089 - accuracy: 0.9975 - val_loss: 0.2022 - val_accuracy: 0.9568\n",
            "Epoch 19/30\n",
            "15169/15169 [==============================] - 28s 2ms/step - loss: 0.0093 - accuracy: 0.9974 - val_loss: 0.2134 - val_accuracy: 0.9589\n",
            "Epoch 20/30\n",
            "15169/15169 [==============================] - 28s 2ms/step - loss: 0.0083 - accuracy: 0.9976 - val_loss: 0.2143 - val_accuracy: 0.9562\n",
            "Epoch 21/30\n",
            "15169/15169 [==============================] - 28s 2ms/step - loss: 0.0224 - accuracy: 0.9935 - val_loss: 0.2011 - val_accuracy: 0.9557\n",
            "Epoch 22/30\n",
            "15169/15169 [==============================] - 28s 2ms/step - loss: 0.0106 - accuracy: 0.9968 - val_loss: 0.2072 - val_accuracy: 0.9576\n",
            "Epoch 23/30\n",
            "15169/15169 [==============================] - 28s 2ms/step - loss: 0.0074 - accuracy: 0.9982 - val_loss: 0.2316 - val_accuracy: 0.9594\n",
            "Epoch 24/30\n",
            "15169/15169 [==============================] - 28s 2ms/step - loss: 0.0071 - accuracy: 0.9978 - val_loss: 0.2164 - val_accuracy: 0.9573\n",
            "Epoch 25/30\n",
            "15169/15169 [==============================] - 28s 2ms/step - loss: 0.0073 - accuracy: 0.9980 - val_loss: 0.2376 - val_accuracy: 0.9568\n",
            "Epoch 26/30\n",
            "15169/15169 [==============================] - 28s 2ms/step - loss: 0.0068 - accuracy: 0.9981 - val_loss: 0.2195 - val_accuracy: 0.9578\n",
            "Epoch 27/30\n",
            "15169/15169 [==============================] - 28s 2ms/step - loss: 0.0066 - accuracy: 0.9981 - val_loss: 0.2204 - val_accuracy: 0.9594\n",
            "Epoch 28/30\n",
            "15169/15169 [==============================] - 28s 2ms/step - loss: 0.0051 - accuracy: 0.9988 - val_loss: 0.2153 - val_accuracy: 0.9573\n",
            "Epoch 29/30\n",
            "15169/15169 [==============================] - 28s 2ms/step - loss: 0.0051 - accuracy: 0.9985 - val_loss: 0.2197 - val_accuracy: 0.9570\n",
            "Epoch 30/30\n",
            "15169/15169 [==============================] - 28s 2ms/step - loss: 0.0053 - accuracy: 0.9984 - val_loss: 0.2256 - val_accuracy: 0.9576\n"
          ],
          "name": "stdout"
        },
        {
          "output_type": "display_data",
          "data": {
            "image/png": "[encoded data removed]",
            "text/plain": [
              "<Figure size 720x432 with 1 Axes>"
            ]
          },
          "metadata": {
            "tags": [],
            "needs_background": "light"
          }
        },
        {
          "output_type": "display_data",
          "data": {
            "image/png": "[encoded data removed]",
            "text/plain": [
              "<Figure size 432x288 with 1 Axes>"
            ]
          },
          "metadata": {
            "tags": [],
            "needs_background": "light"
          }
        }
      ]
    },
    {
      "cell_type": "code",
      "metadata": {
        "id": "kVdHfJDpCbcb",
        "colab_type": "code",
        "outputId": "7aa7bcfa-a956-4181-ee3d-8525a6a1dc1f",
        "colab": {
          "base_uri": "https://localhost:8080/",
          "height": 51
        }
      },
      "source": [
        "results = model.evaluate(X_test, y_test)\n",
        "print(results)"
      ],
      "execution_count": 164,
      "outputs": [
        {
          "output_type": "stream",
          "text": [
            "4741/4741 [==============================] - 10s 2ms/step\n",
            "[0.19223396192998518, 0.9641425609588623]\n"
          ],
          "name": "stdout"
        }
      ]
    },
    {
      "cell_type": "markdown",
      "metadata": {
        "id": "3MLscgVIDdnA",
        "colab_type": "text"
      },
      "source": [
        "# 預測小事件類別\n",
        "\n",
        "dropout 0.2\n",
        "recurrent dropout 0.2\n",
        "testing dataset accuracy: 83%"
      ]
    },
    {
      "cell_type": "code",
      "metadata": {
        "id": "0wPpAJmEDkYW",
        "colab_type": "code",
        "colab": {}
      },
      "source": [
        "y = data_df[\"小事件類別\"]"
      ],
      "execution_count": 0,
      "outputs": []
    },
    {
      "cell_type": "code",
      "metadata": {
        "id": "Alpt6OWRDnn8",
        "colab_type": "code",
        "colab": {}
      },
      "source": [
        "# Split data to training data and testing data \n",
        "from sklearn.model_selection import train_test_split\n",
        "\n",
        "X_train, X_test, y_train, y_test = train_test_split(x, y, test_size=0.2, random_state=42)"
      ],
      "execution_count": 0,
      "outputs": []
    },
    {
      "cell_type": "code",
      "metadata": {
        "id": "5NqvzNZ5DrI3",
        "colab_type": "code",
        "outputId": "bebba812-fe91-4fcc-a39c-7a7cdea78b9c",
        "colab": {
          "base_uri": "https://localhost:8080/",
          "height": 221
        }
      },
      "source": [
        "y_train.value_counts()"
      ],
      "execution_count": 59,
      "outputs": [
        {
          "output_type": "execute_result",
          "data": {
            "text/plain": [
              "IS01_營收變動或客戶/商品/通路策略    7645\n",
              "MT02_董監異動               1618\n",
              "MT06_高管異動               1533\n",
              "IP01_成本/產能變動或資本支出       1515\n",
              "IF02_投資/併購/組織策略         1373\n",
              "                        ... \n",
              "MF02_股權快速稀釋                1\n",
              "4D_客戶及產品－暴險                1\n",
              "MO03_董監持股未達規定比例            1\n",
              "RB11_銀行續貸考量                1\n",
              "MO07_董監財務危機                1\n",
              "Name: 小事件類別, Length: 97, dtype: int64"
            ]
          },
          "metadata": {
            "tags": []
          },
          "execution_count": 59
        }
      ]
    },
    {
      "cell_type": "code",
      "metadata": {
        "id": "bVe0DsqlDvgl",
        "colab_type": "code",
        "colab": {}
      },
      "source": [
        "# Visualize the proportion of each target class\n",
        "\n",
        "plt.figure(figsize=(10,5))\n",
        "sns.countplot(y_train)"
      ],
      "execution_count": 0,
      "outputs": []
    },
    {
      "cell_type": "code",
      "metadata": {
        "id": "COUL93HMDzWh",
        "colab_type": "code",
        "colab": {}
      },
      "source": [
        "# Calculate class weight\n",
        "\n",
        "# Let's import the module first\n",
        "from sklearn.utils import class_weight\n",
        "\n",
        "# In order to calculate the class weight do the following\n",
        "class_weights = class_weight.compute_class_weight(class_weight = 'balanced', classes = np.unique(y_train), y = y_train)"
      ],
      "execution_count": 0,
      "outputs": []
    },
    {
      "cell_type": "code",
      "metadata": {
        "id": "RamjBErxD3q-",
        "colab_type": "code",
        "colab": {}
      },
      "source": [
        "# Convert dataframes to numpy arrays\n",
        "\n",
        "y_train = np.asarray(y_train)\n",
        "y_test = np.asarray(y_test)"
      ],
      "execution_count": 0,
      "outputs": []
    },
    {
      "cell_type": "code",
      "metadata": {
        "id": "E8EGf1z8KeQY",
        "colab_type": "code",
        "colab": {}
      },
      "source": [
        "# One hot encoder\n",
        "from sklearn.preprocessing import OneHotEncoder\n",
        "enc = OneHotEncoder()\n",
        "\n",
        "enc.fit(np.asarray(y).reshape(-1, 1))\n",
        "y_train = enc.transform(y_train.reshape(-1, 1))\n",
        "y_test = enc.transform(y_test.reshape(-1, 1))"
      ],
      "execution_count": 0,
      "outputs": []
    },
    {
      "cell_type": "code",
      "metadata": {
        "id": "VqmMJcwDD7Cj",
        "colab_type": "code",
        "outputId": "c81c9226-e271-4d08-897d-e96418a0563e",
        "colab": {
          "base_uri": "https://localhost:8080/",
          "height": 1000
        }
      },
      "source": [
        "# Build our neural network model with LSTM\n",
        "# LSTM: 32 units\n",
        "\n",
        "from keras import models\n",
        "from keras import layers\n",
        "\n",
        "max_features = 25000\n",
        "\n",
        "from keras.layers import LSTM\n",
        "model = models.Sequential()\n",
        "model.add(layers.Embedding(max_features, 100)) \n",
        "model.add(layers.LSTM(32,dropout=0, recurrent_dropout=0))\n",
        "model.add(layers.Dense(99, activation='softmax'))\n",
        "\n",
        "model.compile(optimizer='adam',\n",
        "              loss='categorical_crossentropy',\n",
        "              metrics=['accuracy'])\n",
        "\n",
        "# Iterate on your training data by calling the fit() method of your model\n",
        "history = model.fit(X_train, y_train,\n",
        "                    epochs=30,\n",
        "                    batch_size=500,\n",
        "                   validation_split=0.2,\n",
        "                    class_weight = class_weights)\n",
        "\n",
        "# plot the results of loss values from the training set and validtion set\n",
        "history_dict = history.history\n",
        "loss_values = history_dict['loss']\n",
        "val_loss_values = history_dict['val_loss']\n",
        "\n",
        "epochs = range(1, len(history_dict['accuracy']) + 1)\n",
        "\n",
        "plt.figure(figsize=(10,6))\n",
        "plt.plot(epochs, loss_values, 'bo', label='Training loss')\n",
        "plt.plot(epochs, val_loss_values, 'b', label='Validation loss')\n",
        "plt.title('Training and validation loss')\n",
        "plt.xlabel('Epochs')\n",
        "plt.ylabel('Loss')\n",
        "plt.legend()\n",
        "plt.show()\n",
        "\n",
        "\n",
        "# plot the results of accuracy from the training set and validtion set\n",
        "acc = history_dict['accuracy']\n",
        "val_acc = history_dict['val_accuracy']\n",
        "plt.plot(epochs, acc, 'bo', label='Training acc')\n",
        "plt.plot(epochs, val_acc, 'b', label='Validation acc')\n",
        "plt.title('Training and validation accuracy')\n",
        "plt.xlabel('Epochs')\n",
        "plt.ylabel('Accuracy')\n",
        "plt.legend()\n",
        "plt.show()"
      ],
      "execution_count": 33,
      "outputs": [
        {
          "output_type": "stream",
          "text": [
            "/usr/local/lib/python3.6/dist-packages/tensorflow/python/framework/indexed_slices.py:434: UserWarning: Converting sparse IndexedSlices to a dense Tensor of unknown shape. This may consume a large amount of memory.\n",
            "  \"Converting sparse IndexedSlices to a dense Tensor of unknown shape. \"\n"
          ],
          "name": "stderr"
        },
        {
          "output_type": "stream",
          "text": [
            "Train on 15169 samples, validate on 3793 samples\n",
            "Epoch 1/30\n",
            "15169/15169 [==============================] - 9s 573us/step - loss: 4.2863 - accuracy: 0.4420 - val_loss: 3.5120 - val_accuracy: 0.4057\n",
            "Epoch 2/30\n",
            "15169/15169 [==============================] - 8s 554us/step - loss: 2.8486 - accuracy: 0.4025 - val_loss: 2.3863 - val_accuracy: 0.4057\n",
            "Epoch 3/30\n",
            "15169/15169 [==============================] - 8s 546us/step - loss: 2.2431 - accuracy: 0.4235 - val_loss: 2.1422 - val_accuracy: 0.4830\n",
            "Epoch 4/30\n",
            "15169/15169 [==============================] - 9s 563us/step - loss: 2.0163 - accuracy: 0.4868 - val_loss: 1.9313 - val_accuracy: 0.5228\n",
            "Epoch 5/30\n",
            "15169/15169 [==============================] - 8s 547us/step - loss: 1.7861 - accuracy: 0.5598 - val_loss: 1.7184 - val_accuracy: 0.5653\n",
            "Epoch 6/30\n",
            "15169/15169 [==============================] - 8s 539us/step - loss: 1.5547 - accuracy: 0.6008 - val_loss: 1.4949 - val_accuracy: 0.6660\n",
            "Epoch 7/30\n",
            "15169/15169 [==============================] - 8s 531us/step - loss: 1.3369 - accuracy: 0.6882 - val_loss: 1.3254 - val_accuracy: 0.6884\n",
            "Epoch 8/30\n",
            "15169/15169 [==============================] - 8s 555us/step - loss: 1.1517 - accuracy: 0.7404 - val_loss: 1.1837 - val_accuracy: 0.7527\n",
            "Epoch 9/30\n",
            "15169/15169 [==============================] - 8s 546us/step - loss: 1.0045 - accuracy: 0.8008 - val_loss: 1.0818 - val_accuracy: 0.7748\n",
            "Epoch 10/30\n",
            "15169/15169 [==============================] - 8s 552us/step - loss: 0.9011 - accuracy: 0.8277 - val_loss: 1.0216 - val_accuracy: 0.7748\n",
            "Epoch 11/30\n",
            "15169/15169 [==============================] - 8s 551us/step - loss: 0.8212 - accuracy: 0.8404 - val_loss: 0.9774 - val_accuracy: 0.7838\n",
            "Epoch 12/30\n",
            "15169/15169 [==============================] - 8s 556us/step - loss: 0.7488 - accuracy: 0.8515 - val_loss: 0.9370 - val_accuracy: 0.7878\n",
            "Epoch 13/30\n",
            "15169/15169 [==============================] - 8s 547us/step - loss: 0.6850 - accuracy: 0.8635 - val_loss: 0.9062 - val_accuracy: 0.7983\n",
            "Epoch 14/30\n",
            "15169/15169 [==============================] - 8s 559us/step - loss: 0.6405 - accuracy: 0.8712 - val_loss: 0.8823 - val_accuracy: 0.7986\n",
            "Epoch 15/30\n",
            "15169/15169 [==============================] - 8s 555us/step - loss: 0.6013 - accuracy: 0.8778 - val_loss: 0.8773 - val_accuracy: 0.7999\n",
            "Epoch 16/30\n",
            "15169/15169 [==============================] - 8s 546us/step - loss: 0.5975 - accuracy: 0.8722 - val_loss: 0.8720 - val_accuracy: 0.8009\n",
            "Epoch 17/30\n",
            "15169/15169 [==============================] - 8s 542us/step - loss: 0.5509 - accuracy: 0.8826 - val_loss: 0.8470 - val_accuracy: 0.8033\n",
            "Epoch 18/30\n",
            "15169/15169 [==============================] - 8s 552us/step - loss: 0.5129 - accuracy: 0.8956 - val_loss: 0.8411 - val_accuracy: 0.8081\n",
            "Epoch 19/30\n",
            "15169/15169 [==============================] - 9s 569us/step - loss: 0.4832 - accuracy: 0.9012 - val_loss: 0.8273 - val_accuracy: 0.8144\n",
            "Epoch 20/30\n",
            "15169/15169 [==============================] - 8s 551us/step - loss: 0.4654 - accuracy: 0.9028 - val_loss: 0.8249 - val_accuracy: 0.8131\n",
            "Epoch 21/30\n",
            "15169/15169 [==============================] - 8s 544us/step - loss: 0.4461 - accuracy: 0.9098 - val_loss: 0.8439 - val_accuracy: 0.8141\n",
            "Epoch 22/30\n",
            "15169/15169 [==============================] - 8s 554us/step - loss: 0.4312 - accuracy: 0.9120 - val_loss: 0.8289 - val_accuracy: 0.8147\n",
            "Epoch 23/30\n",
            "15169/15169 [==============================] - 8s 558us/step - loss: 0.4065 - accuracy: 0.9168 - val_loss: 0.8140 - val_accuracy: 0.8176\n",
            "Epoch 24/30\n",
            "15169/15169 [==============================] - 8s 554us/step - loss: 0.3958 - accuracy: 0.9185 - val_loss: 0.8161 - val_accuracy: 0.8133\n",
            "Epoch 25/30\n",
            "15169/15169 [==============================] - 8s 543us/step - loss: 0.3897 - accuracy: 0.9198 - val_loss: 0.8224 - val_accuracy: 0.8110\n",
            "Epoch 26/30\n",
            "15169/15169 [==============================] - 8s 528us/step - loss: 0.3657 - accuracy: 0.9247 - val_loss: 0.8145 - val_accuracy: 0.8186\n",
            "Epoch 27/30\n",
            "15169/15169 [==============================] - 8s 548us/step - loss: 0.3462 - accuracy: 0.9299 - val_loss: 0.8275 - val_accuracy: 0.8173\n",
            "Epoch 28/30\n",
            "15169/15169 [==============================] - 8s 543us/step - loss: 0.3418 - accuracy: 0.9301 - val_loss: 0.8288 - val_accuracy: 0.8170\n",
            "Epoch 29/30\n",
            "15169/15169 [==============================] - 8s 555us/step - loss: 0.3248 - accuracy: 0.9339 - val_loss: 0.8293 - val_accuracy: 0.8170\n",
            "Epoch 30/30\n",
            "15169/15169 [==============================] - 8s 550us/step - loss: 0.3582 - accuracy: 0.9212 - val_loss: 0.8267 - val_accuracy: 0.8212\n"
          ],
          "name": "stdout"
        },
        {
          "output_type": "display_data",
          "data": {
            "image/png": "[encoded data removed]",
            "text/plain": [
              "<Figure size 720x432 with 1 Axes>"
            ]
          },
          "metadata": {
            "tags": [],
            "needs_background": "light"
          }
        },
        {
          "output_type": "display_data",
          "data": {
            "image/png": "[encoded data removed]",
            "text/plain": [
              "<Figure size 432x288 with 1 Axes>"
            ]
          },
          "metadata": {
            "tags": [],
            "needs_background": "light"
          }
        }
      ]
    },
    {
      "cell_type": "code",
      "metadata": {
        "id": "BwU1uCduD913",
        "colab_type": "code",
        "outputId": "9d3816fd-2722-48e9-f07a-0fb114961b6b",
        "colab": {
          "base_uri": "https://localhost:8080/",
          "height": 51
        }
      },
      "source": [
        "results = model.evaluate(X_test, y_test)\n",
        "print(results)"
      ],
      "execution_count": 34,
      "outputs": [
        {
          "output_type": "stream",
          "text": [
            "4741/4741 [==============================] - 3s 699us/step\n",
            "[0.7505124059439561, 0.8329466581344604]\n"
          ],
          "name": "stdout"
        }
      ]
    },
    {
      "cell_type": "code",
      "metadata": {
        "id": "XdcV508BYC8J",
        "colab_type": "code",
        "colab": {
          "base_uri": "https://localhost:8080/",
          "height": 1000
        },
        "outputId": "dc925564-326e-4e7a-d997-5b16128e003b"
      },
      "source": [
        "# Build our neural network model with LSTM\n",
        "# LSTM: 64 units\n",
        "\n",
        "from keras import models\n",
        "from keras import layers\n",
        "\n",
        "max_features = 25000\n",
        "\n",
        "from keras.layers import LSTM\n",
        "model = models.Sequential()\n",
        "model.add(layers.Embedding(max_features, 100)) \n",
        "model.add(layers.LSTM(64,dropout=0, recurrent_dropout=0))\n",
        "model.add(layers.Dense(99, activation='softmax'))\n",
        "\n",
        "model.compile(optimizer='adam',\n",
        "              loss='categorical_crossentropy',\n",
        "              metrics=['accuracy'])\n",
        "\n",
        "# Iterate on your training data by calling the fit() method of your model\n",
        "history = model.fit(X_train, y_train,\n",
        "                    epochs=30,\n",
        "                    batch_size=500,\n",
        "                   validation_split=0.2,\n",
        "                    class_weight = class_weights)\n",
        "\n",
        "# plot the results of loss values from the training set and validtion set\n",
        "history_dict = history.history\n",
        "loss_values = history_dict['loss']\n",
        "val_loss_values = history_dict['val_loss']\n",
        "\n",
        "epochs = range(1, len(history_dict['accuracy']) + 1)\n",
        "\n",
        "plt.figure(figsize=(10,6))\n",
        "plt.plot(epochs, loss_values, 'bo', label='Training loss')\n",
        "plt.plot(epochs, val_loss_values, 'b', label='Validation loss')\n",
        "plt.title('Training and validation loss')\n",
        "plt.xlabel('Epochs')\n",
        "plt.ylabel('Loss')\n",
        "plt.legend()\n",
        "plt.show()\n",
        "\n",
        "\n",
        "# plot the results of accuracy from the training set and validtion set\n",
        "acc = history_dict['accuracy']\n",
        "val_acc = history_dict['val_accuracy']\n",
        "plt.plot(epochs, acc, 'bo', label='Training acc')\n",
        "plt.plot(epochs, val_acc, 'b', label='Validation acc')\n",
        "plt.title('Training and validation accuracy')\n",
        "plt.xlabel('Epochs')\n",
        "plt.ylabel('Accuracy')\n",
        "plt.legend()\n",
        "plt.show()"
      ],
      "execution_count": 35,
      "outputs": [
        {
          "output_type": "stream",
          "text": [
            "/usr/local/lib/python3.6/dist-packages/tensorflow/python/framework/indexed_slices.py:434: UserWarning: Converting sparse IndexedSlices to a dense Tensor of unknown shape. This may consume a large amount of memory.\n",
            "  \"Converting sparse IndexedSlices to a dense Tensor of unknown shape. \"\n"
          ],
          "name": "stderr"
        },
        {
          "output_type": "stream",
          "text": [
            "Train on 15169 samples, validate on 3793 samples\n",
            "Epoch 1/30\n",
            "15169/15169 [==============================] - 8s 553us/step - loss: 3.8423 - accuracy: 0.4370 - val_loss: 2.6106 - val_accuracy: 0.4057\n",
            "Epoch 2/30\n",
            "15169/15169 [==============================] - 8s 540us/step - loss: 2.1877 - accuracy: 0.4572 - val_loss: 1.8956 - val_accuracy: 0.5581\n",
            "Epoch 3/30\n",
            "15169/15169 [==============================] - 8s 524us/step - loss: 1.7867 - accuracy: 0.5909 - val_loss: 1.6900 - val_accuracy: 0.6512\n",
            "Epoch 4/30\n",
            "15169/15169 [==============================] - 8s 536us/step - loss: 1.5577 - accuracy: 0.6801 - val_loss: 1.4878 - val_accuracy: 0.6778\n",
            "Epoch 5/30\n",
            "15169/15169 [==============================] - 8s 516us/step - loss: 1.3277 - accuracy: 0.7059 - val_loss: 1.2708 - val_accuracy: 0.7182\n",
            "Epoch 6/30\n",
            "15169/15169 [==============================] - 8s 534us/step - loss: 1.1492 - accuracy: 0.7488 - val_loss: 1.1363 - val_accuracy: 0.7506\n",
            "Epoch 7/30\n",
            "15169/15169 [==============================] - 8s 523us/step - loss: 1.0034 - accuracy: 0.7732 - val_loss: 1.0450 - val_accuracy: 0.7422\n",
            "Epoch 8/30\n",
            "15169/15169 [==============================] - 8s 536us/step - loss: 0.9009 - accuracy: 0.7896 - val_loss: 0.9642 - val_accuracy: 0.7609\n",
            "Epoch 9/30\n",
            "15169/15169 [==============================] - 8s 522us/step - loss: 0.8179 - accuracy: 0.8074 - val_loss: 0.9245 - val_accuracy: 0.7817\n",
            "Epoch 10/30\n",
            "15169/15169 [==============================] - 8s 533us/step - loss: 0.7513 - accuracy: 0.8301 - val_loss: 0.8872 - val_accuracy: 0.7870\n",
            "Epoch 11/30\n",
            "15169/15169 [==============================] - 8s 532us/step - loss: 0.7055 - accuracy: 0.8342 - val_loss: 0.8632 - val_accuracy: 0.7933\n",
            "Epoch 12/30\n",
            "15169/15169 [==============================] - 8s 533us/step - loss: 0.6430 - accuracy: 0.8537 - val_loss: 0.8421 - val_accuracy: 0.7970\n",
            "Epoch 13/30\n",
            "15169/15169 [==============================] - 8s 526us/step - loss: 0.5982 - accuracy: 0.8617 - val_loss: 0.8259 - val_accuracy: 0.8002\n",
            "Epoch 14/30\n",
            "15169/15169 [==============================] - 8s 528us/step - loss: 0.6069 - accuracy: 0.8560 - val_loss: 0.8159 - val_accuracy: 0.8060\n",
            "Epoch 15/30\n",
            "15169/15169 [==============================] - 8s 518us/step - loss: 0.5463 - accuracy: 0.8732 - val_loss: 0.8061 - val_accuracy: 0.8075\n",
            "Epoch 16/30\n",
            "15169/15169 [==============================] - 8s 513us/step - loss: 0.5103 - accuracy: 0.8809 - val_loss: 0.8065 - val_accuracy: 0.8112\n",
            "Epoch 17/30\n",
            "15169/15169 [==============================] - 8s 535us/step - loss: 0.4952 - accuracy: 0.8830 - val_loss: 0.8284 - val_accuracy: 0.8025\n",
            "Epoch 18/30\n",
            "15169/15169 [==============================] - 8s 517us/step - loss: 0.4854 - accuracy: 0.8825 - val_loss: 0.8014 - val_accuracy: 0.8015\n",
            "Epoch 19/30\n",
            "15169/15169 [==============================] - 8s 516us/step - loss: 0.4507 - accuracy: 0.8920 - val_loss: 0.7771 - val_accuracy: 0.8189\n",
            "Epoch 20/30\n",
            "15169/15169 [==============================] - 8s 531us/step - loss: 0.4084 - accuracy: 0.9061 - val_loss: 0.7632 - val_accuracy: 0.8236\n",
            "Epoch 21/30\n",
            "15169/15169 [==============================] - 8s 513us/step - loss: 0.3802 - accuracy: 0.9123 - val_loss: 0.7729 - val_accuracy: 0.8244\n",
            "Epoch 22/30\n",
            "15169/15169 [==============================] - 8s 520us/step - loss: 0.3683 - accuracy: 0.9180 - val_loss: 0.7736 - val_accuracy: 0.8236\n",
            "Epoch 23/30\n",
            "15169/15169 [==============================] - 8s 533us/step - loss: 0.3426 - accuracy: 0.9221 - val_loss: 0.7686 - val_accuracy: 0.8244\n",
            "Epoch 24/30\n",
            "15169/15169 [==============================] - 8s 526us/step - loss: 0.3214 - accuracy: 0.9284 - val_loss: 0.7753 - val_accuracy: 0.8281\n",
            "Epoch 25/30\n",
            "15169/15169 [==============================] - 8s 512us/step - loss: 0.3055 - accuracy: 0.9317 - val_loss: 0.7818 - val_accuracy: 0.8202\n",
            "Epoch 26/30\n",
            "15169/15169 [==============================] - 8s 535us/step - loss: 0.3004 - accuracy: 0.9322 - val_loss: 0.8020 - val_accuracy: 0.8276\n",
            "Epoch 27/30\n",
            "15169/15169 [==============================] - 8s 522us/step - loss: 0.2764 - accuracy: 0.9381 - val_loss: 0.7812 - val_accuracy: 0.8284\n",
            "Epoch 28/30\n",
            "15169/15169 [==============================] - 8s 522us/step - loss: 0.2677 - accuracy: 0.9406 - val_loss: 0.7828 - val_accuracy: 0.8289\n",
            "Epoch 29/30\n",
            "15169/15169 [==============================] - 8s 520us/step - loss: 0.2480 - accuracy: 0.9476 - val_loss: 0.7881 - val_accuracy: 0.8289\n",
            "Epoch 30/30\n",
            "15169/15169 [==============================] - 8s 519us/step - loss: 0.2346 - accuracy: 0.9513 - val_loss: 0.7986 - val_accuracy: 0.8331\n"
          ],
          "name": "stdout"
        },
        {
          "output_type": "display_data",
          "data": {
            "image/png": "[encoded data removed]",
            "text/plain": [
              "<Figure size 720x432 with 1 Axes>"
            ]
          },
          "metadata": {
            "tags": [],
            "needs_background": "light"
          }
        },
        {
          "output_type": "display_data",
          "data": {
            "image/png": "[encoded data removed]",
            "text/plain": [
              "<Figure size 432x288 with 1 Axes>"
            ]
          },
          "metadata": {
            "tags": [],
            "needs_background": "light"
          }
        }
      ]
    },
    {
      "cell_type": "code",
      "metadata": {
        "id": "m1ufJvMyYLQQ",
        "colab_type": "code",
        "colab": {
          "base_uri": "https://localhost:8080/",
          "height": 51
        },
        "outputId": "87bb0c5e-6823-40e1-e985-51527051e406"
      },
      "source": [
        "results = model.evaluate(X_test, y_test)\n",
        "print(results)"
      ],
      "execution_count": 36,
      "outputs": [
        {
          "output_type": "stream",
          "text": [
            "4741/4741 [==============================] - 3s 686us/step\n",
            "[0.7260332090697241, 0.8401181101799011]\n"
          ],
          "name": "stdout"
        }
      ]
    },
    {
      "cell_type": "code",
      "metadata": {
        "id": "uagjIK-Js2gx",
        "colab_type": "code",
        "colab": {
          "base_uri": "https://localhost:8080/",
          "height": 1000
        },
        "outputId": "7f0098c7-47f2-416d-f936-344f7a2974cb"
      },
      "source": [
        "# Build our neural network model with LSTM\n",
        "# LSTM: 64 units\n",
        "# 2 LSTM layers\n",
        "\n",
        "from keras import models\n",
        "from keras import layers\n",
        "\n",
        "max_features = 25000\n",
        "\n",
        "from keras.layers import LSTM\n",
        "model = models.Sequential()\n",
        "model.add(layers.Embedding(max_features, 100)) \n",
        "model.add(layers.LSTM(64,dropout=0, recurrent_dropout=0,return_sequences=True))\n",
        "model.add(layers.LSTM(64,dropout=0, recurrent_dropout=0,return_sequences=False))\n",
        "model.add(layers.Dense(99, activation='softmax'))\n",
        "\n",
        "model.compile(optimizer='adam',\n",
        "              loss='categorical_crossentropy',\n",
        "              metrics=['accuracy'])\n",
        "\n",
        "# Iterate on your training data by calling the fit() method of your model\n",
        "history = model.fit(X_train, y_train,\n",
        "                    epochs=30,\n",
        "                    batch_size=500,\n",
        "                   validation_split=0.2,\n",
        "                    class_weight = class_weights)\n",
        "\n",
        "# plot the results of loss values from the training set and validtion set\n",
        "history_dict = history.history\n",
        "loss_values = history_dict['loss']\n",
        "val_loss_values = history_dict['val_loss']\n",
        "\n",
        "epochs = range(1, len(history_dict['accuracy']) + 1)\n",
        "\n",
        "plt.figure(figsize=(10,6))\n",
        "plt.plot(epochs, loss_values, 'bo', label='Training loss')\n",
        "plt.plot(epochs, val_loss_values, 'b', label='Validation loss')\n",
        "plt.title('Training and validation loss')\n",
        "plt.xlabel('Epochs')\n",
        "plt.ylabel('Loss')\n",
        "plt.legend()\n",
        "plt.show()\n",
        "\n",
        "\n",
        "# plot the results of accuracy from the training set and validtion set\n",
        "acc = history_dict['accuracy']\n",
        "val_acc = history_dict['val_accuracy']\n",
        "plt.plot(epochs, acc, 'bo', label='Training acc')\n",
        "plt.plot(epochs, val_acc, 'b', label='Validation acc')\n",
        "plt.title('Training and validation accuracy')\n",
        "plt.xlabel('Epochs')\n",
        "plt.ylabel('Accuracy')\n",
        "plt.legend()\n",
        "plt.show()"
      ],
      "execution_count": 64,
      "outputs": [
        {
          "output_type": "stream",
          "text": [
            "/usr/local/lib/python3.6/dist-packages/tensorflow/python/framework/indexed_slices.py:434: UserWarning: Converting sparse IndexedSlices to a dense Tensor of unknown shape. This may consume a large amount of memory.\n",
            "  \"Converting sparse IndexedSlices to a dense Tensor of unknown shape. \"\n"
          ],
          "name": "stderr"
        },
        {
          "output_type": "stream",
          "text": [
            "Train on 15169 samples, validate on 3793 samples\n",
            "Epoch 1/30\n",
            "15169/15169 [==============================] - 16s 1ms/step - loss: 3.5010 - accuracy: 0.3882 - val_loss: 2.5488 - val_accuracy: 0.4057\n",
            "Epoch 2/30\n",
            "15169/15169 [==============================] - 16s 1ms/step - loss: 2.4714 - accuracy: 0.4025 - val_loss: 2.4556 - val_accuracy: 0.4057\n",
            "Epoch 3/30\n",
            "15169/15169 [==============================] - 15s 1ms/step - loss: 2.3831 - accuracy: 0.4025 - val_loss: 2.2684 - val_accuracy: 0.4057\n",
            "Epoch 4/30\n",
            "15169/15169 [==============================] - 15s 1ms/step - loss: 2.0690 - accuracy: 0.4500 - val_loss: 1.9341 - val_accuracy: 0.5175\n",
            "Epoch 5/30\n",
            "15169/15169 [==============================] - 16s 1ms/step - loss: 1.8127 - accuracy: 0.5695 - val_loss: 1.7511 - val_accuracy: 0.5845\n",
            "Epoch 6/30\n",
            "15169/15169 [==============================] - 16s 1ms/step - loss: 1.6187 - accuracy: 0.6086 - val_loss: 1.5908 - val_accuracy: 0.6032\n",
            "Epoch 7/30\n",
            "15169/15169 [==============================] - 16s 1ms/step - loss: 1.4329 - accuracy: 0.6416 - val_loss: 1.4315 - val_accuracy: 0.6552\n",
            "Epoch 8/30\n",
            "15169/15169 [==============================] - 16s 1ms/step - loss: 1.2581 - accuracy: 0.6915 - val_loss: 1.2907 - val_accuracy: 0.7211\n",
            "Epoch 9/30\n",
            "15169/15169 [==============================] - 16s 1ms/step - loss: 1.0957 - accuracy: 0.7478 - val_loss: 1.1649 - val_accuracy: 0.7168\n",
            "Epoch 10/30\n",
            "15169/15169 [==============================] - 16s 1ms/step - loss: 0.9944 - accuracy: 0.7529 - val_loss: 1.0857 - val_accuracy: 0.7422\n",
            "Epoch 11/30\n",
            "15169/15169 [==============================] - 16s 1ms/step - loss: 0.9142 - accuracy: 0.7710 - val_loss: 1.0222 - val_accuracy: 0.7503\n",
            "Epoch 12/30\n",
            "15169/15169 [==============================] - 16s 1ms/step - loss: 0.8502 - accuracy: 0.7815 - val_loss: 0.9854 - val_accuracy: 0.7585\n",
            "Epoch 13/30\n",
            "15169/15169 [==============================] - 16s 1ms/step - loss: 0.7841 - accuracy: 0.8091 - val_loss: 0.9653 - val_accuracy: 0.7543\n",
            "Epoch 14/30\n",
            "15169/15169 [==============================] - 16s 1ms/step - loss: 0.7411 - accuracy: 0.8180 - val_loss: 0.9708 - val_accuracy: 0.7698\n",
            "Epoch 15/30\n",
            "15169/15169 [==============================] - 16s 1ms/step - loss: 0.6976 - accuracy: 0.8323 - val_loss: 0.9423 - val_accuracy: 0.7709\n",
            "Epoch 16/30\n",
            "15169/15169 [==============================] - 16s 1ms/step - loss: 0.6785 - accuracy: 0.8314 - val_loss: 0.9492 - val_accuracy: 0.7690\n",
            "Epoch 17/30\n",
            "15169/15169 [==============================] - 16s 1ms/step - loss: 0.6613 - accuracy: 0.8391 - val_loss: 1.0003 - val_accuracy: 0.7366\n",
            "Epoch 18/30\n",
            "15169/15169 [==============================] - 16s 1ms/step - loss: 0.6416 - accuracy: 0.8434 - val_loss: 0.8752 - val_accuracy: 0.7859\n",
            "Epoch 19/30\n",
            "15169/15169 [==============================] - 16s 1ms/step - loss: 0.5743 - accuracy: 0.8653 - val_loss: 0.9020 - val_accuracy: 0.7835\n",
            "Epoch 20/30\n",
            "15169/15169 [==============================] - 16s 1ms/step - loss: 0.5437 - accuracy: 0.8739 - val_loss: 0.9153 - val_accuracy: 0.7893\n",
            "Epoch 21/30\n",
            "15169/15169 [==============================] - 16s 1ms/step - loss: 0.5458 - accuracy: 0.8660 - val_loss: 0.8715 - val_accuracy: 0.7888\n",
            "Epoch 22/30\n",
            "15169/15169 [==============================] - 16s 1ms/step - loss: 0.4992 - accuracy: 0.8832 - val_loss: 0.8738 - val_accuracy: 0.7959\n",
            "Epoch 23/30\n",
            "15169/15169 [==============================] - 15s 1ms/step - loss: 0.4665 - accuracy: 0.8914 - val_loss: 0.9291 - val_accuracy: 0.7833\n",
            "Epoch 24/30\n",
            "15169/15169 [==============================] - 16s 1ms/step - loss: 0.4696 - accuracy: 0.8875 - val_loss: 0.8835 - val_accuracy: 0.7962\n",
            "Epoch 25/30\n",
            "15169/15169 [==============================] - 16s 1ms/step - loss: 0.4368 - accuracy: 0.8984 - val_loss: 0.8776 - val_accuracy: 0.7999\n",
            "Epoch 26/30\n",
            "15169/15169 [==============================] - 16s 1ms/step - loss: 0.4154 - accuracy: 0.9006 - val_loss: 0.9001 - val_accuracy: 0.7991\n",
            "Epoch 27/30\n",
            "15169/15169 [==============================] - 16s 1ms/step - loss: 0.3907 - accuracy: 0.9106 - val_loss: 0.8917 - val_accuracy: 0.8036\n",
            "Epoch 28/30\n",
            "15169/15169 [==============================] - 16s 1ms/step - loss: 0.3759 - accuracy: 0.9138 - val_loss: 0.9044 - val_accuracy: 0.7988\n",
            "Epoch 29/30\n",
            "15169/15169 [==============================] - 16s 1ms/step - loss: 0.3600 - accuracy: 0.9188 - val_loss: 0.9024 - val_accuracy: 0.8007\n",
            "Epoch 30/30\n",
            "15169/15169 [==============================] - 16s 1ms/step - loss: 0.3384 - accuracy: 0.9243 - val_loss: 0.9148 - val_accuracy: 0.8015\n"
          ],
          "name": "stdout"
        },
        {
          "output_type": "display_data",
          "data": {
            "image/png": "[encoded data removed]",
            "text/plain": [
              "<Figure size 720x432 with 1 Axes>"
            ]
          },
          "metadata": {
            "tags": [],
            "needs_background": "light"
          }
        },
        {
          "output_type": "display_data",
          "data": {
            "image/png": "[encoded data removed]",
            "text/plain": [
              "<Figure size 432x288 with 1 Axes>"
            ]
          },
          "metadata": {
            "tags": [],
            "needs_background": "light"
          }
        }
      ]
    },
    {
      "cell_type": "code",
      "metadata": {
        "id": "c6-6bumas4SI",
        "colab_type": "code",
        "colab": {
          "base_uri": "https://localhost:8080/",
          "height": 51
        },
        "outputId": "d882ff12-c87b-47b3-b21a-c6fb954024b7"
      },
      "source": [
        "results = model.evaluate(X_test, y_test)\n",
        "print(results)"
      ],
      "execution_count": 65,
      "outputs": [
        {
          "output_type": "stream",
          "text": [
            "4741/4741 [==============================] - 6s 1ms/step\n",
            "[0.8159510052121156, 0.8164944052696228]\n"
          ],
          "name": "stdout"
        }
      ]
    },
    {
      "cell_type": "code",
      "metadata": {
        "id": "6diL3FrVYMKF",
        "colab_type": "code",
        "colab": {
          "base_uri": "https://localhost:8080/",
          "height": 1000
        },
        "outputId": "625160e7-71b0-42b8-c108-d6fb1f7e78ac"
      },
      "source": [
        "# Build our neural network model with LSTM\n",
        "# LSTM: 128 units\n",
        "\n",
        "from keras import models\n",
        "from keras import layers\n",
        "\n",
        "max_features = 25000\n",
        "\n",
        "from keras.layers import LSTM\n",
        "model = models.Sequential()\n",
        "model.add(layers.Embedding(max_features, 100)) \n",
        "model.add(layers.LSTM(128,dropout=0, recurrent_dropout=0))\n",
        "model.add(layers.Dense(99, activation='softmax'))\n",
        "\n",
        "model.compile(optimizer='adam',\n",
        "              loss='categorical_crossentropy',\n",
        "              metrics=['accuracy'])\n",
        "\n",
        "# Iterate on your training data by calling the fit() method of your model\n",
        "history = model.fit(X_train, y_train,\n",
        "                    epochs=30,\n",
        "                    batch_size=500,\n",
        "                   validation_split=0.2,\n",
        "                    class_weight = class_weights)\n",
        "\n",
        "# plot the results of loss values from the training set and validtion set\n",
        "history_dict = history.history\n",
        "loss_values = history_dict['loss']\n",
        "val_loss_values = history_dict['val_loss']\n",
        "\n",
        "epochs = range(1, len(history_dict['accuracy']) + 1)\n",
        "\n",
        "plt.figure(figsize=(10,6))\n",
        "plt.plot(epochs, loss_values, 'bo', label='Training loss')\n",
        "plt.plot(epochs, val_loss_values, 'b', label='Validation loss')\n",
        "plt.title('Training and validation loss')\n",
        "plt.xlabel('Epochs')\n",
        "plt.ylabel('Loss')\n",
        "plt.legend()\n",
        "plt.show()\n",
        "\n",
        "\n",
        "# plot the results of accuracy from the training set and validtion set\n",
        "acc = history_dict['accuracy']\n",
        "val_acc = history_dict['val_accuracy']\n",
        "plt.plot(epochs, acc, 'bo', label='Training acc')\n",
        "plt.plot(epochs, val_acc, 'b', label='Validation acc')\n",
        "plt.title('Training and validation accuracy')\n",
        "plt.xlabel('Epochs')\n",
        "plt.ylabel('Accuracy')\n",
        "plt.legend()\n",
        "plt.show()"
      ],
      "execution_count": 37,
      "outputs": [
        {
          "output_type": "stream",
          "text": [
            "/usr/local/lib/python3.6/dist-packages/tensorflow/python/framework/indexed_slices.py:434: UserWarning: Converting sparse IndexedSlices to a dense Tensor of unknown shape. This may consume a large amount of memory.\n",
            "  \"Converting sparse IndexedSlices to a dense Tensor of unknown shape. \"\n"
          ],
          "name": "stderr"
        },
        {
          "output_type": "stream",
          "text": [
            "Train on 15169 samples, validate on 3793 samples\n",
            "Epoch 1/30\n",
            "15169/15169 [==============================] - 8s 541us/step - loss: 3.4708 - accuracy: 0.3934 - val_loss: 2.4532 - val_accuracy: 0.4057\n",
            "Epoch 2/30\n",
            "15169/15169 [==============================] - 8s 502us/step - loss: 2.1427 - accuracy: 0.4638 - val_loss: 1.7148 - val_accuracy: 0.6288\n",
            "Epoch 3/30\n",
            "15169/15169 [==============================] - 8s 524us/step - loss: 1.5321 - accuracy: 0.6405 - val_loss: 1.3931 - val_accuracy: 0.6813\n",
            "Epoch 4/30\n",
            "15169/15169 [==============================] - 8s 518us/step - loss: 1.1446 - accuracy: 0.7376 - val_loss: 1.1041 - val_accuracy: 0.7263\n",
            "Epoch 5/30\n",
            "15169/15169 [==============================] - 8s 511us/step - loss: 0.9462 - accuracy: 0.7713 - val_loss: 0.9626 - val_accuracy: 0.7619\n",
            "Epoch 6/30\n",
            "15169/15169 [==============================] - 8s 507us/step - loss: 0.8324 - accuracy: 0.7939 - val_loss: 0.9102 - val_accuracy: 0.7654\n",
            "Epoch 7/30\n",
            "15169/15169 [==============================] - 8s 510us/step - loss: 0.7427 - accuracy: 0.8119 - val_loss: 0.8553 - val_accuracy: 0.7822\n",
            "Epoch 8/30\n",
            "15169/15169 [==============================] - 8s 502us/step - loss: 0.6692 - accuracy: 0.8351 - val_loss: 0.8236 - val_accuracy: 0.7925\n",
            "Epoch 9/30\n",
            "15169/15169 [==============================] - 8s 503us/step - loss: 0.6056 - accuracy: 0.8493 - val_loss: 0.8137 - val_accuracy: 0.7988\n",
            "Epoch 10/30\n",
            "15169/15169 [==============================] - 8s 502us/step - loss: 0.5497 - accuracy: 0.8703 - val_loss: 0.8060 - val_accuracy: 0.8023\n",
            "Epoch 11/30\n",
            "15169/15169 [==============================] - 8s 511us/step - loss: 0.5057 - accuracy: 0.8809 - val_loss: 0.8134 - val_accuracy: 0.8023\n",
            "Epoch 12/30\n",
            "15169/15169 [==============================] - 8s 507us/step - loss: 0.4707 - accuracy: 0.8898 - val_loss: 0.8301 - val_accuracy: 0.8083\n",
            "Epoch 13/30\n",
            "15169/15169 [==============================] - 8s 503us/step - loss: 0.4433 - accuracy: 0.8975 - val_loss: 0.7877 - val_accuracy: 0.8183\n",
            "Epoch 14/30\n",
            "15169/15169 [==============================] - 8s 502us/step - loss: 0.3974 - accuracy: 0.9058 - val_loss: 0.7863 - val_accuracy: 0.8170\n",
            "Epoch 15/30\n",
            "15169/15169 [==============================] - 8s 510us/step - loss: 0.3746 - accuracy: 0.9111 - val_loss: 0.7911 - val_accuracy: 0.8147\n",
            "Epoch 16/30\n",
            "15169/15169 [==============================] - 8s 513us/step - loss: 0.3537 - accuracy: 0.9164 - val_loss: 0.8082 - val_accuracy: 0.8268\n",
            "Epoch 17/30\n",
            "15169/15169 [==============================] - 8s 505us/step - loss: 0.3318 - accuracy: 0.9194 - val_loss: 0.7873 - val_accuracy: 0.8231\n",
            "Epoch 18/30\n",
            "15169/15169 [==============================] - 8s 509us/step - loss: 0.3189 - accuracy: 0.9221 - val_loss: 0.8078 - val_accuracy: 0.8220\n",
            "Epoch 19/30\n",
            "15169/15169 [==============================] - 8s 510us/step - loss: 0.3318 - accuracy: 0.9208 - val_loss: 0.7861 - val_accuracy: 0.8313\n",
            "Epoch 20/30\n",
            "15169/15169 [==============================] - 8s 512us/step - loss: 0.2700 - accuracy: 0.9366 - val_loss: 0.7712 - val_accuracy: 0.8318\n",
            "Epoch 21/30\n",
            "15169/15169 [==============================] - 8s 505us/step - loss: 0.2397 - accuracy: 0.9436 - val_loss: 0.7851 - val_accuracy: 0.8328\n",
            "Epoch 22/30\n",
            "15169/15169 [==============================] - 8s 522us/step - loss: 0.2289 - accuracy: 0.9460 - val_loss: 0.8183 - val_accuracy: 0.8339\n",
            "Epoch 23/30\n",
            "15169/15169 [==============================] - 8s 512us/step - loss: 0.2255 - accuracy: 0.9465 - val_loss: 0.7939 - val_accuracy: 0.8318\n",
            "Epoch 24/30\n",
            "15169/15169 [==============================] - 8s 508us/step - loss: 0.1963 - accuracy: 0.9548 - val_loss: 0.8186 - val_accuracy: 0.8336\n",
            "Epoch 25/30\n",
            "15169/15169 [==============================] - 8s 516us/step - loss: 0.2289 - accuracy: 0.9431 - val_loss: 0.8359 - val_accuracy: 0.8315\n",
            "Epoch 26/30\n",
            "15169/15169 [==============================] - 8s 522us/step - loss: 0.1985 - accuracy: 0.9510 - val_loss: 0.8144 - val_accuracy: 0.8355\n",
            "Epoch 27/30\n",
            "15169/15169 [==============================] - 8s 512us/step - loss: 0.1630 - accuracy: 0.9616 - val_loss: 0.8191 - val_accuracy: 0.8381\n",
            "Epoch 28/30\n",
            "15169/15169 [==============================] - 8s 524us/step - loss: 0.1455 - accuracy: 0.9666 - val_loss: 0.8520 - val_accuracy: 0.8244\n",
            "Epoch 29/30\n",
            "15169/15169 [==============================] - 8s 514us/step - loss: 0.1695 - accuracy: 0.9587 - val_loss: 0.8615 - val_accuracy: 0.8305\n",
            "Epoch 30/30\n",
            "15169/15169 [==============================] - 8s 515us/step - loss: 0.1283 - accuracy: 0.9716 - val_loss: 0.8393 - val_accuracy: 0.8389\n"
          ],
          "name": "stdout"
        },
        {
          "output_type": "display_data",
          "data": {
            "image/png": "[encoded data removed]",
            "text/plain": [
              "<Figure size 720x432 with 1 Axes>"
            ]
          },
          "metadata": {
            "tags": [],
            "needs_background": "light"
          }
        },
        {
          "output_type": "display_data",
          "data": {
            "image/png": "[encoded data removed]",
            "text/plain": [
              "<Figure size 432x288 with 1 Axes>"
            ]
          },
          "metadata": {
            "tags": [],
            "needs_background": "light"
          }
        }
      ]
    },
    {
      "cell_type": "code",
      "metadata": {
        "id": "jC7ZCprjYMad",
        "colab_type": "code",
        "colab": {
          "base_uri": "https://localhost:8080/",
          "height": 51
        },
        "outputId": "a13570f0-d650-4b3e-bf80-a663fac30ac9"
      },
      "source": [
        "results = model.evaluate(X_test, y_test)\n",
        "print(results)"
      ],
      "execution_count": 38,
      "outputs": [
        {
          "output_type": "stream",
          "text": [
            "4741/4741 [==============================] - 3s 673us/step\n",
            "[0.73826328301211, 0.8546720147132874]\n"
          ],
          "name": "stdout"
        }
      ]
    }
  ]
}