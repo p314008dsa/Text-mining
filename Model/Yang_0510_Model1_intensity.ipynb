{
  "nbformat": 4,
  "nbformat_minor": 0,
  "metadata": {
    "colab": {
      "name": "Yang_0511_Model1_intensity.ipynb",
      "provenance": [],
      "collapsed_sections": []
    },
    "kernelspec": {
      "name": "python3",
      "display_name": "Python 3"
    },
    "accelerator": "GPU"
  },
  "cells": [
    {
      "cell_type": "markdown",
      "metadata": {
        "id": "rG-iyBTw_XOP",
        "colab_type": "text"
      },
      "source": [
        "# 05/10\n",
        "\n",
        "\n",
        "調整參數：word embedding dimension, LSTM layer's output dimension.\n",
        "\n",
        "結果：Model 2 表現最好：\n",
        "\n",
        "word imbedding dimension: 256\n",
        "\n",
        "LSTM dimension: 256\n",
        "\n",
        "Model 2 的表現：\n",
        "\n",
        "accuracy: 0.8622653448639528\n",
        "\n",
        "precision: [0.666666 0.707070 0.944131 0.819444 0.758321 0.705882 1]\n",
        "\n",
        "recall: [0.777777 0.608695 0.92929  0.856624 0.723756 0.666666 1 ]\n",
        "\n",
        "F1 score: [0.717948 0.654205 0.93665  0.837622 0.740636 0.685714 1 ]"
      ]
    },
    {
      "cell_type": "markdown",
      "metadata": {
        "id": "5YAAcV07kCHp",
        "colab_type": "text"
      },
      "source": [
        "# Import packages and Datasets"
      ]
    },
    {
      "cell_type": "code",
      "metadata": {
        "id": "7TZMClBZjLap",
        "colab_type": "code",
        "outputId": "442e95ef-ae96-4b24-95d8-6afcc468e490",
        "colab": {
          "base_uri": "https://localhost:8080/",
          "height": 71
        }
      },
      "source": [
        "import pandas as pd \n",
        "import numpy as np\n",
        "import matplotlib\n",
        "import matplotlib.pyplot as plt\n",
        "import seaborn as sns\n",
        "import sklearn\n",
        "\n",
        "import gc #Garbage Collector interface\n",
        "from sklearn.model_selection import train_test_split\n",
        "from sklearn.preprocessing import OneHotEncoder\n",
        "import sklearn.metrics\n",
        "from sklearn.metrics import accuracy_score\n",
        "from sklearn.metrics import precision_score\n",
        "from sklearn.metrics import recall_score\n",
        "from sklearn.metrics import f1_score #The F-Measure is a popular metric for imbalanced classification.\n",
        "from sklearn.metrics import confusion_matrix\n",
        "from sklearn.metrics import roc_auc_score"
      ],
      "execution_count": 1,
      "outputs": [
        {
          "output_type": "stream",
          "text": [
            "/usr/local/lib/python3.6/dist-packages/statsmodels/tools/_testing.py:19: FutureWarning: pandas.util.testing is deprecated. Use the functions in the public API at pandas.testing instead.\n",
            "  import pandas.util.testing as tm\n"
          ],
          "name": "stderr"
        }
      ]
    },
    {
      "cell_type": "code",
      "metadata": {
        "id": "tlM0tt65jNfd",
        "colab_type": "code",
        "outputId": "2a7b0357-1f05-4c61-e2bf-757a134ee602",
        "colab": {
          "base_uri": "https://localhost:8080/",
          "height": 122
        }
      },
      "source": [
        "# import Google Drive 套件\n",
        "from google.colab import drive\n",
        "\n",
        "# 將自己的雲端硬碟掛載上去\n",
        "drive.mount('/content/gdrive')"
      ],
      "execution_count": 2,
      "outputs": [
        {
          "output_type": "stream",
          "text": [
            "Go to this URL in a browser: https://accounts.google.com/o/oauth2/auth?client_id=947318989803-6bn6qk8qdgf4n4g3pfee6491hc0brc4i.apps.googleusercontent.com&redirect_uri=urn%3aietf%3awg%3aoauth%3a2.0%3aoob&response_type=code&scope=email%20https%3a%2f%2fwww.googleapis.com%2fauth%2fdocs.test%20https%3a%2f%2fwww.googleapis.com%2fauth%2fdrive%20https%3a%2f%2fwww.googleapis.com%2fauth%2fdrive.photos.readonly%20https%3a%2f%2fwww.googleapis.com%2fauth%2fpeopleapi.readonly\n",
            "\n",
            "Enter your authorization code:\n",
            "··········\n",
            "Mounted at /content/gdrive\n"
          ],
          "name": "stdout"
        }
      ]
    },
    {
      "cell_type": "code",
      "metadata": {
        "id": "imJvyKmzjPeH",
        "colab_type": "code",
        "colab": {}
      },
      "source": [
        "# 透過 gdrive/My Drive/... 來存取檔案\n",
        "data_df = pd.read_excel('gdrive/My Drive/金融科技Final_project/ckiptagger_data.xlsx')"
      ],
      "execution_count": 0,
      "outputs": []
    },
    {
      "cell_type": "code",
      "metadata": {
        "id": "vcML_9FLjTB9",
        "colab_type": "code",
        "outputId": "fe31174c-b159-4fe3-ef85-4deae343a900",
        "colab": {
          "base_uri": "https://localhost:8080/",
          "height": 204
        }
      },
      "source": [
        "data_df.head()"
      ],
      "execution_count": 4,
      "outputs": [
        {
          "output_type": "execute_result",
          "data": {
            "text/html": [
              "<div>\n",
              "<style scoped>\n",
              "    .dataframe tbody tr th:only-of-type {\n",
              "        vertical-align: middle;\n",
              "    }\n",
              "\n",
              "    .dataframe tbody tr th {\n",
              "        vertical-align: top;\n",
              "    }\n",
              "\n",
              "    .dataframe thead th {\n",
              "        text-align: right;\n",
              "    }\n",
              "</style>\n",
              "<table border=\"1\" class=\"dataframe\">\n",
              "  <thead>\n",
              "    <tr style=\"text-align: right;\">\n",
              "      <th></th>\n",
              "      <th>個股代號</th>\n",
              "      <th>公司簡稱</th>\n",
              "      <th>事件日</th>\n",
              "      <th>TCRI(年/月)</th>\n",
              "      <th>事件強度</th>\n",
              "      <th>大事件類別</th>\n",
              "      <th>小事件類別</th>\n",
              "      <th>事件內容</th>\n",
              "      <th>content_tokenized</th>\n",
              "    </tr>\n",
              "  </thead>\n",
              "  <tbody>\n",
              "    <tr>\n",
              "      <th>0</th>\n",
              "      <td>1218</td>\n",
              "      <td>泰山</td>\n",
              "      <td>20190101</td>\n",
              "      <td>6(2018/09)</td>\n",
              "      <td>0</td>\n",
              "      <td>M_經營層</td>\n",
              "      <td>MT06_高管異動</td>\n",
              "      <td>發言人林俐婉內部調動由江巍峰接任</td>\n",
              "      <td>發言人 林俐婉 內部 調動 由 江巍峰 接任</td>\n",
              "    </tr>\n",
              "    <tr>\n",
              "      <th>1</th>\n",
              "      <td>1503</td>\n",
              "      <td>士電</td>\n",
              "      <td>20190101</td>\n",
              "      <td>4(2018/09)</td>\n",
              "      <td>0</td>\n",
              "      <td>M_經營層</td>\n",
              "      <td>MT06_高管異動</td>\n",
              "      <td>內部稽核主管林志強內部調動由莊文清接任</td>\n",
              "      <td>內部 稽核 主管 林志強 內部 調動 由 莊文清 接任</td>\n",
              "    </tr>\n",
              "    <tr>\n",
              "      <th>2</th>\n",
              "      <td>1504</td>\n",
              "      <td>東元</td>\n",
              "      <td>20190101</td>\n",
              "      <td>4(2018/09)</td>\n",
              "      <td>0</td>\n",
              "      <td>M_經營層</td>\n",
              "      <td>MT06_高管異動</td>\n",
              "      <td>會計主管藍俊雄內部調動由林鴻名接任</td>\n",
              "      <td>會計 主管 藍俊雄 內部 調動 由 林鴻名 接任</td>\n",
              "    </tr>\n",
              "    <tr>\n",
              "      <th>3</th>\n",
              "      <td>1709</td>\n",
              "      <td>和益</td>\n",
              "      <td>20190101</td>\n",
              "      <td>5(2018/09)</td>\n",
              "      <td>0</td>\n",
              "      <td>M_經營層</td>\n",
              "      <td>MT06_高管異動</td>\n",
              "      <td>內部稽核主管游本詮內部調動由曾筱茜接任</td>\n",
              "      <td>內部 稽核 主管 游本詮 內部 調動 由 曾筱茜 接任</td>\n",
              "    </tr>\n",
              "    <tr>\n",
              "      <th>4</th>\n",
              "      <td>1721</td>\n",
              "      <td>三晃</td>\n",
              "      <td>20190101</td>\n",
              "      <td>7(2018/09)</td>\n",
              "      <td>0</td>\n",
              "      <td>M_經營層</td>\n",
              "      <td>MT06_高管異動</td>\n",
              "      <td>財務經理洪廷宜內部調動由王婷渝接任</td>\n",
              "      <td>財務 經理 洪廷宜 內部 調動 由 王婷渝 接任</td>\n",
              "    </tr>\n",
              "  </tbody>\n",
              "</table>\n",
              "</div>"
            ],
            "text/plain": [
              "   個股代號            公司簡稱  ...                 事件內容            content_tokenized\n",
              "0  1218  泰山              ...     發言人林俐婉內部調動由江巍峰接任       發言人 林俐婉 內部 調動 由 江巍峰 接任\n",
              "1  1503  士電              ...  內部稽核主管林志強內部調動由莊文清接任  內部 稽核 主管 林志強 內部 調動 由 莊文清 接任\n",
              "2  1504  東元              ...    會計主管藍俊雄內部調動由林鴻名接任     會計 主管 藍俊雄 內部 調動 由 林鴻名 接任\n",
              "3  1709  和益              ...  內部稽核主管游本詮內部調動由曾筱茜接任  內部 稽核 主管 游本詮 內部 調動 由 曾筱茜 接任\n",
              "4  1721  三晃              ...    財務經理洪廷宜內部調動由王婷渝接任     財務 經理 洪廷宜 內部 調動 由 王婷渝 接任\n",
              "\n",
              "[5 rows x 9 columns]"
            ]
          },
          "metadata": {
            "tags": []
          },
          "execution_count": 4
        }
      ]
    },
    {
      "cell_type": "code",
      "metadata": {
        "id": "dr7VOpnljUjj",
        "colab_type": "code",
        "outputId": "3bf780b0-5ff5-4c61-f613-9c74698bb5b4",
        "colab": {
          "base_uri": "https://localhost:8080/",
          "height": 289
        }
      },
      "source": [
        "data_df.info()"
      ],
      "execution_count": 5,
      "outputs": [
        {
          "output_type": "stream",
          "text": [
            "<class 'pandas.core.frame.DataFrame'>\n",
            "RangeIndex: 23703 entries, 0 to 23702\n",
            "Data columns (total 9 columns):\n",
            " #   Column             Non-Null Count  Dtype \n",
            "---  ------             --------------  ----- \n",
            " 0   個股代號               23703 non-null  int64 \n",
            " 1   公司簡稱               22775 non-null  object\n",
            " 2   事件日                23703 non-null  int64 \n",
            " 3   TCRI(年/月)          23703 non-null  object\n",
            " 4   事件強度               23703 non-null  int64 \n",
            " 5   大事件類別              23703 non-null  object\n",
            " 6   小事件類別              23703 non-null  object\n",
            " 7   事件內容               23703 non-null  object\n",
            " 8   content_tokenized  23703 non-null  object\n",
            "dtypes: int64(3), object(6)\n",
            "memory usage: 1.6+ MB\n"
          ],
          "name": "stdout"
        }
      ]
    },
    {
      "cell_type": "markdown",
      "metadata": {
        "id": "vPHINqsWjWxZ",
        "colab_type": "text"
      },
      "source": [
        "# Data preprocessing"
      ]
    },
    {
      "cell_type": "code",
      "metadata": {
        "id": "RFsyg8DhjVAy",
        "colab_type": "code",
        "colab": {
          "base_uri": "https://localhost:8080/",
          "height": 34
        },
        "outputId": "83282d9f-6802-44a6-8602-58ca5bb697ca"
      },
      "source": [
        "import keras\n",
        "MAX_NUM_WORDS = 10000\n",
        "tokenizer = keras .preprocessing.text.Tokenizer(num_words=MAX_NUM_WORDS)\n",
        "\n",
        "corpus = data_df.content_tokenized"
      ],
      "execution_count": 6,
      "outputs": [
        {
          "output_type": "stream",
          "text": [
            "Using TensorFlow backend.\n"
          ],
          "name": "stderr"
        }
      ]
    },
    {
      "cell_type": "code",
      "metadata": {
        "id": "MczienrPjZ8b",
        "colab_type": "code",
        "outputId": "b6656af1-2689-46c5-efa3-46b9382ab646",
        "colab": {
          "base_uri": "https://localhost:8080/",
          "height": 221
        }
      },
      "source": [
        "corpus"
      ],
      "execution_count": 7,
      "outputs": [
        {
          "output_type": "execute_result",
          "data": {
            "text/plain": [
              "0                                   發言人 林俐婉 內部 調動 由 江巍峰 接任\n",
              "1                              內部 稽核 主管 林志強 內部 調動 由 莊文清 接任\n",
              "2                                 會計 主管 藍俊雄 內部 調動 由 林鴻名 接任\n",
              "3                              內部 稽核 主管 游本詮 內部 調動 由 曾筱茜 接任\n",
              "4                                 財務 經理 洪廷宜 內部 調動 由 王婷渝 接任\n",
              "                               ...                        \n",
              "23698    2018年 09月 累計 營收 1496639千 元 年增 1622018年 09月 單月 ...\n",
              "23699                       20191231 收盤價 3500 元 月 報酬 下跌 43\n",
              "23700    世界 先進 評估 跨足 晶圓 薄化 領域 搶進 晶圓 薄化 市場 機率 高晶圓 薄化 是 晶...\n",
              "23701    1 雷虎 科技 與 香港 中澤 文化 投資 股份 有限公司 仲裁 案號 補充 公告 雷虎 科...\n",
              "23702    商億 KY 公告 董事會 為 配合 柬埔寨 孫 公司 發展 需求 擬 透過 子公司 Shay...\n",
              "Name: content_tokenized, Length: 23703, dtype: object"
            ]
          },
          "metadata": {
            "tags": []
          },
          "execution_count": 7
        }
      ]
    },
    {
      "cell_type": "code",
      "metadata": {
        "id": "3bZGcoaojcFP",
        "colab_type": "code",
        "outputId": "57df7550-b3d7-4ab5-a850-618bb7f5b873",
        "colab": {
          "base_uri": "https://localhost:8080/",
          "height": 374
        }
      },
      "source": [
        "tokenizer.fit_on_texts(corpus)\n",
        "\n",
        "x = tokenizer.texts_to_sequences(corpus)\n",
        "\n",
        "len(x)\n",
        "\n",
        "x[:1]\n",
        "\n",
        "for seq in x[:1]:\n",
        "    print([tokenizer.index_word[idx] for idx in seq])\n",
        "    \n",
        "for seq in x[:20]:\n",
        "    print(len(seq), seq[:5], ' ...')\n",
        "    \n",
        "max_seq_len = max([\n",
        "    len(seq) for seq in x])\n",
        "\n",
        "max_seq_len\n",
        "\n",
        "MAX_SEQUENCE_LENGTH = 1000"
      ],
      "execution_count": 8,
      "outputs": [
        {
          "output_type": "stream",
          "text": [
            "['發言人', '內部', '調動', '由', '接任']\n",
            "5 [405, 68, 128, 23, 76]  ...\n",
            "7 [68, 358, 133, 68, 128]  ...\n",
            "6 [292, 133, 68, 128, 23]  ...\n",
            "7 [68, 358, 133, 68, 128]  ...\n",
            "6 [94, 426, 68, 128, 23]  ...\n",
            "6 [239, 133, 68, 128, 23]  ...\n",
            "8 [217, 196, 23, 76, 405]  ...\n",
            "13 [422, 24, 63, 6, 4874]  ...\n",
            "6 [504, 24, 63, 50, 6]  ...\n",
            "5 [217, 68, 128, 23, 76]  ...\n",
            "5 [217, 68, 128, 23, 76]  ...\n",
            "196 [2790, 760, 2040, 1228, 21]  ...\n",
            "17 [422, 24, 63, 6, 6512]  ...\n",
            "6 [292, 133, 68, 128, 23]  ...\n",
            "6 [94, 426, 68, 128, 23]  ...\n",
            "6 [292, 133, 68, 128, 23]  ...\n",
            "5 [217, 68, 128, 23, 76]  ...\n",
            "7 [239, 133, 68, 128, 23]  ...\n",
            "5 [217, 68, 128, 23, 76]  ...\n",
            "5 [217, 68, 128, 23, 76]  ...\n"
          ],
          "name": "stdout"
        }
      ]
    },
    {
      "cell_type": "code",
      "metadata": {
        "id": "KJPgElVajeFh",
        "colab_type": "code",
        "colab": {}
      },
      "source": [
        "x = keras .preprocessing .sequence .pad_sequences(x, maxlen=MAX_SEQUENCE_LENGTH)"
      ],
      "execution_count": 0,
      "outputs": []
    },
    {
      "cell_type": "markdown",
      "metadata": {
        "id": "yMjSUfWWjejP",
        "colab_type": "text"
      },
      "source": [
        "# Model building: Predict intensity"
      ]
    },
    {
      "cell_type": "code",
      "metadata": {
        "id": "qNu6Lgi1jg_u",
        "colab_type": "code",
        "colab": {}
      },
      "source": [
        "y = data_df[\"事件強度\"]"
      ],
      "execution_count": 0,
      "outputs": []
    },
    {
      "cell_type": "markdown",
      "metadata": {
        "id": "exPeIIxwjlzb",
        "colab_type": "text"
      },
      "source": [
        "## Split data into training dataset and testing dataset"
      ]
    },
    {
      "cell_type": "code",
      "metadata": {
        "id": "g_Iy4bxYjmM1",
        "colab_type": "code",
        "colab": {}
      },
      "source": [
        "from sklearn.model_selection import train_test_split\n",
        "\n",
        "X_train, X_test, y_train, y_test = train_test_split(x, y, test_size=0.2, random_state=42)"
      ],
      "execution_count": 0,
      "outputs": []
    },
    {
      "cell_type": "markdown",
      "metadata": {
        "id": "ThLuBRj1kZkP",
        "colab_type": "text"
      },
      "source": [
        "# Check the distribution of target variable in both training dataset and testing dataset."
      ]
    },
    {
      "cell_type": "code",
      "metadata": {
        "id": "erAStqyhkpEc",
        "colab_type": "code",
        "outputId": "78d00933-c8a4-4a32-ed4d-f8c406f21652",
        "colab": {
          "base_uri": "https://localhost:8080/",
          "height": 153
        }
      },
      "source": [
        "y_train.value_counts()"
      ],
      "execution_count": 12,
      "outputs": [
        {
          "output_type": "execute_result",
          "data": {
            "text/plain": [
              "-1    8557\n",
              " 0    6722\n",
              " 1    2807\n",
              "-2     521\n",
              "-3     219\n",
              " 2      76\n",
              " 3      60\n",
              "Name: 事件強度, dtype: int64"
            ]
          },
          "metadata": {
            "tags": []
          },
          "execution_count": 12
        }
      ]
    },
    {
      "cell_type": "code",
      "metadata": {
        "id": "erzBCP4JkqfP",
        "colab_type": "code",
        "outputId": "294b1e59-0e5a-4827-fa6e-c3ffea180e2a",
        "colab": {
          "base_uri": "https://localhost:8080/",
          "height": 153
        }
      },
      "source": [
        "y_test.value_counts()"
      ],
      "execution_count": 13,
      "outputs": [
        {
          "output_type": "execute_result",
          "data": {
            "text/plain": [
              "-1    2164\n",
              " 0    1653\n",
              " 1     724\n",
              "-2     115\n",
              "-3      54\n",
              " 2      18\n",
              " 3      13\n",
              "Name: 事件強度, dtype: int64"
            ]
          },
          "metadata": {
            "tags": []
          },
          "execution_count": 13
        }
      ]
    },
    {
      "cell_type": "markdown",
      "metadata": {
        "id": "azMSkSRajrUE",
        "colab_type": "text"
      },
      "source": [
        "## Encode target variable"
      ]
    },
    {
      "cell_type": "code",
      "metadata": {
        "id": "X0gQfwpdjoNv",
        "colab_type": "code",
        "colab": {}
      },
      "source": [
        "enc = OneHotEncoder(sparse=False)\n",
        "y_train = enc.fit_transform(np.asarray(y_train).reshape(-1, 1))\n",
        "y_test = enc.transform(np.asarray(y_test).reshape(-1, 1))"
      ],
      "execution_count": 0,
      "outputs": []
    },
    {
      "cell_type": "markdown",
      "metadata": {
        "id": "DxUef951jthX",
        "colab_type": "text"
      },
      "source": [
        "## Oversampleing"
      ]
    },
    {
      "cell_type": "code",
      "metadata": {
        "id": "DqivO91Djvja",
        "colab_type": "code",
        "outputId": "85293331-153b-4f41-9ab8-2b012aecace4",
        "colab": {
          "base_uri": "https://localhost:8080/",
          "height": 139
        }
      },
      "source": [
        "# Oversampling\n",
        "from imblearn.over_sampling import RandomOverSampler\n",
        "ros = RandomOverSampler(random_state=0)\n",
        "X_train_res, y_train_res = ros.fit_resample(X_train, y_train)"
      ],
      "execution_count": 15,
      "outputs": [
        {
          "output_type": "stream",
          "text": [
            "/usr/local/lib/python3.6/dist-packages/sklearn/externals/six.py:31: FutureWarning: The module is deprecated in version 0.21 and will be removed in version 0.23 since we've dropped support for Python 2.7. Please rely on the official version of six (https://pypi.org/project/six/).\n",
            "  \"(https://pypi.org/project/six/).\", FutureWarning)\n",
            "/usr/local/lib/python3.6/dist-packages/sklearn/utils/deprecation.py:144: FutureWarning: The sklearn.neighbors.base module is  deprecated in version 0.22 and will be removed in version 0.24. The corresponding classes / functions should instead be imported from sklearn.neighbors. Anything that cannot be imported from sklearn.neighbors is now part of the private API.\n",
            "  warnings.warn(message, FutureWarning)\n",
            "/usr/local/lib/python3.6/dist-packages/sklearn/utils/deprecation.py:87: FutureWarning: Function safe_indexing is deprecated; safe_indexing is deprecated in version 0.22 and will be removed in version 0.24.\n",
            "  warnings.warn(msg, category=FutureWarning)\n"
          ],
          "name": "stderr"
        }
      ]
    },
    {
      "cell_type": "markdown",
      "metadata": {
        "id": "bWyOERnEj0R9",
        "colab_type": "text"
      },
      "source": [
        "# Model 1 \n",
        "\n",
        "word imbedding dimension: 256\n",
        "\n",
        "LSTM dimension: 128"
      ]
    },
    {
      "cell_type": "code",
      "metadata": {
        "id": "wkau_Amjj2-s",
        "colab_type": "code",
        "colab": {}
      },
      "source": [
        "# Build our neural network model with LSTM\n",
        "\n",
        "from keras import models\n",
        "from keras import layers\n",
        "\n",
        "max_features = 25000\n",
        "\n",
        "from keras.layers import LSTM\n",
        "model = models.Sequential()\n",
        "model.add(layers.Embedding(max_features, 256))\n",
        "model.add(layers.LSTM(128))\n",
        "model.add(layers.Dense(7, activation='softmax'))\n",
        "\n",
        "model.compile(optimizer='adam',\n",
        "              loss='categorical_crossentropy',\n",
        "              metrics=['accuracy'])\n",
        "\n",
        "# Iterate on your training data by calling the fit() method of your model\n",
        "history = model.fit(X_train_res, y_train_res,\n",
        "                    epochs=20,\n",
        "                    batch_size=500,\n",
        "                   validation_split=0.2)\n",
        "\n",
        "# plot the results of loss values from the training set and validtion set\n",
        "history_dict = history.history\n",
        "loss_values = history_dict['loss']\n",
        "val_loss_values = history_dict['val_loss']\n",
        "\n",
        "epochs = range(1, len(history_dict['accuracy']) + 1)\n",
        "\n",
        "plt.figure(figsize=(10,6))\n",
        "plt.plot(epochs, loss_values, 'bo', label='Training loss')\n",
        "plt.plot(epochs, val_loss_values, 'b', label='Validation loss')\n",
        "plt.title('Training and validation loss')\n",
        "plt.xlabel('Epochs')\n",
        "plt.ylabel('Loss')\n",
        "plt.legend()\n",
        "plt.show()\n",
        "\n",
        "\n",
        "# plot the results of accuracy from the training set and validtion set\n",
        "acc = history_dict['accuracy']\n",
        "val_acc = history_dict['val_accuracy']\n",
        "plt.plot(epochs, acc, 'bo', label='Training acc')\n",
        "plt.plot(epochs, val_acc, 'b', label='Validation acc')\n",
        "plt.title('Training and validation accuracy')\n",
        "plt.xlabel('Epochs')\n",
        "plt.ylabel('Accuracy')\n",
        "plt.legend()\n",
        "plt.show()"
      ],
      "execution_count": 0,
      "outputs": []
    },
    {
      "cell_type": "markdown",
      "metadata": {
        "id": "lMRloqKGqyBD",
        "colab_type": "text"
      },
      "source": [
        "## Performance on training set"
      ]
    },
    {
      "cell_type": "code",
      "metadata": {
        "id": "xIEkSfrCqycA",
        "colab_type": "code",
        "outputId": "6cb5165d-b330-4684-b4a3-5c00bec791cc",
        "colab": {
          "base_uri": "https://localhost:8080/",
          "height": 340
        }
      },
      "source": [
        "preds_Y_train = model.predict(X_train)\n",
        "preds_Y_train =(preds_Y_train>0.5).astype(int)\n",
        "\n",
        "preds_Y_train = enc.inverse_transform(preds_Y_train)\n",
        "y_train = enc.inverse_transform(y_train)\n",
        "\n",
        "accuracy = accuracy_score(y_train, preds_Y_train)\n",
        "precision = precision_score(y_train, preds_Y_train,average=None) # average=None: The precision scores for each class are returned\n",
        "recall = recall_score(y_train, preds_Y_train,average=None)\n",
        "f1 = f1_score(y_train, preds_Y_train,average=None)\n",
        "c_matrix = confusion_matrix(y_train, preds_Y_train,labels=[-3,-2,-1,0,1,2,3])\n",
        "print('accuracy: '+str(accuracy)+'\\n')\n",
        "print('precision: '+str(precision)+'\\n')\n",
        "print('recall: '+str(recall)+'\\n')\n",
        "print('F1 score: '+str(f1)+'\\n')\n",
        "print('Confusion matrix: ')\n",
        "print(c_matrix)"
      ],
      "execution_count": 17,
      "outputs": [
        {
          "output_type": "stream",
          "text": [
            "accuracy: 0.9928277607847273\n",
            "\n",
            "precision: [0.95633188 0.98484848 0.99659664 0.99092802 0.99043571 0.98701299\n",
            " 1.        ]\n",
            "\n",
            "recall: [1.         0.99808061 0.99240388 0.99122285 0.99608123 1.\n",
            " 1.        ]\n",
            "\n",
            "F1 score: [0.97767857 0.9914204  0.99449584 0.99107541 0.99325044 0.99346405\n",
            " 1.        ]\n",
            "\n",
            "Confusion matrix: \n",
            "[[ 219    0    0    0    0    0    0]\n",
            " [   0  520    1    0    0    0    0]\n",
            " [   3    5 8492   51    5    1    0]\n",
            " [   6    3   28 6663   22    0    0]\n",
            " [   1    0    0   10 2796    0    0]\n",
            " [   0    0    0    0    0   76    0]\n",
            " [   0    0    0    0    0    0   60]]\n"
          ],
          "name": "stdout"
        }
      ]
    },
    {
      "cell_type": "markdown",
      "metadata": {
        "id": "vqo13CwAq0jZ",
        "colab_type": "text"
      },
      "source": [
        "## Performance on testing set"
      ]
    },
    {
      "cell_type": "code",
      "metadata": {
        "id": "YcMu2bB_q3CO",
        "colab_type": "code",
        "outputId": "55bac237-2be7-4154-b2a7-8cd0910e7c5e",
        "colab": {
          "base_uri": "https://localhost:8080/",
          "height": 340
        }
      },
      "source": [
        "preds_Y_test = model.predict(X_test)\n",
        "preds_Y_test =(preds_Y_test>0.5).astype(int)\n",
        "\n",
        "preds_Y_test = enc.inverse_transform(preds_Y_test)\n",
        "y_test = enc.inverse_transform(y_test)\n",
        "\n",
        "accuracy = accuracy_score(y_test, preds_Y_test)\n",
        "precision = precision_score(y_test, preds_Y_test,average=None) # average=None: The precision scores for each class are returned\n",
        "recall = recall_score(y_test, preds_Y_test,average=None)\n",
        "f1 = f1_score(y_test, preds_Y_test,average=None)\n",
        "c_matrix = confusion_matrix(y_test, preds_Y_test,labels=[-3,-2,-1,0,1,2,3])\n",
        "print('accuracy: '+str(accuracy)+'\\n')\n",
        "print('precision: '+str(precision)+'\\n')\n",
        "print('recall: '+str(recall)+'\\n')\n",
        "print('F1 score: '+str(f1)+'\\n')\n",
        "print('Confusion matrix: ')\n",
        "print(c_matrix)"
      ],
      "execution_count": 18,
      "outputs": [
        {
          "output_type": "stream",
          "text": [
            "accuracy: 0.8618434929339802\n",
            "\n",
            "precision: [0.49425287 0.63716814 0.93866171 0.83690476 0.77013177 0.53846154\n",
            " 0.92307692]\n",
            "\n",
            "recall: [0.7962963  0.62608696 0.93345656 0.85057471 0.72651934 0.38888889\n",
            " 0.92307692]\n",
            "\n",
            "F1 score: [0.60992908 0.63157895 0.9360519  0.84368437 0.74769012 0.4516129\n",
            " 0.92307692]\n",
            "\n",
            "Confusion matrix: \n",
            "[[  43    4    4    3    0    0    0]\n",
            " [  10   72   23    9    1    0    0]\n",
            " [   8   15 2020   89   29    3    0]\n",
            " [  21   13   85 1406  127    0    1]\n",
            " [   4    6   17  169  526    2    0]\n",
            " [   1    3    3    4    0    7    0]\n",
            " [   0    0    0    0    0    1   12]]\n"
          ],
          "name": "stdout"
        }
      ]
    },
    {
      "cell_type": "markdown",
      "metadata": {
        "id": "J_dDabIRq8eL",
        "colab_type": "text"
      },
      "source": [
        "# Model 2 :\n",
        "\n",
        "word imbedding dimension: 256\n",
        "\n",
        "LSTM dimension: 256"
      ]
    },
    {
      "cell_type": "code",
      "metadata": {
        "id": "XuP__8bqrGB8",
        "colab_type": "code",
        "outputId": "1d53132e-2a9f-477b-bbc7-336def3d34bf",
        "colab": {
          "base_uri": "https://localhost:8080/",
          "height": 71
        }
      },
      "source": [
        "y = data_df[\"事件強度\"]\n",
        "\n",
        "# Split dataset\n",
        "from sklearn.model_selection import train_test_split\n",
        "X_train, X_test, y_train, y_test = train_test_split(x, y, test_size=0.2, random_state=42)\n",
        "\n",
        "# Encoding\n",
        "enc = OneHotEncoder(sparse=False)\n",
        "y_train = enc.fit_transform(np.asarray(y_train).reshape(-1, 1))\n",
        "y_test = enc.transform(np.asarray(y_test).reshape(-1, 1))\n",
        "\n",
        "# Oversampling\n",
        "from imblearn.over_sampling import RandomOverSampler\n",
        "ros = RandomOverSampler(random_state=0)\n",
        "X_train_res, y_train_res = ros.fit_resample(X_train, y_train)"
      ],
      "execution_count": 0,
      "outputs": [
        {
          "output_type": "stream",
          "text": [
            "/usr/local/lib/python3.6/dist-packages/sklearn/utils/deprecation.py:87: FutureWarning: Function safe_indexing is deprecated; safe_indexing is deprecated in version 0.22 and will be removed in version 0.24.\n",
            "  warnings.warn(msg, category=FutureWarning)\n"
          ],
          "name": "stderr"
        }
      ]
    },
    {
      "cell_type": "code",
      "metadata": {
        "id": "KaIrkWa9rBa5",
        "colab_type": "code",
        "outputId": "d80016dc-42ea-4e8a-bd73-daa7c990a691",
        "colab": {
          "base_uri": "https://localhost:8080/",
          "height": 1000
        }
      },
      "source": [
        "# Build our neural network model with LSTM\n",
        "\n",
        "from keras import models\n",
        "from keras import layers\n",
        "\n",
        "max_features = 25000\n",
        "\n",
        "from keras.layers import LSTM\n",
        "model = models.Sequential()\n",
        "model.add(layers.Embedding(max_features, 256))\n",
        "model.add(layers.LSTM(256))\n",
        "model.add(layers.Dense(7, activation='softmax'))\n",
        "\n",
        "model.compile(optimizer='adam',\n",
        "              loss='categorical_crossentropy',\n",
        "              metrics=['accuracy'])\n",
        "\n",
        "# Iterate on your training data by calling the fit() method of your model\n",
        "history = model.fit(X_train_res, y_train_res,\n",
        "                    epochs=20,\n",
        "                    batch_size=500,\n",
        "                   validation_split=0.2)\n",
        "\n",
        "# plot the results of loss values from the training set and validtion set\n",
        "history_dict = history.history\n",
        "loss_values = history_dict['loss']\n",
        "val_loss_values = history_dict['val_loss']\n",
        "\n",
        "epochs = range(1, len(history_dict['accuracy']) + 1)\n",
        "\n",
        "plt.figure(figsize=(10,6))\n",
        "plt.plot(epochs, loss_values, 'bo', label='Training loss')\n",
        "plt.plot(epochs, val_loss_values, 'b', label='Validation loss')\n",
        "plt.title('Training and validation loss')\n",
        "plt.xlabel('Epochs')\n",
        "plt.ylabel('Loss')\n",
        "plt.legend()\n",
        "plt.show()\n",
        "\n",
        "\n",
        "# plot the results of accuracy from the training set and validtion set\n",
        "acc = history_dict['accuracy']\n",
        "val_acc = history_dict['val_accuracy']\n",
        "plt.plot(epochs, acc, 'bo', label='Training acc')\n",
        "plt.plot(epochs, val_acc, 'b', label='Validation acc')\n",
        "plt.title('Training and validation accuracy')\n",
        "plt.xlabel('Epochs')\n",
        "plt.ylabel('Accuracy')\n",
        "plt.legend()\n",
        "plt.show()"
      ],
      "execution_count": 0,
      "outputs": [
        {
          "output_type": "stream",
          "text": [
            "/usr/local/lib/python3.6/dist-packages/tensorflow/python/framework/indexed_slices.py:434: UserWarning: Converting sparse IndexedSlices to a dense Tensor of unknown shape. This may consume a large amount of memory.\n",
            "  \"Converting sparse IndexedSlices to a dense Tensor of unknown shape. \"\n"
          ],
          "name": "stderr"
        },
        {
          "output_type": "stream",
          "text": [
            "Train on 47919 samples, validate on 11980 samples\n",
            "Epoch 1/20\n",
            "47919/47919 [==============================] - 274s 6ms/step - loss: 0.6763 - accuracy: 0.7758 - val_loss: 2.3836 - val_accuracy: 0.2907\n",
            "Epoch 2/20\n",
            "47919/47919 [==============================] - 264s 6ms/step - loss: 0.1399 - accuracy: 0.9516 - val_loss: 1.3483 - val_accuracy: 0.3954\n",
            "Epoch 3/20\n",
            "47919/47919 [==============================] - 264s 6ms/step - loss: 0.0875 - accuracy: 0.9722 - val_loss: 1.0144 - val_accuracy: 0.6743\n",
            "Epoch 4/20\n",
            "47919/47919 [==============================] - 264s 6ms/step - loss: 0.0610 - accuracy: 0.9821 - val_loss: 0.8274 - val_accuracy: 0.8837\n",
            "Epoch 5/20\n",
            "47919/47919 [==============================] - 264s 6ms/step - loss: 0.0376 - accuracy: 0.9890 - val_loss: 0.6001 - val_accuracy: 0.9172\n",
            "Epoch 6/20\n",
            "47919/47919 [==============================] - 263s 5ms/step - loss: 0.0284 - accuracy: 0.9915 - val_loss: 0.2707 - val_accuracy: 0.9296\n",
            "Epoch 7/20\n",
            "47919/47919 [==============================] - 263s 5ms/step - loss: 0.0226 - accuracy: 0.9937 - val_loss: 0.0983 - val_accuracy: 0.9785\n",
            "Epoch 8/20\n",
            "47919/47919 [==============================] - 264s 6ms/step - loss: 0.0214 - accuracy: 0.9937 - val_loss: 0.0721 - val_accuracy: 0.9785\n",
            "Epoch 9/20\n",
            "47919/47919 [==============================] - 264s 6ms/step - loss: 0.0179 - accuracy: 0.9944 - val_loss: 0.0354 - val_accuracy: 1.0000\n",
            "Epoch 10/20\n",
            "47919/47919 [==============================] - 263s 5ms/step - loss: 0.0172 - accuracy: 0.9945 - val_loss: 0.0374 - val_accuracy: 1.0000\n",
            "Epoch 11/20\n",
            "47919/47919 [==============================] - 263s 5ms/step - loss: 0.0148 - accuracy: 0.9950 - val_loss: 0.0222 - val_accuracy: 1.0000\n",
            "Epoch 12/20\n",
            "47919/47919 [==============================] - 263s 5ms/step - loss: 0.0143 - accuracy: 0.9954 - val_loss: 0.0120 - val_accuracy: 1.0000\n",
            "Epoch 13/20\n",
            "47919/47919 [==============================] - 263s 5ms/step - loss: 0.0178 - accuracy: 0.9940 - val_loss: 0.0201 - val_accuracy: 1.0000\n",
            "Epoch 14/20\n",
            "47919/47919 [==============================] - 263s 5ms/step - loss: 0.0223 - accuracy: 0.9930 - val_loss: 0.0110 - val_accuracy: 1.0000\n",
            "Epoch 15/20\n",
            "47919/47919 [==============================] - 263s 5ms/step - loss: 0.0120 - accuracy: 0.9957 - val_loss: 0.0059 - val_accuracy: 1.0000\n",
            "Epoch 16/20\n",
            "47919/47919 [==============================] - 263s 5ms/step - loss: 0.0112 - accuracy: 0.9962 - val_loss: 0.0040 - val_accuracy: 1.0000\n",
            "Epoch 17/20\n",
            "47919/47919 [==============================] - 263s 5ms/step - loss: 0.0128 - accuracy: 0.9954 - val_loss: 0.0101 - val_accuracy: 1.0000\n",
            "Epoch 18/20\n",
            "47919/47919 [==============================] - 264s 6ms/step - loss: 0.0102 - accuracy: 0.9962 - val_loss: 0.0045 - val_accuracy: 1.0000\n",
            "Epoch 19/20\n",
            "47919/47919 [==============================] - 263s 5ms/step - loss: 0.0090 - accuracy: 0.9962 - val_loss: 0.0028 - val_accuracy: 1.0000\n",
            "Epoch 20/20\n",
            "47919/47919 [==============================] - 262s 5ms/step - loss: 0.0084 - accuracy: 0.9964 - val_loss: 0.0022 - val_accuracy: 1.0000\n"
          ],
          "name": "stdout"
        },
        {
          "output_type": "display_data",
          "data": {
            "image/png": "[encoded data removed]",
            "text/plain": [
              "<Figure size 720x432 with 1 Axes>"
            ]
          },
          "metadata": {
            "tags": [],
            "needs_background": "light"
          }
        },
        {
          "output_type": "display_data",
          "data": {
            "image/png": "[encoded data removed]",
            "text/plain": [
              "<Figure size 432x288 with 1 Axes>"
            ]
          },
          "metadata": {
            "tags": [],
            "needs_background": "light"
          }
        }
      ]
    },
    {
      "cell_type": "markdown",
      "metadata": {
        "id": "x0G_g_oHreVY",
        "colab_type": "text"
      },
      "source": [
        "## Performance on training set"
      ]
    },
    {
      "cell_type": "code",
      "metadata": {
        "id": "NHQ7_lAjrg2i",
        "colab_type": "code",
        "outputId": "6b0a9ad4-fdb1-430b-b73b-280575a65ed0",
        "colab": {
          "base_uri": "https://localhost:8080/",
          "height": 340
        }
      },
      "source": [
        "preds_Y_train = model.predict(X_train)\n",
        "preds_Y_train =(preds_Y_train>0.5).astype(int)\n",
        "\n",
        "preds_Y_train = enc.inverse_transform(preds_Y_train)\n",
        "y_train = enc.inverse_transform(y_train)\n",
        "\n",
        "accuracy = accuracy_score(y_train, preds_Y_train)\n",
        "precision = precision_score(y_train, preds_Y_train,average=None) # average=None: The precision scores for each class are returned\n",
        "recall = recall_score(y_train, preds_Y_train,average=None)\n",
        "f1 = f1_score(y_train, preds_Y_train,average=None)\n",
        "c_matrix = confusion_matrix(y_train, preds_Y_train,labels=[-3,-2,-1,0,1,2,3])\n",
        "print('accuracy: '+str(accuracy)+'\\n')\n",
        "print('precision: '+str(precision)+'\\n')\n",
        "print('recall: '+str(recall)+'\\n')\n",
        "print('F1 score: '+str(f1)+'\\n')\n",
        "print('Confusion matrix: ')\n",
        "print(c_matrix)"
      ],
      "execution_count": 0,
      "outputs": [
        {
          "output_type": "stream",
          "text": [
            "accuracy: 0.9932496572091551\n",
            "\n",
            "precision: [0.98206278 0.9886148  0.99823446 0.98846495 0.9914803  0.98701299\n",
            " 1.        ]\n",
            "\n",
            "recall: [1.         1.         0.99111838 0.99434692 0.99501247 1.\n",
            " 1.        ]\n",
            "\n",
            "F1 score: [0.99095023 0.99427481 0.9946637  0.99139721 0.99324324 0.99346405\n",
            " 1.        ]\n",
            "\n",
            "Confusion matrix: \n",
            "[[ 219    0    0    0    0    0    0]\n",
            " [   0  521    0    0    0    0    0]\n",
            " [   3    3 8481   64    5    1    0]\n",
            " [   1    3   15 6684   19    0    0]\n",
            " [   0    0    0   14 2793    0    0]\n",
            " [   0    0    0    0    0   76    0]\n",
            " [   0    0    0    0    0    0   60]]\n"
          ],
          "name": "stdout"
        }
      ]
    },
    {
      "cell_type": "markdown",
      "metadata": {
        "id": "2pjPrlOIrkz0",
        "colab_type": "text"
      },
      "source": [
        "## Performance on testing set"
      ]
    },
    {
      "cell_type": "code",
      "metadata": {
        "id": "UDONUOEErnJz",
        "colab_type": "code",
        "outputId": "3cb05e63-3df1-45ae-da2e-895473bbab8f",
        "colab": {
          "base_uri": "https://localhost:8080/",
          "height": 340
        }
      },
      "source": [
        "preds_Y_test = model.predict(X_test)\n",
        "preds_Y_test =(preds_Y_test>0.5).astype(int)\n",
        "\n",
        "preds_Y_test = enc.inverse_transform(preds_Y_test)\n",
        "y_test = enc.inverse_transform(y_test)\n",
        "\n",
        "accuracy = accuracy_score(y_test, preds_Y_test)\n",
        "precision = precision_score(y_test, preds_Y_test,average=None) # average=None: The precision scores for each class are returned\n",
        "recall = recall_score(y_test, preds_Y_test,average=None)\n",
        "f1 = f1_score(y_test, preds_Y_test,average=None)\n",
        "c_matrix = confusion_matrix(y_test, preds_Y_test,labels=[-3,-2,-1,0,1,2,3])\n",
        "print('accuracy: '+str(accuracy)+'\\n')\n",
        "print('precision: '+str(precision)+'\\n')\n",
        "print('recall: '+str(recall)+'\\n')\n",
        "print('F1 score: '+str(f1)+'\\n')\n",
        "print('Confusion matrix: ')\n",
        "print(c_matrix)"
      ],
      "execution_count": 0,
      "outputs": [
        {
          "output_type": "stream",
          "text": [
            "accuracy: 0.8622653448639528\n",
            "\n",
            "precision: [0.66666667 0.70707071 0.94413146 0.81944444 0.75832127 0.70588235\n",
            " 1.        ]\n",
            "\n",
            "recall: [0.77777778 0.60869565 0.9292976  0.85662432 0.72375691 0.66666667\n",
            " 1.        ]\n",
            "\n",
            "F1 score: [0.71794872 0.65420561 0.9366558  0.83762201 0.74063604 0.68571429\n",
            " 1.        ]\n",
            "\n",
            "Confusion matrix: \n",
            "[[  42    3    5    4    0    0    0]\n",
            " [   4   70   24   16    1    0    0]\n",
            " [   8   11 2011  109   23    2    0]\n",
            " [   8    9   80 1416  140    0    0]\n",
            " [   1    5    9  182  524    3    0]\n",
            " [   0    1    1    1    3   12    0]\n",
            " [   0    0    0    0    0    0   13]]\n"
          ],
          "name": "stdout"
        }
      ]
    },
    {
      "cell_type": "markdown",
      "metadata": {
        "id": "SALhucRJxwMw",
        "colab_type": "text"
      },
      "source": [
        "# Model 3 :\n",
        "\n",
        "word imbedding dimension: 512\n",
        "\n",
        "LSTM dimension: 256"
      ]
    },
    {
      "cell_type": "code",
      "metadata": {
        "id": "gZkKQB8Rx41O",
        "colab_type": "code",
        "colab": {
          "base_uri": "https://localhost:8080/",
          "height": 139
        },
        "outputId": "e7108a39-ba41-41ca-a54f-08b250967b1c"
      },
      "source": [
        "y = data_df[\"事件強度\"]\n",
        "\n",
        "# Split dataset\n",
        "from sklearn.model_selection import train_test_split\n",
        "X_train, X_test, y_train, y_test = train_test_split(x, y, test_size=0.2, random_state=42)\n",
        "\n",
        "# Encoding\n",
        "enc = OneHotEncoder(sparse=False)\n",
        "y_train = enc.fit_transform(np.asarray(y_train).reshape(-1, 1))\n",
        "y_test = enc.transform(np.asarray(y_test).reshape(-1, 1))\n",
        "\n",
        "# Oversampling\n",
        "from imblearn.over_sampling import RandomOverSampler\n",
        "ros = RandomOverSampler(random_state=0)\n",
        "X_train_res, y_train_res = ros.fit_resample(X_train, y_train)"
      ],
      "execution_count": 10,
      "outputs": [
        {
          "output_type": "stream",
          "text": [
            "/usr/local/lib/python3.6/dist-packages/sklearn/externals/six.py:31: FutureWarning: The module is deprecated in version 0.21 and will be removed in version 0.23 since we've dropped support for Python 2.7. Please rely on the official version of six (https://pypi.org/project/six/).\n",
            "  \"(https://pypi.org/project/six/).\", FutureWarning)\n",
            "/usr/local/lib/python3.6/dist-packages/sklearn/utils/deprecation.py:144: FutureWarning: The sklearn.neighbors.base module is  deprecated in version 0.22 and will be removed in version 0.24. The corresponding classes / functions should instead be imported from sklearn.neighbors. Anything that cannot be imported from sklearn.neighbors is now part of the private API.\n",
            "  warnings.warn(message, FutureWarning)\n",
            "/usr/local/lib/python3.6/dist-packages/sklearn/utils/deprecation.py:87: FutureWarning: Function safe_indexing is deprecated; safe_indexing is deprecated in version 0.22 and will be removed in version 0.24.\n",
            "  warnings.warn(msg, category=FutureWarning)\n"
          ],
          "name": "stderr"
        }
      ]
    },
    {
      "cell_type": "code",
      "metadata": {
        "id": "cygkW_ctx8Ri",
        "colab_type": "code",
        "colab": {
          "base_uri": "https://localhost:8080/",
          "height": 1000
        },
        "outputId": "2ba2c24a-669a-4c1c-cd83-fce9f414ffbd"
      },
      "source": [
        "# Build our neural network model with LSTM\n",
        "\n",
        "from keras import models\n",
        "from keras import layers\n",
        "\n",
        "max_features = 25000\n",
        "\n",
        "from keras.layers import LSTM\n",
        "model = models.Sequential()\n",
        "model.add(layers.Embedding(max_features, 512))\n",
        "model.add(layers.LSTM(256))\n",
        "model.add(layers.Dense(7, activation='softmax'))\n",
        "\n",
        "model.compile(optimizer='adam',\n",
        "              loss='categorical_crossentropy',\n",
        "              metrics=['accuracy'])\n",
        "\n",
        "# Iterate on your training data by calling the fit() method of your model\n",
        "history = model.fit(X_train_res, y_train_res,\n",
        "                    epochs=20,\n",
        "                    batch_size=250,\n",
        "                   validation_split=0.2)\n",
        "\n",
        "# plot the results of loss values from the training set and validtion set\n",
        "history_dict = history.history\n",
        "loss_values = history_dict['loss']\n",
        "val_loss_values = history_dict['val_loss']\n",
        "\n",
        "epochs = range(1, len(history_dict['accuracy']) + 1)\n",
        "\n",
        "plt.figure(figsize=(10,6))\n",
        "plt.plot(epochs, loss_values, 'bo', label='Training loss')\n",
        "plt.plot(epochs, val_loss_values, 'b', label='Validation loss')\n",
        "plt.title('Training and validation loss')\n",
        "plt.xlabel('Epochs')\n",
        "plt.ylabel('Loss')\n",
        "plt.legend()\n",
        "plt.show()\n",
        "\n",
        "\n",
        "# plot the results of accuracy from the training set and validtion set\n",
        "acc = history_dict['accuracy']\n",
        "val_acc = history_dict['val_accuracy']\n",
        "plt.plot(epochs, acc, 'bo', label='Training acc')\n",
        "plt.plot(epochs, val_acc, 'b', label='Validation acc')\n",
        "plt.title('Training and validation accuracy')\n",
        "plt.xlabel('Epochs')\n",
        "plt.ylabel('Accuracy')\n",
        "plt.legend()\n",
        "plt.show()"
      ],
      "execution_count": 11,
      "outputs": [
        {
          "output_type": "stream",
          "text": [
            "/usr/local/lib/python3.6/dist-packages/tensorflow/python/framework/indexed_slices.py:434: UserWarning: Converting sparse IndexedSlices to a dense Tensor of unknown shape. This may consume a large amount of memory.\n",
            "  \"Converting sparse IndexedSlices to a dense Tensor of unknown shape. \"\n"
          ],
          "name": "stderr"
        },
        {
          "output_type": "stream",
          "text": [
            "Train on 47919 samples, validate on 11980 samples\n",
            "Epoch 1/20\n",
            "47919/47919 [==============================] - 338s 7ms/step - loss: 0.4226 - accuracy: 0.8536 - val_loss: 1.3607 - val_accuracy: 0.3941\n",
            "Epoch 2/20\n",
            "47919/47919 [==============================] - 349s 7ms/step - loss: 0.1208 - accuracy: 0.9586 - val_loss: 0.5405 - val_accuracy: 0.8830\n",
            "Epoch 3/20\n",
            "47919/47919 [==============================] - 347s 7ms/step - loss: 0.0690 - accuracy: 0.9782 - val_loss: 0.2707 - val_accuracy: 0.9172\n",
            "Epoch 4/20\n",
            "47919/47919 [==============================] - 339s 7ms/step - loss: 0.0424 - accuracy: 0.9864 - val_loss: 0.0431 - val_accuracy: 0.9785\n",
            "Epoch 5/20\n",
            "47919/47919 [==============================] - 349s 7ms/step - loss: 0.0294 - accuracy: 0.9915 - val_loss: 0.0114 - val_accuracy: 1.0000\n",
            "Epoch 6/20\n",
            "47919/47919 [==============================] - 352s 7ms/step - loss: 0.0230 - accuracy: 0.9931 - val_loss: 0.0102 - val_accuracy: 1.0000\n",
            "Epoch 7/20\n",
            "47919/47919 [==============================] - 354s 7ms/step - loss: 0.0202 - accuracy: 0.9934 - val_loss: 0.0055 - val_accuracy: 1.0000\n",
            "Epoch 8/20\n",
            "47919/47919 [==============================] - 351s 7ms/step - loss: 0.0162 - accuracy: 0.9948 - val_loss: 0.0647 - val_accuracy: 0.9876\n",
            "Epoch 9/20\n",
            "47919/47919 [==============================] - 353s 7ms/step - loss: 0.0206 - accuracy: 0.9934 - val_loss: 0.0042 - val_accuracy: 1.0000\n",
            "Epoch 10/20\n",
            "47919/47919 [==============================] - 355s 7ms/step - loss: 0.0237 - accuracy: 0.9918 - val_loss: 0.0382 - val_accuracy: 0.9889\n",
            "Epoch 11/20\n",
            "47919/47919 [==============================] - 353s 7ms/step - loss: 0.0276 - accuracy: 0.9910 - val_loss: 0.0040 - val_accuracy: 1.0000\n",
            "Epoch 12/20\n",
            "47919/47919 [==============================] - 350s 7ms/step - loss: 0.0140 - accuracy: 0.9949 - val_loss: 0.0038 - val_accuracy: 1.0000\n",
            "Epoch 13/20\n",
            "47919/47919 [==============================] - 353s 7ms/step - loss: 0.0117 - accuracy: 0.9956 - val_loss: 8.4236e-04 - val_accuracy: 1.0000\n",
            "Epoch 14/20\n",
            "47919/47919 [==============================] - 350s 7ms/step - loss: 0.0101 - accuracy: 0.9958 - val_loss: 7.5459e-04 - val_accuracy: 1.0000\n",
            "Epoch 15/20\n",
            "47919/47919 [==============================] - 347s 7ms/step - loss: 0.0091 - accuracy: 0.9963 - val_loss: 4.6782e-04 - val_accuracy: 1.0000\n",
            "Epoch 16/20\n",
            "47919/47919 [==============================] - 349s 7ms/step - loss: 0.0086 - accuracy: 0.9961 - val_loss: 4.7875e-04 - val_accuracy: 1.0000\n",
            "Epoch 17/20\n",
            "47919/47919 [==============================] - 346s 7ms/step - loss: 0.0091 - accuracy: 0.9962 - val_loss: 2.0857e-04 - val_accuracy: 1.0000\n",
            "Epoch 18/20\n",
            "47919/47919 [==============================] - 341s 7ms/step - loss: 0.0088 - accuracy: 0.9962 - val_loss: 3.3066e-04 - val_accuracy: 1.0000\n",
            "Epoch 19/20\n",
            "47919/47919 [==============================] - 352s 7ms/step - loss: 0.0200 - accuracy: 0.9936 - val_loss: 0.0749 - val_accuracy: 0.9754\n",
            "Epoch 20/20\n",
            "47919/47919 [==============================] - 350s 7ms/step - loss: 0.0138 - accuracy: 0.9948 - val_loss: 0.0026 - val_accuracy: 1.0000\n"
          ],
          "name": "stdout"
        },
        {
          "output_type": "display_data",
          "data": {
            "image/png": "[encoded data removed]",
            "text/plain": [
              "<Figure size 720x432 with 1 Axes>"
            ]
          },
          "metadata": {
            "tags": [],
            "needs_background": "light"
          }
        },
        {
          "output_type": "display_data",
          "data": {
            "image/png": "[encoded data removed]",
            "text/plain": [
              "<Figure size 432x288 with 1 Axes>"
            ]
          },
          "metadata": {
            "tags": [],
            "needs_background": "light"
          }
        }
      ]
    },
    {
      "cell_type": "markdown",
      "metadata": {
        "id": "5LDTLjLIyAPP",
        "colab_type": "text"
      },
      "source": [
        "## Performance on training set"
      ]
    },
    {
      "cell_type": "code",
      "metadata": {
        "id": "i7O0lp6Bx_rB",
        "colab_type": "code",
        "colab": {
          "base_uri": "https://localhost:8080/",
          "height": 340
        },
        "outputId": "4f2e9d98-0802-4df1-b53d-50ca65d5f35a"
      },
      "source": [
        "preds_Y_train = model.predict(X_train)\n",
        "preds_Y_train =(preds_Y_train>0.5).astype(int)\n",
        "\n",
        "preds_Y_train = enc.inverse_transform(preds_Y_train)\n",
        "y_train = enc.inverse_transform(y_train)\n",
        "\n",
        "accuracy = accuracy_score(y_train, preds_Y_train)\n",
        "precision = precision_score(y_train, preds_Y_train,average=None) # average=None: The precision scores for each class are returned\n",
        "recall = recall_score(y_train, preds_Y_train,average=None)\n",
        "f1 = f1_score(y_train, preds_Y_train,average=None)\n",
        "c_matrix = confusion_matrix(y_train, preds_Y_train,labels=[-3,-2,-1,0,1,2,3])\n",
        "print('accuracy: '+str(accuracy)+'\\n')\n",
        "print('precision: '+str(precision)+'\\n')\n",
        "print('recall: '+str(recall)+'\\n')\n",
        "print('F1 score: '+str(f1)+'\\n')\n",
        "print('Confusion matrix: ')\n",
        "print(c_matrix)"
      ],
      "execution_count": 12,
      "outputs": [
        {
          "output_type": "stream",
          "text": [
            "accuracy: 0.9923531273072461\n",
            "\n",
            "precision: [0.99545455 0.97932331 0.99917385 0.98785905 0.98489108 0.98701299\n",
            " 1.        ]\n",
            "\n",
            "recall: [1.         1.         0.98936543 0.99256174 0.99857499 1.\n",
            " 1.        ]\n",
            "\n",
            "F1 score: [0.9977221  0.98955366 0.99424545 0.99020481 0.99168583 0.99346405\n",
            " 1.        ]\n",
            "\n",
            "Confusion matrix: \n",
            "[[ 219    0    0    0    0    0    0]\n",
            " [   0  521    0    0    0    0    0]\n",
            " [   1    5 8466   79    5    1    0]\n",
            " [   0    6    6 6672   38    0    0]\n",
            " [   0    0    1    3 2803    0    0]\n",
            " [   0    0    0    0    0   76    0]\n",
            " [   0    0    0    0    0    0   60]]\n"
          ],
          "name": "stdout"
        }
      ]
    },
    {
      "cell_type": "markdown",
      "metadata": {
        "id": "X9dfgoBzyDfB",
        "colab_type": "text"
      },
      "source": [
        "## Performance on testing set"
      ]
    },
    {
      "cell_type": "code",
      "metadata": {
        "id": "s_5msqZVyDnN",
        "colab_type": "code",
        "colab": {
          "base_uri": "https://localhost:8080/",
          "height": 340
        },
        "outputId": "dd0fa8ee-0dbe-49e9-ef10-43c2e6bfb8c8"
      },
      "source": [
        "preds_Y_test = model.predict(X_test)\n",
        "preds_Y_test =(preds_Y_test>0.5).astype(int)\n",
        "\n",
        "preds_Y_test = enc.inverse_transform(preds_Y_test)\n",
        "y_test = enc.inverse_transform(y_test)\n",
        "\n",
        "accuracy = accuracy_score(y_test, preds_Y_test)\n",
        "precision = precision_score(y_test, preds_Y_test,average=None) # average=None: The precision scores for each class are returned\n",
        "recall = recall_score(y_test, preds_Y_test,average=None)\n",
        "f1 = f1_score(y_test, preds_Y_test,average=None)\n",
        "c_matrix = confusion_matrix(y_test, preds_Y_test,labels=[-3,-2,-1,0,1,2,3])\n",
        "print('accuracy: '+str(accuracy)+'\\n')\n",
        "print('precision: '+str(precision)+'\\n')\n",
        "print('recall: '+str(recall)+'\\n')\n",
        "print('F1 score: '+str(f1)+'\\n')\n",
        "print('Confusion matrix: ')\n",
        "print(c_matrix)"
      ],
      "execution_count": 13,
      "outputs": [
        {
          "output_type": "stream",
          "text": [
            "accuracy: 0.8643746045138156\n",
            "\n",
            "precision: [0.78181818 0.7254902  0.9487666  0.81534091 0.76011561 0.75\n",
            " 0.91666667]\n",
            "\n",
            "recall: [0.7962963  0.64347826 0.92421442 0.86811857 0.72651934 0.5\n",
            " 0.84615385]\n",
            "\n",
            "F1 score: [0.78899083 0.68202765 0.93632959 0.84090243 0.74293785 0.6\n",
            " 0.88      ]\n",
            "\n",
            "Confusion matrix: \n",
            "[[  43    3    4    4    0    0    0]\n",
            " [   2   74   23   14    2    0    0]\n",
            " [   6   12 2000  124   22    0    0]\n",
            " [   3   10   65 1435  140    0    0]\n",
            " [   0    3   15  178  526    2    0]\n",
            " [   0    0    1    5    2    9    1]\n",
            " [   1    0    0    0    0    1   11]]\n"
          ],
          "name": "stdout"
        }
      ]
    },
    {
      "cell_type": "markdown",
      "metadata": {
        "id": "FgjVnYzXXU71",
        "colab_type": "text"
      },
      "source": [
        "# Model 4 :\n",
        "\n",
        "word imbedding dimension: 512\n",
        "\n",
        "LSTM dimension: 512"
      ]
    },
    {
      "cell_type": "code",
      "metadata": {
        "id": "9tRp_N4cXY07",
        "colab_type": "code",
        "colab": {
          "base_uri": "https://localhost:8080/",
          "height": 71
        },
        "outputId": "dfa3f2f7-4b88-49fa-b343-8d31c8f9d703"
      },
      "source": [
        "y = data_df[\"事件強度\"]\n",
        "\n",
        "# Split dataset\n",
        "from sklearn.model_selection import train_test_split\n",
        "X_train, X_test, y_train, y_test = train_test_split(x, y, test_size=0.2, random_state=42)\n",
        "\n",
        "# Encoding\n",
        "enc = OneHotEncoder(sparse=False)\n",
        "y_train = enc.fit_transform(np.asarray(y_train).reshape(-1, 1))\n",
        "y_test = enc.transform(np.asarray(y_test).reshape(-1, 1))\n",
        "\n",
        "# Oversampling\n",
        "from imblearn.over_sampling import RandomOverSampler\n",
        "ros = RandomOverSampler(random_state=0)\n",
        "X_train_res, y_train_res = ros.fit_resample(X_train, y_train)"
      ],
      "execution_count": 14,
      "outputs": [
        {
          "output_type": "stream",
          "text": [
            "/usr/local/lib/python3.6/dist-packages/sklearn/utils/deprecation.py:87: FutureWarning: Function safe_indexing is deprecated; safe_indexing is deprecated in version 0.22 and will be removed in version 0.24.\n",
            "  warnings.warn(msg, category=FutureWarning)\n"
          ],
          "name": "stderr"
        }
      ]
    },
    {
      "cell_type": "code",
      "metadata": {
        "id": "E6zriVY5Xbpu",
        "colab_type": "code",
        "colab": {
          "base_uri": "https://localhost:8080/",
          "height": 1000
        },
        "outputId": "4bae6446-7ae4-4646-b411-a5a465d1d85a"
      },
      "source": [
        "# Build our neural network model with LSTM\n",
        "\n",
        "from keras import models\n",
        "from keras import layers\n",
        "\n",
        "max_features = 25000\n",
        "\n",
        "from keras.layers import LSTM\n",
        "model = models.Sequential()\n",
        "model.add(layers.Embedding(max_features, 512))\n",
        "model.add(layers.LSTM(512))\n",
        "model.add(layers.Dense(7, activation='softmax'))\n",
        "\n",
        "model.compile(optimizer='adam',\n",
        "              loss='categorical_crossentropy',\n",
        "              metrics=['accuracy'])\n",
        "\n",
        "# Iterate on your training data by calling the fit() method of your model\n",
        "history = model.fit(X_train_res, y_train_res,\n",
        "                    epochs=20,\n",
        "                    batch_size=250,\n",
        "                   validation_split=0.2)\n",
        "\n",
        "# plot the results of loss values from the training set and validtion set\n",
        "history_dict = history.history\n",
        "loss_values = history_dict['loss']\n",
        "val_loss_values = history_dict['val_loss']\n",
        "\n",
        "epochs = range(1, len(history_dict['accuracy']) + 1)\n",
        "\n",
        "plt.figure(figsize=(10,6))\n",
        "plt.plot(epochs, loss_values, 'bo', label='Training loss')\n",
        "plt.plot(epochs, val_loss_values, 'b', label='Validation loss')\n",
        "plt.title('Training and validation loss')\n",
        "plt.xlabel('Epochs')\n",
        "plt.ylabel('Loss')\n",
        "plt.legend()\n",
        "plt.show()\n",
        "\n",
        "\n",
        "# plot the results of accuracy from the training set and validtion set\n",
        "acc = history_dict['accuracy']\n",
        "val_acc = history_dict['val_accuracy']\n",
        "plt.plot(epochs, acc, 'bo', label='Training acc')\n",
        "plt.plot(epochs, val_acc, 'b', label='Validation acc')\n",
        "plt.title('Training and validation accuracy')\n",
        "plt.xlabel('Epochs')\n",
        "plt.ylabel('Accuracy')\n",
        "plt.legend()\n",
        "plt.show()"
      ],
      "execution_count": 15,
      "outputs": [
        {
          "output_type": "stream",
          "text": [
            "/usr/local/lib/python3.6/dist-packages/tensorflow/python/framework/indexed_slices.py:434: UserWarning: Converting sparse IndexedSlices to a dense Tensor of unknown shape. This may consume a large amount of memory.\n",
            "  \"Converting sparse IndexedSlices to a dense Tensor of unknown shape. \"\n"
          ],
          "name": "stderr"
        },
        {
          "output_type": "stream",
          "text": [
            "Train on 47919 samples, validate on 11980 samples\n",
            "Epoch 1/20\n",
            "47919/47919 [==============================] - 430s 9ms/step - loss: 0.4336 - accuracy: 0.8554 - val_loss: 1.5418 - val_accuracy: 0.3409\n",
            "Epoch 2/20\n",
            "47919/47919 [==============================] - 428s 9ms/step - loss: 0.1166 - accuracy: 0.9603 - val_loss: 0.1449 - val_accuracy: 0.9673\n",
            "Epoch 3/20\n",
            "47919/47919 [==============================] - 426s 9ms/step - loss: 0.0737 - accuracy: 0.9756 - val_loss: 0.0790 - val_accuracy: 0.9785\n",
            "Epoch 4/20\n",
            "47919/47919 [==============================] - 428s 9ms/step - loss: 0.0432 - accuracy: 0.9872 - val_loss: 0.0058 - val_accuracy: 1.0000\n",
            "Epoch 5/20\n",
            "47919/47919 [==============================] - 428s 9ms/step - loss: 0.0333 - accuracy: 0.9897 - val_loss: 0.0849 - val_accuracy: 0.9660\n",
            "Epoch 6/20\n",
            "47919/47919 [==============================] - 423s 9ms/step - loss: 0.0405 - accuracy: 0.9876 - val_loss: 0.1064 - val_accuracy: 0.9639\n",
            "Epoch 7/20\n",
            "47919/47919 [==============================] - 426s 9ms/step - loss: 0.0288 - accuracy: 0.9916 - val_loss: 0.0160 - val_accuracy: 0.9899\n",
            "Epoch 8/20\n",
            "47919/47919 [==============================] - 424s 9ms/step - loss: 0.0240 - accuracy: 0.9925 - val_loss: 0.0018 - val_accuracy: 1.0000\n",
            "Epoch 9/20\n",
            "47919/47919 [==============================] - 424s 9ms/step - loss: 0.0182 - accuracy: 0.9944 - val_loss: 0.0093 - val_accuracy: 0.9899\n",
            "Epoch 10/20\n",
            "47919/47919 [==============================] - 425s 9ms/step - loss: 0.0161 - accuracy: 0.9946 - val_loss: 0.0833 - val_accuracy: 0.9650\n",
            "Epoch 11/20\n",
            "47919/47919 [==============================] - 421s 9ms/step - loss: 0.0127 - accuracy: 0.9957 - val_loss: 9.2038e-04 - val_accuracy: 1.0000\n",
            "Epoch 12/20\n",
            "47919/47919 [==============================] - 421s 9ms/step - loss: 0.0113 - accuracy: 0.9960 - val_loss: 0.0062 - val_accuracy: 1.0000\n",
            "Epoch 13/20\n",
            "47919/47919 [==============================] - 421s 9ms/step - loss: 0.0108 - accuracy: 0.9958 - val_loss: 1.2703e-04 - val_accuracy: 1.0000\n",
            "Epoch 14/20\n",
            "47919/47919 [==============================] - 423s 9ms/step - loss: 0.0105 - accuracy: 0.9960 - val_loss: 2.0945e-04 - val_accuracy: 1.0000\n",
            "Epoch 15/20\n",
            "47919/47919 [==============================] - 425s 9ms/step - loss: 0.0135 - accuracy: 0.9945 - val_loss: 0.0542 - val_accuracy: 0.9757\n",
            "Epoch 16/20\n",
            "47919/47919 [==============================] - 420s 9ms/step - loss: 0.0208 - accuracy: 0.9929 - val_loss: 0.7968 - val_accuracy: 0.8261\n",
            "Epoch 17/20\n",
            "47919/47919 [==============================] - 425s 9ms/step - loss: 0.0136 - accuracy: 0.9949 - val_loss: 0.0220 - val_accuracy: 1.0000\n",
            "Epoch 18/20\n",
            "47919/47919 [==============================] - 425s 9ms/step - loss: 0.0104 - accuracy: 0.9958 - val_loss: 0.0016 - val_accuracy: 1.0000\n",
            "Epoch 19/20\n",
            "47919/47919 [==============================] - 429s 9ms/step - loss: 0.0094 - accuracy: 0.9960 - val_loss: 0.0021 - val_accuracy: 1.0000\n",
            "Epoch 20/20\n",
            "47919/47919 [==============================] - 435s 9ms/step - loss: 0.0080 - accuracy: 0.9963 - val_loss: 0.0013 - val_accuracy: 1.0000\n"
          ],
          "name": "stdout"
        },
        {
          "output_type": "display_data",
          "data": {
            "image/png": "[encoded data removed]",
            "text/plain": [
              "<Figure size 720x432 with 1 Axes>"
            ]
          },
          "metadata": {
            "tags": [],
            "needs_background": "light"
          }
        },
        {
          "output_type": "display_data",
          "data": {
            "image/png": "[encoded data removed]",
            "text/plain": [
              "<Figure size 432x288 with 1 Axes>"
            ]
          },
          "metadata": {
            "tags": [],
            "needs_background": "light"
          }
        }
      ]
    },
    {
      "cell_type": "markdown",
      "metadata": {
        "id": "c_nIrWBhYFgh",
        "colab_type": "text"
      },
      "source": [
        "## Performance on training set"
      ]
    },
    {
      "cell_type": "code",
      "metadata": {
        "id": "dXWuNgN7YFo3",
        "colab_type": "code",
        "colab": {
          "base_uri": "https://localhost:8080/",
          "height": 340
        },
        "outputId": "b3abf0ae-27f9-40d1-d0ea-9a33ea9d7eed"
      },
      "source": [
        "preds_Y_train = model.predict(X_train)\n",
        "preds_Y_train =(preds_Y_train>0.5).astype(int)\n",
        "\n",
        "preds_Y_train = enc.inverse_transform(preds_Y_train)\n",
        "y_train = enc.inverse_transform(y_train)\n",
        "\n",
        "accuracy = accuracy_score(y_train, preds_Y_train)\n",
        "precision = precision_score(y_train, preds_Y_train,average=None) # average=None: The precision scores for each class are returned\n",
        "recall = recall_score(y_train, preds_Y_train,average=None)\n",
        "f1 = f1_score(y_train, preds_Y_train,average=None)\n",
        "c_matrix = confusion_matrix(y_train, preds_Y_train,labels=[-3,-2,-1,0,1,2,3])\n",
        "print('accuracy: '+str(accuracy)+'\\n')\n",
        "print('precision: '+str(precision)+'\\n')\n",
        "print('recall: '+str(recall)+'\\n')\n",
        "print('F1 score: '+str(f1)+'\\n')\n",
        "print('Confusion matrix: ')\n",
        "print(c_matrix)"
      ],
      "execution_count": 16,
      "outputs": [
        {
          "output_type": "stream",
          "text": [
            "accuracy: 0.9932496572091551\n",
            "\n",
            "precision: [0.98648649 0.98116761 0.99811809 0.99122677 0.98629174 0.98701299\n",
            " 1.        ]\n",
            "\n",
            "recall: [1.         1.         0.9917027  0.99166915 0.99964375 1.\n",
            " 1.        ]\n",
            "\n",
            "F1 score: [0.99319728 0.9904943  0.99490005 0.99144791 0.99292286 0.99346405\n",
            " 1.        ]\n",
            "\n",
            "Confusion matrix: \n",
            "[[ 219    0    0    0    0    0    0]\n",
            " [   0  521    0    0    0    0    0]\n",
            " [   2    5 8486   59    4    1    0]\n",
            " [   0    5   16 6666   35    0    0]\n",
            " [   1    0    0    0 2806    0    0]\n",
            " [   0    0    0    0    0   76    0]\n",
            " [   0    0    0    0    0    0   60]]\n"
          ],
          "name": "stdout"
        }
      ]
    },
    {
      "cell_type": "markdown",
      "metadata": {
        "id": "CqW9XyHpYFxm",
        "colab_type": "text"
      },
      "source": [
        "## Performance on testing set"
      ]
    },
    {
      "cell_type": "code",
      "metadata": {
        "id": "miC6B9VRYF6e",
        "colab_type": "code",
        "colab": {
          "base_uri": "https://localhost:8080/",
          "height": 340
        },
        "outputId": "ef8239ba-13d1-4594-8cc0-c0417ab7c0b4"
      },
      "source": [
        "preds_Y_test = model.predict(X_test)\n",
        "preds_Y_test =(preds_Y_test>0.5).astype(int)\n",
        "\n",
        "preds_Y_test = enc.inverse_transform(preds_Y_test)\n",
        "y_test = enc.inverse_transform(y_test)\n",
        "\n",
        "accuracy = accuracy_score(y_test, preds_Y_test)\n",
        "precision = precision_score(y_test, preds_Y_test,average=None) # average=None: The precision scores for each class are returned\n",
        "recall = recall_score(y_test, preds_Y_test,average=None)\n",
        "f1 = f1_score(y_test, preds_Y_test,average=None)\n",
        "c_matrix = confusion_matrix(y_test, preds_Y_test,labels=[-3,-2,-1,0,1,2,3])\n",
        "print('accuracy: '+str(accuracy)+'\\n')\n",
        "print('precision: '+str(precision)+'\\n')\n",
        "print('recall: '+str(recall)+'\\n')\n",
        "print('F1 score: '+str(f1)+'\\n')\n",
        "print('Confusion matrix: ')\n",
        "print(c_matrix)"
      ],
      "execution_count": 17,
      "outputs": [
        {
          "output_type": "stream",
          "text": [
            "accuracy: 0.8647964564437882\n",
            "\n",
            "precision: [0.59459459 0.71       0.94       0.82472432 0.78463855 0.55555556\n",
            " 1.        ]\n",
            "\n",
            "recall: [0.81481481 0.6173913  0.93391867 0.85964912 0.71961326 0.55555556\n",
            " 0.92307692]\n",
            "\n",
            "F1 score: [0.6875     0.66046512 0.93694947 0.84182464 0.75072046 0.55555556\n",
            " 0.96      ]\n",
            "\n",
            "Confusion matrix: \n",
            "[[  44    1    4    3    0    2    0]\n",
            " [   8   71   23   12    1    0    0]\n",
            " [   3   16 2021  107   16    1    0]\n",
            " [  17    7   82 1421  123    3    0]\n",
            " [   2    4   17  178  521    2    0]\n",
            " [   0    1    2    2    3   10    0]\n",
            " [   0    0    1    0    0    0   12]]\n"
          ],
          "name": "stdout"
        }
      ]
    }
  ]
}