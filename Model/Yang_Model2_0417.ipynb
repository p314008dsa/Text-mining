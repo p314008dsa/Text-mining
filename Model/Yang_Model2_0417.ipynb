{
  "nbformat": 4,
  "nbformat_minor": 0,
  "metadata": {
    "colab": {
      "name": "Model_0417_Yang_Fintech.ipynb",
      "provenance": [],
      "collapsed_sections": []
    },
    "kernelspec": {
      "name": "python3",
      "display_name": "Python 3"
    },
    "accelerator": "GPU"
  },
  "cells": [
    {
      "cell_type": "markdown",
      "metadata": {
        "id": "KHrrYzdf60Fa",
        "colab_type": "text"
      },
      "source": [
        "I use \"dask\" package to deal with our dataset.\n",
        "\n",
        "You can use \"pandas\" as well, I think it will also work.\n",
        "(Becaue our dataset is not very large)"
      ]
    },
    {
      "cell_type": "code",
      "metadata": {
        "id": "MGYCdEoTwFCG",
        "colab_type": "code",
        "colab": {}
      },
      "source": [
        "#dask\n",
        "import dask.dataframe as dd"
      ],
      "execution_count": 0,
      "outputs": []
    },
    {
      "cell_type": "code",
      "metadata": {
        "id": "21HEwQXuvDqV",
        "colab_type": "code",
        "outputId": "9b562d28-4775-4a62-fd3e-c8be20e9f63f",
        "colab": {
          "base_uri": "https://localhost:8080/",
          "height": 122
        }
      },
      "source": [
        "# import Google Drive 套件\n",
        "from google.colab import drive\n",
        "\n",
        "# 將自己的雲端硬碟掛載上去\n",
        "drive.mount('/content/gdrive')"
      ],
      "execution_count": 4,
      "outputs": [
        {
          "output_type": "stream",
          "text": [
            "Go to this URL in a browser: https://accounts.google.com/o/oauth2/auth?client_id=947318989803-6bn6qk8qdgf4n4g3pfee6491hc0brc4i.apps.googleusercontent.com&redirect_uri=urn%3aietf%3awg%3aoauth%3a2.0%3aoob&response_type=code&scope=email%20https%3a%2f%2fwww.googleapis.com%2fauth%2fdocs.test%20https%3a%2f%2fwww.googleapis.com%2fauth%2fdrive%20https%3a%2f%2fwww.googleapis.com%2fauth%2fdrive.photos.readonly%20https%3a%2f%2fwww.googleapis.com%2fauth%2fpeopleapi.readonly\n",
            "\n",
            "Enter your authorization code:\n",
            "··········\n",
            "Mounted at /content/gdrive\n"
          ],
          "name": "stdout"
        }
      ]
    },
    {
      "cell_type": "code",
      "metadata": {
        "id": "EGXfnW55lmTa",
        "colab_type": "code",
        "colab": {}
      },
      "source": [
        "# 透過 gdrive/My Drive/... 來存取檔案\n",
        "data_df = dd.read_csv('gdrive/My Drive/TEJ_Whole_year_Jieba.csv')"
      ],
      "execution_count": 0,
      "outputs": []
    },
    {
      "cell_type": "code",
      "metadata": {
        "id": "4OXssOscy6oM",
        "colab_type": "code",
        "outputId": "36b575c9-0cdc-43b4-859a-9133c9ef3808",
        "colab": {
          "base_uri": "https://localhost:8080/",
          "height": 176
        }
      },
      "source": [
        "data_df"
      ],
      "execution_count": 6,
      "outputs": [
        {
          "output_type": "execute_result",
          "data": {
            "text/html": [
              "<div><strong>Dask DataFrame Structure:</strong></div>\n",
              "<div>\n",
              "<style scoped>\n",
              "    .dataframe tbody tr th:only-of-type {\n",
              "        vertical-align: middle;\n",
              "    }\n",
              "\n",
              "    .dataframe tbody tr th {\n",
              "        vertical-align: top;\n",
              "    }\n",
              "\n",
              "    .dataframe thead th {\n",
              "        text-align: right;\n",
              "    }\n",
              "</style>\n",
              "<table border=\"1\" class=\"dataframe\">\n",
              "  <thead>\n",
              "    <tr style=\"text-align: right;\">\n",
              "      <th></th>\n",
              "      <th>個股代號</th>\n",
              "      <th>公司簡稱</th>\n",
              "      <th>事件日</th>\n",
              "      <th>TCRI(年/月)</th>\n",
              "      <th>事件強度</th>\n",
              "      <th>大事件類別</th>\n",
              "      <th>小事件類別</th>\n",
              "      <th>事件內容</th>\n",
              "      <th>content_tokenized</th>\n",
              "    </tr>\n",
              "    <tr>\n",
              "      <th>npartitions=1</th>\n",
              "      <th></th>\n",
              "      <th></th>\n",
              "      <th></th>\n",
              "      <th></th>\n",
              "      <th></th>\n",
              "      <th></th>\n",
              "      <th></th>\n",
              "      <th></th>\n",
              "      <th></th>\n",
              "    </tr>\n",
              "  </thead>\n",
              "  <tbody>\n",
              "    <tr>\n",
              "      <th></th>\n",
              "      <td>int64</td>\n",
              "      <td>object</td>\n",
              "      <td>int64</td>\n",
              "      <td>object</td>\n",
              "      <td>int64</td>\n",
              "      <td>object</td>\n",
              "      <td>object</td>\n",
              "      <td>object</td>\n",
              "      <td>object</td>\n",
              "    </tr>\n",
              "    <tr>\n",
              "      <th></th>\n",
              "      <td>...</td>\n",
              "      <td>...</td>\n",
              "      <td>...</td>\n",
              "      <td>...</td>\n",
              "      <td>...</td>\n",
              "      <td>...</td>\n",
              "      <td>...</td>\n",
              "      <td>...</td>\n",
              "      <td>...</td>\n",
              "    </tr>\n",
              "  </tbody>\n",
              "</table>\n",
              "</div>\n",
              "<div>Dask Name: from-delayed, 3 tasks</div>"
            ],
            "text/plain": [
              "Dask DataFrame Structure:\n",
              "                個股代號    公司簡稱    事件日 TCRI(年/月)   事件強度   大事件類別   小事件類別    事件內容 content_tokenized\n",
              "npartitions=1                                                                                 \n",
              "               int64  object  int64    object  int64  object  object  object            object\n",
              "                 ...     ...    ...       ...    ...     ...     ...     ...               ...\n",
              "Dask Name: from-delayed, 3 tasks"
            ]
          },
          "metadata": {
            "tags": []
          },
          "execution_count": 6
        }
      ]
    },
    {
      "cell_type": "code",
      "metadata": {
        "id": "y8DmliVMSdKK",
        "colab_type": "code",
        "colab": {
          "base_uri": "https://localhost:8080/",
          "height": 71
        },
        "outputId": "a2f9dcd0-56a1-48d4-b54d-4604d90b80bc"
      },
      "source": [
        "# Import packages\n",
        "\n",
        "import pandas as pd \n",
        "import numpy as np\n",
        "import matplotlib\n",
        "import matplotlib.pyplot as plt\n",
        "import seaborn as sns\n",
        "\n",
        "\n",
        "import gc #Garbage Collector interface\n",
        "from datetime import datetime \n",
        "from sklearn.model_selection import train_test_split\n",
        "from sklearn.model_selection import KFold"
      ],
      "execution_count": 7,
      "outputs": [
        {
          "output_type": "stream",
          "text": [
            "/usr/local/lib/python3.6/dist-packages/statsmodels/tools/_testing.py:19: FutureWarning: pandas.util.testing is deprecated. Use the functions in the public API at pandas.testing instead.\n",
            "  import pandas.util.testing as tm\n"
          ],
          "name": "stderr"
        }
      ]
    },
    {
      "cell_type": "code",
      "metadata": {
        "id": "rhFSYpEmuIiP",
        "colab_type": "code",
        "outputId": "e7083e57-abca-46be-b24f-d8ba4d657e93",
        "colab": {
          "base_uri": "https://localhost:8080/",
          "height": 391
        }
      },
      "source": [
        "# Data pre-processing\n",
        "\n",
        "import keras\n",
        "MAX_NUM_WORDS = 10000\n",
        "tokenizer = keras .preprocessing.text.Tokenizer(num_words=MAX_NUM_WORDS)\n",
        "\n",
        "corpus = data_df.content_tokenized\n",
        "\n",
        "tokenizer.fit_on_texts(corpus)\n",
        "\n",
        "x = tokenizer.texts_to_sequences(corpus)\n",
        "\n",
        "len(x)\n",
        "\n",
        "x[:1]\n",
        "\n",
        "for seq in x[:1]:\n",
        "    print([tokenizer.index_word[idx] for idx in seq])\n",
        "    \n",
        "for seq in x[:20]:\n",
        "    print(len(seq), seq[:5], ' ...')\n",
        "    \n",
        "max_seq_len = max([\n",
        "    len(seq) for seq in x])\n",
        "\n",
        "max_seq_len\n",
        "\n",
        "MAX_SEQUENCE_LENGTH = 150"
      ],
      "execution_count": 8,
      "outputs": [
        {
          "output_type": "stream",
          "text": [
            "Using TensorFlow backend.\n"
          ],
          "name": "stderr"
        },
        {
          "output_type": "stream",
          "text": [
            "['發言', '人', '內部', '調動', '由', '接任']\n",
            "6 [458, 36, 83, 142, 29]  ...\n",
            "7 [83, 378, 138, 83, 142]  ...\n",
            "6 [422, 138, 83, 142, 29]  ...\n",
            "6 [83, 378, 138, 142, 29]  ...\n",
            "6 [126, 162, 83, 142, 29]  ...\n",
            "6 [294, 138, 83, 142, 29]  ...\n",
            "7 [2598, 246, 29, 87, 246]  ...\n",
            "13 [460, 10, 85, 4, 6171]  ...\n",
            "7 [554, 10, 85, 64, 4]  ...\n",
            "6 [62, 162, 83, 142, 29]  ...\n",
            "6 [62, 162, 83, 142, 29]  ...\n",
            "225 [3046, 848, 2288, 1386, 48]  ...\n",
            "17 [460, 10, 85, 4, 6843]  ...\n",
            "8 [422, 138, 83, 142, 29]  ...\n",
            "6 [126, 162, 83, 142, 29]  ...\n",
            "6 [422, 138, 83, 142, 29]  ...\n",
            "6 [62, 162, 83, 142, 29]  ...\n",
            "6 [294, 138, 83, 142, 29]  ...\n",
            "6 [62, 162, 83, 142, 29]  ...\n",
            "6 [62, 162, 83, 142, 29]  ...\n"
          ],
          "name": "stdout"
        }
      ]
    },
    {
      "cell_type": "code",
      "metadata": {
        "id": "K3p5LMmoUQA8",
        "colab_type": "code",
        "colab": {}
      },
      "source": [
        "x = keras .preprocessing .sequence .pad_sequences(x, maxlen=MAX_SEQUENCE_LENGTH)"
      ],
      "execution_count": 0,
      "outputs": []
    },
    {
      "cell_type": "markdown",
      "metadata": {
        "id": "dbMtTsn1r-f9",
        "colab_type": "text"
      },
      "source": [
        "# Model 1 : predict 3 classes\n",
        "20000 features"
      ]
    },
    {
      "cell_type": "code",
      "metadata": {
        "id": "fvEBkyRSUpST",
        "colab_type": "code",
        "colab": {}
      },
      "source": [
        "y = np.asarray(data_df[\"事件強度\"])\n",
        "\n",
        "### Option: consider only 3 classes: positive , neutral, and negative\n",
        "y = np.where(y>0, 1, y) \n",
        "y = np.where(y<0, -1, y)\n",
        "\n",
        "y = np.asarray(pd.get_dummies(y))"
      ],
      "execution_count": 0,
      "outputs": []
    },
    {
      "cell_type": "code",
      "metadata": {
        "id": "blV-5JVYUBSo",
        "colab_type": "code",
        "colab": {}
      },
      "source": [
        "# Split data to training data and testing data \n",
        "from sklearn.model_selection import train_test_split\n",
        "\n",
        "X_train, X_test, y_train, y_test = train_test_split(x, y, test_size=0.2, random_state=42)"
      ],
      "execution_count": 0,
      "outputs": []
    },
    {
      "cell_type": "code",
      "metadata": {
        "id": "g6qNnTm9UFSY",
        "colab_type": "code",
        "colab": {
          "base_uri": "https://localhost:8080/",
          "height": 71
        },
        "outputId": "a971a4cc-a17b-4dc1-b365-19df320d596c"
      },
      "source": [
        "# Oversampling\n",
        "from imblearn.over_sampling import RandomOverSampler\n",
        "ros = RandomOverSampler(random_state=0)\n",
        "X_train_res, y_train_res = ros.fit_resample(X_train, y_train)"
      ],
      "execution_count": 21,
      "outputs": [
        {
          "output_type": "stream",
          "text": [
            "/usr/local/lib/python3.6/dist-packages/sklearn/utils/deprecation.py:87: FutureWarning: Function safe_indexing is deprecated; safe_indexing is deprecated in version 0.22 and will be removed in version 0.24.\n",
            "  warnings.warn(msg, category=FutureWarning)\n"
          ],
          "name": "stderr"
        }
      ]
    },
    {
      "cell_type": "code",
      "metadata": {
        "id": "8yKvKGmVfNsX",
        "colab_type": "code",
        "outputId": "5f3c52ac-2ea5-4a15-f737-9f2e2002be4b",
        "colab": {
          "base_uri": "https://localhost:8080/",
          "height": 1000
        }
      },
      "source": [
        "# Build our neural network model with LSTM\n",
        "\n",
        "from keras import models\n",
        "from keras import layers\n",
        "\n",
        "max_features = 20000\n",
        "\n",
        "from keras.layers import LSTM\n",
        "model = models.Sequential()\n",
        "model.add(layers.Embedding(max_features, 100)) \n",
        "model.add(layers.LSTM(32))\n",
        "model.add(layers.Dense(3, activation='softmax'))\n",
        "\n",
        "model.compile(optimizer='adam',\n",
        "              loss='categorical_crossentropy',\n",
        "              metrics=['accuracy'])\n",
        "\n",
        "# Iterate on your training data by calling the fit() method of your model\n",
        "history = model.fit(X_train_res, y_train_res,\n",
        "                    epochs=10,\n",
        "                    batch_size=500,\n",
        "                   validation_split=0.2)\n",
        "\n",
        "# plot the results of loss values from the training set and validtion set\n",
        "history_dict = history.history\n",
        "loss_values = history_dict['loss']\n",
        "val_loss_values = history_dict['val_loss']\n",
        "\n",
        "epochs = range(1, len(history_dict['accuracy']) + 1)\n",
        "\n",
        "plt.figure(figsize=(10,6))\n",
        "plt.plot(epochs, loss_values, 'bo', label='Training loss')\n",
        "plt.plot(epochs, val_loss_values, 'b', label='Validation loss')\n",
        "plt.title('Training and validation loss')\n",
        "plt.xlabel('Epochs')\n",
        "plt.ylabel('Loss')\n",
        "plt.legend()\n",
        "plt.show()\n",
        "\n",
        "\n",
        "# plot the results of accuracy from the training set and validtion set\n",
        "acc = history_dict['accuracy']\n",
        "val_acc = history_dict['val_accuracy']\n",
        "plt.plot(epochs, acc, 'bo', label='Training acc')\n",
        "plt.plot(epochs, val_acc, 'b', label='Validation acc')\n",
        "plt.title('Training and validation accuracy')\n",
        "plt.xlabel('Epochs')\n",
        "plt.ylabel('Accuracy')\n",
        "plt.legend()\n",
        "plt.show()"
      ],
      "execution_count": 22,
      "outputs": [
        {
          "output_type": "stream",
          "text": [
            "/usr/local/lib/python3.6/dist-packages/tensorflow/python/framework/indexed_slices.py:434: UserWarning: Converting sparse IndexedSlices to a dense Tensor of unknown shape. This may consume a large amount of memory.\n",
            "  \"Converting sparse IndexedSlices to a dense Tensor of unknown shape. \"\n"
          ],
          "name": "stderr"
        },
        {
          "output_type": "stream",
          "text": [
            "Train on 22312 samples, validate on 5579 samples\n",
            "Epoch 1/10\n",
            "22312/22312 [==============================] - 13s 604us/step - loss: 0.8366 - accuracy: 0.7013 - val_loss: 1.4075 - val_accuracy: 0.0649\n",
            "Epoch 2/10\n",
            "22312/22312 [==============================] - 11s 503us/step - loss: 0.4085 - accuracy: 0.8417 - val_loss: 0.7579 - val_accuracy: 0.6648\n",
            "Epoch 3/10\n",
            "22312/22312 [==============================] - 11s 498us/step - loss: 0.2495 - accuracy: 0.9117 - val_loss: 0.4496 - val_accuracy: 0.8376\n",
            "Epoch 4/10\n",
            "22312/22312 [==============================] - 11s 511us/step - loss: 0.1759 - accuracy: 0.9429 - val_loss: 0.2500 - val_accuracy: 0.9466\n",
            "Epoch 5/10\n",
            "22312/22312 [==============================] - 11s 511us/step - loss: 0.1251 - accuracy: 0.9602 - val_loss: 0.1813 - val_accuracy: 0.9670\n",
            "Epoch 6/10\n",
            "22312/22312 [==============================] - 11s 514us/step - loss: 0.0907 - accuracy: 0.9723 - val_loss: 0.1001 - val_accuracy: 0.9882\n",
            "Epoch 7/10\n",
            "22312/22312 [==============================] - 11s 513us/step - loss: 0.0711 - accuracy: 0.9792 - val_loss: 0.0836 - val_accuracy: 0.9903\n",
            "Epoch 8/10\n",
            "22312/22312 [==============================] - 11s 514us/step - loss: 0.0550 - accuracy: 0.9842 - val_loss: 0.0727 - val_accuracy: 0.9889\n",
            "Epoch 9/10\n",
            "22312/22312 [==============================] - 11s 512us/step - loss: 0.0464 - accuracy: 0.9866 - val_loss: 0.0495 - val_accuracy: 0.9923\n",
            "Epoch 10/10\n",
            "22312/22312 [==============================] - 11s 513us/step - loss: 0.0405 - accuracy: 0.9880 - val_loss: 0.0614 - val_accuracy: 0.9905\n"
          ],
          "name": "stdout"
        },
        {
          "output_type": "display_data",
          "data": {
            "image/png": "[encoded data removed]",
            "text/plain": [
              "<Figure size 720x432 with 1 Axes>"
            ]
          },
          "metadata": {
            "tags": [],
            "needs_background": "light"
          }
        },
        {
          "output_type": "display_data",
          "data": {
            "image/png": "[encoded data removed]",
            "text/plain": [
              "<Figure size 432x288 with 1 Axes>"
            ]
          },
          "metadata": {
            "tags": [],
            "needs_background": "light"
          }
        }
      ]
    },
    {
      "cell_type": "code",
      "metadata": {
        "id": "OH3a57BEn-9e",
        "colab_type": "code",
        "colab": {
          "base_uri": "https://localhost:8080/",
          "height": 51
        },
        "outputId": "4aef0a02-a96c-4015-c7c6-44fa10220d7f"
      },
      "source": [
        "results = model.evaluate(X_test, y_test)\n",
        "print(results)"
      ],
      "execution_count": 29,
      "outputs": [
        {
          "output_type": "stream",
          "text": [
            "4741/4741 [==============================] - 3s 681us/step\n",
            "[0.5188424960643122, 0.8675385117530823]\n"
          ],
          "name": "stdout"
        }
      ]
    },
    {
      "cell_type": "markdown",
      "metadata": {
        "id": "0-l34cVOp9yo",
        "colab_type": "text"
      },
      "source": [
        "# Mode2: Predict 7 classes: 20000 features"
      ]
    },
    {
      "cell_type": "code",
      "metadata": {
        "id": "W9oMUg3Kpxsl",
        "colab_type": "code",
        "colab": {}
      },
      "source": [
        "y = np.asarray(data_df[\"事件強度\"])\n",
        "\n",
        "'''\n",
        "### Option: consider only 3 classes: positive , neutral, and negative\n",
        "y = np.where(y>0, 1, y) \n",
        "y = np.where(y<0, -1, y)\n",
        "'''\n",
        "\n",
        "y = np.asarray(pd.get_dummies(y))"
      ],
      "execution_count": 0,
      "outputs": []
    },
    {
      "cell_type": "code",
      "metadata": {
        "id": "Rc_oI6Qup0dn",
        "colab_type": "code",
        "colab": {}
      },
      "source": [
        "# Split data to training data and testing data \n",
        "from sklearn.model_selection import train_test_split\n",
        "\n",
        "X_train, X_test, y_train, y_test = train_test_split(x, y, test_size=0.2, random_state=42)"
      ],
      "execution_count": 0,
      "outputs": []
    },
    {
      "cell_type": "code",
      "metadata": {
        "id": "FOCmnL0Gp4Sr",
        "colab_type": "code",
        "colab": {
          "base_uri": "https://localhost:8080/",
          "height": 71
        },
        "outputId": "33317d30-00ea-4f1a-980d-659728aafc51"
      },
      "source": [
        "# Oversampling\n",
        "from imblearn.over_sampling import RandomOverSampler\n",
        "ros = RandomOverSampler(random_state=0)\n",
        "X_train_res, y_train_res = ros.fit_resample(X_train, y_train)"
      ],
      "execution_count": 34,
      "outputs": [
        {
          "output_type": "stream",
          "text": [
            "/usr/local/lib/python3.6/dist-packages/sklearn/utils/deprecation.py:87: FutureWarning: Function safe_indexing is deprecated; safe_indexing is deprecated in version 0.22 and will be removed in version 0.24.\n",
            "  warnings.warn(msg, category=FutureWarning)\n"
          ],
          "name": "stderr"
        }
      ]
    },
    {
      "cell_type": "code",
      "metadata": {
        "id": "KdZydPTkp8cX",
        "colab_type": "code",
        "colab": {
          "base_uri": "https://localhost:8080/",
          "height": 1000
        },
        "outputId": "a8dc43cb-7e28-4cb1-b3ca-d456a9ffd1b6"
      },
      "source": [
        "# Build our neural network model with LSTM\n",
        "\n",
        "from keras import models\n",
        "from keras import layers\n",
        "\n",
        "max_features = 20000\n",
        "\n",
        "from keras.layers import LSTM\n",
        "model = models.Sequential()\n",
        "model.add(layers.Embedding(max_features, 100)) \n",
        "model.add(layers.LSTM(32))\n",
        "model.add(layers.Dense(7, activation='softmax'))\n",
        "\n",
        "model.compile(optimizer='adam',\n",
        "              loss='categorical_crossentropy',\n",
        "              metrics=['accuracy'])\n",
        "\n",
        "# Iterate on your training data by calling the fit() method of your model\n",
        "history = model.fit(X_train_res, y_train_res,\n",
        "                    epochs=10,\n",
        "                    batch_size=500,\n",
        "                   validation_split=0.2)\n",
        "\n",
        "# plot the results of loss values from the training set and validtion set\n",
        "history_dict = history.history\n",
        "loss_values = history_dict['loss']\n",
        "val_loss_values = history_dict['val_loss']\n",
        "\n",
        "epochs = range(1, len(history_dict['accuracy']) + 1)\n",
        "\n",
        "plt.figure(figsize=(10,6))\n",
        "plt.plot(epochs, loss_values, 'bo', label='Training loss')\n",
        "plt.plot(epochs, val_loss_values, 'b', label='Validation loss')\n",
        "plt.title('Training and validation loss')\n",
        "plt.xlabel('Epochs')\n",
        "plt.ylabel('Loss')\n",
        "plt.legend()\n",
        "plt.show()\n",
        "\n",
        "\n",
        "# plot the results of accuracy from the training set and validtion set\n",
        "acc = history_dict['accuracy']\n",
        "val_acc = history_dict['val_accuracy']\n",
        "plt.plot(epochs, acc, 'bo', label='Training acc')\n",
        "plt.plot(epochs, val_acc, 'b', label='Validation acc')\n",
        "plt.title('Training and validation accuracy')\n",
        "plt.xlabel('Epochs')\n",
        "plt.ylabel('Accuracy')\n",
        "plt.legend()\n",
        "plt.show()"
      ],
      "execution_count": 37,
      "outputs": [
        {
          "output_type": "stream",
          "text": [
            "/usr/local/lib/python3.6/dist-packages/tensorflow/python/framework/indexed_slices.py:434: UserWarning: Converting sparse IndexedSlices to a dense Tensor of unknown shape. This may consume a large amount of memory.\n",
            "  \"Converting sparse IndexedSlices to a dense Tensor of unknown shape. \"\n"
          ],
          "name": "stderr"
        },
        {
          "output_type": "stream",
          "text": [
            "Train on 47919 samples, validate on 11980 samples\n",
            "Epoch 1/10\n",
            "47919/47919 [==============================] - 26s 533us/step - loss: 1.1902 - accuracy: 0.6493 - val_loss: 3.6792 - val_accuracy: 0.2871\n",
            "Epoch 2/10\n",
            "47919/47919 [==============================] - 25s 527us/step - loss: 0.3095 - accuracy: 0.9217 - val_loss: 3.5626 - val_accuracy: 0.2907\n",
            "Epoch 3/10\n",
            "47919/47919 [==============================] - 26s 540us/step - loss: 0.1598 - accuracy: 0.9562 - val_loss: 3.2146 - val_accuracy: 0.2907\n",
            "Epoch 4/10\n",
            "47919/47919 [==============================] - 26s 543us/step - loss: 0.1100 - accuracy: 0.9700 - val_loss: 2.9247 - val_accuracy: 0.2907\n",
            "Epoch 5/10\n",
            "47919/47919 [==============================] - 26s 548us/step - loss: 0.0801 - accuracy: 0.9790 - val_loss: 2.5108 - val_accuracy: 0.2907\n",
            "Epoch 6/10\n",
            "47919/47919 [==============================] - 26s 545us/step - loss: 0.0644 - accuracy: 0.9832 - val_loss: 2.1707 - val_accuracy: 0.2907\n",
            "Epoch 7/10\n",
            "47919/47919 [==============================] - 26s 545us/step - loss: 0.0588 - accuracy: 0.9840 - val_loss: 1.8308 - val_accuracy: 0.2907\n",
            "Epoch 8/10\n",
            "47919/47919 [==============================] - 26s 550us/step - loss: 0.0449 - accuracy: 0.9881 - val_loss: 1.6191 - val_accuracy: 0.3030\n",
            "Epoch 9/10\n",
            "47919/47919 [==============================] - 26s 542us/step - loss: 0.0408 - accuracy: 0.9890 - val_loss: 1.3667 - val_accuracy: 0.4372\n",
            "Epoch 10/10\n",
            "47919/47919 [==============================] - 26s 548us/step - loss: 0.0367 - accuracy: 0.9902 - val_loss: 1.2400 - val_accuracy: 0.4955\n"
          ],
          "name": "stdout"
        },
        {
          "output_type": "display_data",
          "data": {
            "image/png": "[encoded data removed]",
            "text/plain": [
              "<Figure size 720x432 with 1 Axes>"
            ]
          },
          "metadata": {
            "tags": [],
            "needs_background": "light"
          }
        },
        {
          "output_type": "display_data",
          "data": {
            "image/png": "[encoded data removed]",
            "text/plain": [
              "<Figure size 432x288 with 1 Axes>"
            ]
          },
          "metadata": {
            "tags": [],
            "needs_background": "light"
          }
        }
      ]
    },
    {
      "cell_type": "code",
      "metadata": {
        "id": "j1MZSGodqb0j",
        "colab_type": "code",
        "colab": {
          "base_uri": "https://localhost:8080/",
          "height": 51
        },
        "outputId": "ee50e5ea-0c19-42f7-82c7-8759cd1ddf76"
      },
      "source": [
        "results = model.evaluate(X_test, y_test)\n",
        "print(results)"
      ],
      "execution_count": 38,
      "outputs": [
        {
          "output_type": "stream",
          "text": [
            "4741/4741 [==============================] - 3s 727us/step\n",
            "[0.5964071755544015, 0.850242555141449]\n"
          ],
          "name": "stdout"
        }
      ]
    },
    {
      "cell_type": "markdown",
      "metadata": {
        "id": "Wo0eEbYdsTn0",
        "colab_type": "text"
      },
      "source": [
        "# Model 3: Predict 7 classes: \n",
        "20000 features\n",
        "20 epochs"
      ]
    },
    {
      "cell_type": "code",
      "metadata": {
        "id": "2TzyRqRssXiW",
        "colab_type": "code",
        "colab": {
          "base_uri": "https://localhost:8080/",
          "height": 1000
        },
        "outputId": "b1b3a1d7-0bb7-4e62-be63-4541374dd6a6"
      },
      "source": [
        "# Build our neural network model with LSTM\n",
        "\n",
        "from keras import models\n",
        "from keras import layers\n",
        "\n",
        "max_features = 30000\n",
        "\n",
        "from keras.layers import LSTM\n",
        "model = models.Sequential()\n",
        "model.add(layers.Embedding(max_features, 100)) \n",
        "model.add(layers.LSTM(32))\n",
        "model.add(layers.Dense(7, activation='softmax'))\n",
        "\n",
        "model.compile(optimizer='adam',\n",
        "              loss='categorical_crossentropy',\n",
        "              metrics=['accuracy'])\n",
        "\n",
        "# Iterate on your training data by calling the fit() method of your model\n",
        "history = model.fit(X_train_res, y_train_res,\n",
        "                    epochs=20,\n",
        "                    batch_size=500,\n",
        "                   validation_split=0.2)\n",
        "\n",
        "# plot the results of loss values from the training set and validtion set\n",
        "history_dict = history.history\n",
        "loss_values = history_dict['loss']\n",
        "val_loss_values = history_dict['val_loss']\n",
        "\n",
        "epochs = range(1, len(history_dict['accuracy']) + 1)\n",
        "\n",
        "plt.figure(figsize=(10,6))\n",
        "plt.plot(epochs, loss_values, 'bo', label='Training loss')\n",
        "plt.plot(epochs, val_loss_values, 'b', label='Validation loss')\n",
        "plt.title('Training and validation loss')\n",
        "plt.xlabel('Epochs')\n",
        "plt.ylabel('Loss')\n",
        "plt.legend()\n",
        "plt.show()\n",
        "\n",
        "\n",
        "# plot the results of accuracy from the training set and validtion set\n",
        "acc = history_dict['accuracy']\n",
        "val_acc = history_dict['val_accuracy']\n",
        "plt.plot(epochs, acc, 'bo', label='Training acc')\n",
        "plt.plot(epochs, val_acc, 'b', label='Validation acc')\n",
        "plt.title('Training and validation accuracy')\n",
        "plt.xlabel('Epochs')\n",
        "plt.ylabel('Accuracy')\n",
        "plt.legend()\n",
        "plt.show()"
      ],
      "execution_count": 42,
      "outputs": [
        {
          "output_type": "stream",
          "text": [
            "/usr/local/lib/python3.6/dist-packages/tensorflow/python/framework/indexed_slices.py:434: UserWarning: Converting sparse IndexedSlices to a dense Tensor of unknown shape. This may consume a large amount of memory.\n",
            "  \"Converting sparse IndexedSlices to a dense Tensor of unknown shape. \"\n"
          ],
          "name": "stderr"
        },
        {
          "output_type": "stream",
          "text": [
            "Train on 47919 samples, validate on 11980 samples\n",
            "Epoch 1/20\n",
            "47919/47919 [==============================] - 26s 545us/step - loss: 1.1630 - accuracy: 0.6896 - val_loss: 3.2509 - val_accuracy: 0.2823\n",
            "Epoch 2/20\n",
            "47919/47919 [==============================] - 26s 535us/step - loss: 0.3466 - accuracy: 0.9171 - val_loss: 3.3563 - val_accuracy: 0.2907\n",
            "Epoch 3/20\n",
            "47919/47919 [==============================] - 25s 525us/step - loss: 0.1784 - accuracy: 0.9536 - val_loss: 2.9657 - val_accuracy: 0.2907\n",
            "Epoch 4/20\n",
            "47919/47919 [==============================] - 26s 533us/step - loss: 0.1231 - accuracy: 0.9680 - val_loss: 2.5052 - val_accuracy: 0.2907\n",
            "Epoch 5/20\n",
            "47919/47919 [==============================] - 25s 529us/step - loss: 0.0891 - accuracy: 0.9765 - val_loss: 1.9393 - val_accuracy: 0.2907\n",
            "Epoch 6/20\n",
            "47919/47919 [==============================] - 25s 532us/step - loss: 0.0797 - accuracy: 0.9774 - val_loss: 1.5313 - val_accuracy: 0.2907\n",
            "Epoch 7/20\n",
            "47919/47919 [==============================] - 25s 528us/step - loss: 0.0609 - accuracy: 0.9832 - val_loss: 1.1467 - val_accuracy: 0.3793\n",
            "Epoch 8/20\n",
            "47919/47919 [==============================] - 26s 532us/step - loss: 0.0485 - accuracy: 0.9867 - val_loss: 0.8908 - val_accuracy: 0.6215\n",
            "Epoch 9/20\n",
            "47919/47919 [==============================] - 26s 534us/step - loss: 0.0390 - accuracy: 0.9900 - val_loss: 0.7583 - val_accuracy: 0.7554\n",
            "Epoch 10/20\n",
            "47919/47919 [==============================] - 25s 531us/step - loss: 0.0343 - accuracy: 0.9909 - val_loss: 0.6083 - val_accuracy: 0.8451\n",
            "Epoch 11/20\n",
            "47919/47919 [==============================] - 25s 532us/step - loss: 0.0292 - accuracy: 0.9923 - val_loss: 0.5198 - val_accuracy: 0.9060\n",
            "Epoch 12/20\n",
            "47919/47919 [==============================] - 25s 527us/step - loss: 0.0509 - accuracy: 0.9855 - val_loss: 0.4790 - val_accuracy: 0.9198\n",
            "Epoch 13/20\n",
            "47919/47919 [==============================] - 25s 531us/step - loss: 0.0296 - accuracy: 0.9918 - val_loss: 0.4099 - val_accuracy: 0.9198\n",
            "Epoch 14/20\n",
            "47919/47919 [==============================] - 25s 530us/step - loss: 0.0246 - accuracy: 0.9934 - val_loss: 0.3535 - val_accuracy: 0.9198\n",
            "Epoch 15/20\n",
            "47919/47919 [==============================] - 26s 535us/step - loss: 0.0194 - accuracy: 0.9948 - val_loss: 0.2978 - val_accuracy: 0.9665\n",
            "Epoch 16/20\n",
            "47919/47919 [==============================] - 25s 528us/step - loss: 0.0175 - accuracy: 0.9950 - val_loss: 0.2544 - val_accuracy: 0.9665\n",
            "Epoch 17/20\n",
            "47919/47919 [==============================] - 25s 530us/step - loss: 0.0503 - accuracy: 0.9862 - val_loss: 0.2288 - val_accuracy: 0.9665\n",
            "Epoch 18/20\n",
            "47919/47919 [==============================] - 26s 533us/step - loss: 0.0307 - accuracy: 0.9913 - val_loss: 0.2017 - val_accuracy: 0.9665\n",
            "Epoch 19/20\n",
            "47919/47919 [==============================] - 25s 521us/step - loss: 0.0176 - accuracy: 0.9949 - val_loss: 0.1824 - val_accuracy: 0.9665\n",
            "Epoch 20/20\n",
            "47919/47919 [==============================] - 25s 531us/step - loss: 0.0148 - accuracy: 0.9956 - val_loss: 0.1662 - val_accuracy: 0.9785\n"
          ],
          "name": "stdout"
        },
        {
          "output_type": "display_data",
          "data": {
            "image/png": "[encoded data removed]",
            "text/plain": [
              "<Figure size 720x432 with 1 Axes>"
            ]
          },
          "metadata": {
            "tags": [],
            "needs_background": "light"
          }
        },
        {
          "output_type": "display_data",
          "data": {
            "image/png": "[encoded data removed]",
            "text/plain": [
              "<Figure size 432x288 with 1 Axes>"
            ]
          },
          "metadata": {
            "tags": [],
            "needs_background": "light"
          }
        }
      ]
    },
    {
      "cell_type": "code",
      "metadata": {
        "id": "ns9tW0husebE",
        "colab_type": "code",
        "colab": {
          "base_uri": "https://localhost:8080/",
          "height": 51
        },
        "outputId": "e3b13793-5637-4eee-a97e-ae6aa218659a"
      },
      "source": [
        "results = model.evaluate(X_test, y_test)\n",
        "print(results)"
      ],
      "execution_count": 40,
      "outputs": [
        {
          "output_type": "stream",
          "text": [
            "4741/4741 [==============================] - 3s 704us/step\n",
            "[0.6138619492009229, 0.8498207330703735]\n"
          ],
          "name": "stdout"
        }
      ]
    },
    {
      "cell_type": "markdown",
      "metadata": {
        "id": "4qaaJN_FxWG3",
        "colab_type": "text"
      },
      "source": [
        "# Model 4: Predict 7 classes:\n",
        "\n",
        "25000 features\n",
        "\n",
        "20 epochs"
      ]
    },
    {
      "cell_type": "code",
      "metadata": {
        "id": "kLG9hIq8xZbj",
        "colab_type": "code",
        "colab": {
          "base_uri": "https://localhost:8080/",
          "height": 1000
        },
        "outputId": "c7460286-56be-4417-c3a9-11932c484d13"
      },
      "source": [
        "# Build our neural network model with LSTM\n",
        "\n",
        "from keras import models\n",
        "from keras import layers\n",
        "\n",
        "max_features = 25000\n",
        "\n",
        "from keras.layers import LSTM\n",
        "model = models.Sequential()\n",
        "model.add(layers.Embedding(max_features, 100)) \n",
        "model.add(layers.LSTM(32))\n",
        "model.add(layers.Dense(7, activation='softmax'))\n",
        "\n",
        "model.compile(optimizer='adam',\n",
        "              loss='categorical_crossentropy',\n",
        "              metrics=['accuracy'])\n",
        "\n",
        "# Iterate on your training data by calling the fit() method of your model\n",
        "history = model.fit(X_train_res, y_train_res,\n",
        "                    epochs=20,\n",
        "                    batch_size=500,\n",
        "                   validation_split=0.2)\n",
        "\n",
        "# plot the results of loss values from the training set and validtion set\n",
        "history_dict = history.history\n",
        "loss_values = history_dict['loss']\n",
        "val_loss_values = history_dict['val_loss']\n",
        "\n",
        "epochs = range(1, len(history_dict['accuracy']) + 1)\n",
        "\n",
        "plt.figure(figsize=(10,6))\n",
        "plt.plot(epochs, loss_values, 'bo', label='Training loss')\n",
        "plt.plot(epochs, val_loss_values, 'b', label='Validation loss')\n",
        "plt.title('Training and validation loss')\n",
        "plt.xlabel('Epochs')\n",
        "plt.ylabel('Loss')\n",
        "plt.legend()\n",
        "plt.show()\n",
        "\n",
        "\n",
        "# plot the results of accuracy from the training set and validtion set\n",
        "acc = history_dict['accuracy']\n",
        "val_acc = history_dict['val_accuracy']\n",
        "plt.plot(epochs, acc, 'bo', label='Training acc')\n",
        "plt.plot(epochs, val_acc, 'b', label='Validation acc')\n",
        "plt.title('Training and validation accuracy')\n",
        "plt.xlabel('Epochs')\n",
        "plt.ylabel('Accuracy')\n",
        "plt.legend()\n",
        "plt.show()"
      ],
      "execution_count": 46,
      "outputs": [
        {
          "output_type": "stream",
          "text": [
            "/usr/local/lib/python3.6/dist-packages/tensorflow/python/framework/indexed_slices.py:434: UserWarning: Converting sparse IndexedSlices to a dense Tensor of unknown shape. This may consume a large amount of memory.\n",
            "  \"Converting sparse IndexedSlices to a dense Tensor of unknown shape. \"\n"
          ],
          "name": "stderr"
        },
        {
          "output_type": "stream",
          "text": [
            "Train on 47919 samples, validate on 11980 samples\n",
            "Epoch 1/20\n",
            "47919/47919 [==============================] - 26s 545us/step - loss: 1.1249 - accuracy: 0.6675 - val_loss: 3.8745 - val_accuracy: 0.2805\n",
            "Epoch 2/20\n",
            "47919/47919 [==============================] - 25s 527us/step - loss: 0.2761 - accuracy: 0.9272 - val_loss: 3.1280 - val_accuracy: 0.2907\n",
            "Epoch 3/20\n",
            "47919/47919 [==============================] - 26s 539us/step - loss: 0.1547 - accuracy: 0.9585 - val_loss: 2.1908 - val_accuracy: 0.2907\n",
            "Epoch 4/20\n",
            "47919/47919 [==============================] - 26s 538us/step - loss: 0.1136 - accuracy: 0.9697 - val_loss: 1.7516 - val_accuracy: 0.2907\n",
            "Epoch 5/20\n",
            "47919/47919 [==============================] - 26s 538us/step - loss: 0.0789 - accuracy: 0.9786 - val_loss: 1.4082 - val_accuracy: 0.2907\n",
            "Epoch 6/20\n",
            "47919/47919 [==============================] - 26s 534us/step - loss: 0.0647 - accuracy: 0.9815 - val_loss: 1.2021 - val_accuracy: 0.3152\n",
            "Epoch 7/20\n",
            "47919/47919 [==============================] - 25s 529us/step - loss: 0.0492 - accuracy: 0.9861 - val_loss: 0.9932 - val_accuracy: 0.4342\n",
            "Epoch 8/20\n",
            "47919/47919 [==============================] - 26s 534us/step - loss: 0.0602 - accuracy: 0.9834 - val_loss: 0.8536 - val_accuracy: 0.6149\n",
            "Epoch 9/20\n",
            "47919/47919 [==============================] - 25s 525us/step - loss: 0.0367 - accuracy: 0.9907 - val_loss: 0.7028 - val_accuracy: 0.8788\n",
            "Epoch 10/20\n",
            "47919/47919 [==============================] - 26s 542us/step - loss: 0.0358 - accuracy: 0.9899 - val_loss: 0.5871 - val_accuracy: 0.9302\n",
            "Epoch 11/20\n",
            "47919/47919 [==============================] - 25s 527us/step - loss: 0.0318 - accuracy: 0.9913 - val_loss: 0.5175 - val_accuracy: 0.9164\n",
            "Epoch 12/20\n",
            "47919/47919 [==============================] - 26s 533us/step - loss: 0.0245 - accuracy: 0.9936 - val_loss: 0.4361 - val_accuracy: 0.9529\n",
            "Epoch 13/20\n",
            "47919/47919 [==============================] - 25s 530us/step - loss: 0.0209 - accuracy: 0.9942 - val_loss: 0.3561 - val_accuracy: 0.9785\n",
            "Epoch 14/20\n",
            "47919/47919 [==============================] - 25s 526us/step - loss: 0.0193 - accuracy: 0.9948 - val_loss: 0.2889 - val_accuracy: 0.9785\n",
            "Epoch 15/20\n",
            "47919/47919 [==============================] - 24s 507us/step - loss: 0.0295 - accuracy: 0.9914 - val_loss: 0.2807 - val_accuracy: 0.9665\n",
            "Epoch 16/20\n",
            "47919/47919 [==============================] - 25s 516us/step - loss: 0.0244 - accuracy: 0.9928 - val_loss: 0.2173 - val_accuracy: 0.9785\n",
            "Epoch 17/20\n",
            "47919/47919 [==============================] - 25s 512us/step - loss: 0.0162 - accuracy: 0.9953 - val_loss: 0.1857 - val_accuracy: 0.9899\n",
            "Epoch 18/20\n",
            "47919/47919 [==============================] - 25s 513us/step - loss: 0.0144 - accuracy: 0.9956 - val_loss: 0.1551 - val_accuracy: 0.9899\n",
            "Epoch 19/20\n",
            "47919/47919 [==============================] - 25s 514us/step - loss: 0.0128 - accuracy: 0.9961 - val_loss: 0.1325 - val_accuracy: 0.9899\n",
            "Epoch 20/20\n",
            "47919/47919 [==============================] - 24s 510us/step - loss: 0.0115 - accuracy: 0.9961 - val_loss: 0.1137 - val_accuracy: 0.9899\n"
          ],
          "name": "stdout"
        },
        {
          "output_type": "display_data",
          "data": {
            "image/png": "[encoded data removed]",
            "text/plain": [
              "<Figure size 720x432 with 1 Axes>"
            ]
          },
          "metadata": {
            "tags": [],
            "needs_background": "light"
          }
        },
        {
          "output_type": "display_data",
          "data": {
            "image/png": "[encoded data removed]",
            "text/plain": [
              "<Figure size 432x288 with 1 Axes>"
            ]
          },
          "metadata": {
            "tags": [],
            "needs_background": "light"
          }
        }
      ]
    },
    {
      "cell_type": "code",
      "metadata": {
        "id": "0RaPR4cZxgye",
        "colab_type": "code",
        "colab": {
          "base_uri": "https://localhost:8080/",
          "height": 51
        },
        "outputId": "9cbeb123-358e-405b-beba-fe0d4273148d"
      },
      "source": [
        "results = model.evaluate(X_test, y_test)\n",
        "print(results)"
      ],
      "execution_count": 47,
      "outputs": [
        {
          "output_type": "stream",
          "text": [
            "4741/4741 [==============================] - 3s 693us/step\n",
            "[0.7927947158527837, 0.8460240364074707]\n"
          ],
          "name": "stdout"
        }
      ]
    },
    {
      "cell_type": "markdown",
      "metadata": {
        "id": "apwSUR1B0_pe",
        "colab_type": "text"
      },
      "source": [
        "# Dropout\n",
        "\n",
        "Now, we have got very high accuray on our testing dataset (about 0.98)\n",
        "\n",
        "It seems like that we have overfitting problem.\n",
        "(Note that the accuray in testing dataset is about 0.84).\n",
        "\n",
        "So let's try the \"dropout\" technique to deal with this problem."
      ]
    },
    {
      "cell_type": "markdown",
      "metadata": {
        "id": "tMIqXl1235WA",
        "colab_type": "text"
      },
      "source": [
        "# Model 5: Predict 7 classes:\n",
        "\n",
        "25000 features\n",
        "\n",
        "20 epochs\n",
        "\n",
        "drop = 0.2\n",
        "\n",
        "recurrent_dropout=0.2"
      ]
    },
    {
      "cell_type": "code",
      "metadata": {
        "id": "F4HgC7xj2_c0",
        "colab_type": "code",
        "colab": {
          "base_uri": "https://localhost:8080/",
          "height": 1000
        },
        "outputId": "ea9e7dba-d70f-4c65-95e6-48bd2c9b0a11"
      },
      "source": [
        "# Build our neural network model with LSTM\n",
        "\n",
        "from keras import models\n",
        "from keras import layers\n",
        "\n",
        "max_features = 25000\n",
        "\n",
        "from keras.layers import LSTM\n",
        "model = models.Sequential()\n",
        "model.add(layers.Embedding(max_features, 100)) \n",
        "model.add(layers.LSTM(32,dropout=0.2, recurrent_dropout=0.2)) # Note we use \"dropout\" technique here.\n",
        "model.add(layers.Dense(7, activation='softmax'))\n",
        "\n",
        "model.compile(optimizer='adam',\n",
        "              loss='categorical_crossentropy',\n",
        "              metrics=['accuracy'])\n",
        "\n",
        "# Iterate on your training data by calling the fit() method of your model\n",
        "history = model.fit(X_train_res, y_train_res,\n",
        "                    epochs=20,\n",
        "                    batch_size=500,\n",
        "                   validation_split=0.2)\n",
        "\n",
        "# plot the results of loss values from the training set and validtion set\n",
        "history_dict = history.history\n",
        "loss_values = history_dict['loss']\n",
        "val_loss_values = history_dict['val_loss']\n",
        "\n",
        "epochs = range(1, len(history_dict['accuracy']) + 1)\n",
        "\n",
        "plt.figure(figsize=(10,6))\n",
        "plt.plot(epochs, loss_values, 'bo', label='Training loss')\n",
        "plt.plot(epochs, val_loss_values, 'b', label='Validation loss')\n",
        "plt.title('Training and validation loss')\n",
        "plt.xlabel('Epochs')\n",
        "plt.ylabel('Loss')\n",
        "plt.legend()\n",
        "plt.show()\n",
        "\n",
        "\n",
        "# plot the results of accuracy from the training set and validtion set\n",
        "acc = history_dict['accuracy']\n",
        "val_acc = history_dict['val_accuracy']\n",
        "plt.plot(epochs, acc, 'bo', label='Training acc')\n",
        "plt.plot(epochs, val_acc, 'b', label='Validation acc')\n",
        "plt.title('Training and validation accuracy')\n",
        "plt.xlabel('Epochs')\n",
        "plt.ylabel('Accuracy')\n",
        "plt.legend()\n",
        "plt.show()"
      ],
      "execution_count": 48,
      "outputs": [
        {
          "output_type": "stream",
          "text": [
            "/usr/local/lib/python3.6/dist-packages/tensorflow/python/framework/indexed_slices.py:434: UserWarning: Converting sparse IndexedSlices to a dense Tensor of unknown shape. This may consume a large amount of memory.\n",
            "  \"Converting sparse IndexedSlices to a dense Tensor of unknown shape. \"\n"
          ],
          "name": "stderr"
        },
        {
          "output_type": "stream",
          "text": [
            "Train on 47919 samples, validate on 11980 samples\n",
            "Epoch 1/20\n",
            "47919/47919 [==============================] - 28s 584us/step - loss: 1.2239 - accuracy: 0.6417 - val_loss: 3.5892 - val_accuracy: 0.2843\n",
            "Epoch 2/20\n",
            "47919/47919 [==============================] - 27s 572us/step - loss: 0.3545 - accuracy: 0.8950 - val_loss: 4.0570 - val_accuracy: 0.2907\n",
            "Epoch 3/20\n",
            "47919/47919 [==============================] - 27s 568us/step - loss: 0.2062 - accuracy: 0.9367 - val_loss: 3.5857 - val_accuracy: 0.2907\n",
            "Epoch 4/20\n",
            "47919/47919 [==============================] - 28s 582us/step - loss: 0.1498 - accuracy: 0.9550 - val_loss: 2.9285 - val_accuracy: 0.2907\n",
            "Epoch 5/20\n",
            "47919/47919 [==============================] - 28s 582us/step - loss: 0.1161 - accuracy: 0.9649 - val_loss: 2.3115 - val_accuracy: 0.2907\n",
            "Epoch 6/20\n",
            "47919/47919 [==============================] - 28s 580us/step - loss: 0.0926 - accuracy: 0.9730 - val_loss: 2.0296 - val_accuracy: 0.2907\n",
            "Epoch 7/20\n",
            "47919/47919 [==============================] - 28s 583us/step - loss: 0.0740 - accuracy: 0.9784 - val_loss: 1.6148 - val_accuracy: 0.3022\n",
            "Epoch 8/20\n",
            "47919/47919 [==============================] - 28s 585us/step - loss: 0.0623 - accuracy: 0.9821 - val_loss: 1.4265 - val_accuracy: 0.3343\n",
            "Epoch 9/20\n",
            "47919/47919 [==============================] - 28s 584us/step - loss: 0.0537 - accuracy: 0.9846 - val_loss: 1.2486 - val_accuracy: 0.5447\n",
            "Epoch 10/20\n",
            "47919/47919 [==============================] - 28s 584us/step - loss: 0.0453 - accuracy: 0.9872 - val_loss: 1.0571 - val_accuracy: 0.7189\n",
            "Epoch 11/20\n",
            "47919/47919 [==============================] - 28s 583us/step - loss: 0.0396 - accuracy: 0.9885 - val_loss: 0.9235 - val_accuracy: 0.7943\n",
            "Epoch 12/20\n",
            "47919/47919 [==============================] - 28s 587us/step - loss: 0.0353 - accuracy: 0.9895 - val_loss: 0.8246 - val_accuracy: 0.7943\n",
            "Epoch 13/20\n",
            "47919/47919 [==============================] - 28s 580us/step - loss: 0.0311 - accuracy: 0.9908 - val_loss: 0.6929 - val_accuracy: 0.8074\n",
            "Epoch 14/20\n",
            "47919/47919 [==============================] - 28s 586us/step - loss: 0.0287 - accuracy: 0.9922 - val_loss: 0.5857 - val_accuracy: 0.8407\n",
            "Epoch 15/20\n",
            "47919/47919 [==============================] - 29s 595us/step - loss: 0.0269 - accuracy: 0.9921 - val_loss: 0.4167 - val_accuracy: 0.8783\n",
            "Epoch 16/20\n",
            "47919/47919 [==============================] - 28s 586us/step - loss: 0.0245 - accuracy: 0.9927 - val_loss: 0.3230 - val_accuracy: 0.9024\n",
            "Epoch 17/20\n",
            "47919/47919 [==============================] - 28s 583us/step - loss: 0.0226 - accuracy: 0.9938 - val_loss: 0.3048 - val_accuracy: 0.9013\n",
            "Epoch 18/20\n",
            "47919/47919 [==============================] - 28s 582us/step - loss: 0.0213 - accuracy: 0.9936 - val_loss: 0.2213 - val_accuracy: 0.9280\n",
            "Epoch 19/20\n",
            "47919/47919 [==============================] - 27s 573us/step - loss: 0.0195 - accuracy: 0.9942 - val_loss: 0.1899 - val_accuracy: 0.9280\n",
            "Epoch 20/20\n",
            "47919/47919 [==============================] - 27s 572us/step - loss: 0.0185 - accuracy: 0.9944 - val_loss: 0.1599 - val_accuracy: 0.9669\n"
          ],
          "name": "stdout"
        },
        {
          "output_type": "display_data",
          "data": {
            "image/png": "[encoded data removed]",
            "text/plain": [
              "<Figure size 720x432 with 1 Axes>"
            ]
          },
          "metadata": {
            "tags": [],
            "needs_background": "light"
          }
        },
        {
          "output_type": "display_data",
          "data": {
            "image/png": "[encoded data removed]",
            "text/plain": [
              "<Figure size 432x288 with 1 Axes>"
            ]
          },
          "metadata": {
            "tags": [],
            "needs_background": "light"
          }
        }
      ]
    },
    {
      "cell_type": "code",
      "metadata": {
        "id": "0jY1F4HD3b9l",
        "colab_type": "code",
        "colab": {
          "base_uri": "https://localhost:8080/",
          "height": 51
        },
        "outputId": "0c39defd-14dd-4643-c625-c57ab155e65d"
      },
      "source": [
        "results = model.evaluate(X_test, y_test)\n",
        "print(results)"
      ],
      "execution_count": 49,
      "outputs": [
        {
          "output_type": "stream",
          "text": [
            "4741/4741 [==============================] - 4s 745us/step\n",
            "[0.7814383024066542, 0.8470786809921265]\n"
          ],
          "name": "stdout"
        }
      ]
    }
  ]
}