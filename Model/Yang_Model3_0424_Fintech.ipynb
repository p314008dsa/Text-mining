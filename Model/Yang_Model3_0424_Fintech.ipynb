{
  "nbformat": 4,
  "nbformat_minor": 0,
  "metadata": {
    "colab": {
      "name": "Yang_Model3_0424_Fintech.ipynb",
      "provenance": [],
      "collapsed_sections": []
    },
    "kernelspec": {
      "name": "python3",
      "display_name": "Python 3"
    },
    "accelerator": "GPU"
  },
  "cells": [
    {
      "cell_type": "code",
      "metadata": {
        "id": "ZoArW8nbx1gJ",
        "colab_type": "code",
        "colab": {
          "base_uri": "https://localhost:8080/",
          "height": 71
        },
        "outputId": "e053f624-1eff-42d9-ee56-b1c5c00bd51d"
      },
      "source": [
        "# Import packages\n",
        "\n",
        "import pandas as pd \n",
        "import numpy as np\n",
        "import matplotlib\n",
        "import matplotlib.pyplot as plt\n",
        "import seaborn as sns\n",
        "import sklearn\n",
        "\n",
        "\n",
        "import gc #Garbage Collector interface\n",
        "from datetime import datetime \n",
        "from sklearn.model_selection import train_test_split\n",
        "from sklearn.model_selection import KFold"
      ],
      "execution_count": 1,
      "outputs": [
        {
          "output_type": "stream",
          "text": [
            "/usr/local/lib/python3.6/dist-packages/statsmodels/tools/_testing.py:19: FutureWarning: pandas.util.testing is deprecated. Use the functions in the public API at pandas.testing instead.\n",
            "  import pandas.util.testing as tm\n"
          ],
          "name": "stderr"
        }
      ]
    },
    {
      "cell_type": "code",
      "metadata": {
        "id": "gwDjS_W3yI2A",
        "colab_type": "code",
        "colab": {
          "base_uri": "https://localhost:8080/",
          "height": 122
        },
        "outputId": "0247d2ac-f9c3-40da-f9e5-10f4a05d6f93"
      },
      "source": [
        "# import Google Drive 套件\n",
        "from google.colab import drive\n",
        "\n",
        "# 將自己的雲端硬碟掛載上去\n",
        "drive.mount('/content/gdrive')"
      ],
      "execution_count": 2,
      "outputs": [
        {
          "output_type": "stream",
          "text": [
            "Go to this URL in a browser: https://accounts.google.com/o/oauth2/auth?client_id=947318989803-6bn6qk8qdgf4n4g3pfee6491hc0brc4i.apps.googleusercontent.com&redirect_uri=urn%3aietf%3awg%3aoauth%3a2.0%3aoob&response_type=code&scope=email%20https%3a%2f%2fwww.googleapis.com%2fauth%2fdocs.test%20https%3a%2f%2fwww.googleapis.com%2fauth%2fdrive%20https%3a%2f%2fwww.googleapis.com%2fauth%2fdrive.photos.readonly%20https%3a%2f%2fwww.googleapis.com%2fauth%2fpeopleapi.readonly\n",
            "\n",
            "Enter your authorization code:\n",
            "··········\n",
            "Mounted at /content/gdrive\n"
          ],
          "name": "stdout"
        }
      ]
    },
    {
      "cell_type": "code",
      "metadata": {
        "id": "6-BwGyTJyUfZ",
        "colab_type": "code",
        "colab": {}
      },
      "source": [
        "# 透過 gdrive/My Drive/... 來存取檔案\n",
        "data_df = pd.read_csv('gdrive/My Drive/TEJ_Whole_year_Jieba.csv')"
      ],
      "execution_count": 0,
      "outputs": []
    },
    {
      "cell_type": "code",
      "metadata": {
        "id": "z5Eb3OtFyYp0",
        "colab_type": "code",
        "colab": {
          "base_uri": "https://localhost:8080/",
          "height": 306
        },
        "outputId": "db65d24e-4536-4a4f-ec78-b9a38bbba16c"
      },
      "source": [
        "data_df.head()"
      ],
      "execution_count": 4,
      "outputs": [
        {
          "output_type": "execute_result",
          "data": {
            "text/html": [
              "<div>\n",
              "<style scoped>\n",
              "    .dataframe tbody tr th:only-of-type {\n",
              "        vertical-align: middle;\n",
              "    }\n",
              "\n",
              "    .dataframe tbody tr th {\n",
              "        vertical-align: top;\n",
              "    }\n",
              "\n",
              "    .dataframe thead th {\n",
              "        text-align: right;\n",
              "    }\n",
              "</style>\n",
              "<table border=\"1\" class=\"dataframe\">\n",
              "  <thead>\n",
              "    <tr style=\"text-align: right;\">\n",
              "      <th></th>\n",
              "      <th>個股代號</th>\n",
              "      <th>公司簡稱</th>\n",
              "      <th>事件日</th>\n",
              "      <th>TCRI(年/月)</th>\n",
              "      <th>事件強度</th>\n",
              "      <th>大事件類別</th>\n",
              "      <th>小事件類別</th>\n",
              "      <th>事件內容</th>\n",
              "      <th>content_tokenized</th>\n",
              "    </tr>\n",
              "  </thead>\n",
              "  <tbody>\n",
              "    <tr>\n",
              "      <th>0</th>\n",
              "      <td>1218</td>\n",
              "      <td>泰山</td>\n",
              "      <td>20190101</td>\n",
              "      <td>6(2018/09)</td>\n",
              "      <td>0</td>\n",
              "      <td>M_經營層</td>\n",
              "      <td>MT06_高管異動</td>\n",
              "      <td>發言人林俐婉內部調動，由江巍峰接任。。</td>\n",
              "      <td>發言 人 林俐婉 內部 調動 由 江巍峰 接任</td>\n",
              "    </tr>\n",
              "    <tr>\n",
              "      <th>1</th>\n",
              "      <td>1503</td>\n",
              "      <td>士電</td>\n",
              "      <td>20190101</td>\n",
              "      <td>4(2018/09)</td>\n",
              "      <td>0</td>\n",
              "      <td>M_經營層</td>\n",
              "      <td>MT06_高管異動</td>\n",
              "      <td>內部稽核主管林志強內部調動，由莊文清接任。。</td>\n",
              "      <td>內部 稽核 主管 林志強 內部 調動 由 莊文清 接任</td>\n",
              "    </tr>\n",
              "    <tr>\n",
              "      <th>2</th>\n",
              "      <td>1504</td>\n",
              "      <td>東元</td>\n",
              "      <td>20190101</td>\n",
              "      <td>4(2018/09)</td>\n",
              "      <td>0</td>\n",
              "      <td>M_經營層</td>\n",
              "      <td>MT06_高管異動</td>\n",
              "      <td>會計主管藍俊雄內部調動，由林鴻名接任。。</td>\n",
              "      <td>會計 主管 藍俊雄 內部 調動 由 林鴻名 接任</td>\n",
              "    </tr>\n",
              "    <tr>\n",
              "      <th>3</th>\n",
              "      <td>1709</td>\n",
              "      <td>和益</td>\n",
              "      <td>20190101</td>\n",
              "      <td>5(2018/09)</td>\n",
              "      <td>0</td>\n",
              "      <td>M_經營層</td>\n",
              "      <td>MT06_高管異動</td>\n",
              "      <td>內部稽核主管游本詮內部調動，由曾筱茜接任。。</td>\n",
              "      <td>內部 稽核 主管 游本 詮內部 調動 由 曾筱茜 接任</td>\n",
              "    </tr>\n",
              "    <tr>\n",
              "      <th>4</th>\n",
              "      <td>1721</td>\n",
              "      <td>三晃</td>\n",
              "      <td>20190101</td>\n",
              "      <td>7(2018/09)</td>\n",
              "      <td>0</td>\n",
              "      <td>M_經營層</td>\n",
              "      <td>MT06_高管異動</td>\n",
              "      <td>財務經理洪廷宜內部調動，由王婷渝接任。。</td>\n",
              "      <td>財務 經理 洪廷宜 內部 調動 由 王婷渝 接任</td>\n",
              "    </tr>\n",
              "  </tbody>\n",
              "</table>\n",
              "</div>"
            ],
            "text/plain": [
              "   個股代號            公司簡稱  ...                    事件內容            content_tokenized\n",
              "0  1218  泰山              ...     發言人林俐婉內部調動，由江巍峰接任。。      發言 人 林俐婉 內部 調動 由 江巍峰 接任\n",
              "1  1503  士電              ...  內部稽核主管林志強內部調動，由莊文清接任。。  內部 稽核 主管 林志強 內部 調動 由 莊文清 接任\n",
              "2  1504  東元              ...    會計主管藍俊雄內部調動，由林鴻名接任。。     會計 主管 藍俊雄 內部 調動 由 林鴻名 接任\n",
              "3  1709  和益              ...  內部稽核主管游本詮內部調動，由曾筱茜接任。。  內部 稽核 主管 游本 詮內部 調動 由 曾筱茜 接任\n",
              "4  1721  三晃              ...    財務經理洪廷宜內部調動，由王婷渝接任。。     財務 經理 洪廷宜 內部 調動 由 王婷渝 接任\n",
              "\n",
              "[5 rows x 9 columns]"
            ]
          },
          "metadata": {
            "tags": []
          },
          "execution_count": 4
        }
      ]
    },
    {
      "cell_type": "code",
      "metadata": {
        "id": "FBcvwMzFybDp",
        "colab_type": "code",
        "colab": {
          "base_uri": "https://localhost:8080/",
          "height": 289
        },
        "outputId": "5122bbe7-0206-4ce4-d104-ac1186c6dae4"
      },
      "source": [
        "data_df.info()"
      ],
      "execution_count": 5,
      "outputs": [
        {
          "output_type": "stream",
          "text": [
            "<class 'pandas.core.frame.DataFrame'>\n",
            "RangeIndex: 23703 entries, 0 to 23702\n",
            "Data columns (total 9 columns):\n",
            " #   Column             Non-Null Count  Dtype \n",
            "---  ------             --------------  ----- \n",
            " 0   個股代號               23703 non-null  int64 \n",
            " 1   公司簡稱               22775 non-null  object\n",
            " 2   事件日                23703 non-null  int64 \n",
            " 3   TCRI(年/月)          23703 non-null  object\n",
            " 4   事件強度               23703 non-null  int64 \n",
            " 5   大事件類別              23703 non-null  object\n",
            " 6   小事件類別              23703 non-null  object\n",
            " 7   事件內容               23703 non-null  object\n",
            " 8   content_tokenized  23703 non-null  object\n",
            "dtypes: int64(3), object(6)\n",
            "memory usage: 1.6+ MB\n"
          ],
          "name": "stdout"
        }
      ]
    },
    {
      "cell_type": "code",
      "metadata": {
        "id": "VDrPqxVNyggi",
        "colab_type": "code",
        "colab": {
          "base_uri": "https://localhost:8080/",
          "height": 391
        },
        "outputId": "37701720-5cdb-436a-8bfc-239327ecd4bb"
      },
      "source": [
        "# Data pre-processing\n",
        "\n",
        "import keras\n",
        "MAX_NUM_WORDS = 10000\n",
        "tokenizer = keras .preprocessing.text.Tokenizer(num_words=MAX_NUM_WORDS)\n",
        "\n",
        "corpus = data_df.content_tokenized\n",
        "\n",
        "tokenizer.fit_on_texts(corpus)\n",
        "\n",
        "x = tokenizer.texts_to_sequences(corpus)\n",
        "\n",
        "len(x)\n",
        "\n",
        "x[:1]\n",
        "\n",
        "for seq in x[:1]:\n",
        "    print([tokenizer.index_word[idx] for idx in seq])\n",
        "    \n",
        "for seq in x[:20]:\n",
        "    print(len(seq), seq[:5], ' ...')\n",
        "    \n",
        "max_seq_len = max([\n",
        "    len(seq) for seq in x])\n",
        "\n",
        "max_seq_len\n",
        "\n",
        "MAX_SEQUENCE_LENGTH = 150"
      ],
      "execution_count": 6,
      "outputs": [
        {
          "output_type": "stream",
          "text": [
            "Using TensorFlow backend.\n"
          ],
          "name": "stderr"
        },
        {
          "output_type": "stream",
          "text": [
            "['發言', '人', '內部', '調動', '由', '接任']\n",
            "6 [458, 36, 83, 142, 29]  ...\n",
            "7 [83, 378, 138, 83, 142]  ...\n",
            "6 [422, 138, 83, 142, 29]  ...\n",
            "6 [83, 378, 138, 142, 29]  ...\n",
            "6 [126, 162, 83, 142, 29]  ...\n",
            "6 [294, 138, 83, 142, 29]  ...\n",
            "7 [2598, 246, 29, 87, 246]  ...\n",
            "13 [460, 10, 85, 4, 6171]  ...\n",
            "7 [554, 10, 85, 64, 4]  ...\n",
            "6 [62, 162, 83, 142, 29]  ...\n",
            "6 [62, 162, 83, 142, 29]  ...\n",
            "225 [3046, 848, 2288, 1386, 48]  ...\n",
            "17 [460, 10, 85, 4, 6843]  ...\n",
            "8 [422, 138, 83, 142, 29]  ...\n",
            "6 [126, 162, 83, 142, 29]  ...\n",
            "6 [422, 138, 83, 142, 29]  ...\n",
            "6 [62, 162, 83, 142, 29]  ...\n",
            "6 [294, 138, 83, 142, 29]  ...\n",
            "6 [62, 162, 83, 142, 29]  ...\n",
            "6 [62, 162, 83, 142, 29]  ...\n"
          ],
          "name": "stdout"
        }
      ]
    },
    {
      "cell_type": "code",
      "metadata": {
        "id": "W-RXHELSykeX",
        "colab_type": "code",
        "colab": {}
      },
      "source": [
        "x = keras .preprocessing .sequence .pad_sequences(x, maxlen=MAX_SEQUENCE_LENGTH)"
      ],
      "execution_count": 0,
      "outputs": []
    },
    {
      "cell_type": "markdown",
      "metadata": {
        "id": "CMs0Al69yqSi",
        "colab_type": "text"
      },
      "source": [
        "# Predict \"事件強度\""
      ]
    },
    {
      "cell_type": "code",
      "metadata": {
        "id": "xwO4SeyJypkK",
        "colab_type": "code",
        "colab": {}
      },
      "source": [
        "y = data_df[\"事件強度\"]"
      ],
      "execution_count": 0,
      "outputs": []
    },
    {
      "cell_type": "code",
      "metadata": {
        "id": "Q7DpDbKI0_pv",
        "colab_type": "code",
        "colab": {}
      },
      "source": [
        "# Split data to training data and testing data \n",
        "from sklearn.model_selection import train_test_split\n",
        "\n",
        "X_train, X_test, y_train, y_test = train_test_split(x, y, test_size=0.2, random_state=42)"
      ],
      "execution_count": 0,
      "outputs": []
    },
    {
      "cell_type": "code",
      "metadata": {
        "id": "gTl1RvAK3oUW",
        "colab_type": "code",
        "colab": {
          "base_uri": "https://localhost:8080/",
          "height": 153
        },
        "outputId": "be0cd182-a3c2-418f-b107-aa5c1e6c42b6"
      },
      "source": [
        "y_train.value_counts()"
      ],
      "execution_count": 11,
      "outputs": [
        {
          "output_type": "execute_result",
          "data": {
            "text/plain": [
              "-1    8557\n",
              " 0    6722\n",
              " 1    2807\n",
              "-2     521\n",
              "-3     219\n",
              " 2      76\n",
              " 3      60\n",
              "Name: 事件強度, dtype: int64"
            ]
          },
          "metadata": {
            "tags": []
          },
          "execution_count": 11
        }
      ]
    },
    {
      "cell_type": "code",
      "metadata": {
        "id": "Yqw7_zjP52Uv",
        "colab_type": "code",
        "colab": {
          "base_uri": "https://localhost:8080/",
          "height": 626
        },
        "outputId": "96888a5e-4398-4a6f-e2d7-d8f326846dba"
      },
      "source": [
        "# Visualize the proportion of each target class\n",
        "\n",
        "plt.figure(figsize=(10,5))\n",
        "sns.countplot(y_train)"
      ],
      "execution_count": 12,
      "outputs": [
        {
          "output_type": "execute_result",
          "data": {
            "text/plain": [
              "<matplotlib.axes._subplots.AxesSubplot at 0x7f415ad61208>"
            ]
          },
          "metadata": {
            "tags": []
          },
          "execution_count": 12
        },
        {
          "output_type": "stream",
          "text": [
            "/usr/local/lib/python3.6/dist-packages/matplotlib/backends/backend_agg.py:214: RuntimeWarning: Glyph 20107 missing from current font.\n",
            "  font.set_text(s, 0.0, flags=flags)\n",
            "/usr/local/lib/python3.6/dist-packages/matplotlib/backends/backend_agg.py:214: RuntimeWarning: Glyph 20214 missing from current font.\n",
            "  font.set_text(s, 0.0, flags=flags)\n",
            "/usr/local/lib/python3.6/dist-packages/matplotlib/backends/backend_agg.py:214: RuntimeWarning: Glyph 24375 missing from current font.\n",
            "  font.set_text(s, 0.0, flags=flags)\n",
            "/usr/local/lib/python3.6/dist-packages/matplotlib/backends/backend_agg.py:214: RuntimeWarning: Glyph 24230 missing from current font.\n",
            "  font.set_text(s, 0.0, flags=flags)\n",
            "/usr/local/lib/python3.6/dist-packages/matplotlib/backends/backend_agg.py:183: RuntimeWarning: Glyph 20107 missing from current font.\n",
            "  font.set_text(s, 0, flags=flags)\n",
            "/usr/local/lib/python3.6/dist-packages/matplotlib/backends/backend_agg.py:183: RuntimeWarning: Glyph 20214 missing from current font.\n",
            "  font.set_text(s, 0, flags=flags)\n",
            "/usr/local/lib/python3.6/dist-packages/matplotlib/backends/backend_agg.py:183: RuntimeWarning: Glyph 24375 missing from current font.\n",
            "  font.set_text(s, 0, flags=flags)\n",
            "/usr/local/lib/python3.6/dist-packages/matplotlib/backends/backend_agg.py:183: RuntimeWarning: Glyph 24230 missing from current font.\n",
            "  font.set_text(s, 0, flags=flags)\n"
          ],
          "name": "stderr"
        },
        {
          "output_type": "display_data",
          "data": {
            "image/png": "[encoded data removed]",
            "text/plain": [
              "<Figure size 720x360 with 1 Axes>"
            ]
          },
          "metadata": {
            "tags": [],
            "needs_background": "light"
          }
        }
      ]
    },
    {
      "cell_type": "code",
      "metadata": {
        "id": "vm4haU6A172f",
        "colab_type": "code",
        "colab": {}
      },
      "source": [
        "# Calculate class weight\n",
        "\n",
        "# Let's import the module first\n",
        "from sklearn.utils import class_weight\n",
        "\n",
        "# In order to calculate the class weight do the following\n",
        "class_weights = class_weight.compute_class_weight(class_weight = 'balanced', classes = np.unique(y_train), y = y_train)"
      ],
      "execution_count": 0,
      "outputs": []
    },
    {
      "cell_type": "code",
      "metadata": {
        "id": "gj4yikkB40X8",
        "colab_type": "code",
        "colab": {}
      },
      "source": [
        "# Convert dataframes to numpy arrays\n",
        "\n",
        "y_train = np.asarray(pd.get_dummies(y_train))\n",
        "y_test = np.asarray(pd.get_dummies(y_test))"
      ],
      "execution_count": 0,
      "outputs": []
    },
    {
      "cell_type": "markdown",
      "metadata": {
        "id": "0zOg_IEA7b2Y",
        "colab_type": "text"
      },
      "source": [
        "## Model 1 : Predict 7 classes:\n",
        "\n",
        "25000 features\n",
        "\n",
        "30 epochs"
      ]
    },
    {
      "cell_type": "code",
      "metadata": {
        "id": "w3SqjC-47QGo",
        "colab_type": "code",
        "colab": {
          "base_uri": "https://localhost:8080/",
          "height": 1000
        },
        "outputId": "d69f38d0-a549-45de-98bf-0590c686de50"
      },
      "source": [
        "# Build our neural network model with LSTM\n",
        "\n",
        "from keras import models\n",
        "from keras import layers\n",
        "\n",
        "max_features = 25000\n",
        "\n",
        "from keras.layers import LSTM\n",
        "model = models.Sequential()\n",
        "model.add(layers.Embedding(max_features, 100)) \n",
        "model.add(layers.LSTM(32))\n",
        "model.add(layers.Dense(7, activation='softmax'))\n",
        "\n",
        "model.compile(optimizer='adam',\n",
        "              loss='categorical_crossentropy',\n",
        "              metrics=['accuracy'])\n",
        "\n",
        "# Iterate on your training data by calling the fit() method of your model\n",
        "history = model.fit(X_train, y_train,\n",
        "                    epochs=30,\n",
        "                    batch_size=500,\n",
        "                   validation_split=0.2,\n",
        "                    class_weight = class_weights)\n",
        "\n",
        "# plot the results of loss values from the training set and validtion set\n",
        "history_dict = history.history\n",
        "loss_values = history_dict['loss']\n",
        "val_loss_values = history_dict['val_loss']\n",
        "\n",
        "epochs = range(1, len(history_dict['accuracy']) + 1)\n",
        "\n",
        "plt.figure(figsize=(10,6))\n",
        "plt.plot(epochs, loss_values, 'bo', label='Training loss')\n",
        "plt.plot(epochs, val_loss_values, 'b', label='Validation loss')\n",
        "plt.title('Training and validation loss')\n",
        "plt.xlabel('Epochs')\n",
        "plt.ylabel('Loss')\n",
        "plt.legend()\n",
        "plt.show()\n",
        "\n",
        "\n",
        "# plot the results of accuracy from the training set and validtion set\n",
        "acc = history_dict['accuracy']\n",
        "val_acc = history_dict['val_accuracy']\n",
        "plt.plot(epochs, acc, 'bo', label='Training acc')\n",
        "plt.plot(epochs, val_acc, 'b', label='Validation acc')\n",
        "plt.title('Training and validation accuracy')\n",
        "plt.xlabel('Epochs')\n",
        "plt.ylabel('Accuracy')\n",
        "plt.legend()\n",
        "plt.show()"
      ],
      "execution_count": 16,
      "outputs": [
        {
          "output_type": "stream",
          "text": [
            "/usr/local/lib/python3.6/dist-packages/tensorflow/python/framework/indexed_slices.py:434: UserWarning: Converting sparse IndexedSlices to a dense Tensor of unknown shape. This may consume a large amount of memory.\n",
            "  \"Converting sparse IndexedSlices to a dense Tensor of unknown shape. \"\n"
          ],
          "name": "stderr"
        },
        {
          "output_type": "stream",
          "text": [
            "Train on 15169 samples, validate on 3793 samples\n",
            "Epoch 1/30\n",
            "15169/15169 [==============================] - 8s 532us/step - loss: 1.6289 - accuracy: 0.5428 - val_loss: 1.0973 - val_accuracy: 0.6359\n",
            "Epoch 2/30\n",
            "15169/15169 [==============================] - 8s 509us/step - loss: 0.8955 - accuracy: 0.7145 - val_loss: 0.7437 - val_accuracy: 0.7395\n",
            "Epoch 3/30\n",
            "15169/15169 [==============================] - 8s 508us/step - loss: 0.5848 - accuracy: 0.8155 - val_loss: 0.5572 - val_accuracy: 0.8281\n",
            "Epoch 4/30\n",
            "15169/15169 [==============================] - 8s 501us/step - loss: 0.4233 - accuracy: 0.8753 - val_loss: 0.4937 - val_accuracy: 0.8416\n",
            "Epoch 5/30\n",
            "15169/15169 [==============================] - 8s 521us/step - loss: 0.3334 - accuracy: 0.9017 - val_loss: 0.4803 - val_accuracy: 0.8442\n",
            "Epoch 6/30\n",
            "15169/15169 [==============================] - 8s 518us/step - loss: 0.2744 - accuracy: 0.9205 - val_loss: 0.4759 - val_accuracy: 0.8492\n",
            "Epoch 7/30\n",
            "15169/15169 [==============================] - 8s 529us/step - loss: 0.2369 - accuracy: 0.9314 - val_loss: 0.4831 - val_accuracy: 0.8487\n",
            "Epoch 8/30\n",
            "15169/15169 [==============================] - 8s 504us/step - loss: 0.1953 - accuracy: 0.9467 - val_loss: 0.5162 - val_accuracy: 0.8495\n",
            "Epoch 9/30\n",
            "15169/15169 [==============================] - 8s 519us/step - loss: 0.1682 - accuracy: 0.9535 - val_loss: 0.5250 - val_accuracy: 0.8479\n",
            "Epoch 10/30\n",
            "15169/15169 [==============================] - 8s 525us/step - loss: 0.2066 - accuracy: 0.9374 - val_loss: 0.5287 - val_accuracy: 0.8513\n",
            "Epoch 11/30\n",
            "15169/15169 [==============================] - 8s 509us/step - loss: 0.1520 - accuracy: 0.9573 - val_loss: 0.5248 - val_accuracy: 0.8450\n",
            "Epoch 12/30\n",
            "15169/15169 [==============================] - 8s 511us/step - loss: 0.1254 - accuracy: 0.9666 - val_loss: 0.5484 - val_accuracy: 0.8466\n",
            "Epoch 13/30\n",
            "15169/15169 [==============================] - 8s 514us/step - loss: 0.1179 - accuracy: 0.9677 - val_loss: 0.5819 - val_accuracy: 0.8442\n",
            "Epoch 14/30\n",
            "15169/15169 [==============================] - 8s 500us/step - loss: 0.1000 - accuracy: 0.9717 - val_loss: 0.5720 - val_accuracy: 0.8460\n",
            "Epoch 15/30\n",
            "15169/15169 [==============================] - 8s 499us/step - loss: 0.0865 - accuracy: 0.9759 - val_loss: 0.5824 - val_accuracy: 0.8416\n",
            "Epoch 16/30\n",
            "15169/15169 [==============================] - 8s 504us/step - loss: 0.0891 - accuracy: 0.9737 - val_loss: 0.5746 - val_accuracy: 0.8474\n",
            "Epoch 17/30\n",
            "15169/15169 [==============================] - 8s 505us/step - loss: 0.0742 - accuracy: 0.9783 - val_loss: 0.6186 - val_accuracy: 0.8423\n",
            "Epoch 18/30\n",
            "15169/15169 [==============================] - 8s 509us/step - loss: 0.0687 - accuracy: 0.9808 - val_loss: 0.6398 - val_accuracy: 0.8413\n",
            "Epoch 19/30\n",
            "15169/15169 [==============================] - 7s 485us/step - loss: 0.0611 - accuracy: 0.9827 - val_loss: 0.6612 - val_accuracy: 0.8437\n",
            "Epoch 20/30\n",
            "15169/15169 [==============================] - 8s 506us/step - loss: 0.0554 - accuracy: 0.9841 - val_loss: 0.6758 - val_accuracy: 0.8394\n",
            "Epoch 21/30\n",
            "15169/15169 [==============================] - 8s 497us/step - loss: 0.0510 - accuracy: 0.9857 - val_loss: 0.6661 - val_accuracy: 0.8468\n",
            "Epoch 22/30\n",
            "15169/15169 [==============================] - 8s 499us/step - loss: 0.0469 - accuracy: 0.9854 - val_loss: 0.6849 - val_accuracy: 0.8471\n",
            "Epoch 23/30\n",
            "15169/15169 [==============================] - 8s 505us/step - loss: 0.0454 - accuracy: 0.9861 - val_loss: 0.7067 - val_accuracy: 0.8442\n",
            "Epoch 24/30\n",
            "15169/15169 [==============================] - 8s 496us/step - loss: 0.0425 - accuracy: 0.9869 - val_loss: 0.6882 - val_accuracy: 0.8400\n",
            "Epoch 25/30\n",
            "15169/15169 [==============================] - 7s 485us/step - loss: 0.0489 - accuracy: 0.9844 - val_loss: 0.7212 - val_accuracy: 0.8379\n",
            "Epoch 26/30\n",
            "15169/15169 [==============================] - 8s 502us/step - loss: 0.0451 - accuracy: 0.9860 - val_loss: 0.7112 - val_accuracy: 0.8429\n",
            "Epoch 27/30\n",
            "15169/15169 [==============================] - 8s 497us/step - loss: 0.0417 - accuracy: 0.9877 - val_loss: 0.6980 - val_accuracy: 0.8442\n",
            "Epoch 28/30\n",
            "15169/15169 [==============================] - 8s 496us/step - loss: 0.0370 - accuracy: 0.9882 - val_loss: 0.7078 - val_accuracy: 0.8463\n",
            "Epoch 29/30\n",
            "15169/15169 [==============================] - 7s 489us/step - loss: 0.0334 - accuracy: 0.9890 - val_loss: 0.7284 - val_accuracy: 0.8394\n",
            "Epoch 30/30\n",
            "15169/15169 [==============================] - 7s 478us/step - loss: 0.0313 - accuracy: 0.9888 - val_loss: 0.7196 - val_accuracy: 0.8434\n"
          ],
          "name": "stdout"
        },
        {
          "output_type": "display_data",
          "data": {
            "image/png": "[encoded data removed]",
            "text/plain": [
              "<Figure size 720x432 with 1 Axes>"
            ]
          },
          "metadata": {
            "tags": [],
            "needs_background": "light"
          }
        },
        {
          "output_type": "display_data",
          "data": {
            "image/png": "[encoded data removed]",
            "text/plain": [
              "<Figure size 432x288 with 1 Axes>"
            ]
          },
          "metadata": {
            "tags": [],
            "needs_background": "light"
          }
        }
      ]
    },
    {
      "cell_type": "code",
      "metadata": {
        "id": "QE8ioaWX8DlY",
        "colab_type": "code",
        "colab": {
          "base_uri": "https://localhost:8080/",
          "height": 51
        },
        "outputId": "42c52a6b-8f9b-4197-b0ff-d8b4989caa15"
      },
      "source": [
        "results = model.evaluate(X_test, y_test)\n",
        "print(results)"
      ],
      "execution_count": 17,
      "outputs": [
        {
          "output_type": "stream",
          "text": [
            "4741/4741 [==============================] - 3s 631us/step\n",
            "[0.705484966994388, 0.8521409034729004]\n"
          ],
          "name": "stdout"
        }
      ]
    },
    {
      "cell_type": "markdown",
      "metadata": {
        "id": "-v4C-UbS8HIZ",
        "colab_type": "text"
      },
      "source": [
        "# Model 2: Predict 7 classes: Dropout 0.2\n",
        "\n",
        "25000 features\n",
        "\n",
        "30 epochs\n",
        "\n",
        "drop = 0.2, recurrent_dropout=0.2: testing dataset: %"
      ]
    },
    {
      "cell_type": "code",
      "metadata": {
        "id": "-ukJaS7n8H_4",
        "colab_type": "code",
        "colab": {
          "base_uri": "https://localhost:8080/",
          "height": 1000
        },
        "outputId": "55b658f3-9e83-46bd-ff9d-be4984adaefe"
      },
      "source": [
        "# Build our neural network model with LSTM\n",
        "\n",
        "from keras import models\n",
        "from keras import layers\n",
        "\n",
        "max_features = 25000\n",
        "\n",
        "from keras.layers import LSTM\n",
        "model = models.Sequential()\n",
        "model.add(layers.Embedding(max_features, 100)) \n",
        "model.add(layers.LSTM(32,dropout=0.2, recurrent_dropout=0.2)) # Note we use \"dropout\" technique here.\n",
        "model.add(layers.Dense(7, activation='softmax'))\n",
        "\n",
        "model.compile(optimizer='adam',\n",
        "              loss='categorical_crossentropy',\n",
        "              metrics=['accuracy'])\n",
        "\n",
        "# Iterate on your training data by calling the fit() method of your model\n",
        "history = model.fit(X_train, y_train,\n",
        "                    epochs=30,\n",
        "                    batch_size=500,\n",
        "                   validation_split=0.2,\n",
        "                    class_weight = class_weights)\n",
        "\n",
        "# plot the results of loss values from the training set and validtion set\n",
        "history_dict = history.history\n",
        "loss_values = history_dict['loss']\n",
        "val_loss_values = history_dict['val_loss']\n",
        "\n",
        "epochs = range(1, len(history_dict['accuracy']) + 1)\n",
        "\n",
        "plt.figure(figsize=(10,6))\n",
        "plt.plot(epochs, loss_values, 'bo', label='Training loss')\n",
        "plt.plot(epochs, val_loss_values, 'b', label='Validation loss')\n",
        "plt.title('Training and validation loss')\n",
        "plt.xlabel('Epochs')\n",
        "plt.ylabel('Loss')\n",
        "plt.legend()\n",
        "plt.show()\n",
        "\n",
        "\n",
        "# plot the results of accuracy from the training set and validtion set\n",
        "acc = history_dict['accuracy']\n",
        "val_acc = history_dict['val_accuracy']\n",
        "plt.plot(epochs, acc, 'bo', label='Training acc')\n",
        "plt.plot(epochs, val_acc, 'b', label='Validation acc')\n",
        "plt.title('Training and validation accuracy')\n",
        "plt.xlabel('Epochs')\n",
        "plt.ylabel('Accuracy')\n",
        "plt.legend()\n",
        "plt.show()"
      ],
      "execution_count": 22,
      "outputs": [
        {
          "output_type": "stream",
          "text": [
            "/usr/local/lib/python3.6/dist-packages/tensorflow/python/framework/indexed_slices.py:434: UserWarning: Converting sparse IndexedSlices to a dense Tensor of unknown shape. This may consume a large amount of memory.\n",
            "  \"Converting sparse IndexedSlices to a dense Tensor of unknown shape. \"\n"
          ],
          "name": "stderr"
        },
        {
          "output_type": "stream",
          "text": [
            "Train on 15169 samples, validate on 3793 samples\n",
            "Epoch 1/30\n",
            "15169/15169 [==============================] - 9s 578us/step - loss: 1.5889 - accuracy: 0.4503 - val_loss: 1.1791 - val_accuracy: 0.4540\n",
            "Epoch 2/30\n",
            "15169/15169 [==============================] - 8s 547us/step - loss: 1.0029 - accuracy: 0.6432 - val_loss: 0.8137 - val_accuracy: 0.7163\n",
            "Epoch 3/30\n",
            "15169/15169 [==============================] - 8s 560us/step - loss: 0.7108 - accuracy: 0.7536 - val_loss: 0.5970 - val_accuracy: 0.8094\n",
            "Epoch 4/30\n",
            "15169/15169 [==============================] - 8s 559us/step - loss: 0.5229 - accuracy: 0.8402 - val_loss: 0.4972 - val_accuracy: 0.8336\n",
            "Epoch 5/30\n",
            "15169/15169 [==============================] - 8s 560us/step - loss: 0.4143 - accuracy: 0.8708 - val_loss: 0.4659 - val_accuracy: 0.8394\n",
            "Epoch 6/30\n",
            "15169/15169 [==============================] - 8s 553us/step - loss: 0.3508 - accuracy: 0.8881 - val_loss: 0.4532 - val_accuracy: 0.8397\n",
            "Epoch 7/30\n",
            "15169/15169 [==============================] - 8s 550us/step - loss: 0.3026 - accuracy: 0.9058 - val_loss: 0.4560 - val_accuracy: 0.8410\n",
            "Epoch 8/30\n",
            "15169/15169 [==============================] - 9s 561us/step - loss: 0.2657 - accuracy: 0.9186 - val_loss: 0.4698 - val_accuracy: 0.8484\n",
            "Epoch 9/30\n",
            "15169/15169 [==============================] - 8s 559us/step - loss: 0.2316 - accuracy: 0.9290 - val_loss: 0.4788 - val_accuracy: 0.8484\n",
            "Epoch 10/30\n",
            "15169/15169 [==============================] - 8s 552us/step - loss: 0.2042 - accuracy: 0.9381 - val_loss: 0.4920 - val_accuracy: 0.8481\n",
            "Epoch 11/30\n",
            "15169/15169 [==============================] - 8s 541us/step - loss: 0.1797 - accuracy: 0.9477 - val_loss: 0.5215 - val_accuracy: 0.8458\n",
            "Epoch 12/30\n",
            "15169/15169 [==============================] - 8s 550us/step - loss: 0.1619 - accuracy: 0.9514 - val_loss: 0.5289 - val_accuracy: 0.8492\n",
            "Epoch 13/30\n",
            "15169/15169 [==============================] - 8s 545us/step - loss: 0.1469 - accuracy: 0.9568 - val_loss: 0.5407 - val_accuracy: 0.8410\n",
            "Epoch 14/30\n",
            "15169/15169 [==============================] - 8s 541us/step - loss: 0.1334 - accuracy: 0.9590 - val_loss: 0.5702 - val_accuracy: 0.8416\n",
            "Epoch 15/30\n",
            "15169/15169 [==============================] - 8s 549us/step - loss: 0.1195 - accuracy: 0.9643 - val_loss: 0.5887 - val_accuracy: 0.8439\n",
            "Epoch 16/30\n",
            "15169/15169 [==============================] - 8s 545us/step - loss: 0.1108 - accuracy: 0.9660 - val_loss: 0.6069 - val_accuracy: 0.8394\n",
            "Epoch 17/30\n",
            "15169/15169 [==============================] - 8s 541us/step - loss: 0.0990 - accuracy: 0.9711 - val_loss: 0.6149 - val_accuracy: 0.8394\n",
            "Epoch 18/30\n",
            "15169/15169 [==============================] - 8s 549us/step - loss: 0.0903 - accuracy: 0.9735 - val_loss: 0.6210 - val_accuracy: 0.8389\n",
            "Epoch 19/30\n",
            "15169/15169 [==============================] - 8s 544us/step - loss: 0.0833 - accuracy: 0.9772 - val_loss: 0.6413 - val_accuracy: 0.8429\n",
            "Epoch 20/30\n",
            "15169/15169 [==============================] - 8s 557us/step - loss: 0.0773 - accuracy: 0.9781 - val_loss: 0.6598 - val_accuracy: 0.8418\n",
            "Epoch 21/30\n",
            "15169/15169 [==============================] - 8s 546us/step - loss: 0.0713 - accuracy: 0.9800 - val_loss: 0.6887 - val_accuracy: 0.8379\n",
            "Epoch 22/30\n",
            "15169/15169 [==============================] - 8s 553us/step - loss: 0.0661 - accuracy: 0.9818 - val_loss: 0.7003 - val_accuracy: 0.8387\n",
            "Epoch 23/30\n",
            "15169/15169 [==============================] - 9s 562us/step - loss: 0.0652 - accuracy: 0.9820 - val_loss: 0.7195 - val_accuracy: 0.8339\n",
            "Epoch 24/30\n",
            "15169/15169 [==============================] - 8s 548us/step - loss: 0.0630 - accuracy: 0.9823 - val_loss: 0.7198 - val_accuracy: 0.8339\n",
            "Epoch 25/30\n",
            "15169/15169 [==============================] - 8s 537us/step - loss: 0.0546 - accuracy: 0.9853 - val_loss: 0.7252 - val_accuracy: 0.8334\n",
            "Epoch 26/30\n",
            "15169/15169 [==============================] - 8s 545us/step - loss: 0.0538 - accuracy: 0.9853 - val_loss: 0.7269 - val_accuracy: 0.8342\n",
            "Epoch 27/30\n",
            "15169/15169 [==============================] - 8s 550us/step - loss: 0.0494 - accuracy: 0.9863 - val_loss: 0.7341 - val_accuracy: 0.8339\n",
            "Epoch 28/30\n",
            "15169/15169 [==============================] - 8s 542us/step - loss: 0.0468 - accuracy: 0.9872 - val_loss: 0.7404 - val_accuracy: 0.8339\n",
            "Epoch 29/30\n",
            "15169/15169 [==============================] - 8s 542us/step - loss: 0.0436 - accuracy: 0.9875 - val_loss: 0.7620 - val_accuracy: 0.8368\n",
            "Epoch 30/30\n",
            "15169/15169 [==============================] - 9s 561us/step - loss: 0.0427 - accuracy: 0.9882 - val_loss: 0.7558 - val_accuracy: 0.8294\n"
          ],
          "name": "stdout"
        },
        {
          "output_type": "display_data",
          "data": {
            "image/png": "[encoded data removed]",
            "text/plain": [
              "<Figure size 720x432 with 1 Axes>"
            ]
          },
          "metadata": {
            "tags": [],
            "needs_background": "light"
          }
        },
        {
          "output_type": "display_data",
          "data": {
            "image/png": "[encoded data removed]",
            "text/plain": [
              "<Figure size 432x288 with 1 Axes>"
            ]
          },
          "metadata": {
            "tags": [],
            "needs_background": "light"
          }
        }
      ]
    },
    {
      "cell_type": "code",
      "metadata": {
        "id": "amEUDjjs80XO",
        "colab_type": "code",
        "colab": {
          "base_uri": "https://localhost:8080/",
          "height": 51
        },
        "outputId": "afaa9588-3548-4259-d9ff-a40f39d416e8"
      },
      "source": [
        "results = model.evaluate(X_test, y_test)\n",
        "print(results)"
      ],
      "execution_count": 23,
      "outputs": [
        {
          "output_type": "stream",
          "text": [
            "4741/4741 [==============================] - 3s 712us/step\n",
            "[0.7293779332284257, 0.8422273993492126]\n"
          ],
          "name": "stdout"
        }
      ]
    },
    {
      "cell_type": "markdown",
      "metadata": {
        "id": "FsFZQLb-83Tn",
        "colab_type": "text"
      },
      "source": [
        "# Model 3: Predict 7 classes: Dropout 0.5\n",
        "\n",
        "25000 features\n",
        "\n",
        "30 epochs\n",
        "\n",
        "drop = 0.5, recurrent_dropout=0.5: testing dataset: %"
      ]
    },
    {
      "cell_type": "code",
      "metadata": {
        "id": "Jhq0CHtz9IYg",
        "colab_type": "code",
        "colab": {
          "base_uri": "https://localhost:8080/",
          "height": 1000
        },
        "outputId": "015d844c-6567-44ec-8ab1-2e4e78fa39e3"
      },
      "source": [
        "# Build our neural network model with LSTM\n",
        "\n",
        "from keras import models\n",
        "from keras import layers\n",
        "\n",
        "max_features = 25000\n",
        "\n",
        "from keras.layers import LSTM\n",
        "model = models.Sequential()\n",
        "model.add(layers.Embedding(max_features, 100)) \n",
        "model.add(layers.LSTM(32,dropout=0.5, recurrent_dropout=0.5)) # Note we use \"dropout\" technique here.\n",
        "model.add(layers.Dense(7, activation='softmax'))\n",
        "\n",
        "model.compile(optimizer='adam',\n",
        "              loss='categorical_crossentropy',\n",
        "              metrics=['accuracy'])\n",
        "\n",
        "# Iterate on your training data by calling the fit() method of your model\n",
        "history = model.fit(X_train, y_train,\n",
        "                    epochs=30,\n",
        "                    batch_size=500,\n",
        "                   validation_split=0.2,\n",
        "                    class_weight = class_weights)\n",
        "\n",
        "# plot the results of loss values from the training set and validtion set\n",
        "history_dict = history.history\n",
        "loss_values = history_dict['loss']\n",
        "val_loss_values = history_dict['val_loss']\n",
        "\n",
        "epochs = range(1, len(history_dict['accuracy']) + 1)\n",
        "\n",
        "plt.figure(figsize=(10,6))\n",
        "plt.plot(epochs, loss_values, 'bo', label='Training loss')\n",
        "plt.plot(epochs, val_loss_values, 'b', label='Validation loss')\n",
        "plt.title('Training and validation loss')\n",
        "plt.xlabel('Epochs')\n",
        "plt.ylabel('Loss')\n",
        "plt.legend()\n",
        "plt.show()\n",
        "\n",
        "\n",
        "# plot the results of accuracy from the training set and validtion set\n",
        "acc = history_dict['accuracy']\n",
        "val_acc = history_dict['val_accuracy']\n",
        "plt.plot(epochs, acc, 'bo', label='Training acc')\n",
        "plt.plot(epochs, val_acc, 'b', label='Validation acc')\n",
        "plt.title('Training and validation accuracy')\n",
        "plt.xlabel('Epochs')\n",
        "plt.ylabel('Accuracy')\n",
        "plt.legend()\n",
        "plt.show()"
      ],
      "execution_count": 19,
      "outputs": [
        {
          "output_type": "stream",
          "text": [
            "/usr/local/lib/python3.6/dist-packages/tensorflow/python/framework/indexed_slices.py:434: UserWarning: Converting sparse IndexedSlices to a dense Tensor of unknown shape. This may consume a large amount of memory.\n",
            "  \"Converting sparse IndexedSlices to a dense Tensor of unknown shape. \"\n"
          ],
          "name": "stderr"
        },
        {
          "output_type": "stream",
          "text": [
            "Train on 15169 samples, validate on 3793 samples\n",
            "Epoch 1/30\n",
            "15169/15169 [==============================] - 9s 592us/step - loss: 1.6709 - accuracy: 0.5647 - val_loss: 1.0918 - val_accuracy: 0.6736\n",
            "Epoch 2/30\n",
            "15169/15169 [==============================] - 8s 552us/step - loss: 1.0350 - accuracy: 0.6366 - val_loss: 0.8451 - val_accuracy: 0.6878\n",
            "Epoch 3/30\n",
            "15169/15169 [==============================] - 8s 550us/step - loss: 0.7752 - accuracy: 0.7225 - val_loss: 0.6571 - val_accuracy: 0.7361\n",
            "Epoch 4/30\n",
            "15169/15169 [==============================] - 8s 554us/step - loss: 0.5928 - accuracy: 0.8001 - val_loss: 0.5333 - val_accuracy: 0.8220\n",
            "Epoch 5/30\n",
            "15169/15169 [==============================] - 9s 565us/step - loss: 0.4846 - accuracy: 0.8445 - val_loss: 0.4959 - val_accuracy: 0.8292\n",
            "Epoch 6/30\n",
            "15169/15169 [==============================] - 8s 553us/step - loss: 0.4279 - accuracy: 0.8583 - val_loss: 0.4844 - val_accuracy: 0.8373\n",
            "Epoch 7/30\n",
            "15169/15169 [==============================] - 8s 557us/step - loss: 0.3841 - accuracy: 0.8740 - val_loss: 0.4834 - val_accuracy: 0.8413\n",
            "Epoch 8/30\n",
            "15169/15169 [==============================] - 8s 558us/step - loss: 0.3529 - accuracy: 0.8871 - val_loss: 0.4842 - val_accuracy: 0.8400\n",
            "Epoch 9/30\n",
            "15169/15169 [==============================] - 9s 565us/step - loss: 0.3212 - accuracy: 0.9014 - val_loss: 0.4879 - val_accuracy: 0.8394\n",
            "Epoch 10/30\n",
            "15169/15169 [==============================] - 9s 579us/step - loss: 0.2940 - accuracy: 0.9109 - val_loss: 0.5010 - val_accuracy: 0.8458\n",
            "Epoch 11/30\n",
            "15169/15169 [==============================] - 8s 557us/step - loss: 0.2667 - accuracy: 0.9204 - val_loss: 0.5155 - val_accuracy: 0.8474\n",
            "Epoch 12/30\n",
            "15169/15169 [==============================] - 8s 554us/step - loss: 0.2461 - accuracy: 0.9262 - val_loss: 0.5207 - val_accuracy: 0.8426\n",
            "Epoch 13/30\n",
            "15169/15169 [==============================] - 9s 561us/step - loss: 0.2235 - accuracy: 0.9308 - val_loss: 0.5338 - val_accuracy: 0.8437\n",
            "Epoch 14/30\n",
            "15169/15169 [==============================] - 8s 556us/step - loss: 0.2055 - accuracy: 0.9393 - val_loss: 0.5469 - val_accuracy: 0.8400\n",
            "Epoch 15/30\n",
            "15169/15169 [==============================] - 8s 559us/step - loss: 0.1874 - accuracy: 0.9440 - val_loss: 0.5613 - val_accuracy: 0.8450\n",
            "Epoch 16/30\n",
            "15169/15169 [==============================] - 9s 566us/step - loss: 0.1701 - accuracy: 0.9491 - val_loss: 0.5695 - val_accuracy: 0.8431\n",
            "Epoch 17/30\n",
            "15169/15169 [==============================] - 9s 561us/step - loss: 0.1565 - accuracy: 0.9531 - val_loss: 0.5902 - val_accuracy: 0.8434\n",
            "Epoch 18/30\n",
            "15169/15169 [==============================] - 8s 558us/step - loss: 0.1448 - accuracy: 0.9570 - val_loss: 0.5998 - val_accuracy: 0.8439\n",
            "Epoch 19/30\n",
            "15169/15169 [==============================] - 8s 549us/step - loss: 0.1336 - accuracy: 0.9597 - val_loss: 0.6167 - val_accuracy: 0.8445\n",
            "Epoch 20/30\n",
            "15169/15169 [==============================] - 8s 558us/step - loss: 0.1250 - accuracy: 0.9633 - val_loss: 0.6215 - val_accuracy: 0.8410\n",
            "Epoch 21/30\n",
            "15169/15169 [==============================] - 8s 552us/step - loss: 0.1152 - accuracy: 0.9642 - val_loss: 0.6443 - val_accuracy: 0.8439\n",
            "Epoch 22/30\n",
            "15169/15169 [==============================] - 8s 554us/step - loss: 0.1078 - accuracy: 0.9657 - val_loss: 0.6557 - val_accuracy: 0.8410\n",
            "Epoch 23/30\n",
            "15169/15169 [==============================] - 8s 545us/step - loss: 0.1015 - accuracy: 0.9697 - val_loss: 0.6624 - val_accuracy: 0.8384\n",
            "Epoch 24/30\n",
            "15169/15169 [==============================] - 8s 546us/step - loss: 0.0927 - accuracy: 0.9728 - val_loss: 0.6912 - val_accuracy: 0.8426\n",
            "Epoch 25/30\n",
            "15169/15169 [==============================] - 8s 554us/step - loss: 0.0888 - accuracy: 0.9722 - val_loss: 0.6925 - val_accuracy: 0.8466\n",
            "Epoch 26/30\n",
            "15169/15169 [==============================] - 8s 559us/step - loss: 0.0803 - accuracy: 0.9775 - val_loss: 0.7117 - val_accuracy: 0.8402\n",
            "Epoch 27/30\n",
            "15169/15169 [==============================] - 8s 560us/step - loss: 0.0815 - accuracy: 0.9747 - val_loss: 0.7102 - val_accuracy: 0.8379\n",
            "Epoch 28/30\n",
            "15169/15169 [==============================] - 8s 560us/step - loss: 0.0719 - accuracy: 0.9793 - val_loss: 0.7249 - val_accuracy: 0.8371\n",
            "Epoch 29/30\n",
            "15169/15169 [==============================] - 9s 562us/step - loss: 0.0713 - accuracy: 0.9790 - val_loss: 0.7330 - val_accuracy: 0.8365\n",
            "Epoch 30/30\n",
            "15169/15169 [==============================] - 8s 556us/step - loss: 0.0696 - accuracy: 0.9793 - val_loss: 0.7393 - val_accuracy: 0.8360\n"
          ],
          "name": "stdout"
        },
        {
          "output_type": "display_data",
          "data": {
            "image/png": "[encoded data removed]",
            "text/plain": [
              "<Figure size 720x432 with 1 Axes>"
            ]
          },
          "metadata": {
            "tags": [],
            "needs_background": "light"
          }
        },
        {
          "output_type": "display_data",
          "data": {
            "image/png": "[encoded data removed]",
            "text/plain": [
              "<Figure size 432x288 with 1 Axes>"
            ]
          },
          "metadata": {
            "tags": [],
            "needs_background": "light"
          }
        }
      ]
    },
    {
      "cell_type": "code",
      "metadata": {
        "id": "xOVwgPwK9NCW",
        "colab_type": "code",
        "colab": {
          "base_uri": "https://localhost:8080/",
          "height": 51
        },
        "outputId": "f6d083ff-3f7f-4a3e-ea52-26a26c9f0979"
      },
      "source": [
        "results = model.evaluate(X_test, y_test)\n",
        "print(results)"
      ],
      "execution_count": 21,
      "outputs": [
        {
          "output_type": "stream",
          "text": [
            "4741/4741 [==============================] - 3s 694us/step\n",
            "[0.7284191230701335, 0.8428601622581482]\n"
          ],
          "name": "stdout"
        }
      ]
    },
    {
      "cell_type": "markdown",
      "metadata": {
        "id": "y9vn-Fz9Ae43",
        "colab_type": "text"
      },
      "source": [
        "# 預測大事件類別\n",
        "\n",
        "dropout 0.2\n",
        "recurrent dropout 0.2\n",
        "testing dataset accuracy: 96%"
      ]
    },
    {
      "cell_type": "code",
      "metadata": {
        "id": "VJVNxq1CAfSh",
        "colab_type": "code",
        "colab": {}
      },
      "source": [
        "y = np.asarray(data_df[\"大事件類別\"])\n",
        "\n",
        "y = np.asarray(pd.get_dummies(y))\n",
        "\n",
        "# Split data to training data and testing data \n",
        "from sklearn.model_selection import train_test_split\n",
        "\n",
        "X_train, X_test, y_train, y_test = train_test_split(x, y, test_size=0.2, random_state=42)"
      ],
      "execution_count": 0,
      "outputs": []
    },
    {
      "cell_type": "code",
      "metadata": {
        "id": "fgmijJ1WAz6Y",
        "colab_type": "code",
        "colab": {}
      },
      "source": [
        "y = data_df[\"大事件類別\"]"
      ],
      "execution_count": 0,
      "outputs": []
    },
    {
      "cell_type": "code",
      "metadata": {
        "id": "aa4ERfgwBAYK",
        "colab_type": "code",
        "colab": {}
      },
      "source": [
        "# Split data to training data and testing data \n",
        "from sklearn.model_selection import train_test_split\n",
        "\n",
        "X_train, X_test, y_train, y_test = train_test_split(x, y, test_size=0.2, random_state=42)"
      ],
      "execution_count": 0,
      "outputs": []
    },
    {
      "cell_type": "code",
      "metadata": {
        "id": "tlvnkztkBQt6",
        "colab_type": "code",
        "colab": {
          "base_uri": "https://localhost:8080/",
          "height": 119
        },
        "outputId": "2ca268dd-bf1f-40c0-87eb-131f921194ff"
      },
      "source": [
        "y_train.value_counts()"
      ],
      "execution_count": 35,
      "outputs": [
        {
          "output_type": "execute_result",
          "data": {
            "text/plain": [
              "I_產業前景       12111\n",
              "M_經營層         4856\n",
              "F_市場交易        1176\n",
              "R_危機           410\n",
              "A_會計/財報分析      409\n",
              "Name: 大事件類別, dtype: int64"
            ]
          },
          "metadata": {
            "tags": []
          },
          "execution_count": 35
        }
      ]
    },
    {
      "cell_type": "code",
      "metadata": {
        "id": "A4Y0KhQtBpq-",
        "colab_type": "code",
        "colab": {
          "base_uri": "https://localhost:8080/",
          "height": 1000
        },
        "outputId": "d3773cce-3ba1-4d97-bb3e-c7f1f92c3a7b"
      },
      "source": [
        "# Visualize the proportion of each target class\n",
        "\n",
        "plt.figure(figsize=(10,5))\n",
        "sns.countplot(y_train)"
      ],
      "execution_count": 36,
      "outputs": [
        {
          "output_type": "execute_result",
          "data": {
            "text/plain": [
              "<matplotlib.axes._subplots.AxesSubplot at 0x7f40a663b400>"
            ]
          },
          "metadata": {
            "tags": []
          },
          "execution_count": 36
        },
        {
          "output_type": "stream",
          "text": [
            "/usr/local/lib/python3.6/dist-packages/matplotlib/backends/backend_agg.py:214: RuntimeWarning: Glyph 29986 missing from current font.\n",
            "  font.set_text(s, 0.0, flags=flags)\n",
            "/usr/local/lib/python3.6/dist-packages/matplotlib/backends/backend_agg.py:214: RuntimeWarning: Glyph 26989 missing from current font.\n",
            "  font.set_text(s, 0.0, flags=flags)\n",
            "/usr/local/lib/python3.6/dist-packages/matplotlib/backends/backend_agg.py:214: RuntimeWarning: Glyph 21069 missing from current font.\n",
            "  font.set_text(s, 0.0, flags=flags)\n",
            "/usr/local/lib/python3.6/dist-packages/matplotlib/backends/backend_agg.py:214: RuntimeWarning: Glyph 26223 missing from current font.\n",
            "  font.set_text(s, 0.0, flags=flags)\n",
            "/usr/local/lib/python3.6/dist-packages/matplotlib/backends/backend_agg.py:214: RuntimeWarning: Glyph 32147 missing from current font.\n",
            "  font.set_text(s, 0.0, flags=flags)\n",
            "/usr/local/lib/python3.6/dist-packages/matplotlib/backends/backend_agg.py:214: RuntimeWarning: Glyph 29151 missing from current font.\n",
            "  font.set_text(s, 0.0, flags=flags)\n",
            "/usr/local/lib/python3.6/dist-packages/matplotlib/backends/backend_agg.py:214: RuntimeWarning: Glyph 23652 missing from current font.\n",
            "  font.set_text(s, 0.0, flags=flags)\n",
            "/usr/local/lib/python3.6/dist-packages/matplotlib/backends/backend_agg.py:214: RuntimeWarning: Glyph 24066 missing from current font.\n",
            "  font.set_text(s, 0.0, flags=flags)\n",
            "/usr/local/lib/python3.6/dist-packages/matplotlib/backends/backend_agg.py:214: RuntimeWarning: Glyph 22580 missing from current font.\n",
            "  font.set_text(s, 0.0, flags=flags)\n",
            "/usr/local/lib/python3.6/dist-packages/matplotlib/backends/backend_agg.py:214: RuntimeWarning: Glyph 20132 missing from current font.\n",
            "  font.set_text(s, 0.0, flags=flags)\n",
            "/usr/local/lib/python3.6/dist-packages/matplotlib/backends/backend_agg.py:214: RuntimeWarning: Glyph 26131 missing from current font.\n",
            "  font.set_text(s, 0.0, flags=flags)\n",
            "/usr/local/lib/python3.6/dist-packages/matplotlib/backends/backend_agg.py:214: RuntimeWarning: Glyph 26371 missing from current font.\n",
            "  font.set_text(s, 0.0, flags=flags)\n",
            "/usr/local/lib/python3.6/dist-packages/matplotlib/backends/backend_agg.py:214: RuntimeWarning: Glyph 35336 missing from current font.\n",
            "  font.set_text(s, 0.0, flags=flags)\n",
            "/usr/local/lib/python3.6/dist-packages/matplotlib/backends/backend_agg.py:214: RuntimeWarning: Glyph 36001 missing from current font.\n",
            "  font.set_text(s, 0.0, flags=flags)\n",
            "/usr/local/lib/python3.6/dist-packages/matplotlib/backends/backend_agg.py:214: RuntimeWarning: Glyph 22577 missing from current font.\n",
            "  font.set_text(s, 0.0, flags=flags)\n",
            "/usr/local/lib/python3.6/dist-packages/matplotlib/backends/backend_agg.py:214: RuntimeWarning: Glyph 20998 missing from current font.\n",
            "  font.set_text(s, 0.0, flags=flags)\n",
            "/usr/local/lib/python3.6/dist-packages/matplotlib/backends/backend_agg.py:214: RuntimeWarning: Glyph 26512 missing from current font.\n",
            "  font.set_text(s, 0.0, flags=flags)\n",
            "/usr/local/lib/python3.6/dist-packages/matplotlib/backends/backend_agg.py:214: RuntimeWarning: Glyph 21361 missing from current font.\n",
            "  font.set_text(s, 0.0, flags=flags)\n",
            "/usr/local/lib/python3.6/dist-packages/matplotlib/backends/backend_agg.py:214: RuntimeWarning: Glyph 27231 missing from current font.\n",
            "  font.set_text(s, 0.0, flags=flags)\n",
            "/usr/local/lib/python3.6/dist-packages/matplotlib/backends/backend_agg.py:183: RuntimeWarning: Glyph 29986 missing from current font.\n",
            "  font.set_text(s, 0, flags=flags)\n",
            "/usr/local/lib/python3.6/dist-packages/matplotlib/backends/backend_agg.py:183: RuntimeWarning: Glyph 26989 missing from current font.\n",
            "  font.set_text(s, 0, flags=flags)\n",
            "/usr/local/lib/python3.6/dist-packages/matplotlib/backends/backend_agg.py:183: RuntimeWarning: Glyph 21069 missing from current font.\n",
            "  font.set_text(s, 0, flags=flags)\n",
            "/usr/local/lib/python3.6/dist-packages/matplotlib/backends/backend_agg.py:183: RuntimeWarning: Glyph 26223 missing from current font.\n",
            "  font.set_text(s, 0, flags=flags)\n",
            "/usr/local/lib/python3.6/dist-packages/matplotlib/backends/backend_agg.py:183: RuntimeWarning: Glyph 32147 missing from current font.\n",
            "  font.set_text(s, 0, flags=flags)\n",
            "/usr/local/lib/python3.6/dist-packages/matplotlib/backends/backend_agg.py:183: RuntimeWarning: Glyph 29151 missing from current font.\n",
            "  font.set_text(s, 0, flags=flags)\n",
            "/usr/local/lib/python3.6/dist-packages/matplotlib/backends/backend_agg.py:183: RuntimeWarning: Glyph 23652 missing from current font.\n",
            "  font.set_text(s, 0, flags=flags)\n",
            "/usr/local/lib/python3.6/dist-packages/matplotlib/backends/backend_agg.py:183: RuntimeWarning: Glyph 24066 missing from current font.\n",
            "  font.set_text(s, 0, flags=flags)\n",
            "/usr/local/lib/python3.6/dist-packages/matplotlib/backends/backend_agg.py:183: RuntimeWarning: Glyph 22580 missing from current font.\n",
            "  font.set_text(s, 0, flags=flags)\n",
            "/usr/local/lib/python3.6/dist-packages/matplotlib/backends/backend_agg.py:183: RuntimeWarning: Glyph 20132 missing from current font.\n",
            "  font.set_text(s, 0, flags=flags)\n",
            "/usr/local/lib/python3.6/dist-packages/matplotlib/backends/backend_agg.py:183: RuntimeWarning: Glyph 26131 missing from current font.\n",
            "  font.set_text(s, 0, flags=flags)\n",
            "/usr/local/lib/python3.6/dist-packages/matplotlib/backends/backend_agg.py:183: RuntimeWarning: Glyph 26371 missing from current font.\n",
            "  font.set_text(s, 0, flags=flags)\n",
            "/usr/local/lib/python3.6/dist-packages/matplotlib/backends/backend_agg.py:183: RuntimeWarning: Glyph 35336 missing from current font.\n",
            "  font.set_text(s, 0, flags=flags)\n",
            "/usr/local/lib/python3.6/dist-packages/matplotlib/backends/backend_agg.py:183: RuntimeWarning: Glyph 36001 missing from current font.\n",
            "  font.set_text(s, 0, flags=flags)\n",
            "/usr/local/lib/python3.6/dist-packages/matplotlib/backends/backend_agg.py:183: RuntimeWarning: Glyph 22577 missing from current font.\n",
            "  font.set_text(s, 0, flags=flags)\n",
            "/usr/local/lib/python3.6/dist-packages/matplotlib/backends/backend_agg.py:183: RuntimeWarning: Glyph 20998 missing from current font.\n",
            "  font.set_text(s, 0, flags=flags)\n",
            "/usr/local/lib/python3.6/dist-packages/matplotlib/backends/backend_agg.py:183: RuntimeWarning: Glyph 26512 missing from current font.\n",
            "  font.set_text(s, 0, flags=flags)\n",
            "/usr/local/lib/python3.6/dist-packages/matplotlib/backends/backend_agg.py:183: RuntimeWarning: Glyph 21361 missing from current font.\n",
            "  font.set_text(s, 0, flags=flags)\n",
            "/usr/local/lib/python3.6/dist-packages/matplotlib/backends/backend_agg.py:183: RuntimeWarning: Glyph 27231 missing from current font.\n",
            "  font.set_text(s, 0, flags=flags)\n",
            "/usr/local/lib/python3.6/dist-packages/matplotlib/backends/backend_agg.py:214: RuntimeWarning: Glyph 22823 missing from current font.\n",
            "  font.set_text(s, 0.0, flags=flags)\n",
            "/usr/local/lib/python3.6/dist-packages/matplotlib/backends/backend_agg.py:214: RuntimeWarning: Glyph 20107 missing from current font.\n",
            "  font.set_text(s, 0.0, flags=flags)\n",
            "/usr/local/lib/python3.6/dist-packages/matplotlib/backends/backend_agg.py:214: RuntimeWarning: Glyph 20214 missing from current font.\n",
            "  font.set_text(s, 0.0, flags=flags)\n",
            "/usr/local/lib/python3.6/dist-packages/matplotlib/backends/backend_agg.py:214: RuntimeWarning: Glyph 39006 missing from current font.\n",
            "  font.set_text(s, 0.0, flags=flags)\n",
            "/usr/local/lib/python3.6/dist-packages/matplotlib/backends/backend_agg.py:214: RuntimeWarning: Glyph 21029 missing from current font.\n",
            "  font.set_text(s, 0.0, flags=flags)\n",
            "/usr/local/lib/python3.6/dist-packages/matplotlib/backends/backend_agg.py:183: RuntimeWarning: Glyph 22823 missing from current font.\n",
            "  font.set_text(s, 0, flags=flags)\n",
            "/usr/local/lib/python3.6/dist-packages/matplotlib/backends/backend_agg.py:183: RuntimeWarning: Glyph 20107 missing from current font.\n",
            "  font.set_text(s, 0, flags=flags)\n",
            "/usr/local/lib/python3.6/dist-packages/matplotlib/backends/backend_agg.py:183: RuntimeWarning: Glyph 20214 missing from current font.\n",
            "  font.set_text(s, 0, flags=flags)\n",
            "/usr/local/lib/python3.6/dist-packages/matplotlib/backends/backend_agg.py:183: RuntimeWarning: Glyph 39006 missing from current font.\n",
            "  font.set_text(s, 0, flags=flags)\n",
            "/usr/local/lib/python3.6/dist-packages/matplotlib/backends/backend_agg.py:183: RuntimeWarning: Glyph 21029 missing from current font.\n",
            "  font.set_text(s, 0, flags=flags)\n"
          ],
          "name": "stderr"
        },
        {
          "output_type": "display_data",
          "data": {
            "image/png": "[encoded data removed]",
            "text/plain": [
              "<Figure size 720x360 with 1 Axes>"
            ]
          },
          "metadata": {
            "tags": [],
            "needs_background": "light"
          }
        }
      ]
    },
    {
      "cell_type": "code",
      "metadata": {
        "id": "8yB8jdFtBUre",
        "colab_type": "code",
        "colab": {}
      },
      "source": [
        "# Calculate class weight\n",
        "\n",
        "# Let's import the module first\n",
        "from sklearn.utils import class_weight\n",
        "\n",
        "# In order to calculate the class weight do the following\n",
        "class_weights = class_weight.compute_class_weight(class_weight = 'balanced', classes = np.unique(y_train), y = y_train)"
      ],
      "execution_count": 0,
      "outputs": []
    },
    {
      "cell_type": "code",
      "metadata": {
        "id": "M7sUNtx6BVUa",
        "colab_type": "code",
        "colab": {}
      },
      "source": [
        "# Convert dataframes to numpy arrays\n",
        "\n",
        "y_train = np.asarray(pd.get_dummies(y_train))\n",
        "y_test = np.asarray(pd.get_dummies(y_test))"
      ],
      "execution_count": 0,
      "outputs": []
    },
    {
      "cell_type": "code",
      "metadata": {
        "id": "uJDBHbQEBdAc",
        "colab_type": "code",
        "colab": {
          "base_uri": "https://localhost:8080/",
          "height": 1000
        },
        "outputId": "aaedccbf-b3fb-4a7a-f58f-b2bc46cf77c5"
      },
      "source": [
        "# Build our neural network model with LSTM\n",
        "\n",
        "from keras import models\n",
        "from keras import layers\n",
        "\n",
        "max_features = 25000\n",
        "\n",
        "from keras.layers import LSTM\n",
        "model = models.Sequential()\n",
        "model.add(layers.Embedding(max_features, 100)) \n",
        "model.add(layers.LSTM(32,dropout=0.2, recurrent_dropout=0.2)) # Note we use \"dropout\" technique here.\n",
        "model.add(layers.Dense(5, activation='softmax'))\n",
        "\n",
        "model.compile(optimizer='adam',\n",
        "              loss='categorical_crossentropy',\n",
        "              metrics=['accuracy'])\n",
        "\n",
        "# Iterate on your training data by calling the fit() method of your model\n",
        "history = model.fit(X_train, y_train,\n",
        "                    epochs=30,\n",
        "                    batch_size=500,\n",
        "                   validation_split=0.2,\n",
        "                    class_weight = class_weights)\n",
        "\n",
        "# plot the results of loss values from the training set and validtion set\n",
        "history_dict = history.history\n",
        "loss_values = history_dict['loss']\n",
        "val_loss_values = history_dict['val_loss']\n",
        "\n",
        "epochs = range(1, len(history_dict['accuracy']) + 1)\n",
        "\n",
        "plt.figure(figsize=(10,6))\n",
        "plt.plot(epochs, loss_values, 'bo', label='Training loss')\n",
        "plt.plot(epochs, val_loss_values, 'b', label='Validation loss')\n",
        "plt.title('Training and validation loss')\n",
        "plt.xlabel('Epochs')\n",
        "plt.ylabel('Loss')\n",
        "plt.legend()\n",
        "plt.show()\n",
        "\n",
        "\n",
        "# plot the results of accuracy from the training set and validtion set\n",
        "acc = history_dict['accuracy']\n",
        "val_acc = history_dict['val_accuracy']\n",
        "plt.plot(epochs, acc, 'bo', label='Training acc')\n",
        "plt.plot(epochs, val_acc, 'b', label='Validation acc')\n",
        "plt.title('Training and validation accuracy')\n",
        "plt.xlabel('Epochs')\n",
        "plt.ylabel('Accuracy')\n",
        "plt.legend()\n",
        "plt.show()"
      ],
      "execution_count": 43,
      "outputs": [
        {
          "output_type": "stream",
          "text": [
            "/usr/local/lib/python3.6/dist-packages/tensorflow/python/framework/indexed_slices.py:434: UserWarning: Converting sparse IndexedSlices to a dense Tensor of unknown shape. This may consume a large amount of memory.\n",
            "  \"Converting sparse IndexedSlices to a dense Tensor of unknown shape. \"\n"
          ],
          "name": "stderr"
        },
        {
          "output_type": "stream",
          "text": [
            "Train on 15169 samples, validate on 3793 samples\n",
            "Epoch 1/30\n",
            "15169/15169 [==============================] - 9s 591us/step - loss: 1.2693 - accuracy: 0.7306 - val_loss: 0.6252 - val_accuracy: 0.8228\n",
            "Epoch 2/30\n",
            "15169/15169 [==============================] - 9s 567us/step - loss: 0.4988 - accuracy: 0.8680 - val_loss: 0.3340 - val_accuracy: 0.9185\n",
            "Epoch 3/30\n",
            "15169/15169 [==============================] - 9s 570us/step - loss: 0.2876 - accuracy: 0.9281 - val_loss: 0.2380 - val_accuracy: 0.9309\n",
            "Epoch 4/30\n",
            "15169/15169 [==============================] - 8s 559us/step - loss: 0.2052 - accuracy: 0.9445 - val_loss: 0.2002 - val_accuracy: 0.9407\n",
            "Epoch 5/30\n",
            "15169/15169 [==============================] - 9s 568us/step - loss: 0.1590 - accuracy: 0.9566 - val_loss: 0.1862 - val_accuracy: 0.9475\n",
            "Epoch 6/30\n",
            "15169/15169 [==============================] - 9s 566us/step - loss: 0.1303 - accuracy: 0.9651 - val_loss: 0.1753 - val_accuracy: 0.9518\n",
            "Epoch 7/30\n",
            "15169/15169 [==============================] - 9s 564us/step - loss: 0.1107 - accuracy: 0.9724 - val_loss: 0.1737 - val_accuracy: 0.9536\n",
            "Epoch 8/30\n",
            "15169/15169 [==============================] - 9s 562us/step - loss: 0.0948 - accuracy: 0.9777 - val_loss: 0.1667 - val_accuracy: 0.9560\n",
            "Epoch 9/30\n",
            "15169/15169 [==============================] - 9s 565us/step - loss: 0.0763 - accuracy: 0.9822 - val_loss: 0.1622 - val_accuracy: 0.9562\n",
            "Epoch 10/30\n",
            "15169/15169 [==============================] - 9s 574us/step - loss: 0.0622 - accuracy: 0.9856 - val_loss: 0.1659 - val_accuracy: 0.9554\n",
            "Epoch 11/30\n",
            "15169/15169 [==============================] - 9s 566us/step - loss: 0.0542 - accuracy: 0.9879 - val_loss: 0.1673 - val_accuracy: 0.9552\n",
            "Epoch 12/30\n",
            "15169/15169 [==============================] - 9s 562us/step - loss: 0.0436 - accuracy: 0.9906 - val_loss: 0.1797 - val_accuracy: 0.9557\n",
            "Epoch 13/30\n",
            "15169/15169 [==============================] - 9s 565us/step - loss: 0.0363 - accuracy: 0.9914 - val_loss: 0.1767 - val_accuracy: 0.9573\n",
            "Epoch 14/30\n",
            "15169/15169 [==============================] - 9s 572us/step - loss: 0.0307 - accuracy: 0.9935 - val_loss: 0.1792 - val_accuracy: 0.9560\n",
            "Epoch 15/30\n",
            "15169/15169 [==============================] - 9s 561us/step - loss: 0.0260 - accuracy: 0.9949 - val_loss: 0.1795 - val_accuracy: 0.9554\n",
            "Epoch 16/30\n",
            "15169/15169 [==============================] - 9s 562us/step - loss: 0.0218 - accuracy: 0.9954 - val_loss: 0.1831 - val_accuracy: 0.9562\n",
            "Epoch 17/30\n",
            "15169/15169 [==============================] - 9s 568us/step - loss: 0.0183 - accuracy: 0.9960 - val_loss: 0.1895 - val_accuracy: 0.9562\n",
            "Epoch 18/30\n",
            "15169/15169 [==============================] - 9s 570us/step - loss: 0.0160 - accuracy: 0.9967 - val_loss: 0.1888 - val_accuracy: 0.9560\n",
            "Epoch 19/30\n",
            "15169/15169 [==============================] - 9s 568us/step - loss: 0.0155 - accuracy: 0.9968 - val_loss: 0.1913 - val_accuracy: 0.9557\n",
            "Epoch 20/30\n",
            "15169/15169 [==============================] - 9s 567us/step - loss: 0.0122 - accuracy: 0.9974 - val_loss: 0.2007 - val_accuracy: 0.9565\n",
            "Epoch 21/30\n",
            "15169/15169 [==============================] - 8s 559us/step - loss: 0.0109 - accuracy: 0.9978 - val_loss: 0.2120 - val_accuracy: 0.9573\n",
            "Epoch 22/30\n",
            "15169/15169 [==============================] - 9s 571us/step - loss: 0.0136 - accuracy: 0.9964 - val_loss: 0.2138 - val_accuracy: 0.9573\n",
            "Epoch 23/30\n",
            "15169/15169 [==============================] - 9s 564us/step - loss: 0.0110 - accuracy: 0.9974 - val_loss: 0.2081 - val_accuracy: 0.9560\n",
            "Epoch 24/30\n",
            "15169/15169 [==============================] - 9s 575us/step - loss: 0.0102 - accuracy: 0.9978 - val_loss: 0.2057 - val_accuracy: 0.9573\n",
            "Epoch 25/30\n",
            "15169/15169 [==============================] - 9s 586us/step - loss: 0.0092 - accuracy: 0.9979 - val_loss: 0.2039 - val_accuracy: 0.9554\n",
            "Epoch 26/30\n",
            "15169/15169 [==============================] - 9s 569us/step - loss: 0.0086 - accuracy: 0.9980 - val_loss: 0.2143 - val_accuracy: 0.9573\n",
            "Epoch 27/30\n",
            "15169/15169 [==============================] - 9s 566us/step - loss: 0.0073 - accuracy: 0.9983 - val_loss: 0.2194 - val_accuracy: 0.9568\n",
            "Epoch 28/30\n",
            "15169/15169 [==============================] - 9s 561us/step - loss: 0.0080 - accuracy: 0.9982 - val_loss: 0.2062 - val_accuracy: 0.9552\n",
            "Epoch 29/30\n",
            "15169/15169 [==============================] - 9s 567us/step - loss: 0.0064 - accuracy: 0.9984 - val_loss: 0.2134 - val_accuracy: 0.9568\n",
            "Epoch 30/30\n",
            "15169/15169 [==============================] - 9s 561us/step - loss: 0.0060 - accuracy: 0.9983 - val_loss: 0.2181 - val_accuracy: 0.9570\n"
          ],
          "name": "stdout"
        },
        {
          "output_type": "display_data",
          "data": {
            "image/png": "[encoded data removed]",
            "text/plain": [
              "<Figure size 720x432 with 1 Axes>"
            ]
          },
          "metadata": {
            "tags": [],
            "needs_background": "light"
          }
        },
        {
          "output_type": "display_data",
          "data": {
            "image/png": "[encoded data removed]",
            "text/plain": [
              "<Figure size 432x288 with 1 Axes>"
            ]
          },
          "metadata": {
            "tags": [],
            "needs_background": "light"
          }
        }
      ]
    },
    {
      "cell_type": "code",
      "metadata": {
        "id": "kVdHfJDpCbcb",
        "colab_type": "code",
        "colab": {
          "base_uri": "https://localhost:8080/",
          "height": 51
        },
        "outputId": "2df84b11-8f08-4c65-a34a-9d4cd3a57013"
      },
      "source": [
        "results = model.evaluate(X_test, y_test)\n",
        "print(results)"
      ],
      "execution_count": 44,
      "outputs": [
        {
          "output_type": "stream",
          "text": [
            "4741/4741 [==============================] - 3s 708us/step\n",
            "[0.1856203747068942, 0.9630879759788513]\n"
          ],
          "name": "stdout"
        }
      ]
    },
    {
      "cell_type": "markdown",
      "metadata": {
        "id": "3MLscgVIDdnA",
        "colab_type": "text"
      },
      "source": [
        "# 預測小事件類別\n",
        "\n",
        "dropout 0.2\n",
        "recurrent dropout 0.2\n",
        "testing dataset accuracy: 83%"
      ]
    },
    {
      "cell_type": "code",
      "metadata": {
        "id": "0wPpAJmEDkYW",
        "colab_type": "code",
        "colab": {}
      },
      "source": [
        "y = data_df[\"小事件類別\"]"
      ],
      "execution_count": 0,
      "outputs": []
    },
    {
      "cell_type": "code",
      "metadata": {
        "id": "Alpt6OWRDnn8",
        "colab_type": "code",
        "colab": {}
      },
      "source": [
        "# Split data to training data and testing data \n",
        "from sklearn.model_selection import train_test_split\n",
        "\n",
        "X_train, X_test, y_train, y_test = train_test_split(x, y, test_size=0.2, random_state=42)"
      ],
      "execution_count": 0,
      "outputs": []
    },
    {
      "cell_type": "markdown",
      "metadata": {
        "id": "liIH1x9FGhrt",
        "colab_type": "text"
      },
      "source": [
        ""
      ]
    },
    {
      "cell_type": "code",
      "metadata": {
        "id": "5NqvzNZ5DrI3",
        "colab_type": "code",
        "colab": {
          "base_uri": "https://localhost:8080/",
          "height": 221
        },
        "outputId": "cf895a18-f190-4948-d18f-ce5580cac70e"
      },
      "source": [
        "y_train.value_counts()"
      ],
      "execution_count": 85,
      "outputs": [
        {
          "output_type": "execute_result",
          "data": {
            "text/plain": [
              "IS01_營收變動或客戶/商品/通路策略    7645\n",
              "MT02_董監異動               1618\n",
              "MT06_高管異動               1533\n",
              "IP01_成本/產能變動或資本支出       1515\n",
              "IF02_投資/併購/組織策略         1373\n",
              "                        ... \n",
              "MC03_工安問題                  1\n",
              "MF02_股權快速稀釋                1\n",
              "MO03_董監持股未達規定比例            1\n",
              "4D_客戶及產品－暴險                1\n",
              "7D_作業流程－帳戶管理               1\n",
              "Name: 小事件類別, Length: 97, dtype: int64"
            ]
          },
          "metadata": {
            "tags": []
          },
          "execution_count": 85
        }
      ]
    },
    {
      "cell_type": "code",
      "metadata": {
        "id": "bVe0DsqlDvgl",
        "colab_type": "code",
        "colab": {}
      },
      "source": [
        "# Visualize the proportion of each target class\n",
        "\n",
        "plt.figure(figsize=(10,5))\n",
        "sns.countplot(y_train)"
      ],
      "execution_count": 0,
      "outputs": []
    },
    {
      "cell_type": "code",
      "metadata": {
        "id": "COUL93HMDzWh",
        "colab_type": "code",
        "colab": {}
      },
      "source": [
        "# Calculate class weight\n",
        "\n",
        "# Let's import the module first\n",
        "from sklearn.utils import class_weight\n",
        "\n",
        "# In order to calculate the class weight do the following\n",
        "class_weights = class_weight.compute_class_weight(class_weight = 'balanced', classes = np.unique(y_train), y = y_train)"
      ],
      "execution_count": 0,
      "outputs": []
    },
    {
      "cell_type": "code",
      "metadata": {
        "id": "RamjBErxD3q-",
        "colab_type": "code",
        "colab": {}
      },
      "source": [
        "# Convert dataframes to numpy arrays\n",
        "\n",
        "y_train = np.asarray(y_train)\n",
        "y_test = np.asarray(y_test)"
      ],
      "execution_count": 0,
      "outputs": []
    },
    {
      "cell_type": "code",
      "metadata": {
        "id": "E8EGf1z8KeQY",
        "colab_type": "code",
        "colab": {}
      },
      "source": [
        "# One hot encoder\n",
        "from sklearn.preprocessing import OneHotEncoder\n",
        "enc = OneHotEncoder()\n",
        "\n",
        "enc.fit(np.asarray(y).reshape(-1, 1))\n",
        "y_train = enc.transform(y_train.reshape(-1, 1))\n",
        "y_test = enc.transform(y_test.reshape(-1, 1))"
      ],
      "execution_count": 0,
      "outputs": []
    },
    {
      "cell_type": "code",
      "metadata": {
        "id": "VqmMJcwDD7Cj",
        "colab_type": "code",
        "colab": {
          "base_uri": "https://localhost:8080/",
          "height": 1000
        },
        "outputId": "5c774b5a-9e85-4101-b8b6-51b0190d61e2"
      },
      "source": [
        "# Build our neural network model with LSTM\n",
        "\n",
        "from keras import models\n",
        "from keras import layers\n",
        "\n",
        "max_features = 25000\n",
        "\n",
        "from keras.layers import LSTM\n",
        "model = models.Sequential()\n",
        "model.add(layers.Embedding(max_features, 100)) \n",
        "model.add(layers.LSTM(32,dropout=0.2, recurrent_dropout=0.2)) # Note we use \"dropout\" technique here.\n",
        "model.add(layers.Dense(99, activation='softmax'))\n",
        "\n",
        "model.compile(optimizer='adam',\n",
        "              loss='categorical_crossentropy',\n",
        "              metrics=['accuracy'])\n",
        "\n",
        "# Iterate on your training data by calling the fit() method of your model\n",
        "history = model.fit(X_train, y_train,\n",
        "                    epochs=30,\n",
        "                    batch_size=500,\n",
        "                   validation_split=0.2,\n",
        "                    class_weight = class_weights)\n",
        "\n",
        "# plot the results of loss values from the training set and validtion set\n",
        "history_dict = history.history\n",
        "loss_values = history_dict['loss']\n",
        "val_loss_values = history_dict['val_loss']\n",
        "\n",
        "epochs = range(1, len(history_dict['accuracy']) + 1)\n",
        "\n",
        "plt.figure(figsize=(10,6))\n",
        "plt.plot(epochs, loss_values, 'bo', label='Training loss')\n",
        "plt.plot(epochs, val_loss_values, 'b', label='Validation loss')\n",
        "plt.title('Training and validation loss')\n",
        "plt.xlabel('Epochs')\n",
        "plt.ylabel('Loss')\n",
        "plt.legend()\n",
        "plt.show()\n",
        "\n",
        "\n",
        "# plot the results of accuracy from the training set and validtion set\n",
        "acc = history_dict['accuracy']\n",
        "val_acc = history_dict['val_accuracy']\n",
        "plt.plot(epochs, acc, 'bo', label='Training acc')\n",
        "plt.plot(epochs, val_acc, 'b', label='Validation acc')\n",
        "plt.title('Training and validation accuracy')\n",
        "plt.xlabel('Epochs')\n",
        "plt.ylabel('Accuracy')\n",
        "plt.legend()\n",
        "plt.show()"
      ],
      "execution_count": 100,
      "outputs": [
        {
          "output_type": "stream",
          "text": [
            "/usr/local/lib/python3.6/dist-packages/tensorflow/python/framework/indexed_slices.py:434: UserWarning: Converting sparse IndexedSlices to a dense Tensor of unknown shape. This may consume a large amount of memory.\n",
            "  \"Converting sparse IndexedSlices to a dense Tensor of unknown shape. \"\n"
          ],
          "name": "stderr"
        },
        {
          "output_type": "stream",
          "text": [
            "Train on 15169 samples, validate on 3793 samples\n",
            "Epoch 1/30\n",
            "15169/15169 [==============================] - 9s 611us/step - loss: 4.1600 - accuracy: 0.3951 - val_loss: 3.2887 - val_accuracy: 0.4057\n",
            "Epoch 2/30\n",
            "15169/15169 [==============================] - 9s 586us/step - loss: 2.7970 - accuracy: 0.4025 - val_loss: 2.4834 - val_accuracy: 0.4057\n",
            "Epoch 3/30\n",
            "15169/15169 [==============================] - 9s 571us/step - loss: 2.3792 - accuracy: 0.4025 - val_loss: 2.2686 - val_accuracy: 0.4057\n",
            "Epoch 4/30\n",
            "15169/15169 [==============================] - 9s 570us/step - loss: 2.1505 - accuracy: 0.4364 - val_loss: 2.0132 - val_accuracy: 0.4867\n",
            "Epoch 5/30\n",
            "15169/15169 [==============================] - 9s 567us/step - loss: 1.8945 - accuracy: 0.5089 - val_loss: 1.7759 - val_accuracy: 0.5724\n",
            "Epoch 6/30\n",
            "15169/15169 [==============================] - 9s 565us/step - loss: 1.6482 - accuracy: 0.6099 - val_loss: 1.5435 - val_accuracy: 0.6583\n",
            "Epoch 7/30\n",
            "15169/15169 [==============================] - 8s 559us/step - loss: 1.4231 - accuracy: 0.7179 - val_loss: 1.3620 - val_accuracy: 0.7340\n",
            "Epoch 8/30\n",
            "15169/15169 [==============================] - 9s 580us/step - loss: 1.2463 - accuracy: 0.7541 - val_loss: 1.2310 - val_accuracy: 0.7456\n",
            "Epoch 9/30\n",
            "15169/15169 [==============================] - 9s 566us/step - loss: 1.1165 - accuracy: 0.7730 - val_loss: 1.1357 - val_accuracy: 0.7664\n",
            "Epoch 10/30\n",
            "15169/15169 [==============================] - 9s 561us/step - loss: 1.0141 - accuracy: 0.7933 - val_loss: 1.0776 - val_accuracy: 0.7714\n",
            "Epoch 11/30\n",
            "15169/15169 [==============================] - 9s 578us/step - loss: 0.9354 - accuracy: 0.8037 - val_loss: 1.0249 - val_accuracy: 0.7738\n",
            "Epoch 12/30\n",
            "15169/15169 [==============================] - 8s 560us/step - loss: 0.8637 - accuracy: 0.8136 - val_loss: 0.9800 - val_accuracy: 0.7775\n",
            "Epoch 13/30\n",
            "15169/15169 [==============================] - 9s 570us/step - loss: 0.8028 - accuracy: 0.8228 - val_loss: 0.9491 - val_accuracy: 0.7814\n",
            "Epoch 14/30\n",
            "15169/15169 [==============================] - 9s 597us/step - loss: 0.7534 - accuracy: 0.8319 - val_loss: 0.9216 - val_accuracy: 0.7843\n",
            "Epoch 15/30\n",
            "15169/15169 [==============================] - 9s 584us/step - loss: 0.7067 - accuracy: 0.8446 - val_loss: 0.9025 - val_accuracy: 0.7949\n",
            "Epoch 16/30\n",
            "15169/15169 [==============================] - 9s 570us/step - loss: 0.6648 - accuracy: 0.8565 - val_loss: 0.8815 - val_accuracy: 0.8009\n",
            "Epoch 17/30\n",
            "15169/15169 [==============================] - 8s 559us/step - loss: 0.6249 - accuracy: 0.8667 - val_loss: 0.8760 - val_accuracy: 0.8046\n",
            "Epoch 18/30\n",
            "15169/15169 [==============================] - 9s 568us/step - loss: 0.5918 - accuracy: 0.8754 - val_loss: 0.8606 - val_accuracy: 0.8054\n",
            "Epoch 19/30\n",
            "15169/15169 [==============================] - 9s 573us/step - loss: 0.5585 - accuracy: 0.8817 - val_loss: 0.8478 - val_accuracy: 0.8102\n",
            "Epoch 20/30\n",
            "15169/15169 [==============================] - 9s 564us/step - loss: 0.5301 - accuracy: 0.8884 - val_loss: 0.8398 - val_accuracy: 0.8086\n",
            "Epoch 21/30\n",
            "15169/15169 [==============================] - 9s 571us/step - loss: 0.5000 - accuracy: 0.8961 - val_loss: 0.8280 - val_accuracy: 0.8154\n",
            "Epoch 22/30\n",
            "15169/15169 [==============================] - 9s 577us/step - loss: 0.4731 - accuracy: 0.9014 - val_loss: 0.8222 - val_accuracy: 0.8199\n",
            "Epoch 23/30\n",
            "15169/15169 [==============================] - 9s 564us/step - loss: 0.4534 - accuracy: 0.9058 - val_loss: 0.8171 - val_accuracy: 0.8186\n",
            "Epoch 24/30\n",
            "15169/15169 [==============================] - 8s 556us/step - loss: 0.4292 - accuracy: 0.9078 - val_loss: 0.8093 - val_accuracy: 0.8212\n",
            "Epoch 25/30\n",
            "15169/15169 [==============================] - 9s 563us/step - loss: 0.4120 - accuracy: 0.9131 - val_loss: 0.8181 - val_accuracy: 0.8191\n",
            "Epoch 26/30\n",
            "15169/15169 [==============================] - 9s 566us/step - loss: 0.3912 - accuracy: 0.9157 - val_loss: 0.8062 - val_accuracy: 0.8223\n",
            "Epoch 27/30\n",
            "15169/15169 [==============================] - 9s 565us/step - loss: 0.3733 - accuracy: 0.9199 - val_loss: 0.8108 - val_accuracy: 0.8218\n",
            "Epoch 28/30\n",
            "15169/15169 [==============================] - 9s 578us/step - loss: 0.3557 - accuracy: 0.9226 - val_loss: 0.8061 - val_accuracy: 0.8226\n",
            "Epoch 29/30\n",
            "15169/15169 [==============================] - 9s 569us/step - loss: 0.3402 - accuracy: 0.9263 - val_loss: 0.8047 - val_accuracy: 0.8247\n",
            "Epoch 30/30\n",
            "15169/15169 [==============================] - 8s 558us/step - loss: 0.3236 - accuracy: 0.9327 - val_loss: 0.8110 - val_accuracy: 0.8234\n"
          ],
          "name": "stdout"
        },
        {
          "output_type": "display_data",
          "data": {
            "image/png": "[encoded data removed]",
            "text/plain": [
              "<Figure size 720x432 with 1 Axes>"
            ]
          },
          "metadata": {
            "tags": [],
            "needs_background": "light"
          }
        },
        {
          "output_type": "display_data",
          "data": {
            "image/png": "[encoded data removed]",
            "text/plain": [
              "<Figure size 432x288 with 1 Axes>"
            ]
          },
          "metadata": {
            "tags": [],
            "needs_background": "light"
          }
        }
      ]
    },
    {
      "cell_type": "code",
      "metadata": {
        "id": "BwU1uCduD913",
        "colab_type": "code",
        "colab": {
          "base_uri": "https://localhost:8080/",
          "height": 51
        },
        "outputId": "1579a125-f6be-491a-89f9-c3293bb76958"
      },
      "source": [
        "results = model.evaluate(X_test, y_test)\n",
        "print(results)"
      ],
      "execution_count": 101,
      "outputs": [
        {
          "output_type": "stream",
          "text": [
            "4741/4741 [==============================] - 3s 717us/step\n",
            "[0.7077541845907418, 0.8377979397773743]\n"
          ],
          "name": "stdout"
        }
      ]
    }
  ]
}