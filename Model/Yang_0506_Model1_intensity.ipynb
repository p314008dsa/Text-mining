{
  "nbformat": 4,
  "nbformat_minor": 0,
  "metadata": {
    "colab": {
      "name": "Yang_0506_Model1_intensity.ipynb",
      "provenance": [],
      "collapsed_sections": []
    },
    "kernelspec": {
      "name": "python3",
      "display_name": "Python 3"
    },
    "accelerator": "GPU"
  },
  "cells": [
    {
      "cell_type": "markdown",
      "metadata": {
        "id": "BcmjssP1kOEK",
        "colab_type": "text"
      },
      "source": [
        "# 05/06\n",
        "\n",
        "＊ 調整參數：numbers of LSTM layers\n",
        "\n",
        "(參考目標：accuracy, f1 score, recall)"
      ]
    },
    {
      "cell_type": "markdown",
      "metadata": {
        "id": "AJ72MagHkTOP",
        "colab_type": "text"
      },
      "source": [
        "# Import packages and Datasets"
      ]
    },
    {
      "cell_type": "code",
      "metadata": {
        "id": "0b7bcSntkT5P",
        "colab_type": "code",
        "colab": {
          "base_uri": "https://localhost:8080/",
          "height": 71
        },
        "outputId": "c13b4fc4-b95b-4524-892d-9bbe6fb9fcc4"
      },
      "source": [
        "import pandas as pd \n",
        "import numpy as np\n",
        "import matplotlib\n",
        "import matplotlib.pyplot as plt\n",
        "import seaborn as sns\n",
        "import sklearn\n",
        "\n",
        "import gc #Garbage Collector interface\n",
        "from sklearn.model_selection import train_test_split\n",
        "from sklearn.preprocessing import OneHotEncoder\n",
        "import sklearn.metrics\n",
        "from sklearn.metrics import accuracy_score\n",
        "from sklearn.metrics import precision_score\n",
        "from sklearn.metrics import recall_score\n",
        "from sklearn.metrics import f1_score #The F-Measure is a popular metric for imbalanced classification.\n",
        "from sklearn.metrics import confusion_matrix\n",
        "from sklearn.metrics import roc_auc_score"
      ],
      "execution_count": 1,
      "outputs": [
        {
          "output_type": "stream",
          "text": [
            "/usr/local/lib/python3.6/dist-packages/statsmodels/tools/_testing.py:19: FutureWarning: pandas.util.testing is deprecated. Use the functions in the public API at pandas.testing instead.\n",
            "  import pandas.util.testing as tm\n"
          ],
          "name": "stderr"
        }
      ]
    },
    {
      "cell_type": "code",
      "metadata": {
        "id": "n9UrCuH8oP2g",
        "colab_type": "code",
        "colab": {
          "base_uri": "https://localhost:8080/",
          "height": 122
        },
        "outputId": "4c4ada5a-0274-41b6-d088-f6f7f88b564d"
      },
      "source": [
        "# import Google Drive 套件\n",
        "from google.colab import drive\n",
        "\n",
        "# 將自己的雲端硬碟掛載上去\n",
        "drive.mount('/content/gdrive')"
      ],
      "execution_count": 2,
      "outputs": [
        {
          "output_type": "stream",
          "text": [
            "Go to this URL in a browser: https://accounts.google.com/o/oauth2/auth?client_id=947318989803-6bn6qk8qdgf4n4g3pfee6491hc0brc4i.apps.googleusercontent.com&redirect_uri=urn%3aietf%3awg%3aoauth%3a2.0%3aoob&response_type=code&scope=email%20https%3a%2f%2fwww.googleapis.com%2fauth%2fdocs.test%20https%3a%2f%2fwww.googleapis.com%2fauth%2fdrive%20https%3a%2f%2fwww.googleapis.com%2fauth%2fdrive.photos.readonly%20https%3a%2f%2fwww.googleapis.com%2fauth%2fpeopleapi.readonly\n",
            "\n",
            "Enter your authorization code:\n",
            "··········\n",
            "Mounted at /content/gdrive\n"
          ],
          "name": "stdout"
        }
      ]
    },
    {
      "cell_type": "code",
      "metadata": {
        "id": "8fdE2qV8oSMy",
        "colab_type": "code",
        "colab": {}
      },
      "source": [
        "# 透過 gdrive/My Drive/... 來存取檔案\n",
        "data_df = pd.read_excel('gdrive/My Drive/金融科技Final_project/ckiptagger_data.xlsx')"
      ],
      "execution_count": 0,
      "outputs": []
    },
    {
      "cell_type": "code",
      "metadata": {
        "id": "RBu44clMoVYf",
        "colab_type": "code",
        "colab": {
          "base_uri": "https://localhost:8080/",
          "height": 204
        },
        "outputId": "20413007-c977-4af4-dd1e-c0dd12a50d44"
      },
      "source": [
        "data_df.head()"
      ],
      "execution_count": 4,
      "outputs": [
        {
          "output_type": "execute_result",
          "data": {
            "text/html": [
              "<div>\n",
              "<style scoped>\n",
              "    .dataframe tbody tr th:only-of-type {\n",
              "        vertical-align: middle;\n",
              "    }\n",
              "\n",
              "    .dataframe tbody tr th {\n",
              "        vertical-align: top;\n",
              "    }\n",
              "\n",
              "    .dataframe thead th {\n",
              "        text-align: right;\n",
              "    }\n",
              "</style>\n",
              "<table border=\"1\" class=\"dataframe\">\n",
              "  <thead>\n",
              "    <tr style=\"text-align: right;\">\n",
              "      <th></th>\n",
              "      <th>個股代號</th>\n",
              "      <th>公司簡稱</th>\n",
              "      <th>事件日</th>\n",
              "      <th>TCRI(年/月)</th>\n",
              "      <th>事件強度</th>\n",
              "      <th>大事件類別</th>\n",
              "      <th>小事件類別</th>\n",
              "      <th>事件內容</th>\n",
              "      <th>content_tokenized</th>\n",
              "    </tr>\n",
              "  </thead>\n",
              "  <tbody>\n",
              "    <tr>\n",
              "      <th>0</th>\n",
              "      <td>1218</td>\n",
              "      <td>泰山</td>\n",
              "      <td>20190101</td>\n",
              "      <td>6(2018/09)</td>\n",
              "      <td>0</td>\n",
              "      <td>M_經營層</td>\n",
              "      <td>MT06_高管異動</td>\n",
              "      <td>發言人林俐婉內部調動由江巍峰接任</td>\n",
              "      <td>發言人 林俐婉 內部 調動 由 江巍峰 接任</td>\n",
              "    </tr>\n",
              "    <tr>\n",
              "      <th>1</th>\n",
              "      <td>1503</td>\n",
              "      <td>士電</td>\n",
              "      <td>20190101</td>\n",
              "      <td>4(2018/09)</td>\n",
              "      <td>0</td>\n",
              "      <td>M_經營層</td>\n",
              "      <td>MT06_高管異動</td>\n",
              "      <td>內部稽核主管林志強內部調動由莊文清接任</td>\n",
              "      <td>內部 稽核 主管 林志強 內部 調動 由 莊文清 接任</td>\n",
              "    </tr>\n",
              "    <tr>\n",
              "      <th>2</th>\n",
              "      <td>1504</td>\n",
              "      <td>東元</td>\n",
              "      <td>20190101</td>\n",
              "      <td>4(2018/09)</td>\n",
              "      <td>0</td>\n",
              "      <td>M_經營層</td>\n",
              "      <td>MT06_高管異動</td>\n",
              "      <td>會計主管藍俊雄內部調動由林鴻名接任</td>\n",
              "      <td>會計 主管 藍俊雄 內部 調動 由 林鴻名 接任</td>\n",
              "    </tr>\n",
              "    <tr>\n",
              "      <th>3</th>\n",
              "      <td>1709</td>\n",
              "      <td>和益</td>\n",
              "      <td>20190101</td>\n",
              "      <td>5(2018/09)</td>\n",
              "      <td>0</td>\n",
              "      <td>M_經營層</td>\n",
              "      <td>MT06_高管異動</td>\n",
              "      <td>內部稽核主管游本詮內部調動由曾筱茜接任</td>\n",
              "      <td>內部 稽核 主管 游本詮 內部 調動 由 曾筱茜 接任</td>\n",
              "    </tr>\n",
              "    <tr>\n",
              "      <th>4</th>\n",
              "      <td>1721</td>\n",
              "      <td>三晃</td>\n",
              "      <td>20190101</td>\n",
              "      <td>7(2018/09)</td>\n",
              "      <td>0</td>\n",
              "      <td>M_經營層</td>\n",
              "      <td>MT06_高管異動</td>\n",
              "      <td>財務經理洪廷宜內部調動由王婷渝接任</td>\n",
              "      <td>財務 經理 洪廷宜 內部 調動 由 王婷渝 接任</td>\n",
              "    </tr>\n",
              "  </tbody>\n",
              "</table>\n",
              "</div>"
            ],
            "text/plain": [
              "   個股代號            公司簡稱  ...                 事件內容            content_tokenized\n",
              "0  1218  泰山              ...     發言人林俐婉內部調動由江巍峰接任       發言人 林俐婉 內部 調動 由 江巍峰 接任\n",
              "1  1503  士電              ...  內部稽核主管林志強內部調動由莊文清接任  內部 稽核 主管 林志強 內部 調動 由 莊文清 接任\n",
              "2  1504  東元              ...    會計主管藍俊雄內部調動由林鴻名接任     會計 主管 藍俊雄 內部 調動 由 林鴻名 接任\n",
              "3  1709  和益              ...  內部稽核主管游本詮內部調動由曾筱茜接任  內部 稽核 主管 游本詮 內部 調動 由 曾筱茜 接任\n",
              "4  1721  三晃              ...    財務經理洪廷宜內部調動由王婷渝接任     財務 經理 洪廷宜 內部 調動 由 王婷渝 接任\n",
              "\n",
              "[5 rows x 9 columns]"
            ]
          },
          "metadata": {
            "tags": []
          },
          "execution_count": 4
        }
      ]
    },
    {
      "cell_type": "code",
      "metadata": {
        "id": "ObzyRt_NoXRp",
        "colab_type": "code",
        "colab": {
          "base_uri": "https://localhost:8080/",
          "height": 289
        },
        "outputId": "a02c88bd-d866-4fcf-e7ec-b3c524d6d341"
      },
      "source": [
        "data_df.info()"
      ],
      "execution_count": 5,
      "outputs": [
        {
          "output_type": "stream",
          "text": [
            "<class 'pandas.core.frame.DataFrame'>\n",
            "RangeIndex: 23703 entries, 0 to 23702\n",
            "Data columns (total 9 columns):\n",
            " #   Column             Non-Null Count  Dtype \n",
            "---  ------             --------------  ----- \n",
            " 0   個股代號               23703 non-null  int64 \n",
            " 1   公司簡稱               22775 non-null  object\n",
            " 2   事件日                23703 non-null  int64 \n",
            " 3   TCRI(年/月)          23703 non-null  object\n",
            " 4   事件強度               23703 non-null  int64 \n",
            " 5   大事件類別              23703 non-null  object\n",
            " 6   小事件類別              23703 non-null  object\n",
            " 7   事件內容               23703 non-null  object\n",
            " 8   content_tokenized  23703 non-null  object\n",
            "dtypes: int64(3), object(6)\n",
            "memory usage: 1.6+ MB\n"
          ],
          "name": "stdout"
        }
      ]
    },
    {
      "cell_type": "markdown",
      "metadata": {
        "id": "5VolhKf1oZp8",
        "colab_type": "text"
      },
      "source": [
        "# Data preprocessing"
      ]
    },
    {
      "cell_type": "code",
      "metadata": {
        "id": "V3-H5LL3oZ__",
        "colab_type": "code",
        "colab": {}
      },
      "source": [
        "import keras\n",
        "MAX_NUM_WORDS = 10000\n",
        "tokenizer = keras .preprocessing.text.Tokenizer(num_words=MAX_NUM_WORDS)\n",
        "\n",
        "corpus = data_df.content_tokenized"
      ],
      "execution_count": 0,
      "outputs": []
    },
    {
      "cell_type": "code",
      "metadata": {
        "id": "sePGEfXqocFW",
        "colab_type": "code",
        "colab": {
          "base_uri": "https://localhost:8080/",
          "height": 221
        },
        "outputId": "0502e400-7831-4fc6-9bcd-61981fe54b9c"
      },
      "source": [
        "corpus"
      ],
      "execution_count": 7,
      "outputs": [
        {
          "output_type": "execute_result",
          "data": {
            "text/plain": [
              "0                                   發言人 林俐婉 內部 調動 由 江巍峰 接任\n",
              "1                              內部 稽核 主管 林志強 內部 調動 由 莊文清 接任\n",
              "2                                 會計 主管 藍俊雄 內部 調動 由 林鴻名 接任\n",
              "3                              內部 稽核 主管 游本詮 內部 調動 由 曾筱茜 接任\n",
              "4                                 財務 經理 洪廷宜 內部 調動 由 王婷渝 接任\n",
              "                               ...                        \n",
              "23698    2018年 09月 累計 營收 1496639千 元 年增 1622018年 09月 單月 ...\n",
              "23699                       20191231 收盤價 3500 元 月 報酬 下跌 43\n",
              "23700    世界 先進 評估 跨足 晶圓 薄化 領域 搶進 晶圓 薄化 市場 機率 高晶圓 薄化 是 晶...\n",
              "23701    1 雷虎 科技 與 香港 中澤 文化 投資 股份 有限公司 仲裁 案號 補充 公告 雷虎 科...\n",
              "23702    商億 KY 公告 董事會 為 配合 柬埔寨 孫 公司 發展 需求 擬 透過 子公司 Shay...\n",
              "Name: content_tokenized, Length: 23703, dtype: object"
            ]
          },
          "metadata": {
            "tags": []
          },
          "execution_count": 7
        }
      ]
    },
    {
      "cell_type": "code",
      "metadata": {
        "id": "xx1yKXP8ogzb",
        "colab_type": "code",
        "colab": {
          "base_uri": "https://localhost:8080/",
          "height": 374
        },
        "outputId": "36a2a875-b1d5-4f8d-d65b-7aac9399e218"
      },
      "source": [
        "tokenizer.fit_on_texts(corpus)\n",
        "\n",
        "x = tokenizer.texts_to_sequences(corpus)\n",
        "\n",
        "len(x)\n",
        "\n",
        "x[:1]\n",
        "\n",
        "for seq in x[:1]:\n",
        "    print([tokenizer.index_word[idx] for idx in seq])\n",
        "    \n",
        "for seq in x[:20]:\n",
        "    print(len(seq), seq[:5], ' ...')\n",
        "    \n",
        "max_seq_len = max([\n",
        "    len(seq) for seq in x])\n",
        "\n",
        "max_seq_len\n",
        "\n",
        "MAX_SEQUENCE_LENGTH = 1000"
      ],
      "execution_count": 8,
      "outputs": [
        {
          "output_type": "stream",
          "text": [
            "['發言人', '內部', '調動', '由', '接任']\n",
            "5 [405, 68, 128, 23, 76]  ...\n",
            "7 [68, 358, 133, 68, 128]  ...\n",
            "6 [292, 133, 68, 128, 23]  ...\n",
            "7 [68, 358, 133, 68, 128]  ...\n",
            "6 [94, 426, 68, 128, 23]  ...\n",
            "6 [239, 133, 68, 128, 23]  ...\n",
            "8 [217, 196, 23, 76, 405]  ...\n",
            "13 [422, 24, 63, 6, 4874]  ...\n",
            "6 [504, 24, 63, 50, 6]  ...\n",
            "5 [217, 68, 128, 23, 76]  ...\n",
            "5 [217, 68, 128, 23, 76]  ...\n",
            "196 [2790, 760, 2040, 1228, 21]  ...\n",
            "17 [422, 24, 63, 6, 6512]  ...\n",
            "6 [292, 133, 68, 128, 23]  ...\n",
            "6 [94, 426, 68, 128, 23]  ...\n",
            "6 [292, 133, 68, 128, 23]  ...\n",
            "5 [217, 68, 128, 23, 76]  ...\n",
            "7 [239, 133, 68, 128, 23]  ...\n",
            "5 [217, 68, 128, 23, 76]  ...\n",
            "5 [217, 68, 128, 23, 76]  ...\n"
          ],
          "name": "stdout"
        }
      ]
    },
    {
      "cell_type": "code",
      "metadata": {
        "id": "WQIg6k0TojnX",
        "colab_type": "code",
        "colab": {}
      },
      "source": [
        "x = keras .preprocessing .sequence .pad_sequences(x, maxlen=MAX_SEQUENCE_LENGTH)"
      ],
      "execution_count": 0,
      "outputs": []
    },
    {
      "cell_type": "markdown",
      "metadata": {
        "id": "18nqjA8ookBD",
        "colab_type": "text"
      },
      "source": [
        "# Model building: Predict intensity"
      ]
    },
    {
      "cell_type": "code",
      "metadata": {
        "id": "2QIGQ3ZAonH3",
        "colab_type": "code",
        "colab": {}
      },
      "source": [
        "y = data_df[\"事件強度\"]"
      ],
      "execution_count": 0,
      "outputs": []
    },
    {
      "cell_type": "markdown",
      "metadata": {
        "id": "DoK5dVkTosJK",
        "colab_type": "text"
      },
      "source": [
        "## Split data into training dataset and testing dataset"
      ]
    },
    {
      "cell_type": "code",
      "metadata": {
        "id": "gCcZ4dTBopTb",
        "colab_type": "code",
        "colab": {}
      },
      "source": [
        "from sklearn.model_selection import train_test_split\n",
        "\n",
        "X_train, X_test, y_train, y_test = train_test_split(x, y, test_size=0.2, random_state=42)"
      ],
      "execution_count": 0,
      "outputs": []
    },
    {
      "cell_type": "markdown",
      "metadata": {
        "id": "foosSYnsow7G",
        "colab_type": "text"
      },
      "source": [
        "## We have the issue of imbalanced data"
      ]
    },
    {
      "cell_type": "code",
      "metadata": {
        "id": "REIU7rqeoxX6",
        "colab_type": "code",
        "colab": {
          "base_uri": "https://localhost:8080/",
          "height": 153
        },
        "outputId": "abbd0917-5946-4ab3-ea59-511533af18b7"
      },
      "source": [
        "y_train.value_counts()"
      ],
      "execution_count": 12,
      "outputs": [
        {
          "output_type": "execute_result",
          "data": {
            "text/plain": [
              "-1    8557\n",
              " 0    6722\n",
              " 1    2807\n",
              "-2     521\n",
              "-3     219\n",
              " 2      76\n",
              " 3      60\n",
              "Name: 事件強度, dtype: int64"
            ]
          },
          "metadata": {
            "tags": []
          },
          "execution_count": 12
        }
      ]
    },
    {
      "cell_type": "markdown",
      "metadata": {
        "id": "eXJ8wRezo0xv",
        "colab_type": "text"
      },
      "source": [
        "## Visualize the distribution of each target class"
      ]
    },
    {
      "cell_type": "code",
      "metadata": {
        "id": "fmkkSZnbo1LI",
        "colab_type": "code",
        "colab": {
          "base_uri": "https://localhost:8080/",
          "height": 626
        },
        "outputId": "5f24b62a-5372-4c1a-86e1-3441aeba0ee5"
      },
      "source": [
        "plt.figure(figsize=(10,5))\n",
        "sns.countplot(y_train)"
      ],
      "execution_count": 13,
      "outputs": [
        {
          "output_type": "execute_result",
          "data": {
            "text/plain": [
              "<matplotlib.axes._subplots.AxesSubplot at 0x7efdcaa38940>"
            ]
          },
          "metadata": {
            "tags": []
          },
          "execution_count": 13
        },
        {
          "output_type": "stream",
          "text": [
            "/usr/local/lib/python3.6/dist-packages/matplotlib/backends/backend_agg.py:214: RuntimeWarning: Glyph 20107 missing from current font.\n",
            "  font.set_text(s, 0.0, flags=flags)\n",
            "/usr/local/lib/python3.6/dist-packages/matplotlib/backends/backend_agg.py:214: RuntimeWarning: Glyph 20214 missing from current font.\n",
            "  font.set_text(s, 0.0, flags=flags)\n",
            "/usr/local/lib/python3.6/dist-packages/matplotlib/backends/backend_agg.py:214: RuntimeWarning: Glyph 24375 missing from current font.\n",
            "  font.set_text(s, 0.0, flags=flags)\n",
            "/usr/local/lib/python3.6/dist-packages/matplotlib/backends/backend_agg.py:214: RuntimeWarning: Glyph 24230 missing from current font.\n",
            "  font.set_text(s, 0.0, flags=flags)\n",
            "/usr/local/lib/python3.6/dist-packages/matplotlib/backends/backend_agg.py:183: RuntimeWarning: Glyph 20107 missing from current font.\n",
            "  font.set_text(s, 0, flags=flags)\n",
            "/usr/local/lib/python3.6/dist-packages/matplotlib/backends/backend_agg.py:183: RuntimeWarning: Glyph 20214 missing from current font.\n",
            "  font.set_text(s, 0, flags=flags)\n",
            "/usr/local/lib/python3.6/dist-packages/matplotlib/backends/backend_agg.py:183: RuntimeWarning: Glyph 24375 missing from current font.\n",
            "  font.set_text(s, 0, flags=flags)\n",
            "/usr/local/lib/python3.6/dist-packages/matplotlib/backends/backend_agg.py:183: RuntimeWarning: Glyph 24230 missing from current font.\n",
            "  font.set_text(s, 0, flags=flags)\n"
          ],
          "name": "stderr"
        },
        {
          "output_type": "display_data",
          "data": {
            "image/png": "[encoded data removed]",
            "text/plain": [
              "<Figure size 720x360 with 1 Axes>"
            ]
          },
          "metadata": {
            "tags": [],
            "needs_background": "light"
          }
        }
      ]
    },
    {
      "cell_type": "markdown",
      "metadata": {
        "id": "5fFLZll5pdJM",
        "colab_type": "text"
      },
      "source": [
        "## Encode target variable"
      ]
    },
    {
      "cell_type": "code",
      "metadata": {
        "id": "fIUeFAxapdXd",
        "colab_type": "code",
        "colab": {}
      },
      "source": [
        "enc = OneHotEncoder(sparse=False)\n",
        "y_train = enc.fit_transform(np.asarray(y_train).reshape(-1, 1))\n",
        "y_test = enc.transform(np.asarray(y_test).reshape(-1, 1))"
      ],
      "execution_count": 0,
      "outputs": []
    },
    {
      "cell_type": "markdown",
      "metadata": {
        "id": "Brke4VKro5T_",
        "colab_type": "text"
      },
      "source": [
        "## Oversampleing"
      ]
    },
    {
      "cell_type": "code",
      "metadata": {
        "id": "5l3XAhvqo5ql",
        "colab_type": "code",
        "colab": {
          "base_uri": "https://localhost:8080/",
          "height": 139
        },
        "outputId": "a48da131-d891-4e9d-8a2c-c4ca413a5ca2"
      },
      "source": [
        "# Oversampling\n",
        "from imblearn.over_sampling import RandomOverSampler\n",
        "ros = RandomOverSampler(random_state=0)\n",
        "X_train_res, y_train_res = ros.fit_resample(X_train, y_train)"
      ],
      "execution_count": 15,
      "outputs": [
        {
          "output_type": "stream",
          "text": [
            "/usr/local/lib/python3.6/dist-packages/sklearn/externals/six.py:31: FutureWarning: The module is deprecated in version 0.21 and will be removed in version 0.23 since we've dropped support for Python 2.7. Please rely on the official version of six (https://pypi.org/project/six/).\n",
            "  \"(https://pypi.org/project/six/).\", FutureWarning)\n",
            "/usr/local/lib/python3.6/dist-packages/sklearn/utils/deprecation.py:144: FutureWarning: The sklearn.neighbors.base module is  deprecated in version 0.22 and will be removed in version 0.24. The corresponding classes / functions should instead be imported from sklearn.neighbors. Anything that cannot be imported from sklearn.neighbors is now part of the private API.\n",
            "  warnings.warn(message, FutureWarning)\n",
            "/usr/local/lib/python3.6/dist-packages/sklearn/utils/deprecation.py:87: FutureWarning: Function safe_indexing is deprecated; safe_indexing is deprecated in version 0.22 and will be removed in version 0.24.\n",
            "  warnings.warn(msg, category=FutureWarning)\n"
          ],
          "name": "stderr"
        }
      ]
    },
    {
      "cell_type": "markdown",
      "metadata": {
        "id": "vu0iC7K8pC8s",
        "colab_type": "text"
      },
      "source": [
        "# Model 1 \n",
        "1 LSTM layer"
      ]
    },
    {
      "cell_type": "code",
      "metadata": {
        "id": "-R8l5Q1Ip62o",
        "colab_type": "code",
        "colab": {
          "base_uri": "https://localhost:8080/",
          "height": 1000
        },
        "outputId": "e35e53fe-c6b6-44f6-d0dd-05bea113e8b7"
      },
      "source": [
        "# Build our neural network model with LSTM\n",
        "\n",
        "from keras import models\n",
        "from keras import layers\n",
        "\n",
        "max_features = 25000\n",
        "\n",
        "from keras.layers import LSTM\n",
        "model = models.Sequential()\n",
        "model.add(layers.Embedding(max_features, 256))\n",
        "model.add(layers.LSTM(128))\n",
        "model.add(layers.Dense(7, activation='softmax'))\n",
        "\n",
        "model.compile(optimizer='adam',\n",
        "              loss='categorical_crossentropy',\n",
        "              metrics=['accuracy'])\n",
        "\n",
        "# Iterate on your training data by calling the fit() method of your model\n",
        "history = model.fit(X_train_res, y_train_res,\n",
        "                    epochs=10,\n",
        "                    batch_size=500,\n",
        "                   validation_split=0.2)\n",
        "\n",
        "# plot the results of loss values from the training set and validtion set\n",
        "history_dict = history.history\n",
        "loss_values = history_dict['loss']\n",
        "val_loss_values = history_dict['val_loss']\n",
        "\n",
        "epochs = range(1, len(history_dict['accuracy']) + 1)\n",
        "\n",
        "plt.figure(figsize=(10,6))\n",
        "plt.plot(epochs, loss_values, 'bo', label='Training loss')\n",
        "plt.plot(epochs, val_loss_values, 'b', label='Validation loss')\n",
        "plt.title('Training and validation loss')\n",
        "plt.xlabel('Epochs')\n",
        "plt.ylabel('Loss')\n",
        "plt.legend()\n",
        "plt.show()\n",
        "\n",
        "\n",
        "# plot the results of accuracy from the training set and validtion set\n",
        "acc = history_dict['accuracy']\n",
        "val_acc = history_dict['val_accuracy']\n",
        "plt.plot(epochs, acc, 'bo', label='Training acc')\n",
        "plt.plot(epochs, val_acc, 'b', label='Validation acc')\n",
        "plt.title('Training and validation accuracy')\n",
        "plt.xlabel('Epochs')\n",
        "plt.ylabel('Accuracy')\n",
        "plt.legend()\n",
        "plt.show()"
      ],
      "execution_count": 20,
      "outputs": [
        {
          "output_type": "stream",
          "text": [
            "/usr/local/lib/python3.6/dist-packages/tensorflow/python/framework/indexed_slices.py:434: UserWarning: Converting sparse IndexedSlices to a dense Tensor of unknown shape. This may consume a large amount of memory.\n",
            "  \"Converting sparse IndexedSlices to a dense Tensor of unknown shape. \"\n"
          ],
          "name": "stderr"
        },
        {
          "output_type": "stream",
          "text": [
            "Train on 47919 samples, validate on 11980 samples\n",
            "Epoch 1/10\n",
            "47919/47919 [==============================] - 156s 3ms/step - loss: 0.6906 - accuracy: 0.7717 - val_loss: 3.4482 - val_accuracy: 0.2907\n",
            "Epoch 2/10\n",
            "47919/47919 [==============================] - 159s 3ms/step - loss: 0.1413 - accuracy: 0.9504 - val_loss: 1.2957 - val_accuracy: 0.3955\n",
            "Epoch 3/10\n",
            "47919/47919 [==============================] - 157s 3ms/step - loss: 0.0905 - accuracy: 0.9711 - val_loss: 0.9984 - val_accuracy: 0.7746\n",
            "Epoch 4/10\n",
            "47919/47919 [==============================] - 155s 3ms/step - loss: 0.0527 - accuracy: 0.9845 - val_loss: 0.3809 - val_accuracy: 0.9296\n",
            "Epoch 5/10\n",
            "47919/47919 [==============================] - 153s 3ms/step - loss: 0.0366 - accuracy: 0.9888 - val_loss: 0.2291 - val_accuracy: 0.9665\n",
            "Epoch 6/10\n",
            "47919/47919 [==============================] - 153s 3ms/step - loss: 0.0293 - accuracy: 0.9919 - val_loss: 0.1425 - val_accuracy: 1.0000\n",
            "Epoch 7/10\n",
            "47919/47919 [==============================] - 152s 3ms/step - loss: 0.0244 - accuracy: 0.9933 - val_loss: 0.0986 - val_accuracy: 1.0000\n",
            "Epoch 8/10\n",
            "47919/47919 [==============================] - 153s 3ms/step - loss: 0.0210 - accuracy: 0.9935 - val_loss: 0.0793 - val_accuracy: 1.0000\n",
            "Epoch 9/10\n",
            "47919/47919 [==============================] - 154s 3ms/step - loss: 0.0177 - accuracy: 0.9947 - val_loss: 0.0583 - val_accuracy: 1.0000\n",
            "Epoch 10/10\n",
            "47919/47919 [==============================] - 154s 3ms/step - loss: 0.0152 - accuracy: 0.9952 - val_loss: 0.0463 - val_accuracy: 1.0000\n"
          ],
          "name": "stdout"
        },
        {
          "output_type": "display_data",
          "data": {
            "image/png": "[encoded data removed]",
            "text/plain": [
              "<Figure size 720x432 with 1 Axes>"
            ]
          },
          "metadata": {
            "tags": [],
            "needs_background": "light"
          }
        },
        {
          "output_type": "display_data",
          "data": {
            "image/png": "[encoded data removed]",
            "text/plain": [
              "<Figure size 432x288 with 1 Axes>"
            ]
          },
          "metadata": {
            "tags": [],
            "needs_background": "light"
          }
        }
      ]
    },
    {
      "cell_type": "markdown",
      "metadata": {
        "id": "BjbRUaOiqGTS",
        "colab_type": "text"
      },
      "source": [
        "## Performance on training set"
      ]
    },
    {
      "cell_type": "code",
      "metadata": {
        "id": "L9tkEMCMqDhB",
        "colab_type": "code",
        "colab": {
          "base_uri": "https://localhost:8080/",
          "height": 340
        },
        "outputId": "e2d1b128-44af-4461-f035-8a8eaac28461"
      },
      "source": [
        "preds_Y_train = model.predict(X_train)\n",
        "preds_Y_train =(preds_Y_train>0.5).astype(int)\n",
        "\n",
        "preds_Y_train = enc.inverse_transform(preds_Y_train)\n",
        "y_train = enc.inverse_transform(y_train)\n",
        "\n",
        "accuracy = accuracy_score(y_train, preds_Y_train)\n",
        "precision = precision_score(y_train, preds_Y_train,average=None) # average=None: The precision scores for each class are returned\n",
        "recall = recall_score(y_train, preds_Y_train,average=None)\n",
        "f1 = f1_score(y_train, preds_Y_train,average=None)\n",
        "c_matrix = confusion_matrix(y_train, preds_Y_train,labels=[-3,-2,-1,0,1,2,3])\n",
        "print('accuracy: '+str(accuracy)+'\\n')\n",
        "print('precision: '+str(precision)+'\\n')\n",
        "print('recall: '+str(recall)+'\\n')\n",
        "print('F1 score: '+str(f1)+'\\n')\n",
        "print('Confusion matrix: ')\n",
        "print(c_matrix)"
      ],
      "execution_count": 21,
      "outputs": [
        {
          "output_type": "stream",
          "text": [
            "accuracy: 0.9922476532011392\n",
            "\n",
            "precision: [0.97333333 0.98481973 0.99519569 0.99223533 0.98627727 0.98701299\n",
            " 1.        ]\n",
            "\n",
            "recall: [1.         0.99616123 0.99252074 0.98854508 0.99857499 1.\n",
            " 1.        ]\n",
            "\n",
            "F1 score: [0.98648649 0.99045802 0.99385642 0.99038677 0.99238803 0.99346405\n",
            " 1.        ]\n",
            "\n",
            "Confusion matrix: \n",
            "[[ 219    0    0    0    0    0    0]\n",
            " [   0  519    2    0    0    0    0]\n",
            " [   6    4 8493   48    5    1    0]\n",
            " [   0    4   39 6645   34    0    0]\n",
            " [   0    0    0    4 2803    0    0]\n",
            " [   0    0    0    0    0   76    0]\n",
            " [   0    0    0    0    0    0   60]]\n"
          ],
          "name": "stdout"
        }
      ]
    },
    {
      "cell_type": "markdown",
      "metadata": {
        "id": "K-4uPxJhqI3Q",
        "colab_type": "text"
      },
      "source": [
        "## Performance on testing set"
      ]
    },
    {
      "cell_type": "code",
      "metadata": {
        "id": "65LiREb7qDsK",
        "colab_type": "code",
        "colab": {
          "base_uri": "https://localhost:8080/",
          "height": 340
        },
        "outputId": "e8972c08-ffc9-4d66-e891-dfc635fb3ba6"
      },
      "source": [
        "preds_Y_test = model.predict(X_test)\n",
        "preds_Y_test =(preds_Y_test>0.5).astype(int)\n",
        "\n",
        "preds_Y_test = enc.inverse_transform(preds_Y_test)\n",
        "y_test = enc.inverse_transform(y_test)\n",
        "\n",
        "accuracy = accuracy_score(y_test, preds_Y_test)\n",
        "precision = precision_score(y_test, preds_Y_test,average=None) # average=None: The precision scores for each class are returned\n",
        "recall = recall_score(y_test, preds_Y_test,average=None)\n",
        "f1 = f1_score(y_test, preds_Y_test,average=None)\n",
        "c_matrix = confusion_matrix(y_test, preds_Y_test,labels=[-3,-2,-1,0,1,2,3])\n",
        "print('accuracy: '+str(accuracy)+'\\n')\n",
        "print('precision: '+str(precision)+'\\n')\n",
        "print('recall: '+str(recall)+'\\n')\n",
        "print('F1 score: '+str(f1)+'\\n')\n",
        "print('Confusion matrix: ')\n",
        "print(c_matrix)"
      ],
      "execution_count": 22,
      "outputs": [
        {
          "output_type": "stream",
          "text": [
            "accuracy: 0.8639527525838431\n",
            "\n",
            "precision: [0.57333333 0.77272727 0.93909809 0.82890855 0.7574048  1.\n",
            " 1.        ]\n",
            "\n",
            "recall: [0.7962963  0.59130435 0.93345656 0.84996975 0.74171271 0.61111111\n",
            " 0.92307692]\n",
            "\n",
            "F1 score: [0.66666667 0.66995074 0.93626883 0.83930705 0.74947662 0.75862069\n",
            " 0.96      ]\n",
            "\n",
            "Confusion matrix: \n",
            "[[  43    2    7    2    0    0    0]\n",
            " [   4   68   29   13    1    0    0]\n",
            " [   7    8 2020  109   20    0    0]\n",
            " [  14    6   80 1405  148    0    0]\n",
            " [   6    2   14  165  537    0    0]\n",
            " [   0    2    1    1    3   11    0]\n",
            " [   1    0    0    0    0    0   12]]\n"
          ],
          "name": "stdout"
        }
      ]
    },
    {
      "cell_type": "markdown",
      "metadata": {
        "id": "FAAvmzrwq2hk",
        "colab_type": "text"
      },
      "source": [
        "Model 2 :\n",
        "\n",
        "2 LSTM layers"
      ]
    },
    {
      "cell_type": "code",
      "metadata": {
        "id": "IjoLEScjx6LX",
        "colab_type": "code",
        "colab": {}
      },
      "source": [
        "enc = OneHotEncoder(sparse=False)\n",
        "y_train = enc.fit_transform(np.asarray(y_train).reshape(-1, 1))\n",
        "y_test = enc.transform(np.asarray(y_test).reshape(-1, 1))"
      ],
      "execution_count": 0,
      "outputs": []
    },
    {
      "cell_type": "code",
      "metadata": {
        "id": "HrFIujMuq9rF",
        "colab_type": "code",
        "colab": {
          "base_uri": "https://localhost:8080/",
          "height": 1000
        },
        "outputId": "3b0f1c68-d900-4172-ebea-95866f5abe98"
      },
      "source": [
        "# Build our neural network model with LSTM\n",
        "\n",
        "from keras import models\n",
        "from keras import layers\n",
        "\n",
        "max_features = 25000\n",
        "\n",
        "from keras.layers import LSTM\n",
        "model = models.Sequential()\n",
        "model.add(layers.Embedding(max_features, 256))\n",
        "model.add(layers.LSTM(128,return_sequences=True))\n",
        "model.add(layers.LSTM(128))\n",
        "model.add(layers.Dense(7, activation='softmax'))\n",
        "\n",
        "model.compile(optimizer='adam',\n",
        "              loss='categorical_crossentropy',\n",
        "              metrics=['accuracy'])\n",
        "\n",
        "# Iterate on your training data by calling the fit() method of your model\n",
        "history = model.fit(X_train_res, y_train_res,\n",
        "                    epochs=10,\n",
        "                    batch_size=500,\n",
        "                   validation_split=0.2)\n",
        "\n",
        "# plot the results of loss values from the training set and validtion set\n",
        "history_dict = history.history\n",
        "loss_values = history_dict['loss']\n",
        "val_loss_values = history_dict['val_loss']\n",
        "\n",
        "epochs = range(1, len(history_dict['accuracy']) + 1)\n",
        "\n",
        "plt.figure(figsize=(10,6))\n",
        "plt.plot(epochs, loss_values, 'bo', label='Training loss')\n",
        "plt.plot(epochs, val_loss_values, 'b', label='Validation loss')\n",
        "plt.title('Training and validation loss')\n",
        "plt.xlabel('Epochs')\n",
        "plt.ylabel('Loss')\n",
        "plt.legend()\n",
        "plt.show()\n",
        "\n",
        "\n",
        "# plot the results of accuracy from the training set and validtion set\n",
        "acc = history_dict['accuracy']\n",
        "val_acc = history_dict['val_accuracy']\n",
        "plt.plot(epochs, acc, 'bo', label='Training acc')\n",
        "plt.plot(epochs, val_acc, 'b', label='Validation acc')\n",
        "plt.title('Training and validation accuracy')\n",
        "plt.xlabel('Epochs')\n",
        "plt.ylabel('Accuracy')\n",
        "plt.legend()\n",
        "plt.show()"
      ],
      "execution_count": 27,
      "outputs": [
        {
          "output_type": "stream",
          "text": [
            "/usr/local/lib/python3.6/dist-packages/tensorflow/python/framework/indexed_slices.py:434: UserWarning: Converting sparse IndexedSlices to a dense Tensor of unknown shape. This may consume a large amount of memory.\n",
            "  \"Converting sparse IndexedSlices to a dense Tensor of unknown shape. \"\n"
          ],
          "name": "stderr"
        },
        {
          "output_type": "stream",
          "text": [
            "Train on 47919 samples, validate on 11980 samples\n",
            "Epoch 1/10\n",
            "47919/47919 [==============================] - 300s 6ms/step - loss: 0.6462 - accuracy: 0.7625 - val_loss: 1.9568 - val_accuracy: 0.3023\n",
            "Epoch 2/10\n",
            "47919/47919 [==============================] - 299s 6ms/step - loss: 0.1403 - accuracy: 0.9519 - val_loss: 0.7883 - val_accuracy: 0.9052\n",
            "Epoch 3/10\n",
            "47919/47919 [==============================] - 299s 6ms/step - loss: 0.0839 - accuracy: 0.9730 - val_loss: 0.7187 - val_accuracy: 0.9176\n",
            "Epoch 4/10\n",
            "47919/47919 [==============================] - 309s 6ms/step - loss: 0.0631 - accuracy: 0.9810 - val_loss: 0.1897 - val_accuracy: 0.9785\n",
            "Epoch 5/10\n",
            "47919/47919 [==============================] - 302s 6ms/step - loss: 0.0390 - accuracy: 0.9881 - val_loss: 0.1438 - val_accuracy: 0.9785\n",
            "Epoch 6/10\n",
            "47919/47919 [==============================] - 298s 6ms/step - loss: 0.0365 - accuracy: 0.9901 - val_loss: 0.2401 - val_accuracy: 0.9344\n",
            "Epoch 7/10\n",
            "47919/47919 [==============================] - 298s 6ms/step - loss: 0.0388 - accuracy: 0.9886 - val_loss: 0.2010 - val_accuracy: 0.9785\n",
            "Epoch 8/10\n",
            "47919/47919 [==============================] - 297s 6ms/step - loss: 0.0241 - accuracy: 0.9931 - val_loss: 0.1532 - val_accuracy: 0.9785\n",
            "Epoch 9/10\n",
            "47919/47919 [==============================] - 298s 6ms/step - loss: 0.0207 - accuracy: 0.9936 - val_loss: 0.0889 - val_accuracy: 0.9785\n",
            "Epoch 10/10\n",
            "47919/47919 [==============================] - 305s 6ms/step - loss: 0.0179 - accuracy: 0.9947 - val_loss: 0.0926 - val_accuracy: 0.9785\n"
          ],
          "name": "stdout"
        },
        {
          "output_type": "display_data",
          "data": {
            "image/png": "[encoded data removed]",
            "text/plain": [
              "<Figure size 720x432 with 1 Axes>"
            ]
          },
          "metadata": {
            "tags": [],
            "needs_background": "light"
          }
        },
        {
          "output_type": "display_data",
          "data": {
            "image/png": "[encoded data removed]",
            "text/plain": [
              "<Figure size 432x288 with 1 Axes>"
            ]
          },
          "metadata": {
            "tags": [],
            "needs_background": "light"
          }
        }
      ]
    },
    {
      "cell_type": "markdown",
      "metadata": {
        "id": "T3zpmfEwq_OZ",
        "colab_type": "text"
      },
      "source": [
        "## Performance on training set"
      ]
    },
    {
      "cell_type": "code",
      "metadata": {
        "id": "skakP2Zcq_bM",
        "colab_type": "code",
        "colab": {
          "base_uri": "https://localhost:8080/",
          "height": 340
        },
        "outputId": "d2e6984e-d5d0-43d9-946f-243030fb1fa9"
      },
      "source": [
        "preds_Y_train = model.predict(X_train)\n",
        "preds_Y_train =(preds_Y_train>0.5).astype(int)\n",
        "\n",
        "preds_Y_train = enc.inverse_transform(preds_Y_train)\n",
        "y_train = enc.inverse_transform(y_train)\n",
        "\n",
        "accuracy = accuracy_score(y_train, preds_Y_train)\n",
        "precision = precision_score(y_train, preds_Y_train,average=None) # average=None: The precision scores for each class are returned\n",
        "recall = recall_score(y_train, preds_Y_train,average=None)\n",
        "f1 = f1_score(y_train, preds_Y_train,average=None)\n",
        "c_matrix = confusion_matrix(y_train, preds_Y_train,labels=[-3,-2,-1,0,1,2,3])\n",
        "print('accuracy: '+str(accuracy)+'\\n')\n",
        "print('precision: '+str(precision)+'\\n')\n",
        "print('recall: '+str(recall)+'\\n')\n",
        "print('F1 score: '+str(f1)+'\\n')\n",
        "print('Confusion matrix: ')\n",
        "print(c_matrix)"
      ],
      "execution_count": 28,
      "outputs": [
        {
          "output_type": "stream",
          "text": [
            "accuracy: 0.9909292268748022\n",
            "\n",
            "precision: [0.96475771 0.98113208 0.99391029 0.99074074 0.98693964 0.96202532\n",
            " 1.        ]\n",
            "\n",
            "recall: [1.         0.99808061 0.99181956 0.98690866 0.99608123 1.\n",
            " 0.96666667]\n",
            "\n",
            "F1 score: [0.98206278 0.98953378 0.99286383 0.98882099 0.99148936 0.98064516\n",
            " 0.98305085]\n",
            "\n",
            "Confusion matrix: \n",
            "[[ 219    0    0    0    0    0    0]\n",
            " [   1  520    0    0    0    0    0]\n",
            " [   4    5 8487   52    8    1    0]\n",
            " [   2    5   52 6634   29    0    0]\n",
            " [   1    0    0   10 2796    0    0]\n",
            " [   0    0    0    0    0   76    0]\n",
            " [   0    0    0    0    0    2   58]]\n"
          ],
          "name": "stdout"
        }
      ]
    },
    {
      "cell_type": "markdown",
      "metadata": {
        "id": "bzVg9Gdlq_oG",
        "colab_type": "text"
      },
      "source": [
        "## Performance on testing set"
      ]
    },
    {
      "cell_type": "code",
      "metadata": {
        "id": "Q_X7Jez4q_1_",
        "colab_type": "code",
        "colab": {
          "base_uri": "https://localhost:8080/",
          "height": 340
        },
        "outputId": "56517c04-f97e-40ac-9fe7-5b82ea509538"
      },
      "source": [
        "preds_Y_test = model.predict(X_test)\n",
        "preds_Y_test =(preds_Y_test>0.5).astype(int)\n",
        "\n",
        "preds_Y_test = enc.inverse_transform(preds_Y_test)\n",
        "y_test = enc.inverse_transform(y_test)\n",
        "\n",
        "accuracy = accuracy_score(y_test, preds_Y_test)\n",
        "precision = precision_score(y_test, preds_Y_test,average=None) # average=None: The precision scores for each class are returned\n",
        "recall = recall_score(y_test, preds_Y_test,average=None)\n",
        "f1 = f1_score(y_test, preds_Y_test,average=None)\n",
        "c_matrix = confusion_matrix(y_test, preds_Y_test,labels=[-3,-2,-1,0,1,2,3])\n",
        "print('accuracy: '+str(accuracy)+'\\n')\n",
        "print('precision: '+str(precision)+'\\n')\n",
        "print('recall: '+str(recall)+'\\n')\n",
        "print('F1 score: '+str(f1)+'\\n')\n",
        "print('Confusion matrix: ')\n",
        "print(c_matrix)"
      ],
      "execution_count": 29,
      "outputs": [
        {
          "output_type": "stream",
          "text": [
            "accuracy: 0.8569921957392955\n",
            "\n",
            "precision: [0.66666667 0.72815534 0.92441594 0.83890954 0.73138298 0.85714286\n",
            " 1.        ]\n",
            "\n",
            "recall: [0.77777778 0.65217391 0.93253235 0.81911676 0.75966851 0.66666667\n",
            " 0.92307692]\n",
            "\n",
            "F1 score: [0.71794872 0.68807339 0.92845641 0.82889501 0.74525745 0.75\n",
            " 0.96      ]\n",
            "\n",
            "Confusion matrix: \n",
            "[[  42    3    7    2    0    0    0]\n",
            " [   2   75   25    8    5    0    0]\n",
            " [   6   11 2018  103   26    0    0]\n",
            " [  11    8  111 1354  168    1    0]\n",
            " [   2    5   20  146  550    1    0]\n",
            " [   0    1    2    1    2   12    0]\n",
            " [   0    0    0    0    1    0   12]]\n"
          ],
          "name": "stdout"
        }
      ]
    },
    {
      "cell_type": "markdown",
      "metadata": {
        "id": "W37MMuLyrUke",
        "colab_type": "text"
      },
      "source": [
        "# Model 3 :\n",
        "\n",
        "3 LSTM layers"
      ]
    },
    {
      "cell_type": "code",
      "metadata": {
        "id": "sUkMN_gEx_OQ",
        "colab_type": "code",
        "colab": {}
      },
      "source": [
        "enc = OneHotEncoder(sparse=False)\n",
        "y_train = enc.fit_transform(np.asarray(y_train).reshape(-1, 1))\n",
        "y_test = enc.transform(np.asarray(y_test).reshape(-1, 1))"
      ],
      "execution_count": 0,
      "outputs": []
    },
    {
      "cell_type": "code",
      "metadata": {
        "id": "0BcASK67rYS7",
        "colab_type": "code",
        "colab": {
          "base_uri": "https://localhost:8080/",
          "height": 1000
        },
        "outputId": "eb25702b-6758-46e3-ebf9-c34396702063"
      },
      "source": [
        "# Build our neural network model with LSTM\n",
        "\n",
        "from keras import models\n",
        "from keras import layers\n",
        "\n",
        "max_features = 25000\n",
        "\n",
        "from keras.layers import LSTM\n",
        "model = models.Sequential()\n",
        "model.add(layers.Embedding(max_features, 256))\n",
        "model.add(layers.LSTM(128,return_sequences=True))\n",
        "model.add(layers.LSTM(128,return_sequences=True))\n",
        "model.add(layers.LSTM(128))\n",
        "model.add(layers.Dense(7, activation='softmax'))\n",
        "\n",
        "model.compile(optimizer='adam',\n",
        "              loss='categorical_crossentropy',\n",
        "              metrics=['accuracy'])\n",
        "\n",
        "# Iterate on your training data by calling the fit() method of your model\n",
        "history = model.fit(X_train_res, y_train_res,\n",
        "                    epochs=10,\n",
        "                    batch_size=500,\n",
        "                   validation_split=0.2)\n",
        "\n",
        "# plot the results of loss values from the training set and validtion set\n",
        "history_dict = history.history\n",
        "loss_values = history_dict['loss']\n",
        "val_loss_values = history_dict['val_loss']\n",
        "\n",
        "epochs = range(1, len(history_dict['accuracy']) + 1)\n",
        "\n",
        "plt.figure(figsize=(10,6))\n",
        "plt.plot(epochs, loss_values, 'bo', label='Training loss')\n",
        "plt.plot(epochs, val_loss_values, 'b', label='Validation loss')\n",
        "plt.title('Training and validation loss')\n",
        "plt.xlabel('Epochs')\n",
        "plt.ylabel('Loss')\n",
        "plt.legend()\n",
        "plt.show()\n",
        "\n",
        "\n",
        "# plot the results of accuracy from the training set and validtion set\n",
        "acc = history_dict['accuracy']\n",
        "val_acc = history_dict['val_accuracy']\n",
        "plt.plot(epochs, acc, 'bo', label='Training acc')\n",
        "plt.plot(epochs, val_acc, 'b', label='Validation acc')\n",
        "plt.title('Training and validation accuracy')\n",
        "plt.xlabel('Epochs')\n",
        "plt.ylabel('Accuracy')\n",
        "plt.legend()\n",
        "plt.show()"
      ],
      "execution_count": 31,
      "outputs": [
        {
          "output_type": "stream",
          "text": [
            "/usr/local/lib/python3.6/dist-packages/tensorflow/python/framework/indexed_slices.py:434: UserWarning: Converting sparse IndexedSlices to a dense Tensor of unknown shape. This may consume a large amount of memory.\n",
            "  \"Converting sparse IndexedSlices to a dense Tensor of unknown shape. \"\n"
          ],
          "name": "stderr"
        },
        {
          "output_type": "stream",
          "text": [
            "Train on 47919 samples, validate on 11980 samples\n",
            "Epoch 1/10\n",
            "47919/47919 [==============================] - 465s 10ms/step - loss: 0.6889 - accuracy: 0.7319 - val_loss: 3.3998 - val_accuracy: 0.2870\n",
            "Epoch 2/10\n",
            "47919/47919 [==============================] - 454s 9ms/step - loss: 0.1517 - accuracy: 0.9493 - val_loss: 1.3029 - val_accuracy: 0.6795\n",
            "Epoch 3/10\n",
            "47919/47919 [==============================] - 455s 9ms/step - loss: 0.0846 - accuracy: 0.9730 - val_loss: 0.7420 - val_accuracy: 0.9296\n",
            "Epoch 4/10\n",
            "47919/47919 [==============================] - 459s 10ms/step - loss: 0.0723 - accuracy: 0.9790 - val_loss: 0.6624 - val_accuracy: 0.9180\n",
            "Epoch 5/10\n",
            "47919/47919 [==============================] - 452s 9ms/step - loss: 0.0463 - accuracy: 0.9862 - val_loss: 0.5533 - val_accuracy: 0.9296\n",
            "Epoch 6/10\n",
            "47919/47919 [==============================] - 478s 10ms/step - loss: 0.0376 - accuracy: 0.9893 - val_loss: 0.5343 - val_accuracy: 0.9296\n",
            "Epoch 7/10\n",
            "47919/47919 [==============================] - 491s 10ms/step - loss: 0.0301 - accuracy: 0.9913 - val_loss: 0.5189 - val_accuracy: 0.9296\n",
            "Epoch 8/10\n",
            "47919/47919 [==============================] - 485s 10ms/step - loss: 0.0311 - accuracy: 0.9912 - val_loss: 0.5036 - val_accuracy: 0.9296\n",
            "Epoch 9/10\n",
            "47919/47919 [==============================] - 491s 10ms/step - loss: 0.0227 - accuracy: 0.9933 - val_loss: 0.4616 - val_accuracy: 0.9296\n",
            "Epoch 10/10\n",
            "47919/47919 [==============================] - 496s 10ms/step - loss: 0.0205 - accuracy: 0.9941 - val_loss: 0.4454 - val_accuracy: 0.9296\n"
          ],
          "name": "stdout"
        },
        {
          "output_type": "display_data",
          "data": {
            "image/png": "[encoded data removed]",
            "text/plain": [
              "<Figure size 720x432 with 1 Axes>"
            ]
          },
          "metadata": {
            "tags": [],
            "needs_background": "light"
          }
        },
        {
          "output_type": "display_data",
          "data": {
            "image/png": "[encoded data removed]",
            "text/plain": [
              "<Figure size 432x288 with 1 Axes>"
            ]
          },
          "metadata": {
            "tags": [],
            "needs_background": "light"
          }
        }
      ]
    },
    {
      "cell_type": "markdown",
      "metadata": {
        "id": "G0XXlZI1rnew",
        "colab_type": "text"
      },
      "source": [
        "## Performance on training set"
      ]
    },
    {
      "cell_type": "code",
      "metadata": {
        "id": "6jMzOcKOrnsQ",
        "colab_type": "code",
        "colab": {
          "base_uri": "https://localhost:8080/",
          "height": 340
        },
        "outputId": "ede7922c-8505-45dd-a869-89442c78c11a"
      },
      "source": [
        "preds_Y_train = model.predict(X_train)\n",
        "preds_Y_train =(preds_Y_train>0.5).astype(int)\n",
        "\n",
        "preds_Y_train = enc.inverse_transform(preds_Y_train)\n",
        "y_train = enc.inverse_transform(y_train)\n",
        "\n",
        "accuracy = accuracy_score(y_train, preds_Y_train)\n",
        "precision = precision_score(y_train, preds_Y_train,average=None) # average=None: The precision scores for each class are returned\n",
        "recall = recall_score(y_train, preds_Y_train,average=None)\n",
        "f1 = f1_score(y_train, preds_Y_train,average=None)\n",
        "c_matrix = confusion_matrix(y_train, preds_Y_train,labels=[-3,-2,-1,0,1,2,3])\n",
        "print('accuracy: '+str(accuracy)+'\\n')\n",
        "print('precision: '+str(precision)+'\\n')\n",
        "print('recall: '+str(recall)+'\\n')\n",
        "print('F1 score: '+str(f1)+'\\n')\n",
        "print('Confusion matrix: ')\n",
        "print(c_matrix)"
      ],
      "execution_count": 32,
      "outputs": [
        {
          "output_type": "stream",
          "text": [
            "accuracy: 0.9886615335935028\n",
            "\n",
            "precision: [0.93991416 0.98116761 0.99159468 0.99157134 0.97829891 0.98701299\n",
            " 1.        ]\n",
            "\n",
            "recall: [1.         1.         0.99263761 0.98006546 0.99572497 1.\n",
            " 0.9       ]\n",
            "\n",
            "F1 score: [0.96902655 0.9904943  0.99211587 0.98578483 0.98693503 0.99346405\n",
            " 0.94736842]\n",
            "\n",
            "Confusion matrix: \n",
            "[[ 219    0    0    0    0    0    0]\n",
            " [   0  521    0    0    0    0    0]\n",
            " [   6    5 8494   45    6    1    0]\n",
            " [   3    5   71 6588   55    0    0]\n",
            " [   0    0    1   11 2795    0    0]\n",
            " [   0    0    0    0    0   76    0]\n",
            " [   5    0    0    0    1    0   54]]\n"
          ],
          "name": "stdout"
        }
      ]
    },
    {
      "cell_type": "markdown",
      "metadata": {
        "id": "TpiIYxHern0O",
        "colab_type": "text"
      },
      "source": [
        "## Performance on testing set"
      ]
    },
    {
      "cell_type": "code",
      "metadata": {
        "id": "g-_pGhjGrn9s",
        "colab_type": "code",
        "colab": {
          "base_uri": "https://localhost:8080/",
          "height": 340
        },
        "outputId": "2415b028-9355-4fb4-c13b-a57f41a115b5"
      },
      "source": [
        "preds_Y_test = model.predict(X_test)\n",
        "preds_Y_test =(preds_Y_test>0.5).astype(int)\n",
        "\n",
        "preds_Y_test = enc.inverse_transform(preds_Y_test)\n",
        "y_test = enc.inverse_transform(y_test)\n",
        "\n",
        "accuracy = accuracy_score(y_test, preds_Y_test)\n",
        "precision = precision_score(y_test, preds_Y_test,average=None) # average=None: The precision scores for each class are returned\n",
        "recall = recall_score(y_test, preds_Y_test,average=None)\n",
        "f1 = f1_score(y_test, preds_Y_test,average=None)\n",
        "c_matrix = confusion_matrix(y_test, preds_Y_test,labels=[-3,-2,-1,0,1,2,3])\n",
        "print('accuracy: '+str(accuracy)+'\\n')\n",
        "print('precision: '+str(precision)+'\\n')\n",
        "print('recall: '+str(recall)+'\\n')\n",
        "print('F1 score: '+str(f1)+'\\n')\n",
        "print('Confusion matrix: ')\n",
        "print(c_matrix)"
      ],
      "execution_count": 33,
      "outputs": [
        {
          "output_type": "stream",
          "text": [
            "accuracy: 0.8652183083737608\n",
            "\n",
            "precision: [0.63768116 0.7027027  0.93271889 0.82138728 0.803125   1.\n",
            " 1.        ]\n",
            "\n",
            "recall: [0.81481481 0.67826087 0.93530499 0.85964912 0.70994475 0.5\n",
            " 0.92307692]\n",
            "\n",
            "F1 score: [0.71544715 0.69026549 0.93401015 0.84008277 0.75366569 0.66666667\n",
            " 0.96      ]\n",
            "\n",
            "Confusion matrix: \n",
            "[[  44    4    2    4    0    0    0]\n",
            " [   1   78   22   11    3    0    0]\n",
            " [   6   10 2024  104   20    0    0]\n",
            " [  14   14  102 1421  102    0    0]\n",
            " [   3    4   18  185  514    0    0]\n",
            " [   0    1    2    5    1    9    0]\n",
            " [   1    0    0    0    0    0   12]]\n"
          ],
          "name": "stdout"
        }
      ]
    }
  ]
}