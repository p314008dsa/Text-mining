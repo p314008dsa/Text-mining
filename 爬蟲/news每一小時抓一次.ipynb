{
 "cells": [
  {
   "cell_type": "code",
   "execution_count": 1,
   "metadata": {},
   "outputs": [],
   "source": [
    "import news\n",
    "import time"
   ]
  },
  {
   "cell_type": "code",
   "execution_count": 2,
   "metadata": {},
   "outputs": [
    {
     "data": {
      "text/html": [
       "<div>\n",
       "<style scoped>\n",
       "    .dataframe tbody tr th:only-of-type {\n",
       "        vertical-align: middle;\n",
       "    }\n",
       "\n",
       "    .dataframe tbody tr th {\n",
       "        vertical-align: top;\n",
       "    }\n",
       "\n",
       "    .dataframe thead th {\n",
       "        text-align: right;\n",
       "    }\n",
       "</style>\n",
       "<table border=\"1\" class=\"dataframe\">\n",
       "  <thead>\n",
       "    <tr style=\"text-align: right;\">\n",
       "      <th></th>\n",
       "      <th>content_tokenized</th>\n",
       "    </tr>\n",
       "  </thead>\n",
       "  <tbody>\n",
       "    <tr>\n",
       "      <th>0</th>\n",
       "      <td>公告 本 公司 內部 稽核 主管 異動</td>\n",
       "    </tr>\n",
       "    <tr>\n",
       "      <th>1</th>\n",
       "      <td>公告 本 公司 一九年 五月份 合併 營運 情形</td>\n",
       "    </tr>\n",
       "    <tr>\n",
       "      <th>2</th>\n",
       "      <td>公告 本 公司 名稱 由 凱柏 實業 股份 有限公司 更名為 天方 能源 科技 股份 有限公司</td>\n",
       "    </tr>\n",
       "    <tr>\n",
       "      <th>3</th>\n",
       "      <td>前 董事長 及 數位 高階 主管 未 完成 交接 暨 近 幾 年度 會計 傳票 遭 侵占 等 事件</td>\n",
       "    </tr>\n",
       "    <tr>\n",
       "      <th>4</th>\n",
       "      <td>本 公司 109年 第1 季 季報 審議 事宜</td>\n",
       "    </tr>\n",
       "    <tr>\n",
       "      <th>5</th>\n",
       "      <td>本 公司 因 獨立 董事 候選人 名單 受理 被 訴假 處分 事宜</td>\n",
       "    </tr>\n",
       "    <tr>\n",
       "      <th>6</th>\n",
       "      <td>本 公司 及 前任 董事長 楊連發 被 訴假 處分 事宜</td>\n",
       "    </tr>\n",
       "    <tr>\n",
       "      <th>7</th>\n",
       "      <td>內部 稽核 主管 異動</td>\n",
       "    </tr>\n",
       "    <tr>\n",
       "      <th>8</th>\n",
       "      <td>會計 主管 異動</td>\n",
       "    </tr>\n",
       "  </tbody>\n",
       "</table>\n",
       "</div>"
      ],
      "text/plain": [
       "                                   content_tokenized\n",
       "0                                公告 本 公司 內部 稽核 主管 異動\n",
       "1                           公告 本 公司 一九年 五月份 合併 營運 情形\n",
       "2    公告 本 公司 名稱 由 凱柏 實業 股份 有限公司 更名為 天方 能源 科技 股份 有限公司\n",
       "3  前 董事長 及 數位 高階 主管 未 完成 交接 暨 近 幾 年度 會計 傳票 遭 侵占 等 事件\n",
       "4                            本 公司 109年 第1 季 季報 審議 事宜\n",
       "5                  本 公司 因 獨立 董事 候選人 名單 受理 被 訴假 處分 事宜\n",
       "6                       本 公司 及 前任 董事長 楊連發 被 訴假 處分 事宜\n",
       "7                                        內部 稽核 主管 異動\n",
       "8                                           會計 主管 異動"
      ]
     },
     "execution_count": 2,
     "metadata": {},
     "output_type": "execute_result"
    }
   ],
   "source": [
    "news.news()"
   ]
  },
  {
   "cell_type": "code",
   "execution_count": 3,
   "metadata": {},
   "outputs": [],
   "source": [
    "old=news.news()"
   ]
  },
  {
   "cell_type": "code",
   "execution_count": null,
   "metadata": {},
   "outputs": [],
   "source": [
    "for i in range(0,24):\n",
    "    new=news.news()\n",
    "    if old.size!=new.size:\n",
    "        print(old.iloc[old.size-1:new.size,:])\n",
    "    old=new\n",
    "    time.sleep(3600)"
   ]
  }
 ],
 "metadata": {
  "kernelspec": {
   "display_name": "Python 3",
   "language": "python",
   "name": "python3"
  },
  "language_info": {
   "codemirror_mode": {
    "name": "ipython",
    "version": 3
   },
   "file_extension": ".py",
   "mimetype": "text/x-python",
   "name": "python",
   "nbconvert_exporter": "python",
   "pygments_lexer": "ipython3",
   "version": "3.7.1"
  }
 },
 "nbformat": 4,
 "nbformat_minor": 2
}
