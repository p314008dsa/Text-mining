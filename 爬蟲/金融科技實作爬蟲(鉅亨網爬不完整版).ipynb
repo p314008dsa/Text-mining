{
 "cells": [
  {
   "cell_type": "markdown",
   "metadata": {},
   "source": [
    "爬鉅亨網(只能爬下部分資料，有試過Selenium讓網頁可以滑下來繼續加載，但仍無法處理加載內容)\n",
    "(也試過requests_html 但r.html.render()無法在jupyter上跑)"
   ]
  },
  {
   "cell_type": "code",
   "execution_count": 1,
   "metadata": {},
   "outputs": [],
   "source": [
    "import re\n",
    "import requests\n",
    "from bs4 import BeautifulSoup"
   ]
  },
  {
   "cell_type": "code",
   "execution_count": 2,
   "metadata": {},
   "outputs": [],
   "source": [
    "doc = requests.get(\"https://news.cnyes.com/news/cat/tw_stock_news?exp=a\")"
   ]
  },
  {
   "cell_type": "code",
   "execution_count": 3,
   "metadata": {},
   "outputs": [],
   "source": [
    "soup = BeautifulSoup(doc.text, \"html.parser\")"
   ]
  },
  {
   "cell_type": "code",
   "execution_count": 4,
   "metadata": {},
   "outputs": [],
   "source": [
    "# print(soup.prettify())"
   ]
  },
  {
   "cell_type": "code",
   "execution_count": 5,
   "metadata": {},
   "outputs": [],
   "source": [
    "data=soup.find_all('h3')\n",
    "context=[]\n",
    "for tag in data:\n",
    "    context.append(tag.string)"
   ]
  },
  {
   "cell_type": "code",
   "execution_count": 6,
   "metadata": {},
   "outputs": [],
   "source": [
    "data1=soup.find_all('time')\n",
    "time=[]\n",
    "for tag1 in data1:\n",
    "    time.append(tag1.string)"
   ]
  },
  {
   "cell_type": "code",
   "execution_count": 7,
   "metadata": {},
   "outputs": [
    {
     "data": {
      "text/plain": [
       "30"
      ]
     },
     "execution_count": 7,
     "metadata": {},
     "output_type": "execute_result"
    }
   ],
   "source": [
    "len(context)"
   ]
  },
  {
   "cell_type": "code",
   "execution_count": 8,
   "metadata": {},
   "outputs": [
    {
     "data": {
      "text/plain": [
       "30"
      ]
     },
     "execution_count": 8,
     "metadata": {},
     "output_type": "execute_result"
    }
   ],
   "source": [
    "time=time[1:]\n",
    "len(time)"
   ]
  },
  {
   "cell_type": "code",
   "execution_count": 9,
   "metadata": {},
   "outputs": [],
   "source": [
    "import pandas as pd\n",
    "dict={\"date\":time,\"news\":context}\n",
    "newdata=pd.DataFrame(dict)"
   ]
  },
  {
   "cell_type": "code",
   "execution_count": 10,
   "metadata": {},
   "outputs": [
    {
     "data": {
      "text/html": [
       "<div>\n",
       "<style scoped>\n",
       "    .dataframe tbody tr th:only-of-type {\n",
       "        vertical-align: middle;\n",
       "    }\n",
       "\n",
       "    .dataframe tbody tr th {\n",
       "        vertical-align: top;\n",
       "    }\n",
       "\n",
       "    .dataframe thead th {\n",
       "        text-align: right;\n",
       "    }\n",
       "</style>\n",
       "<table border=\"1\" class=\"dataframe\">\n",
       "  <thead>\n",
       "    <tr style=\"text-align: right;\">\n",
       "      <th></th>\n",
       "      <th>date</th>\n",
       "      <th>news</th>\n",
       "    </tr>\n",
       "  </thead>\n",
       "  <tbody>\n",
       "    <tr>\n",
       "      <th>0</th>\n",
       "      <td>05/14</td>\n",
       "      <td>眾達-KY首季認列可轉換公司評價 純益年減2成 EPS 0.57元</td>\n",
       "    </tr>\n",
       "    <tr>\n",
       "      <th>1</th>\n",
       "      <td>05/14</td>\n",
       "      <td>合一已收取第一階段授權金1448萬美元</td>\n",
       "    </tr>\n",
       "    <tr>\n",
       "      <th>2</th>\n",
       "      <td>05/14</td>\n",
       "      <td>台達電打造台電最大儲能系統 搶攻國內智慧電網商機</td>\n",
       "    </tr>\n",
       "    <tr>\n",
       "      <th>3</th>\n",
       "      <td>05/14</td>\n",
       "      <td>高鐵將董監改選 前交長蔡堆入列獨董名單</td>\n",
       "    </tr>\n",
       "    <tr>\n",
       "      <th>4</th>\n",
       "      <td>05/14</td>\n",
       "      <td>徐旭東胞姊 亞泥董事徐菊芳辭世</td>\n",
       "    </tr>\n",
       "    <tr>\n",
       "      <th>5</th>\n",
       "      <td>05/14</td>\n",
       "      <td>台灣永續、生技期貨 6/8期交所掛牌</td>\n",
       "    </tr>\n",
       "    <tr>\n",
       "      <th>6</th>\n",
       "      <td>05/14</td>\n",
       "      <td>聚陽4月稅前盈餘腰斬 前4月年減逾1成 稅前EPS 3.06元</td>\n",
       "    </tr>\n",
       "    <tr>\n",
       "      <th>7</th>\n",
       "      <td>05/14</td>\n",
       "      <td>疫情重擊彩券經銷商生意 財部伸援手每月補貼額最高1萬元</td>\n",
       "    </tr>\n",
       "    <tr>\n",
       "      <th>8</th>\n",
       "      <td>05/14</td>\n",
       "      <td>三大老牌飯店Q1罕見虧損 寒舍每股虧掉1.74元最慘</td>\n",
       "    </tr>\n",
       "    <tr>\n",
       "      <th>9</th>\n",
       "      <td>05/14</td>\n",
       "      <td>漢唐Q1每股賺3.91元 創同期新高</td>\n",
       "    </tr>\n",
       "    <tr>\n",
       "      <th>10</th>\n",
       "      <td>05/14</td>\n",
       "      <td>啟碁估Q1為全年谷底 下半年營運將優於上半年</td>\n",
       "    </tr>\n",
       "    <tr>\n",
       "      <th>11</th>\n",
       "      <td>05/14</td>\n",
       "      <td>聯華食積極擴張 再斥10.6億元購入桃園觀音工業區大型建廠用地</td>\n",
       "    </tr>\n",
       "    <tr>\n",
       "      <th>12</th>\n",
       "      <td>05/14</td>\n",
       "      <td>客戶拉貨動能延續 公準Q2營收維持高檔 全年估優去年</td>\n",
       "    </tr>\n",
       "    <tr>\n",
       "      <th>13</th>\n",
       "      <td>05/14</td>\n",
       "      <td>貨櫃三雄Q1獲利暴減 陽明連虧5季 萬海創3年來新低</td>\n",
       "    </tr>\n",
       "    <tr>\n",
       "      <th>14</th>\n",
       "      <td>05/14</td>\n",
       "      <td>〈樺漢法說〉Q2營收估季增1-3% 毛利率降 營益率力保持平</td>\n",
       "    </tr>\n",
       "    <tr>\n",
       "      <th>15</th>\n",
       "      <td>05/14</td>\n",
       "      <td>禾伸堂將斥25億元擴產 投資台灣三大方案衝破兆元大關</td>\n",
       "    </tr>\n",
       "    <tr>\n",
       "      <th>16</th>\n",
       "      <td>05/14</td>\n",
       "      <td>鉅橡受惠原物料酚價處歷史低檔 首季獲利成長4成 EPS 0.15元</td>\n",
       "    </tr>\n",
       "    <tr>\n",
       "      <th>17</th>\n",
       "      <td>05/14</td>\n",
       "      <td>巨大首季獲利年減8% 每股純益 1.68元</td>\n",
       "    </tr>\n",
       "    <tr>\n",
       "      <th>18</th>\n",
       "      <td>05/14</td>\n",
       "      <td>寶齡富錦Q1純益年減逾9成 EPS 0.01元 創新低</td>\n",
       "    </tr>\n",
       "    <tr>\n",
       "      <th>19</th>\n",
       "      <td>05/14</td>\n",
       "      <td>康友Q1每股賺1.7元 擬配現金股利2元 雙創新低</td>\n",
       "    </tr>\n",
       "    <tr>\n",
       "      <th>20</th>\n",
       "      <td>05/14</td>\n",
       "      <td>汎德Q1認新據點費用 獲利年減逾1成 EPS 1.3元</td>\n",
       "    </tr>\n",
       "    <tr>\n",
       "      <th>21</th>\n",
       "      <td>05/14</td>\n",
       "      <td>外資連三賣 大砍金融電子權值股 回補富邦VIX逾5萬張</td>\n",
       "    </tr>\n",
       "    <tr>\n",
       "      <th>22</th>\n",
       "      <td>05/14</td>\n",
       "      <td>遞延訂單+產能回升 勤誠Q2營收估季增3成 上半年營收轉正成長</td>\n",
       "    </tr>\n",
       "    <tr>\n",
       "      <th>23</th>\n",
       "      <td>05/14</td>\n",
       "      <td>認列深圳舊廠遣散費 建大Q1每股虧0.6元</td>\n",
       "    </tr>\n",
       "    <tr>\n",
       "      <th>24</th>\n",
       "      <td>05/14</td>\n",
       "      <td>杜絕詐騙 ATM轉帳逾3萬元 銀行須發簡訊通知</td>\n",
       "    </tr>\n",
       "    <tr>\n",
       "      <th>25</th>\n",
       "      <td>05/14</td>\n",
       "      <td>雷虎Q1獲利暴衝3700% 每股純益0.15元 創19季新高</td>\n",
       "    </tr>\n",
       "    <tr>\n",
       "      <th>26</th>\n",
       "      <td>05/14</td>\n",
       "      <td>和碩首季本業意外轉虧 業外挹注純益年增16% EPS 0.59元</td>\n",
       "    </tr>\n",
       "    <tr>\n",
       "      <th>27</th>\n",
       "      <td>05/14</td>\n",
       "      <td>合庫金Q1賺41億元年增0.96% 公股金控中逆勢成長</td>\n",
       "    </tr>\n",
       "    <tr>\n",
       "      <th>28</th>\n",
       "      <td>05/14</td>\n",
       "      <td>〈廣達法說〉遞延訂單出貨 Q2筆電可望季增雙位數</td>\n",
       "    </tr>\n",
       "    <tr>\n",
       "      <th>29</th>\n",
       "      <td>05/14</td>\n",
       "      <td>〈矽力法說〉董座：下半年消費性需求將回溫 營運估優上半年</td>\n",
       "    </tr>\n",
       "  </tbody>\n",
       "</table>\n",
       "</div>"
      ],
      "text/plain": [
       "     date                               news\n",
       "0   05/14  眾達-KY首季認列可轉換公司評價 純益年減2成 EPS 0.57元\n",
       "1   05/14                合一已收取第一階段授權金1448萬美元\n",
       "2   05/14           台達電打造台電最大儲能系統 搶攻國內智慧電網商機\n",
       "3   05/14                高鐵將董監改選 前交長蔡堆入列獨董名單\n",
       "4   05/14                    徐旭東胞姊 亞泥董事徐菊芳辭世\n",
       "5   05/14                 台灣永續、生技期貨 6/8期交所掛牌\n",
       "6   05/14    聚陽4月稅前盈餘腰斬 前4月年減逾1成 稅前EPS 3.06元\n",
       "7   05/14        疫情重擊彩券經銷商生意 財部伸援手每月補貼額最高1萬元\n",
       "8   05/14         三大老牌飯店Q1罕見虧損 寒舍每股虧掉1.74元最慘\n",
       "9   05/14                 漢唐Q1每股賺3.91元 創同期新高\n",
       "10  05/14             啟碁估Q1為全年谷底 下半年營運將優於上半年\n",
       "11  05/14    聯華食積極擴張 再斥10.6億元購入桃園觀音工業區大型建廠用地\n",
       "12  05/14         客戶拉貨動能延續 公準Q2營收維持高檔 全年估優去年\n",
       "13  05/14         貨櫃三雄Q1獲利暴減 陽明連虧5季 萬海創3年來新低\n",
       "14  05/14     〈樺漢法說〉Q2營收估季增1-3% 毛利率降 營益率力保持平\n",
       "15  05/14         禾伸堂將斥25億元擴產 投資台灣三大方案衝破兆元大關\n",
       "16  05/14  鉅橡受惠原物料酚價處歷史低檔 首季獲利成長4成 EPS 0.15元\n",
       "17  05/14              巨大首季獲利年減8% 每股純益 1.68元\n",
       "18  05/14        寶齡富錦Q1純益年減逾9成 EPS 0.01元 創新低\n",
       "19  05/14          康友Q1每股賺1.7元 擬配現金股利2元 雙創新低\n",
       "20  05/14        汎德Q1認新據點費用 獲利年減逾1成 EPS 1.3元\n",
       "21  05/14        外資連三賣 大砍金融電子權值股 回補富邦VIX逾5萬張\n",
       "22  05/14    遞延訂單+產能回升 勤誠Q2營收估季增3成 上半年營收轉正成長\n",
       "23  05/14              認列深圳舊廠遣散費 建大Q1每股虧0.6元\n",
       "24  05/14            杜絕詐騙 ATM轉帳逾3萬元 銀行須發簡訊通知\n",
       "25  05/14     雷虎Q1獲利暴衝3700% 每股純益0.15元 創19季新高\n",
       "26  05/14   和碩首季本業意外轉虧 業外挹注純益年增16% EPS 0.59元\n",
       "27  05/14        合庫金Q1賺41億元年增0.96% 公股金控中逆勢成長\n",
       "28  05/14           〈廣達法說〉遞延訂單出貨 Q2筆電可望季增雙位數\n",
       "29  05/14       〈矽力法說〉董座：下半年消費性需求將回溫 營運估優上半年"
      ]
     },
     "execution_count": 10,
     "metadata": {},
     "output_type": "execute_result"
    }
   ],
   "source": [
    "newdata"
   ]
  },
  {
   "cell_type": "code",
   "execution_count": null,
   "metadata": {},
   "outputs": [],
   "source": []
  },
  {
   "cell_type": "code",
   "execution_count": null,
   "metadata": {},
   "outputs": [],
   "source": []
  }
 ],
 "metadata": {
  "kernelspec": {
   "display_name": "Python 3",
   "language": "python",
   "name": "python3"
  },
  "language_info": {
   "codemirror_mode": {
    "name": "ipython",
    "version": 3
   },
   "file_extension": ".py",
   "mimetype": "text/x-python",
   "name": "python",
   "nbconvert_exporter": "python",
   "pygments_lexer": "ipython3",
   "version": "3.7.1"
  }
 },
 "nbformat": 4,
 "nbformat_minor": 2
}
