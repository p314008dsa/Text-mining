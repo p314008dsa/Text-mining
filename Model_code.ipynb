{
  "nbformat": 4,
  "nbformat_minor": 0,
  "metadata": {
    "colab": {
      "name": "Model_code.ipynb",
      "provenance": [],
      "collapsed_sections": []
    },
    "kernelspec": {
      "name": "python3",
      "display_name": "Python 3"
    },
    "accelerator": "GPU"
  },
  "cells": [
    {
      "cell_type": "code",
      "metadata": {
        "id": "zrkI_RGTWGYR",
        "colab_type": "code",
        "colab": {
          "base_uri": "https://localhost:8080/",
          "height": 34
        },
        "outputId": "b97207e7-17c0-4599-cc3b-5ac0afa83503"
      },
      "source": [
        "import pandas as pd \n",
        "import numpy as np\n",
        "import sklearn\n",
        "import keras\n",
        "from keras import models\n",
        "from keras import layers\n",
        "from keras.layers import LSTM\n",
        "from sklearn.preprocessing import OneHotEncoder\n",
        "\n",
        "from sklearn.metrics import accuracy_score\n",
        "from sklearn.metrics import precision_score\n",
        "from sklearn.metrics import recall_score\n",
        "from sklearn.metrics import f1_score #The F-Measure is a popular metric for imbalanced classification.\n",
        "from sklearn.metrics import confusion_matrix"
      ],
      "execution_count": 1,
      "outputs": [
        {
          "output_type": "stream",
          "text": [
            "Using TensorFlow backend.\n"
          ],
          "name": "stderr"
        }
      ]
    },
    {
      "cell_type": "code",
      "metadata": {
        "id": "OjUxhd1HLGIC",
        "colab_type": "code",
        "colab": {
          "base_uri": "https://localhost:8080/",
          "height": 122
        },
        "outputId": "aac683f4-ecbf-4b36-a103-1f512f5690b6"
      },
      "source": [
        "# import Google Drive 套件\n",
        "from google.colab import drive\n",
        "\n",
        "# 將自己的雲端硬碟掛載上去\n",
        "drive.mount('/content/gdrive')"
      ],
      "execution_count": 2,
      "outputs": [
        {
          "output_type": "stream",
          "text": [
            "Go to this URL in a browser: https://accounts.google.com/o/oauth2/auth?client_id=947318989803-6bn6qk8qdgf4n4g3pfee6491hc0brc4i.apps.googleusercontent.com&redirect_uri=urn%3aietf%3awg%3aoauth%3a2.0%3aoob&response_type=code&scope=email%20https%3a%2f%2fwww.googleapis.com%2fauth%2fdocs.test%20https%3a%2f%2fwww.googleapis.com%2fauth%2fdrive%20https%3a%2f%2fwww.googleapis.com%2fauth%2fdrive.photos.readonly%20https%3a%2f%2fwww.googleapis.com%2fauth%2fpeopleapi.readonly\n",
            "\n",
            "Enter your authorization code:\n",
            "··········\n",
            "Mounted at /content/gdrive\n"
          ],
          "name": "stdout"
        }
      ]
    },
    {
      "cell_type": "code",
      "metadata": {
        "id": "L7xIGJGY0ZDM",
        "colab_type": "code",
        "colab": {
          "base_uri": "https://localhost:8080/",
          "height": 71
        },
        "outputId": "c2ed2a2b-1925-47e3-e7ab-0bf04f5eead3"
      },
      "source": [
        "# load models\n",
        "from keras.models import load_model\n",
        "Intensity_Classifier = load_model('gdrive/My Drive/金融科技Final_project/Intensity_Classifier')\n",
        "Small_Event_Classifier = load_model('gdrive/My Drive/金融科技Final_project/Small_Event_Classifier')\n",
        "Big_Event_Classifier = load_model('gdrive/My Drive/金融科技Final_project/Big_Event_Classifier')\n",
        "Month_abnormal_returns_Classifier = load_model('gdrive/My Drive/金融科技Final_project/Month_abnormal_returns_Classifier')"
      ],
      "execution_count": 3,
      "outputs": [
        {
          "output_type": "stream",
          "text": [
            "/usr/local/lib/python3.6/dist-packages/tensorflow/python/framework/indexed_slices.py:434: UserWarning: Converting sparse IndexedSlices to a dense Tensor of unknown shape. This may consume a large amount of memory.\n",
            "  \"Converting sparse IndexedSlices to a dense Tensor of unknown shape. \"\n"
          ],
          "name": "stderr"
        }
      ]
    },
    {
      "cell_type": "code",
      "metadata": {
        "id": "w-zSuPgBxHPj",
        "colab_type": "code",
        "colab": {}
      },
      "source": [
        "# load encoders\n",
        "from joblib import dump, load\n",
        "\n",
        "Intensity_enc = load('gdrive/My Drive/金融科技Final_project/Intensity_enc.joblib')\n",
        "\n",
        "BE_enc = load('gdrive/My Drive/金融科技Final_project/BE_enc.joblib')\n",
        "\n",
        "SE_enc = load('gdrive/My Drive/金融科技Final_project/SE_enc.joblib')"
      ],
      "execution_count": 4,
      "outputs": []
    },
    {
      "cell_type": "code",
      "metadata": {
        "id": "BBL_DhtJs2od",
        "colab_type": "code",
        "colab": {}
      },
      "source": [
        "\"\"\"\n",
        "# Here we have to use our original text to fit our tokenizer\n",
        "data_df = pd.read_excel('gdrive/My Drive/金融科技Final_project/2019+2020年新聞資訊事件_股價報酬_528.xlsx')\n",
        "tokenizer = keras .preprocessing.text.Tokenizer(num_words=10000)\n",
        "tokenizer.fit_on_texts(data_df.content_tokenized)\n",
        "\n",
        "# Save our tokenizer\n",
        "from joblib import dump, load\n",
        "dump(tokenizer, 'gdrive/My Drive/金融科技Final_project/my_tokenizer.joblib') \n",
        "\"\"\"\n",
        "\n",
        "# load tokenizer\n",
        "\n",
        "from joblib import dump, load\n",
        "\n",
        "my_tokenizer = load('gdrive/My Drive/金融科技Final_project/my_tokenizer.joblib')"
      ],
      "execution_count": 5,
      "outputs": []
    },
    {
      "cell_type": "code",
      "metadata": {
        "id": "-ZBBAuHSvR15",
        "colab_type": "code",
        "colab": {}
      },
      "source": [
        "# Here is our preprocess_text function\n",
        "\n",
        "def preprocess_text(Tokenizer,corpus, MAX_SEQUENCE_LENGTH = 1000):\n",
        "  '''\n",
        "  put our fitted tokernizer into the \"Tokernizer\" of the function\n",
        "  put our cutted text into the \"corpus\" of the function\n",
        "  '''\n",
        "  output = Tokenizer.texts_to_sequences(corpus)\n",
        "  output = keras .preprocessing .sequence .pad_sequences(output, maxlen=MAX_SEQUENCE_LENGTH)\n",
        "  return output"
      ],
      "execution_count": 6,
      "outputs": []
    },
    {
      "cell_type": "code",
      "metadata": {
        "id": "K5LOtUDrvR4s",
        "colab_type": "code",
        "colab": {}
      },
      "source": [
        "def predict_intensity(x):\n",
        "  pred_Intensity = Intensity_Classifier.predict(x)\n",
        "  pred_Intensity =(pred_Intensity>0.5).astype(int)\n",
        "\n",
        "  # decode categorical dummy variables to categorical variables\n",
        "  pred_Intensity = Intensity_enc.inverse_transform(pred_Intensity)\n",
        "  return pred_Intensity"
      ],
      "execution_count": 7,
      "outputs": []
    },
    {
      "cell_type": "code",
      "metadata": {
        "id": "4-gupCVdvSAc",
        "colab_type": "code",
        "colab": {}
      },
      "source": [
        "def predict_Big_Event(x):\n",
        "  pred_Big_Event = Big_Event_Classifier.predict(x)\n",
        "  pred_Big_Event =(pred_Big_Event>0.5).astype(int)\n",
        "\n",
        "  # decode categorical dummy variables to categorical variables\n",
        "  pred_Big_Event = BE_enc.inverse_transform(pred_Big_Event)\n",
        "  return pred_Big_Event"
      ],
      "execution_count": 8,
      "outputs": []
    },
    {
      "cell_type": "code",
      "metadata": {
        "id": "zLKrIfYzvSFU",
        "colab_type": "code",
        "colab": {}
      },
      "source": [
        "def predict_Small_Event(x):\n",
        "  pred_Small_Event = Small_Event_Classifier.predict(x)\n",
        "  pred_Small_Event =(pred_Small_Event>0.5).astype(int)\n",
        "\n",
        "  # decode categorical dummy variables to categorical variables\n",
        "  pred_Small_Event = SE_enc.inverse_transform(pred_Small_Event)\n",
        "  return pred_Small_Event"
      ],
      "execution_count": 9,
      "outputs": []
    },
    {
      "cell_type": "code",
      "metadata": {
        "id": "5Ld7wRltrNOq",
        "colab_type": "code",
        "colab": {}
      },
      "source": [
        "def predict_Month_abnormal_returns(x):\n",
        "  pred_Month_abnormal_returns = Month_abnormal_returns_Classifier.predict(x)\n",
        "  pred_Month_abnormal_returns =(pred_Month_abnormal_returns>0.5).astype(int)\n",
        "  return pred_Month_abnormal_returns"
      ],
      "execution_count": 10,
      "outputs": []
    },
    {
      "cell_type": "markdown",
      "metadata": {
        "id": "ckTtyEBlPY4D",
        "colab_type": "text"
      },
      "source": [
        "# Model's summary"
      ]
    },
    {
      "cell_type": "code",
      "metadata": {
        "id": "AlRqwmqScUBQ",
        "colab_type": "code",
        "colab": {
          "base_uri": "https://localhost:8080/",
          "height": 391
        },
        "outputId": "2364e251-c507-44da-beba-b61e37ee7cf0"
      },
      "source": [
        "Big_Event_Classifier.summary()"
      ],
      "execution_count": 12,
      "outputs": [
        {
          "output_type": "stream",
          "text": [
            "Model: \"sequential_1\"\n",
            "_________________________________________________________________\n",
            "Layer (type)                 Output Shape              Param #   \n",
            "=================================================================\n",
            "embedding_1 (Embedding)      (None, None, 128)         1280000   \n",
            "_________________________________________________________________\n",
            "lstm_1 (LSTM)                (None, 64)                49408     \n",
            "_________________________________________________________________\n",
            "dense_1 (Dense)              (None, 32)                2080      \n",
            "_________________________________________________________________\n",
            "dropout_1 (Dropout)          (None, 32)                0         \n",
            "_________________________________________________________________\n",
            "dense_2 (Dense)              (None, 32)                1056      \n",
            "_________________________________________________________________\n",
            "dropout_2 (Dropout)          (None, 32)                0         \n",
            "_________________________________________________________________\n",
            "dense_3 (Dense)              (None, 5)                 165       \n",
            "=================================================================\n",
            "Total params: 1,332,709\n",
            "Trainable params: 1,332,709\n",
            "Non-trainable params: 0\n",
            "_________________________________________________________________\n"
          ],
          "name": "stdout"
        }
      ]
    },
    {
      "cell_type": "code",
      "metadata": {
        "id": "TM1lwXQhPplM",
        "colab_type": "code",
        "colab": {
          "base_uri": "https://localhost:8080/",
          "height": 323
        },
        "outputId": "63ea1de1-80b9-43a6-b274-4a3cddc6b3c1"
      },
      "source": [
        "Small_Event_Classifier.summary()"
      ],
      "execution_count": 13,
      "outputs": [
        {
          "output_type": "stream",
          "text": [
            "Model: \"sequential_3\"\n",
            "_________________________________________________________________\n",
            "Layer (type)                 Output Shape              Param #   \n",
            "=================================================================\n",
            "embedding_3 (Embedding)      (None, None, 128)         1280000   \n",
            "_________________________________________________________________\n",
            "lstm_3 (LSTM)                (None, 64)                49408     \n",
            "_________________________________________________________________\n",
            "dense_7 (Dense)              (None, 32)                2080      \n",
            "_________________________________________________________________\n",
            "dense_8 (Dense)              (None, 32)                1056      \n",
            "_________________________________________________________________\n",
            "dense_9 (Dense)              (None, 15)                495       \n",
            "=================================================================\n",
            "Total params: 1,333,039\n",
            "Trainable params: 1,333,039\n",
            "Non-trainable params: 0\n",
            "_________________________________________________________________\n"
          ],
          "name": "stdout"
        }
      ]
    },
    {
      "cell_type": "code",
      "metadata": {
        "id": "yYDgDa2-Pckf",
        "colab_type": "code",
        "colab": {
          "base_uri": "https://localhost:8080/",
          "height": 255
        },
        "outputId": "b706e0a8-cc1d-468c-ebd0-4aa4094ece6f"
      },
      "source": [
        "Intensity_Classifier.summary()"
      ],
      "execution_count": 14,
      "outputs": [
        {
          "output_type": "stream",
          "text": [
            "Model: \"sequential_2\"\n",
            "_________________________________________________________________\n",
            "Layer (type)                 Output Shape              Param #   \n",
            "=================================================================\n",
            "embedding_2 (Embedding)      (None, None, 128)         1280000   \n",
            "_________________________________________________________________\n",
            "lstm_2 (LSTM)                (None, 16)                9280      \n",
            "_________________________________________________________________\n",
            "dense_2 (Dense)              (None, 7)                 119       \n",
            "=================================================================\n",
            "Total params: 1,289,399\n",
            "Trainable params: 1,289,399\n",
            "Non-trainable params: 0\n",
            "_________________________________________________________________\n"
          ],
          "name": "stdout"
        }
      ]
    },
    {
      "cell_type": "code",
      "metadata": {
        "id": "heX1ZBTTccHj",
        "colab_type": "code",
        "colab": {
          "base_uri": "https://localhost:8080/",
          "height": 357
        },
        "outputId": "ce33bf5c-9c5f-4a7a-b9b8-3d476a21c85b"
      },
      "source": [
        "Month_abnormal_returns_Classifier.summary()"
      ],
      "execution_count": 15,
      "outputs": [
        {
          "output_type": "stream",
          "text": [
            "Model: \"sequential_2\"\n",
            "_________________________________________________________________\n",
            "Layer (type)                 Output Shape              Param #   \n",
            "=================================================================\n",
            "embedding_2 (Embedding)      (None, None, 512)         5120000   \n",
            "_________________________________________________________________\n",
            "lstm_2 (LSTM)                (None, 64)                147712    \n",
            "_________________________________________________________________\n",
            "dense_5 (Dense)              (None, 32)                2080      \n",
            "_________________________________________________________________\n",
            "dense_6 (Dense)              (None, 32)                1056      \n",
            "_________________________________________________________________\n",
            "dense_7 (Dense)              (None, 32)                1056      \n",
            "_________________________________________________________________\n",
            "dense_8 (Dense)              (None, 1)                 33        \n",
            "=================================================================\n",
            "Total params: 5,271,937\n",
            "Trainable params: 5,271,937\n",
            "Non-trainable params: 0\n",
            "_________________________________________________________________\n"
          ],
          "name": "stdout"
        }
      ]
    },
    {
      "cell_type": "markdown",
      "metadata": {
        "id": "mxDvU9IGqoTn",
        "colab_type": "text"
      },
      "source": [
        "# Try to use our models"
      ]
    },
    {
      "cell_type": "code",
      "metadata": {
        "id": "IzOtJUg5vR7u",
        "colab_type": "code",
        "colab": {}
      },
      "source": [
        "# 透過 gdrive/My Drive/... 來存取檔案\n",
        "data_df = pd.read_excel('gdrive/My Drive/金融科技Final_project/2019+2020年新聞資訊事件_股價報酬_528.xlsx',sheet_name='year（小事件重分）')"
      ],
      "execution_count": 16,
      "outputs": []
    },
    {
      "cell_type": "code",
      "metadata": {
        "id": "_VkI4jrCbMMD",
        "colab_type": "code",
        "colab": {}
      },
      "source": [
        "x = data_df.content_tokenized"
      ],
      "execution_count": 17,
      "outputs": []
    },
    {
      "cell_type": "code",
      "metadata": {
        "id": "JZgSyslSbSGn",
        "colab_type": "code",
        "colab": {
          "base_uri": "https://localhost:8080/",
          "height": 221
        },
        "outputId": "7323339d-5d4f-4070-a186-78bf09ffb6ae"
      },
      "source": [
        "x"
      ],
      "execution_count": 18,
      "outputs": [
        {
          "output_type": "execute_result",
          "data": {
            "text/plain": [
              "0                                   發言人 林俐婉 內部 調動 由 江巍峰 接任\n",
              "1                              內部 稽核 主管 林志強 內部 調動 由 莊文清 接任\n",
              "2                                 會計 主管 藍俊雄 內部 調動 由 林鴻名 接任\n",
              "3                              內部 稽核 主管 游本詮 內部 調動 由 曾筱茜 接任\n",
              "4                                 財務 經理 洪廷宜 內部 調動 由 王婷渝 接任\n",
              "                               ...                        \n",
              "35043    貨櫃 船運 市場 往年 農曆年 後 二 到 三 周 的 淡季 砍 班 措施 今年 因 新冠 ...\n",
              "35044    富邦金擬 發行 無 擔保 普通 公司債 富邦金 1091 以 募集 台幣 40000000仟...\n",
              "35045    國泰金擬 發行 無 擔保 普通 公司 債國 泰金 1091 以 募集 台幣 30000000...\n",
              "35046    新光 金擬 發行 無 擔保 普通 公司債 新光金 1091 以 募集 台幣 3000000仟...\n",
              "35047    20200330 TCRI 標 D調 等 因 營收 仍 趨近於 無 公司 轉型 發展 不如 ...\n",
              "Name: content_tokenized, Length: 35048, dtype: object"
            ]
          },
          "metadata": {
            "tags": []
          },
          "execution_count": 18
        }
      ]
    },
    {
      "cell_type": "code",
      "metadata": {
        "id": "j37uviKfv_lJ",
        "colab_type": "code",
        "colab": {
          "base_uri": "https://localhost:8080/",
          "height": 136
        },
        "outputId": "e8e18ae6-54ea-4579-9353-54c8524be019"
      },
      "source": [
        "x = preprocess_text(Tokenizer = my_tokenizer,corpus = data_df.content_tokenized, MAX_SEQUENCE_LENGTH = 1305)\n",
        "print(x)"
      ],
      "execution_count": 19,
      "outputs": [
        {
          "output_type": "stream",
          "text": [
            "[[   0    0    0 ...  147   31   98]\n",
            " [   0    0    0 ...  147   31   98]\n",
            " [   0    0    0 ...  147   31   98]\n",
            " ...\n",
            " [   0    0    0 ...  102  615 1303]\n",
            " [   0    0    0 ...    5  198   97]\n",
            " [   0    0    0 ...  239  164 2884]]\n"
          ],
          "name": "stdout"
        }
      ]
    },
    {
      "cell_type": "code",
      "metadata": {
        "id": "OsYrOUURWZi6",
        "colab_type": "code",
        "colab": {
          "base_uri": "https://localhost:8080/",
          "height": 309
        },
        "outputId": "07dfc091-c6eb-4ed7-dbca-8436506f1915"
      },
      "source": [
        "BE_y = data_df[\"大事件類別\"]\n",
        "preds_BE = predict_Big_Event(x)\n",
        "\n",
        "le = sklearn.preprocessing.LabelEncoder()\n",
        "BE_y = le.fit_transform(BE_y)\n",
        "preds_BE = le.transform(preds_BE)\n",
        "\n",
        "accuracy = accuracy_score(BE_y, preds_BE)\n",
        "precision = precision_score(BE_y, preds_BE,average=None) # average=None: The precision scores for each class are returned\n",
        "recall = recall_score(BE_y, preds_BE,average=None)\n",
        "f1 = f1_score(BE_y, preds_BE,average=None)\n",
        "c_matrix = confusion_matrix(BE_y, preds_BE)\n",
        "print('accuracy: '+str(accuracy)+'\\n')\n",
        "print('precision: '+str(precision)+'\\n')\n",
        "print('recall: '+str(recall)+'\\n')\n",
        "print('F1 score: '+str(f1)+'\\n')\n",
        "print('Confusion matrix: ')\n",
        "print(c_matrix)"
      ],
      "execution_count": 20,
      "outputs": [
        {
          "output_type": "stream",
          "text": [
            "accuracy: 0.9973179639351746\n",
            "\n",
            "precision: [0.94691781 0.99888783 0.99772364 0.99873293 1.        ]\n",
            "\n",
            "recall: [0.99460432 0.99857052 0.99864262 0.99300112 0.99056604]\n",
            "\n",
            "F1 score: [0.97017544 0.99872915 0.99818292 0.99585878 0.99526066]\n",
            "\n",
            "Confusion matrix: \n",
            "[[  553     0     3     0     0]\n",
            " [    4  6287     5     0     0]\n",
            " [   18     1 20600     9     0]\n",
            " [    8     3    39  7094     0]\n",
            " [    1     3     0     0   420]]\n"
          ],
          "name": "stdout"
        },
        {
          "output_type": "stream",
          "text": [
            "/usr/local/lib/python3.6/dist-packages/sklearn/preprocessing/_label.py:268: DataConversionWarning: A column-vector y was passed when a 1d array was expected. Please change the shape of y to (n_samples, ), for example using ravel().\n",
            "  y = column_or_1d(y, warn=True)\n"
          ],
          "name": "stderr"
        }
      ]
    },
    {
      "cell_type": "code",
      "metadata": {
        "id": "rHUIOxRLWdO9",
        "colab_type": "code",
        "colab": {}
      },
      "source": [
        "SE_y = data_df[\"小事件類別\"]\n",
        "preds_SE = predict_Small_Event(x)\n",
        "\n",
        "le = sklearn.preprocessing.LabelEncoder()\n",
        "SE_y = le.fit_transform(SE_y)\n",
        "preds_SE = le.transform(preds_SE)\n",
        "\n",
        "accuracy = accuracy_score(SE_y, preds_SE)\n",
        "precision = precision_score(SE_y, preds_SE,average=None) # average=None: The precision scores for each class are returned\n",
        "recall = recall_score(SE_y, preds_SE,average=None)\n",
        "f1 = f1_score(SE_y, preds_SE,average=None)\n",
        "c_matrix = confusion_matrix(SE_y, preds_SE)\n",
        "print('accuracy: '+str(accuracy)+'\\n')\n",
        "print('precision: '+str(precision)+'\\n')\n",
        "print('recall: '+str(recall)+'\\n')\n",
        "print('F1 score: '+str(f1)+'\\n')\n",
        "print('Confusion matrix: ')\n",
        "print(c_matrix)"
      ],
      "execution_count": null,
      "outputs": []
    },
    {
      "cell_type": "code",
      "metadata": {
        "id": "NkRM4dSTWkKW",
        "colab_type": "code",
        "colab": {
          "base_uri": "https://localhost:8080/",
          "height": 340
        },
        "outputId": "e8758bce-1eb6-4613-d478-bef41642d456"
      },
      "source": [
        "Intensity_y = data_df[\"事件強度\"]\n",
        "preds_Intensity = predict_intensity(x)\n",
        "\n",
        "accuracy = accuracy_score(Intensity_y, preds_Intensity)\n",
        "precision = precision_score(Intensity_y, preds_Intensity,average=None) # average=None: The precision scores for each class are returned\n",
        "recall = recall_score(Intensity_y, preds_Intensity,average=None)\n",
        "f1 = f1_score(Intensity_y, preds_Intensity,average=None)\n",
        "c_matrix = confusion_matrix(Intensity_y, preds_Intensity)\n",
        "print('accuracy: '+str(accuracy)+'\\n')\n",
        "print('precision: '+str(precision)+'\\n')\n",
        "print('recall: '+str(recall)+'\\n')\n",
        "print('F1 score: '+str(f1)+'\\n')\n",
        "print('Confusion matrix: ')\n",
        "print(c_matrix)"
      ],
      "execution_count": 21,
      "outputs": [
        {
          "output_type": "stream",
          "text": [
            "accuracy: 0.9663318876968728\n",
            "\n",
            "precision: [0.44420131 0.90369393 0.99049959 0.95615681 0.95558959 0.96842105\n",
            " 1.        ]\n",
            "\n",
            "recall: [0.99509804 0.99563953 0.97010695 0.95464853 0.96950864 1.\n",
            " 1.        ]\n",
            "\n",
            "F1 score: [0.61422088 0.94744122 0.98019722 0.95540207 0.96249879 0.98395722\n",
            " 1.        ]\n",
            "\n",
            "Confusion matrix: \n",
            "[[  203     1     0     0     0     0     0]\n",
            " [    1   685     0     2     0     0     0]\n",
            " [  140    46 18141   322    49     2     0]\n",
            " [   85    24   167  9683   183     1     0]\n",
            " [   28     2     7   120  4992     0     0]\n",
            " [    0     0     0     0     0    92     0]\n",
            " [    0     0     0     0     0     0    72]]\n"
          ],
          "name": "stdout"
        }
      ]
    },
    {
      "cell_type": "code",
      "metadata": {
        "id": "kWDWjAL3t77s",
        "colab_type": "code",
        "colab": {}
      },
      "source": [
        "Abnormal_return_y = data_df[\"前5 ~ 25日(月平均)兩日異常報酬\"]\n",
        "preds_Abnormal_return = predict_Month_abnormal_returns(x)"
      ],
      "execution_count": 23,
      "outputs": []
    },
    {
      "cell_type": "code",
      "metadata": {
        "id": "30e7POUfFB6m",
        "colab_type": "code",
        "colab": {
          "base_uri": "https://localhost:8080/",
          "height": 221
        },
        "outputId": "e8559bb4-aa53-4e60-ffcb-0b42205f52b6"
      },
      "source": [
        "Abnormal_return_y"
      ],
      "execution_count": 24,
      "outputs": [
        {
          "output_type": "execute_result",
          "data": {
            "text/plain": [
              "0       -3.614215\n",
              "1       -0.203923\n",
              "2       -1.005807\n",
              "3        0.497570\n",
              "4       -0.557661\n",
              "           ...   \n",
              "35043    1.368266\n",
              "35044    0.253422\n",
              "35045    0.345016\n",
              "35046   -0.778734\n",
              "35047    1.927342\n",
              "Name: 前5 ~ 25日(月平均)兩日異常報酬, Length: 35048, dtype: float64"
            ]
          },
          "metadata": {
            "tags": []
          },
          "execution_count": 24
        }
      ]
    },
    {
      "cell_type": "code",
      "metadata": {
        "id": "Q4uHXwywFDbl",
        "colab_type": "code",
        "colab": {
          "base_uri": "https://localhost:8080/",
          "height": 136
        },
        "outputId": "f3cd83f3-8c64-418c-853c-24ba2a88c8cd"
      },
      "source": [
        "preds_Abnormal_return"
      ],
      "execution_count": 25,
      "outputs": [
        {
          "output_type": "execute_result",
          "data": {
            "text/plain": [
              "array([[0],\n",
              "       [0],\n",
              "       [1],\n",
              "       ...,\n",
              "       [1],\n",
              "       [0],\n",
              "       [1]])"
            ]
          },
          "metadata": {
            "tags": []
          },
          "execution_count": 25
        }
      ]
    },
    {
      "cell_type": "code",
      "metadata": {
        "id": "NS5rUTyXFA5F",
        "colab_type": "code",
        "colab": {}
      },
      "source": [
        "accuracy = accuracy_score(Abnormal_return_y, preds_Abnormal_return)\n",
        "precision = precision_score(Abnormal_return_y, preds_Abnormal_return,average=None) # average=None: The precision scores for each class are returned\n",
        "recall = recall_score(Abnormal_return_y, preds_Abnormal_return,average=None)\n",
        "f1 = f1_score(Abnormal_return_y, preds_Abnormal_return,average=None)\n",
        "c_matrix = confusion_matrix(Abnormal_return_y, preds_Abnormal_return)\n",
        "print('accuracy: '+str(accuracy)+'\\n')\n",
        "print('precision: '+str(precision)+'\\n')\n",
        "print('recall: '+str(recall)+'\\n')\n",
        "print('F1 score: '+str(f1)+'\\n')\n",
        "print('Confusion matrix: ')\n",
        "print(c_matrix)"
      ],
      "execution_count": null,
      "outputs": []
    },
    {
      "cell_type": "markdown",
      "metadata": {
        "id": "aj9-fp63qS5t",
        "colab_type": "text"
      },
      "source": [
        "# Try encoders"
      ]
    },
    {
      "cell_type": "code",
      "metadata": {
        "id": "r3_3NvPNqUz8",
        "colab_type": "code",
        "colab": {}
      },
      "source": [
        "BE = data_df['大事件類別']\n",
        "print(BE)\n",
        "\n",
        "BE = np.asarray(BE)"
      ],
      "execution_count": null,
      "outputs": []
    },
    {
      "cell_type": "code",
      "metadata": {
        "id": "TQIiS3v4s53M",
        "colab_type": "code",
        "colab": {
          "base_uri": "https://localhost:8080/",
          "height": 357
        },
        "outputId": "05114391-d571-47fc-dc98-f023e31c7139"
      },
      "source": [
        "BE = BE_enc.transform(BE.reshape(-1, 1))\n",
        "BE = BE_enc.inverse_transform(BE)\n",
        "\n",
        "print(BE)"
      ],
      "execution_count": null,
      "outputs": [
        {
          "output_type": "stream",
          "text": [
            "[['M_經營層']\n",
            " ['M_經營層']\n",
            " ['M_經營層']\n",
            " ['M_經營層']\n",
            " ['M_經營層']\n",
            " ['M_經營層']\n",
            " ['M_經營層']\n",
            " ['M_經營層']\n",
            " ['M_經營層']\n",
            " ['M_經營層']\n",
            " ['M_經營層']\n",
            " ['M_經營層']\n",
            " ['M_經營層']\n",
            " ['M_經營層']\n",
            " ['M_經營層']\n",
            " ['M_經營層']\n",
            " ['M_經營層']\n",
            " ['M_經營層']\n",
            " ['M_經營層']\n",
            " ['M_經營層']]\n"
          ],
          "name": "stdout"
        }
      ]
    },
    {
      "cell_type": "code",
      "metadata": {
        "id": "KPYMhWystMQS",
        "colab_type": "code",
        "colab": {
          "base_uri": "https://localhost:8080/",
          "height": 374
        },
        "outputId": "fd401bdf-84b7-40e7-9eaa-65950d1c678a"
      },
      "source": [
        "SE = data_df['小事件類別']\n",
        "print(SE)\n",
        "\n",
        "SE = np.asarray(SE)"
      ],
      "execution_count": null,
      "outputs": [
        {
          "output_type": "stream",
          "text": [
            "0     MT06_高管異動\n",
            "1     MT06_高管異動\n",
            "2     MT06_高管異動\n",
            "3     MT06_高管異動\n",
            "4     MT06_高管異動\n",
            "5     MT06_高管異動\n",
            "6     MT06_高管異動\n",
            "7     MT02_董監異動\n",
            "8     MT02_董監異動\n",
            "9     MT06_高管異動\n",
            "10    MT06_高管異動\n",
            "11       經營層_其他\n",
            "12    MT02_董監異動\n",
            "13    MT06_高管異動\n",
            "14    MT06_高管異動\n",
            "15    MT06_高管異動\n",
            "16    MT06_高管異動\n",
            "17    MT06_高管異動\n",
            "18    MT06_高管異動\n",
            "19    MT06_高管異動\n",
            "Name: 小事件類別, dtype: object\n"
          ],
          "name": "stdout"
        }
      ]
    },
    {
      "cell_type": "code",
      "metadata": {
        "id": "7UqSWE3atc9m",
        "colab_type": "code",
        "colab": {
          "base_uri": "https://localhost:8080/",
          "height": 357
        },
        "outputId": "db28e147-5834-452d-9d49-e260125a67a6"
      },
      "source": [
        "SE = SE_enc.transform(SE.reshape(-1, 1))\n",
        "SE = SE_enc.inverse_transform(SE)\n",
        "\n",
        "print(SE)"
      ],
      "execution_count": null,
      "outputs": [
        {
          "output_type": "stream",
          "text": [
            "[['MT06_高管異動']\n",
            " ['MT06_高管異動']\n",
            " ['MT06_高管異動']\n",
            " ['MT06_高管異動']\n",
            " ['MT06_高管異動']\n",
            " ['MT06_高管異動']\n",
            " ['MT06_高管異動']\n",
            " ['MT02_董監異動']\n",
            " ['MT02_董監異動']\n",
            " ['MT06_高管異動']\n",
            " ['MT06_高管異動']\n",
            " ['經營層_其他']\n",
            " ['MT02_董監異動']\n",
            " ['MT06_高管異動']\n",
            " ['MT06_高管異動']\n",
            " ['MT06_高管異動']\n",
            " ['MT06_高管異動']\n",
            " ['MT06_高管異動']\n",
            " ['MT06_高管異動']\n",
            " ['MT06_高管異動']]\n"
          ],
          "name": "stdout"
        }
      ]
    },
    {
      "cell_type": "code",
      "metadata": {
        "id": "taZazm_Gtqg4",
        "colab_type": "code",
        "colab": {
          "base_uri": "https://localhost:8080/",
          "height": 374
        },
        "outputId": "f110bd5f-468c-47ad-8879-86b54421da45"
      },
      "source": [
        "Intensity = data_df['事件強度']\n",
        "print(Intensity)\n",
        "\n",
        "Intensity = np.asarray(Intensity)"
      ],
      "execution_count": null,
      "outputs": [
        {
          "output_type": "stream",
          "text": [
            "0     0\n",
            "1     0\n",
            "2     0\n",
            "3     0\n",
            "4     0\n",
            "5     0\n",
            "6    -1\n",
            "7     0\n",
            "8    -1\n",
            "9     0\n",
            "10    0\n",
            "11    0\n",
            "12    0\n",
            "13    0\n",
            "14    0\n",
            "15    0\n",
            "16    0\n",
            "17    0\n",
            "18    0\n",
            "19    0\n",
            "Name: 事件強度, dtype: int64\n"
          ],
          "name": "stdout"
        }
      ]
    },
    {
      "cell_type": "code",
      "metadata": {
        "id": "qe9BxfH-tr5A",
        "colab_type": "code",
        "colab": {
          "base_uri": "https://localhost:8080/",
          "height": 357
        },
        "outputId": "16db078e-6632-48d1-d725-2bdd809a4e9a"
      },
      "source": [
        "Intensity = Intensity_enc.transform(Intensity.reshape(-1, 1))\n",
        "Intensity = Intensity_enc.inverse_transform(Intensity)\n",
        "\n",
        "print(Intensity)"
      ],
      "execution_count": null,
      "outputs": [
        {
          "output_type": "stream",
          "text": [
            "[[ 0]\n",
            " [ 0]\n",
            " [ 0]\n",
            " [ 0]\n",
            " [ 0]\n",
            " [ 0]\n",
            " [-1]\n",
            " [ 0]\n",
            " [-1]\n",
            " [ 0]\n",
            " [ 0]\n",
            " [ 0]\n",
            " [ 0]\n",
            " [ 0]\n",
            " [ 0]\n",
            " [ 0]\n",
            " [ 0]\n",
            " [ 0]\n",
            " [ 0]\n",
            " [ 0]]\n"
          ],
          "name": "stdout"
        }
      ]
    }
  ]
}