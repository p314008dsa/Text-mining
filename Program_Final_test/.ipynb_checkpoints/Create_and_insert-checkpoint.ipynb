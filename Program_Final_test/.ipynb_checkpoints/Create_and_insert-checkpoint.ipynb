{
 "cells": [
  {
   "cell_type": "markdown",
   "metadata": {},
   "source": [
    "# Create_table"
   ]
  },
  {
   "cell_type": "code",
   "execution_count": 13,
   "metadata": {},
   "outputs": [
    {
     "name": "stdout",
     "output_type": "stream",
     "text": [
      "Created table Successfull.\n"
     ]
    }
   ],
   "source": [
    "# 創建名為\"result\" 的 table\n",
    "\n",
    "import pymysql\n",
    "\n",
    "# Open database connection\n",
    "db = pymysql.connect(\"127.0.0.1\",\"root\",\"s70399S80228\",\"sys\" )\n",
    "\n",
    "# prepare a cursor object using cursor() method\n",
    "cursor = db.cursor()\n",
    "\n",
    "# Drop table if it already exist using execute() method.\n",
    "cursor.execute(\"DROP TABLE IF EXISTS result\")\n",
    "\n",
    "# sql = \"\"\"create table tutorials_tbl(\n",
    "#    tutorial_id INT NOT NULL AUTO_INCREMENT,\n",
    "#    tutorial_title VARCHAR(100) NOT NULL,\n",
    "#    tutorial_author VARCHAR(40) NOT NULL,\n",
    "#    submission_date DATE,\n",
    "#    PRIMARY KEY ( tutorial_id )\n",
    "# );\"\"\"\n",
    "\n",
    "# Create table as per requirement\n",
    "sql = \"\"\"create table result(\n",
    "  id INT NOT NULL AUTO_INCREMENT,\n",
    "  Stock_id INT NOT NULL,\n",
    "  Company_name VARCHAR(60) NOT NULL,\n",
    "  Date VARCHAR(9) NOT NULL,\n",
    "  Time VARCHAR(8) NOT NULL,\n",
    "  Intensity INT NOT NULL,\n",
    "  Direction VARCHAR(2) NOT NULL,\n",
    "  Big_event_type VARCHAR(9) NOT NULL,\n",
    "  Small_event_type VARCHAR(20) NOT NULL,\n",
    "  News_content VARCHAR(255) NOT NULL,\n",
    "  News_cut VARCHAR(255) NOT NULL,\n",
    "  PRIMARY KEY ( id )\n",
    ");\"\"\"\n",
    "\n",
    "cursor.execute(sql)\n",
    "print(\"Created table Successfull.\")\n",
    "# disconnect from server\n",
    "db.close()\n"
   ]
  },
  {
   "cell_type": "markdown",
   "metadata": {},
   "source": [
    "# Insert data"
   ]
  },
  {
   "cell_type": "code",
   "execution_count": 10,
   "metadata": {},
   "outputs": [
    {
     "name": "stdout",
     "output_type": "stream",
     "text": [
      "Successful\n"
     ]
    }
   ],
   "source": [
    "import pymysql\n",
    "\n",
    "# Open database connection\n",
    "db = pymysql.connect(\"127.0.0.1\",\"root\",\"s70399S80228\",\"sys\" )\n",
    "\n",
    "# prepare a cursor object using cursor() method\n",
    "cursor = db.cursor()\n",
    "\n",
    "a, b, c, d, e, f, g, h, i, j = 2354, '鴻準', '109/06/20', '18:44:04', -1, '上漲', 'M_經營層', '產業前景_其他', '代子公司富准精密工業(深圳)有限公司公告處分理財產品', '代子公司 富准 精密 工業 深圳 有限公司 公告 處分 理財 產品'\n",
    "\n",
    "# Prepare SQL query to INSERT a record into the database.\n",
    "sql = \"\"\"INSERT INTO result(Stock_id, Company_name, Date ,Time,\n",
    "   Intensity, Direction, Big_event_type, Small_event_type, News_content, News_cut)\n",
    "   VALUES (%s, %s, %s, %s, %s, %s, %s, %s, %s, %s)\"\"\"\n",
    "try:\n",
    "    # Execute the SQL command\n",
    "    cursor.execute(sql,(a, b, c, d, e, f, g, h, i, j))\n",
    "    print('Successful')\n",
    "    # Commit your changes in the database\n",
    "    db.commit()\n",
    "except:\n",
    "    # Rollback in case there is any error\n",
    "    print('Failed')\n",
    "    db.rollback()\n",
    "    \n",
    "# disconnect from server\n",
    "db.close()"
   ]
  },
  {
   "cell_type": "code",
   "execution_count": null,
   "metadata": {},
   "outputs": [],
   "source": [
    "# 創建名為\"result\" 的 table\n",
    "\n",
    "import pymysql\n",
    "\n",
    "# Open database connection\n",
    "db = pymysql.connect(\"127.0.0.1\",\"root\",\"s70399S80228\",\"sys\" )\n",
    "\n",
    "# prepare a cursor object using cursor() method\n",
    "cursor = db.cursor()\n",
    "\n",
    "# Drop table if it already exist using execute() method.\n",
    "cursor.execute(\"DROP TABLE IF EXISTS result_test\")\n",
    "\n",
    "# sql = \"\"\"create table tutorials_tbl(\n",
    "#    tutorial_id INT NOT NULL AUTO_INCREMENT,\n",
    "#    tutorial_title VARCHAR(100) NOT NULL,\n",
    "#    tutorial_author VARCHAR(40) NOT NULL,\n",
    "#    submission_date DATE,\n",
    "#    PRIMARY KEY ( tutorial_id )\n",
    "# );\"\"\"\n",
    "\n",
    "# Create table as per requirement\n",
    "sql = \"\"\"create table result_test(\n",
    "  id INT NOT NULL AUTO_INCREMENT,\n",
    "  Stock_id INT NOT NULL,\n",
    "  Company_name VARCHAR(60) NOT NULL,\n",
    "  Date VARCHAR(9) NOT NULL,\n",
    "  Time VARCHAR(8) NOT NULL,\n",
    "  Intensity INT NOT NULL,\n",
    "  Direction VARCHAR(2) NOT NULL,\n",
    "  Big_event_type VARCHAR(9) NOT NULL,\n",
    "  Small_event_type VARCHAR(20) NOT NULL,\n",
    "  News_content VARCHAR(255) NOT NULL,\n",
    "  News_cut VARCHAR(255) NOT NULL,\n",
    "  PRIMARY KEY ( id )\n",
    ");\"\"\"\n",
    "\n",
    "cursor.execute(sql)\n",
    "print(\"Created table Successfull.\")\n",
    "# disconnect from server\n",
    "db.close()\n",
    "\n"
   ]
  }
 ],
 "metadata": {
  "kernelspec": {
   "display_name": "Python 3",
   "language": "python",
   "name": "python3"
  },
  "language_info": {
   "codemirror_mode": {
    "name": "ipython",
    "version": 3
   },
   "file_extension": ".py",
   "mimetype": "text/x-python",
   "name": "python",
   "nbconvert_exporter": "python",
   "pygments_lexer": "ipython3",
   "version": "3.7.1"
  }
 },
 "nbformat": 4,
 "nbformat_minor": 2
}
