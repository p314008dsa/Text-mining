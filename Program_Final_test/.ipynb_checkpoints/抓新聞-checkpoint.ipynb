{
 "cells": [
  {
   "cell_type": "code",
   "execution_count": 8,
   "metadata": {},
   "outputs": [],
   "source": [
    "import pandas as pd\n",
    "\n",
    "# 公開資訊觀測站網址\n",
    "url2 = 'https://mops.twse.com.tw/mops/web/t05sr01_1'\n",
    "\n",
    "# 讀取新資料\n",
    "new_page = pd.read_html(url2)[7]\n",
    "new_page = new_page.drop(columns=\"Unnamed: 5\")\n",
    "\n",
    "# 讀取舊資料\n",
    "old_page = pd.read_csv('page.csv', index_col=False)\n",
    "old_page = old_page.drop(columns=\"Unnamed: 0\")\n",
    "\n",
    "# 合併新舊新聞資料\n",
    "page = pd.concat([new_page, old_page], axis=0, ignore_index=True)\n",
    "\n",
    "# 存擋\n",
    "page.to_csv(path_or_buf=\"page.csv\")"
   ]
  },
  {
   "cell_type": "code",
   "execution_count": 16,
   "metadata": {},
   "outputs": [],
   "source": []
  },
  {
   "cell_type": "code",
   "execution_count": 18,
   "metadata": {},
   "outputs": [],
   "source": []
  },
  {
   "cell_type": "code",
   "execution_count": 23,
   "metadata": {},
   "outputs": [],
   "source": []
  },
  {
   "cell_type": "code",
   "execution_count": null,
   "metadata": {},
   "outputs": [],
   "source": []
  }
 ],
 "metadata": {
  "kernelspec": {
   "display_name": "Python 3",
   "language": "python",
   "name": "python3"
  },
  "language_info": {
   "codemirror_mode": {
    "name": "ipython",
    "version": 3
   },
   "file_extension": ".py",
   "mimetype": "text/x-python",
   "name": "python",
   "nbconvert_exporter": "python",
   "pygments_lexer": "ipython3",
   "version": "3.7.1"
  }
 },
 "nbformat": 4,
 "nbformat_minor": 4
}
